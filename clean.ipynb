{
 "cells": [
  {
   "cell_type": "code",
   "execution_count": 1,
   "metadata": {},
   "outputs": [],
   "source": [
    "# packages\n",
    "import pandas as pd\n",
    "import os"
   ]
  },
  {
   "cell_type": "code",
   "execution_count": 2,
   "metadata": {},
   "outputs": [],
   "source": [
    "os.chdir('C:/Users/dalto/OneDrive/Pictures/Documents/Projects/MLB Season Model/') # wd"
   ]
  },
  {
   "cell_type": "code",
   "execution_count": 6,
   "metadata": {},
   "outputs": [],
   "source": [
    "# import and merge df\n",
    "fg = pd.read_csv('./data/rate_stats_FG.csv')\n",
    "statcast = pd.read_csv('./data/statcast.csv')\n",
    "\n",
    "# fix name cols so able to merge\n",
    "fg['Name'] = fg['Name'].str.lower()\n",
    "fg.drop(columns=['xwOBA', 'xSLG'], inplace=True) # didnt load from fg for some reason so drop\n",
    "statcast = statcast.rename(columns={'last_name, first_name': 'Name', 'year': 'Season'}) # rename cols so easier\n",
    "statcast['Name'] = statcast['Name'].str.lower()\n",
    "statcast['Name'] = statcast['Name'].str.split(', ').str[::-1].str.join(' ')\n",
    "\n",
    "# merge on name and year\n",
    "full_data = fg.merge(statcast, on=['Name', 'Season'], how='outer') # full dataset\n"
   ]
  },
  {
   "cell_type": "code",
   "execution_count": 7,
   "metadata": {},
   "outputs": [],
   "source": [
    "full_data = full_data.drop(columns=['wOBA','Off', 'BsR.1', 'NameASCII', 'PlayerId', 'player_id'])\n",
    "full_data.to_csv('./data/full_data.csv')"
   ]
  }
 ],
 "metadata": {
  "kernelspec": {
   "display_name": "base",
   "language": "python",
   "name": "python3"
  },
  "language_info": {
   "codemirror_mode": {
    "name": "ipython",
    "version": 3
   },
   "file_extension": ".py",
   "mimetype": "text/x-python",
   "name": "python",
   "nbconvert_exporter": "python",
   "pygments_lexer": "ipython3",
   "version": "3.12.7"
  }
 },
 "nbformat": 4,
 "nbformat_minor": 2
}
