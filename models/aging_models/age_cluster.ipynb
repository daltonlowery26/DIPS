{
 "cells": [
  {
   "cell_type": "markdown",
   "id": "ed0b1b38",
   "metadata": {},
   "source": [
    "### Clustering Similar Players"
   ]
  },
  {
   "cell_type": "code",
   "execution_count": 1,
   "id": "b53b68b0",
   "metadata": {},
   "outputs": [],
   "source": [
    "# packages and file import\n",
    "import pandas as pd\n",
    "import numpy as np\n",
    "import os\n",
    "import matplotlib.pyplot as plt\n",
    "\n",
    "# wd\n",
    "os.chdir('C:/Users/dalto/OneDrive/Pictures/Documents/Projects/MLB Season Model/')"
   ]
  },
  {
   "cell_type": "code",
   "execution_count": 2,
   "id": "d778dafb",
   "metadata": {},
   "outputs": [],
   "source": [
    "data_02_24 = pd.read_csv('./data/cleaned/data_02_24.csv')\n",
    "data_15_24 = pd.read_csv('./data/cleaned/data_15_24.csv')"
   ]
  },
  {
   "cell_type": "markdown",
   "id": "471d2001",
   "metadata": {},
   "source": [
    "fix cols"
   ]
  },
  {
   "cell_type": "code",
   "execution_count": 3,
   "id": "a5264185",
   "metadata": {},
   "outputs": [],
   "source": [
    "data_02_24 = data_02_24.drop(columns=['Unnamed: 0', 'Team'])\n",
    "data_15_24 = data_15_24.drop(columns=['Unnamed: 0', 'Team'])\n",
    "df = data_15_24.copy()\n",
    "df = df.dropna(axis=1)\n",
    "df = df[df['PA'] > 100]"
   ]
  },
  {
   "cell_type": "markdown",
   "id": "cb2338b4",
   "metadata": {},
   "source": [
    "#### Normalization\n",
    "<small> all code standard across ipynb when normalization is required (I should probably refactor into .py lol)"
   ]
  },
  {
   "cell_type": "code",
   "execution_count": 4,
   "id": "7d9c1573",
   "metadata": {},
   "outputs": [],
   "source": [
    "def mean_year(group):\n",
    "        avg = np.average(group, weights=group.index.map(lambda x: df.loc[x, 'PA']))\n",
    "        return avg"
   ]
  },
  {
   "cell_type": "code",
   "execution_count": 5,
   "id": "6b8c10d2",
   "metadata": {},
   "outputs": [],
   "source": [
    "def calculate_weighted_std(group):\n",
    "    avg = np.average(group, weights=group.index.map(lambda x: df.loc[x, 'PA']))\n",
    "    variance = np.average((group - avg)**2, weights=group.index.map(lambda x: df.loc[x, 'PA']))\n",
    "    return np.sqrt(variance)"
   ]
  },
  {
   "cell_type": "code",
   "execution_count": 6,
   "id": "f10cf20f",
   "metadata": {},
   "outputs": [],
   "source": [
    "def z_scores(player_df, mean_df, std_df):\n",
    "    # z scores for each stat and player, also creating a new df flow, add back names based on MLBAMID later\n",
    "    z_scores = pd.DataFrame(index=player_df.index, columns=player_df.select_dtypes(include=[np.number]).columns)\n",
    "\n",
    "    # scaled for each col\n",
    "    for col in player_df.select_dtypes(include=[np.number]).columns:\n",
    "        if col not in ['Season', 'MLBAMID']:  # not needed\n",
    "            for idx in player_df.index:\n",
    "                season = player_df.loc[idx, 'Season']\n",
    "                value = player_df.loc[idx, col]\n",
    "                mean = mean_df.loc[mean_df['Season'] == season, col].iloc[0]\n",
    "                std = std_df.loc[std_df['Season'] == season, col].iloc[0]\n",
    "                # scale so that 10 is 1 std away\n",
    "                z_scores.loc[idx, col] = 100 + ((value - mean) / std * 10)\n",
    "\n",
    "    z_scores['Season'] = player_df['Season']\n",
    "    \n",
    "    # cols to numeric\n",
    "    for col in z_scores.columns:\n",
    "        if col not in ['Season', 'MLBAMID']:\n",
    "            z_scores[col] = pd.to_numeric(z_scores[col])\n",
    "    \n",
    "    # reinsert player names\n",
    "    z_scores.insert(0, 'Name', player_df['Name']) \n",
    "\n",
    "    return z_scores"
   ]
  },
  {
   "cell_type": "code",
   "execution_count": 7,
   "id": "71393c6e",
   "metadata": {},
   "outputs": [
    {
     "data": {
      "application/vnd.microsoft.datawrangler.viewer.v0+json": {
       "columns": [
        {
         "name": "index",
         "rawType": "int64",
         "type": "integer"
        },
        {
         "name": "Season",
         "rawType": "int64",
         "type": "integer"
        },
        {
         "name": "PA",
         "rawType": "float64",
         "type": "float"
        },
        {
         "name": "Age",
         "rawType": "float64",
         "type": "float"
        },
        {
         "name": "BB%",
         "rawType": "float64",
         "type": "float"
        },
        {
         "name": "K%",
         "rawType": "float64",
         "type": "float"
        },
        {
         "name": "BABIP",
         "rawType": "float64",
         "type": "float"
        },
        {
         "name": "wRC+",
         "rawType": "float64",
         "type": "float"
        },
        {
         "name": "BsR",
         "rawType": "float64",
         "type": "float"
        },
        {
         "name": "Off",
         "rawType": "float64",
         "type": "float"
        },
        {
         "name": "Def",
         "rawType": "float64",
         "type": "float"
        },
        {
         "name": "WAR",
         "rawType": "float64",
         "type": "float"
        },
        {
         "name": "Barrel%",
         "rawType": "float64",
         "type": "float"
        },
        {
         "name": "maxEV",
         "rawType": "float64",
         "type": "float"
        },
        {
         "name": "HardHit%",
         "rawType": "float64",
         "type": "float"
        },
        {
         "name": "O-Swing%",
         "rawType": "float64",
         "type": "float"
        },
        {
         "name": "Z-Swing%",
         "rawType": "float64",
         "type": "float"
        },
        {
         "name": "O-Contact%",
         "rawType": "float64",
         "type": "float"
        },
        {
         "name": "Z-Contact%",
         "rawType": "float64",
         "type": "float"
        },
        {
         "name": "Contact%",
         "rawType": "float64",
         "type": "float"
        },
        {
         "name": "SwStr%",
         "rawType": "float64",
         "type": "float"
        },
        {
         "name": "CSW%",
         "rawType": "float64",
         "type": "float"
        }
       ],
       "conversionMethod": "pd.DataFrame",
       "ref": "c009b9fe-5359-4524-94ad-20dc797d1df2",
       "rows": [
        [
         "0",
         "2015",
         "473.00080658830683",
         "28.40683028329953",
         "0.07856053162525206",
         "0.19615876881751232",
         "0.30232268256879086",
         "101.70344149289785",
         "0.10900329337633305",
         "3.3269562370716246",
         "-0.5552025404075845",
         "1.8920446422535748",
         "0.05198652834345465",
         "110.14166213301694",
         "0.3423301548768784",
         "0.3068204826541431",
         "0.6751741399978959",
         "0.6560590902042773",
         "0.8727822413509184",
         "0.7951635830729846",
         "0.09654486950763044",
         "0.2631185858243274"
        ],
        [
         "1",
         "2016",
         "481.3667458875064",
         "28.519146977957966",
         "0.08388088865048465",
         "0.20351018173607224",
         "0.30272499227408667",
         "101.91738199299718",
         "0.05193222135353817",
         "4.103678587690652",
         "-0.7956238621975174",
         "1.9575767878821027",
         "0.060926283377720304",
         "110.41564830024697",
         "0.35332309007887136",
         "0.3033597049155949",
         "0.6719293200263292",
         "0.6460083269982875",
         "0.8674084318367585",
         "0.7879364422342607",
         "0.09908837035125123",
         "0.26553265709498347"
        ],
        [
         "2",
         "2017",
         "476.7869605780876",
         "28.345258997850134",
         "0.08765189529034183",
         "0.2088150242428014",
         "0.3027444848460326",
         "101.93739303623487",
         "0.05755903733898219",
         "3.652318997446387",
         "-0.7293885535718285",
         "1.8892057758413827",
         "0.061091108233112555",
         "110.22293684844902",
         "0.34339466697309484",
         "0.2986022783311023",
         "0.6726244130307297",
         "0.6358550767759563",
         "0.8596836074299555",
         "0.7810370372916341",
         "0.10264500057159745",
         "0.26800850353945377"
        ],
        [
         "3",
         "2018",
         "471.9159972219007",
         "28.11597407107304",
         "0.08691399416431878",
         "0.21421460767403636",
         "0.2987323596923718",
         "101.71456153889949",
         "0.1483010912686013",
         "3.795978335634808",
         "-0.9580296489360411",
         "1.8655889029106225",
         "0.06610969978521819",
         "110.46365071188795",
         "0.3628986988818729",
         "0.309132852513659",
         "0.6795347002001388",
         "0.6363167596000117",
         "0.860804453914342",
         "0.7763765552054638",
         "0.10525013991156384",
         "0.27089571372456306"
        ],
        [
         "4",
         "2019",
         "464.91497218824287",
         "27.95032543217855",
         "0.08727814017536986",
         "0.2201052456681284",
         "0.3006887900201029",
         "102.2104020102739",
         "0.09378040042531476",
         "4.359199221413847",
         "-0.8324274594808011",
         "1.8809938415485843",
         "0.07229739288238282",
         "110.58860814272855",
         "0.3745440056596926",
         "0.31618189241483374",
         "0.6920802311952131",
         "0.6337114936454751",
         "0.8549304777609804",
         "0.769328027799813",
         "0.10951231423765782",
         "0.2706025922513675"
        ]
       ],
       "shape": {
        "columns": 21,
        "rows": 5
       }
      },
      "text/html": [
       "<div>\n",
       "<style scoped>\n",
       "    .dataframe tbody tr th:only-of-type {\n",
       "        vertical-align: middle;\n",
       "    }\n",
       "\n",
       "    .dataframe tbody tr th {\n",
       "        vertical-align: top;\n",
       "    }\n",
       "\n",
       "    .dataframe thead th {\n",
       "        text-align: right;\n",
       "    }\n",
       "</style>\n",
       "<table border=\"1\" class=\"dataframe\">\n",
       "  <thead>\n",
       "    <tr style=\"text-align: right;\">\n",
       "      <th></th>\n",
       "      <th>Season</th>\n",
       "      <th>PA</th>\n",
       "      <th>Age</th>\n",
       "      <th>BB%</th>\n",
       "      <th>K%</th>\n",
       "      <th>BABIP</th>\n",
       "      <th>wRC+</th>\n",
       "      <th>BsR</th>\n",
       "      <th>Off</th>\n",
       "      <th>Def</th>\n",
       "      <th>...</th>\n",
       "      <th>Barrel%</th>\n",
       "      <th>maxEV</th>\n",
       "      <th>HardHit%</th>\n",
       "      <th>O-Swing%</th>\n",
       "      <th>Z-Swing%</th>\n",
       "      <th>O-Contact%</th>\n",
       "      <th>Z-Contact%</th>\n",
       "      <th>Contact%</th>\n",
       "      <th>SwStr%</th>\n",
       "      <th>CSW%</th>\n",
       "    </tr>\n",
       "  </thead>\n",
       "  <tbody>\n",
       "    <tr>\n",
       "      <th>0</th>\n",
       "      <td>2015</td>\n",
       "      <td>473.000807</td>\n",
       "      <td>28.406830</td>\n",
       "      <td>0.078561</td>\n",
       "      <td>0.196159</td>\n",
       "      <td>0.302323</td>\n",
       "      <td>101.703441</td>\n",
       "      <td>0.109003</td>\n",
       "      <td>3.326956</td>\n",
       "      <td>-0.555203</td>\n",
       "      <td>...</td>\n",
       "      <td>0.051987</td>\n",
       "      <td>110.141662</td>\n",
       "      <td>0.342330</td>\n",
       "      <td>0.306820</td>\n",
       "      <td>0.675174</td>\n",
       "      <td>0.656059</td>\n",
       "      <td>0.872782</td>\n",
       "      <td>0.795164</td>\n",
       "      <td>0.096545</td>\n",
       "      <td>0.263119</td>\n",
       "    </tr>\n",
       "    <tr>\n",
       "      <th>1</th>\n",
       "      <td>2016</td>\n",
       "      <td>481.366746</td>\n",
       "      <td>28.519147</td>\n",
       "      <td>0.083881</td>\n",
       "      <td>0.203510</td>\n",
       "      <td>0.302725</td>\n",
       "      <td>101.917382</td>\n",
       "      <td>0.051932</td>\n",
       "      <td>4.103679</td>\n",
       "      <td>-0.795624</td>\n",
       "      <td>...</td>\n",
       "      <td>0.060926</td>\n",
       "      <td>110.415648</td>\n",
       "      <td>0.353323</td>\n",
       "      <td>0.303360</td>\n",
       "      <td>0.671929</td>\n",
       "      <td>0.646008</td>\n",
       "      <td>0.867408</td>\n",
       "      <td>0.787936</td>\n",
       "      <td>0.099088</td>\n",
       "      <td>0.265533</td>\n",
       "    </tr>\n",
       "    <tr>\n",
       "      <th>2</th>\n",
       "      <td>2017</td>\n",
       "      <td>476.786961</td>\n",
       "      <td>28.345259</td>\n",
       "      <td>0.087652</td>\n",
       "      <td>0.208815</td>\n",
       "      <td>0.302744</td>\n",
       "      <td>101.937393</td>\n",
       "      <td>0.057559</td>\n",
       "      <td>3.652319</td>\n",
       "      <td>-0.729389</td>\n",
       "      <td>...</td>\n",
       "      <td>0.061091</td>\n",
       "      <td>110.222937</td>\n",
       "      <td>0.343395</td>\n",
       "      <td>0.298602</td>\n",
       "      <td>0.672624</td>\n",
       "      <td>0.635855</td>\n",
       "      <td>0.859684</td>\n",
       "      <td>0.781037</td>\n",
       "      <td>0.102645</td>\n",
       "      <td>0.268009</td>\n",
       "    </tr>\n",
       "    <tr>\n",
       "      <th>3</th>\n",
       "      <td>2018</td>\n",
       "      <td>471.915997</td>\n",
       "      <td>28.115974</td>\n",
       "      <td>0.086914</td>\n",
       "      <td>0.214215</td>\n",
       "      <td>0.298732</td>\n",
       "      <td>101.714562</td>\n",
       "      <td>0.148301</td>\n",
       "      <td>3.795978</td>\n",
       "      <td>-0.958030</td>\n",
       "      <td>...</td>\n",
       "      <td>0.066110</td>\n",
       "      <td>110.463651</td>\n",
       "      <td>0.362899</td>\n",
       "      <td>0.309133</td>\n",
       "      <td>0.679535</td>\n",
       "      <td>0.636317</td>\n",
       "      <td>0.860804</td>\n",
       "      <td>0.776377</td>\n",
       "      <td>0.105250</td>\n",
       "      <td>0.270896</td>\n",
       "    </tr>\n",
       "    <tr>\n",
       "      <th>4</th>\n",
       "      <td>2019</td>\n",
       "      <td>464.914972</td>\n",
       "      <td>27.950325</td>\n",
       "      <td>0.087278</td>\n",
       "      <td>0.220105</td>\n",
       "      <td>0.300689</td>\n",
       "      <td>102.210402</td>\n",
       "      <td>0.093780</td>\n",
       "      <td>4.359199</td>\n",
       "      <td>-0.832427</td>\n",
       "      <td>...</td>\n",
       "      <td>0.072297</td>\n",
       "      <td>110.588608</td>\n",
       "      <td>0.374544</td>\n",
       "      <td>0.316182</td>\n",
       "      <td>0.692080</td>\n",
       "      <td>0.633711</td>\n",
       "      <td>0.854930</td>\n",
       "      <td>0.769328</td>\n",
       "      <td>0.109512</td>\n",
       "      <td>0.270603</td>\n",
       "    </tr>\n",
       "  </tbody>\n",
       "</table>\n",
       "<p>5 rows × 21 columns</p>\n",
       "</div>"
      ],
      "text/plain": [
       "   Season          PA        Age       BB%        K%     BABIP        wRC+  \\\n",
       "0    2015  473.000807  28.406830  0.078561  0.196159  0.302323  101.703441   \n",
       "1    2016  481.366746  28.519147  0.083881  0.203510  0.302725  101.917382   \n",
       "2    2017  476.786961  28.345259  0.087652  0.208815  0.302744  101.937393   \n",
       "3    2018  471.915997  28.115974  0.086914  0.214215  0.298732  101.714562   \n",
       "4    2019  464.914972  27.950325  0.087278  0.220105  0.300689  102.210402   \n",
       "\n",
       "        BsR       Off       Def  ...   Barrel%       maxEV  HardHit%  \\\n",
       "0  0.109003  3.326956 -0.555203  ...  0.051987  110.141662  0.342330   \n",
       "1  0.051932  4.103679 -0.795624  ...  0.060926  110.415648  0.353323   \n",
       "2  0.057559  3.652319 -0.729389  ...  0.061091  110.222937  0.343395   \n",
       "3  0.148301  3.795978 -0.958030  ...  0.066110  110.463651  0.362899   \n",
       "4  0.093780  4.359199 -0.832427  ...  0.072297  110.588608  0.374544   \n",
       "\n",
       "   O-Swing%  Z-Swing%  O-Contact%  Z-Contact%  Contact%    SwStr%      CSW%  \n",
       "0  0.306820  0.675174    0.656059    0.872782  0.795164  0.096545  0.263119  \n",
       "1  0.303360  0.671929    0.646008    0.867408  0.787936  0.099088  0.265533  \n",
       "2  0.298602  0.672624    0.635855    0.859684  0.781037  0.102645  0.268009  \n",
       "3  0.309133  0.679535    0.636317    0.860804  0.776377  0.105250  0.270896  \n",
       "4  0.316182  0.692080    0.633711    0.854930  0.769328  0.109512  0.270603  \n",
       "\n",
       "[5 rows x 21 columns]"
      ]
     },
     "execution_count": 7,
     "metadata": {},
     "output_type": "execute_result"
    }
   ],
   "source": [
    "# df to store mean results\n",
    "mean_values = pd.DataFrame(index=df['Season'].unique())\n",
    "\n",
    "for col in df.select_dtypes(include=[np.number]).columns:\n",
    "    if col != 'Season' and col != 'MLBAMID':  # skip meaningless numeric\n",
    "        yearly_mean = df.groupby('Season')[col].apply(mean_year)\n",
    "        mean_values[col] = yearly_mean\n",
    "\n",
    "# reset and rename index\n",
    "mean_values = mean_values.reset_index()\n",
    "mean_values = mean_values.rename(columns={'index': 'Season'})\n",
    "\n",
    "# sort and display\n",
    "mean_values = mean_values.sort_values(by=['Season'])\n",
    "mean_values.head()"
   ]
  },
  {
   "cell_type": "code",
   "execution_count": 8,
   "id": "8f2d04db",
   "metadata": {},
   "outputs": [
    {
     "data": {
      "application/vnd.microsoft.datawrangler.viewer.v0+json": {
       "columns": [
        {
         "name": "index",
         "rawType": "int64",
         "type": "integer"
        },
        {
         "name": "Season",
         "rawType": "int64",
         "type": "integer"
        },
        {
         "name": "PA",
         "rawType": "float64",
         "type": "float"
        },
        {
         "name": "Age",
         "rawType": "float64",
         "type": "float"
        },
        {
         "name": "BB%",
         "rawType": "float64",
         "type": "float"
        },
        {
         "name": "K%",
         "rawType": "float64",
         "type": "float"
        },
        {
         "name": "BABIP",
         "rawType": "float64",
         "type": "float"
        },
        {
         "name": "wRC+",
         "rawType": "float64",
         "type": "float"
        },
        {
         "name": "BsR",
         "rawType": "float64",
         "type": "float"
        },
        {
         "name": "Off",
         "rawType": "float64",
         "type": "float"
        },
        {
         "name": "Def",
         "rawType": "float64",
         "type": "float"
        },
        {
         "name": "WAR",
         "rawType": "float64",
         "type": "float"
        },
        {
         "name": "Barrel%",
         "rawType": "float64",
         "type": "float"
        },
        {
         "name": "maxEV",
         "rawType": "float64",
         "type": "float"
        },
        {
         "name": "HardHit%",
         "rawType": "float64",
         "type": "float"
        },
        {
         "name": "O-Swing%",
         "rawType": "float64",
         "type": "float"
        },
        {
         "name": "Z-Swing%",
         "rawType": "float64",
         "type": "float"
        },
        {
         "name": "O-Contact%",
         "rawType": "float64",
         "type": "float"
        },
        {
         "name": "Z-Contact%",
         "rawType": "float64",
         "type": "float"
        },
        {
         "name": "Contact%",
         "rawType": "float64",
         "type": "float"
        },
        {
         "name": "SwStr%",
         "rawType": "float64",
         "type": "float"
        },
        {
         "name": "CSW%",
         "rawType": "float64",
         "type": "float"
        }
       ],
       "conversionMethod": "pd.DataFrame",
       "ref": "8d9eff20-9b30-4446-93fa-77486d0283be",
       "rows": [
        [
         "0",
         "2015",
         "165.93713138597326",
         "3.920175069806429",
         "0.030939114201920814",
         "0.05759219413043124",
         "0.03711448626110625",
         "27.34692718204569",
         "3.26328656848016",
         "15.69968206206294",
         "8.380723774287176",
         "2.0218083032027874",
         "0.03631576804164077",
         "3.1401281745402376",
         "0.08211415802424195",
         "0.05687089101533125",
         "0.05933803018129371",
         "0.08953373711616346",
         "0.0492116514173201",
         "0.059220912159272415",
         "0.03169738803592424",
         "0.02703753345092449"
        ],
        [
         "1",
         "2016",
         "171.2858789650053",
         "3.939726186476772",
         "0.030103952591118307",
         "0.05915726021772081",
         "0.03618200599385921",
         "25.015748571633388",
         "2.7178022583573602",
         "14.769137347719791",
         "9.41071794839385",
         "1.9860765372890483",
         "0.03704805217460271",
         "3.3691090707126166",
         "0.07809300369078942",
         "0.05572281755809392",
         "0.05783549644920747",
         "0.08876604414904252",
         "0.04805068924593064",
         "0.05833428384455195",
         "0.030790323175843137",
         "0.026257656056767827"
        ],
        [
         "2",
         "2017",
         "160.88036073252647",
         "3.8204370473425473",
         "0.03247120570173373",
         "0.061164860926530354",
         "0.03660817264225793",
         "25.958520635320628",
         "2.727740011144902",
         "15.733877492914546",
         "8.659951647711715",
         "1.930405168327674",
         "0.03838323519436133",
         "3.490022690133223",
         "0.07747918498842915",
         "0.058800085262032294",
         "0.0572036168286863",
         "0.08751229791076832",
         "0.04987381088247312",
         "0.06010914354479161",
         "0.03200031114275633",
         "0.028312484396607468"
        ],
        [
         "3",
         "2018",
         "163.9404830467947",
         "3.7036943976273937",
         "0.031847392273094355",
         "0.06066561723011539",
         "0.03734878889235602",
         "26.519238442390737",
         "2.519796258701838",
         "15.510275712888417",
         "8.723116624987169",
         "1.9820894290579398",
         "0.03765102515831286",
         "3.395718869663671",
         "0.0779656921533056",
         "0.06109326051097263",
         "0.05800487240421227",
         "0.08540016852700166",
         "0.04840783260825601",
         "0.058745673218189506",
         "0.03197348531212471",
         "0.02824830232711226"
        ],
        [
         "4",
         "2019",
         "164.2301524031919",
         "3.666217811778282",
         "0.03167808277296577",
         "0.060823025878016385",
         "0.0377352001313904",
         "27.166507870913723",
         "2.4060994225684613",
         "16.262760759466833",
         "8.849027451462463",
         "1.981442998861872",
         "0.03936603295875584",
         "3.35549536286329",
         "0.07581316290735302",
         "0.06169687917761312",
         "0.05975749222359372",
         "0.08803385295471004",
         "0.047626921745633446",
         "0.058395797433169284",
         "0.032007809443456436",
         "0.028158233937925665"
        ]
       ],
       "shape": {
        "columns": 21,
        "rows": 5
       }
      },
      "text/html": [
       "<div>\n",
       "<style scoped>\n",
       "    .dataframe tbody tr th:only-of-type {\n",
       "        vertical-align: middle;\n",
       "    }\n",
       "\n",
       "    .dataframe tbody tr th {\n",
       "        vertical-align: top;\n",
       "    }\n",
       "\n",
       "    .dataframe thead th {\n",
       "        text-align: right;\n",
       "    }\n",
       "</style>\n",
       "<table border=\"1\" class=\"dataframe\">\n",
       "  <thead>\n",
       "    <tr style=\"text-align: right;\">\n",
       "      <th></th>\n",
       "      <th>Season</th>\n",
       "      <th>PA</th>\n",
       "      <th>Age</th>\n",
       "      <th>BB%</th>\n",
       "      <th>K%</th>\n",
       "      <th>BABIP</th>\n",
       "      <th>wRC+</th>\n",
       "      <th>BsR</th>\n",
       "      <th>Off</th>\n",
       "      <th>Def</th>\n",
       "      <th>...</th>\n",
       "      <th>Barrel%</th>\n",
       "      <th>maxEV</th>\n",
       "      <th>HardHit%</th>\n",
       "      <th>O-Swing%</th>\n",
       "      <th>Z-Swing%</th>\n",
       "      <th>O-Contact%</th>\n",
       "      <th>Z-Contact%</th>\n",
       "      <th>Contact%</th>\n",
       "      <th>SwStr%</th>\n",
       "      <th>CSW%</th>\n",
       "    </tr>\n",
       "  </thead>\n",
       "  <tbody>\n",
       "    <tr>\n",
       "      <th>0</th>\n",
       "      <td>2015</td>\n",
       "      <td>165.937131</td>\n",
       "      <td>3.920175</td>\n",
       "      <td>0.030939</td>\n",
       "      <td>0.057592</td>\n",
       "      <td>0.037114</td>\n",
       "      <td>27.346927</td>\n",
       "      <td>3.263287</td>\n",
       "      <td>15.699682</td>\n",
       "      <td>8.380724</td>\n",
       "      <td>...</td>\n",
       "      <td>0.036316</td>\n",
       "      <td>3.140128</td>\n",
       "      <td>0.082114</td>\n",
       "      <td>0.056871</td>\n",
       "      <td>0.059338</td>\n",
       "      <td>0.089534</td>\n",
       "      <td>0.049212</td>\n",
       "      <td>0.059221</td>\n",
       "      <td>0.031697</td>\n",
       "      <td>0.027038</td>\n",
       "    </tr>\n",
       "    <tr>\n",
       "      <th>1</th>\n",
       "      <td>2016</td>\n",
       "      <td>171.285879</td>\n",
       "      <td>3.939726</td>\n",
       "      <td>0.030104</td>\n",
       "      <td>0.059157</td>\n",
       "      <td>0.036182</td>\n",
       "      <td>25.015749</td>\n",
       "      <td>2.717802</td>\n",
       "      <td>14.769137</td>\n",
       "      <td>9.410718</td>\n",
       "      <td>...</td>\n",
       "      <td>0.037048</td>\n",
       "      <td>3.369109</td>\n",
       "      <td>0.078093</td>\n",
       "      <td>0.055723</td>\n",
       "      <td>0.057835</td>\n",
       "      <td>0.088766</td>\n",
       "      <td>0.048051</td>\n",
       "      <td>0.058334</td>\n",
       "      <td>0.030790</td>\n",
       "      <td>0.026258</td>\n",
       "    </tr>\n",
       "    <tr>\n",
       "      <th>2</th>\n",
       "      <td>2017</td>\n",
       "      <td>160.880361</td>\n",
       "      <td>3.820437</td>\n",
       "      <td>0.032471</td>\n",
       "      <td>0.061165</td>\n",
       "      <td>0.036608</td>\n",
       "      <td>25.958521</td>\n",
       "      <td>2.727740</td>\n",
       "      <td>15.733877</td>\n",
       "      <td>8.659952</td>\n",
       "      <td>...</td>\n",
       "      <td>0.038383</td>\n",
       "      <td>3.490023</td>\n",
       "      <td>0.077479</td>\n",
       "      <td>0.058800</td>\n",
       "      <td>0.057204</td>\n",
       "      <td>0.087512</td>\n",
       "      <td>0.049874</td>\n",
       "      <td>0.060109</td>\n",
       "      <td>0.032000</td>\n",
       "      <td>0.028312</td>\n",
       "    </tr>\n",
       "    <tr>\n",
       "      <th>3</th>\n",
       "      <td>2018</td>\n",
       "      <td>163.940483</td>\n",
       "      <td>3.703694</td>\n",
       "      <td>0.031847</td>\n",
       "      <td>0.060666</td>\n",
       "      <td>0.037349</td>\n",
       "      <td>26.519238</td>\n",
       "      <td>2.519796</td>\n",
       "      <td>15.510276</td>\n",
       "      <td>8.723117</td>\n",
       "      <td>...</td>\n",
       "      <td>0.037651</td>\n",
       "      <td>3.395719</td>\n",
       "      <td>0.077966</td>\n",
       "      <td>0.061093</td>\n",
       "      <td>0.058005</td>\n",
       "      <td>0.085400</td>\n",
       "      <td>0.048408</td>\n",
       "      <td>0.058746</td>\n",
       "      <td>0.031973</td>\n",
       "      <td>0.028248</td>\n",
       "    </tr>\n",
       "    <tr>\n",
       "      <th>4</th>\n",
       "      <td>2019</td>\n",
       "      <td>164.230152</td>\n",
       "      <td>3.666218</td>\n",
       "      <td>0.031678</td>\n",
       "      <td>0.060823</td>\n",
       "      <td>0.037735</td>\n",
       "      <td>27.166508</td>\n",
       "      <td>2.406099</td>\n",
       "      <td>16.262761</td>\n",
       "      <td>8.849027</td>\n",
       "      <td>...</td>\n",
       "      <td>0.039366</td>\n",
       "      <td>3.355495</td>\n",
       "      <td>0.075813</td>\n",
       "      <td>0.061697</td>\n",
       "      <td>0.059757</td>\n",
       "      <td>0.088034</td>\n",
       "      <td>0.047627</td>\n",
       "      <td>0.058396</td>\n",
       "      <td>0.032008</td>\n",
       "      <td>0.028158</td>\n",
       "    </tr>\n",
       "  </tbody>\n",
       "</table>\n",
       "<p>5 rows × 21 columns</p>\n",
       "</div>"
      ],
      "text/plain": [
       "   Season          PA       Age       BB%        K%     BABIP       wRC+  \\\n",
       "0    2015  165.937131  3.920175  0.030939  0.057592  0.037114  27.346927   \n",
       "1    2016  171.285879  3.939726  0.030104  0.059157  0.036182  25.015749   \n",
       "2    2017  160.880361  3.820437  0.032471  0.061165  0.036608  25.958521   \n",
       "3    2018  163.940483  3.703694  0.031847  0.060666  0.037349  26.519238   \n",
       "4    2019  164.230152  3.666218  0.031678  0.060823  0.037735  27.166508   \n",
       "\n",
       "        BsR        Off       Def  ...   Barrel%     maxEV  HardHit%  O-Swing%  \\\n",
       "0  3.263287  15.699682  8.380724  ...  0.036316  3.140128  0.082114  0.056871   \n",
       "1  2.717802  14.769137  9.410718  ...  0.037048  3.369109  0.078093  0.055723   \n",
       "2  2.727740  15.733877  8.659952  ...  0.038383  3.490023  0.077479  0.058800   \n",
       "3  2.519796  15.510276  8.723117  ...  0.037651  3.395719  0.077966  0.061093   \n",
       "4  2.406099  16.262761  8.849027  ...  0.039366  3.355495  0.075813  0.061697   \n",
       "\n",
       "   Z-Swing%  O-Contact%  Z-Contact%  Contact%    SwStr%      CSW%  \n",
       "0  0.059338    0.089534    0.049212  0.059221  0.031697  0.027038  \n",
       "1  0.057835    0.088766    0.048051  0.058334  0.030790  0.026258  \n",
       "2  0.057204    0.087512    0.049874  0.060109  0.032000  0.028312  \n",
       "3  0.058005    0.085400    0.048408  0.058746  0.031973  0.028248  \n",
       "4  0.059757    0.088034    0.047627  0.058396  0.032008  0.028158  \n",
       "\n",
       "[5 rows x 21 columns]"
      ]
     },
     "execution_count": 8,
     "metadata": {},
     "output_type": "execute_result"
    }
   ],
   "source": [
    "# Create empty DataFrame to store results\n",
    "std_values = pd.DataFrame(index=df['Season'].unique())\n",
    "\n",
    "# Loop through numeric columns\n",
    "for col in df.select_dtypes(include=[np.number]).columns:\n",
    "    if col != 'Season' and col != 'MLBAMID':  # skip meaningless numeric\n",
    "        yearly_std = df.groupby('Season')[col].apply(calculate_weighted_std)\n",
    "        std_values[col] = yearly_std\n",
    "\n",
    "std_values = std_values.reset_index()\n",
    "std_values = std_values.rename(columns={'index': 'Season'})\n",
    "\n",
    "std_values = std_values.sort_values(by=['Season'])\n",
    "std_values.head()"
   ]
  },
  {
   "cell_type": "code",
   "execution_count": 9,
   "id": "e00580e3",
   "metadata": {},
   "outputs": [
    {
     "data": {
      "application/vnd.microsoft.datawrangler.viewer.v0+json": {
       "columns": [
        {
         "name": "index",
         "rawType": "int64",
         "type": "integer"
        },
        {
         "name": "Name",
         "rawType": "object",
         "type": "string"
        },
        {
         "name": "Season",
         "rawType": "int64",
         "type": "integer"
        },
        {
         "name": "PA",
         "rawType": "float64",
         "type": "float"
        },
        {
         "name": "Age",
         "rawType": "float64",
         "type": "float"
        },
        {
         "name": "BB%",
         "rawType": "float64",
         "type": "float"
        },
        {
         "name": "K%",
         "rawType": "float64",
         "type": "float"
        },
        {
         "name": "BABIP",
         "rawType": "float64",
         "type": "float"
        },
        {
         "name": "wRC+",
         "rawType": "float64",
         "type": "float"
        },
        {
         "name": "BsR",
         "rawType": "float64",
         "type": "float"
        },
        {
         "name": "Off",
         "rawType": "float64",
         "type": "float"
        },
        {
         "name": "Def",
         "rawType": "float64",
         "type": "float"
        },
        {
         "name": "WAR",
         "rawType": "float64",
         "type": "float"
        },
        {
         "name": "Barrel%",
         "rawType": "float64",
         "type": "float"
        },
        {
         "name": "maxEV",
         "rawType": "float64",
         "type": "float"
        },
        {
         "name": "HardHit%",
         "rawType": "float64",
         "type": "float"
        },
        {
         "name": "O-Swing%",
         "rawType": "float64",
         "type": "float"
        },
        {
         "name": "Z-Swing%",
         "rawType": "float64",
         "type": "float"
        },
        {
         "name": "O-Contact%",
         "rawType": "float64",
         "type": "float"
        },
        {
         "name": "Z-Contact%",
         "rawType": "float64",
         "type": "float"
        },
        {
         "name": "Contact%",
         "rawType": "float64",
         "type": "float"
        },
        {
         "name": "SwStr%",
         "rawType": "float64",
         "type": "float"
        },
        {
         "name": "CSW%",
         "rawType": "float64",
         "type": "float"
        }
       ],
       "conversionMethod": "pd.DataFrame",
       "ref": "a3bb74a0-73c5-424f-834c-89d31ee5467d",
       "rows": [
        [
         "0",
         "aaron altherr",
         "2015",
         "81.19764973744265",
         "88.75858806092266",
         "106.72881235024352",
         "110.15755990299681",
         "99.66390089303269",
         "108.28175431199668",
         "102.88091832823002",
         "101.45894110728325",
         "104.76518043078059",
         "98.00697219241255",
         "91.24773891412414",
         "99.6316642933409",
         "111.20553109683682",
         "88.28978736482432",
         "92.74811114113095",
         "87.76467243156091",
         "100.59416186306898",
         "95.42345058784423",
         "99.7054711553607",
         "107.03210380125206"
        ],
        [
         "1",
         "aaron altherr",
         "2016",
         "85.14957873792532",
         "91.06753410925474",
         "105.79349050485183",
         "116.98093774022283",
         "95.93029964215201",
         "84.8211445558045",
         "98.8097696084167",
         "90.21283598846817",
         "100.55999576387501",
         "88.39176188199929",
         "91.9243977424999",
         "103.78542716482394",
         "99.42557209137027",
         "93.64738962119242",
         "94.42843201758825",
         "86.81671374227284",
         "92.50982402093086",
         "89.5225589128461",
         "105.92461779130035",
         "115.29931034901426"
        ],
        [
         "2",
         "aaron altherr",
         "2017",
         "95.97297269330468",
         "93.86128087235079",
         "96.9258938574588",
         "107.13026386336175",
         "106.89887348400838",
         "106.84973625530228",
         "95.64459024810412",
         "103.59651567707624",
         "98.89643939679226",
         "101.45611253912021",
         "109.26528771918419",
         "105.84254984162622",
         "111.33621927489584",
         "97.6408064258268",
         "93.79317165607532",
         "86.77971101913892",
         "94.13543362489786",
         "90.13700349141455",
         "106.56901094949538",
         "113.31708864979157"
        ],
        [
         "3",
         "aaron altherr",
         "2018",
         "88.59854541428014",
         "96.98686243717101",
         "112.37206314972579",
         "117.32177831923524",
         "86.03515154328164",
         "89.54654207258194",
         "101.8877444593167",
         "92.12033258081553",
         "101.42810944942255",
         "90.89429405597505",
         "108.31130097605663",
         "112.2870869122487",
         "111.75475373680004",
         "93.4974067218881",
         "100.8972108004298",
         "74.4452893519748",
         "94.22409919886117",
         "85.4871243216827",
         "110.4079989289803",
         "114.1342286035773"
        ],
        [
         "5",
         "aaron hicks",
         "2015",
         "94.99805704154032",
         "91.3094945439063",
         "102.78577961815495",
         "95.32436639650723",
         "95.38613374618204",
         "97.82808760574933",
         "100.98236540801442",
         "96.93679536065406",
         "109.71783257755504",
         "100.53827297610005",
         "93.3338189858201",
         "92.63513460447979",
         "98.90435156453503",
         "88.44849949046285",
         "102.16935243094102",
         "97.02710161983487",
         "100.8811731620848",
         "101.52340897802311",
         "96.91144914005689",
         "92.82109965409447"
        ]
       ],
       "shape": {
        "columns": 22,
        "rows": 5
       }
      },
      "text/html": [
       "<div>\n",
       "<style scoped>\n",
       "    .dataframe tbody tr th:only-of-type {\n",
       "        vertical-align: middle;\n",
       "    }\n",
       "\n",
       "    .dataframe tbody tr th {\n",
       "        vertical-align: top;\n",
       "    }\n",
       "\n",
       "    .dataframe thead th {\n",
       "        text-align: right;\n",
       "    }\n",
       "</style>\n",
       "<table border=\"1\" class=\"dataframe\">\n",
       "  <thead>\n",
       "    <tr style=\"text-align: right;\">\n",
       "      <th></th>\n",
       "      <th>Name</th>\n",
       "      <th>Season</th>\n",
       "      <th>PA</th>\n",
       "      <th>Age</th>\n",
       "      <th>BB%</th>\n",
       "      <th>K%</th>\n",
       "      <th>BABIP</th>\n",
       "      <th>wRC+</th>\n",
       "      <th>BsR</th>\n",
       "      <th>Off</th>\n",
       "      <th>...</th>\n",
       "      <th>Barrel%</th>\n",
       "      <th>maxEV</th>\n",
       "      <th>HardHit%</th>\n",
       "      <th>O-Swing%</th>\n",
       "      <th>Z-Swing%</th>\n",
       "      <th>O-Contact%</th>\n",
       "      <th>Z-Contact%</th>\n",
       "      <th>Contact%</th>\n",
       "      <th>SwStr%</th>\n",
       "      <th>CSW%</th>\n",
       "    </tr>\n",
       "  </thead>\n",
       "  <tbody>\n",
       "    <tr>\n",
       "      <th>0</th>\n",
       "      <td>aaron altherr</td>\n",
       "      <td>2015</td>\n",
       "      <td>81.197650</td>\n",
       "      <td>88.758588</td>\n",
       "      <td>106.728812</td>\n",
       "      <td>110.157560</td>\n",
       "      <td>99.663901</td>\n",
       "      <td>108.281754</td>\n",
       "      <td>102.880918</td>\n",
       "      <td>101.458941</td>\n",
       "      <td>...</td>\n",
       "      <td>91.247739</td>\n",
       "      <td>99.631664</td>\n",
       "      <td>111.205531</td>\n",
       "      <td>88.289787</td>\n",
       "      <td>92.748111</td>\n",
       "      <td>87.764672</td>\n",
       "      <td>100.594162</td>\n",
       "      <td>95.423451</td>\n",
       "      <td>99.705471</td>\n",
       "      <td>107.032104</td>\n",
       "    </tr>\n",
       "    <tr>\n",
       "      <th>1</th>\n",
       "      <td>aaron altherr</td>\n",
       "      <td>2016</td>\n",
       "      <td>85.149579</td>\n",
       "      <td>91.067534</td>\n",
       "      <td>105.793491</td>\n",
       "      <td>116.980938</td>\n",
       "      <td>95.930300</td>\n",
       "      <td>84.821145</td>\n",
       "      <td>98.809770</td>\n",
       "      <td>90.212836</td>\n",
       "      <td>...</td>\n",
       "      <td>91.924398</td>\n",
       "      <td>103.785427</td>\n",
       "      <td>99.425572</td>\n",
       "      <td>93.647390</td>\n",
       "      <td>94.428432</td>\n",
       "      <td>86.816714</td>\n",
       "      <td>92.509824</td>\n",
       "      <td>89.522559</td>\n",
       "      <td>105.924618</td>\n",
       "      <td>115.299310</td>\n",
       "    </tr>\n",
       "    <tr>\n",
       "      <th>2</th>\n",
       "      <td>aaron altherr</td>\n",
       "      <td>2017</td>\n",
       "      <td>95.972973</td>\n",
       "      <td>93.861281</td>\n",
       "      <td>96.925894</td>\n",
       "      <td>107.130264</td>\n",
       "      <td>106.898873</td>\n",
       "      <td>106.849736</td>\n",
       "      <td>95.644590</td>\n",
       "      <td>103.596516</td>\n",
       "      <td>...</td>\n",
       "      <td>109.265288</td>\n",
       "      <td>105.842550</td>\n",
       "      <td>111.336219</td>\n",
       "      <td>97.640806</td>\n",
       "      <td>93.793172</td>\n",
       "      <td>86.779711</td>\n",
       "      <td>94.135434</td>\n",
       "      <td>90.137003</td>\n",
       "      <td>106.569011</td>\n",
       "      <td>113.317089</td>\n",
       "    </tr>\n",
       "    <tr>\n",
       "      <th>3</th>\n",
       "      <td>aaron altherr</td>\n",
       "      <td>2018</td>\n",
       "      <td>88.598545</td>\n",
       "      <td>96.986862</td>\n",
       "      <td>112.372063</td>\n",
       "      <td>117.321778</td>\n",
       "      <td>86.035152</td>\n",
       "      <td>89.546542</td>\n",
       "      <td>101.887744</td>\n",
       "      <td>92.120333</td>\n",
       "      <td>...</td>\n",
       "      <td>108.311301</td>\n",
       "      <td>112.287087</td>\n",
       "      <td>111.754754</td>\n",
       "      <td>93.497407</td>\n",
       "      <td>100.897211</td>\n",
       "      <td>74.445289</td>\n",
       "      <td>94.224099</td>\n",
       "      <td>85.487124</td>\n",
       "      <td>110.407999</td>\n",
       "      <td>114.134229</td>\n",
       "    </tr>\n",
       "    <tr>\n",
       "      <th>5</th>\n",
       "      <td>aaron hicks</td>\n",
       "      <td>2015</td>\n",
       "      <td>94.998057</td>\n",
       "      <td>91.309495</td>\n",
       "      <td>102.785780</td>\n",
       "      <td>95.324366</td>\n",
       "      <td>95.386134</td>\n",
       "      <td>97.828088</td>\n",
       "      <td>100.982365</td>\n",
       "      <td>96.936795</td>\n",
       "      <td>...</td>\n",
       "      <td>93.333819</td>\n",
       "      <td>92.635135</td>\n",
       "      <td>98.904352</td>\n",
       "      <td>88.448499</td>\n",
       "      <td>102.169352</td>\n",
       "      <td>97.027102</td>\n",
       "      <td>100.881173</td>\n",
       "      <td>101.523409</td>\n",
       "      <td>96.911449</td>\n",
       "      <td>92.821100</td>\n",
       "    </tr>\n",
       "  </tbody>\n",
       "</table>\n",
       "<p>5 rows × 22 columns</p>\n",
       "</div>"
      ],
      "text/plain": [
       "            Name  Season         PA        Age         BB%          K%  \\\n",
       "0  aaron altherr    2015  81.197650  88.758588  106.728812  110.157560   \n",
       "1  aaron altherr    2016  85.149579  91.067534  105.793491  116.980938   \n",
       "2  aaron altherr    2017  95.972973  93.861281   96.925894  107.130264   \n",
       "3  aaron altherr    2018  88.598545  96.986862  112.372063  117.321778   \n",
       "5    aaron hicks    2015  94.998057  91.309495  102.785780   95.324366   \n",
       "\n",
       "        BABIP        wRC+         BsR         Off  ...     Barrel%  \\\n",
       "0   99.663901  108.281754  102.880918  101.458941  ...   91.247739   \n",
       "1   95.930300   84.821145   98.809770   90.212836  ...   91.924398   \n",
       "2  106.898873  106.849736   95.644590  103.596516  ...  109.265288   \n",
       "3   86.035152   89.546542  101.887744   92.120333  ...  108.311301   \n",
       "5   95.386134   97.828088  100.982365   96.936795  ...   93.333819   \n",
       "\n",
       "        maxEV    HardHit%   O-Swing%    Z-Swing%  O-Contact%  Z-Contact%  \\\n",
       "0   99.631664  111.205531  88.289787   92.748111   87.764672  100.594162   \n",
       "1  103.785427   99.425572  93.647390   94.428432   86.816714   92.509824   \n",
       "2  105.842550  111.336219  97.640806   93.793172   86.779711   94.135434   \n",
       "3  112.287087  111.754754  93.497407  100.897211   74.445289   94.224099   \n",
       "5   92.635135   98.904352  88.448499  102.169352   97.027102  100.881173   \n",
       "\n",
       "     Contact%      SwStr%        CSW%  \n",
       "0   95.423451   99.705471  107.032104  \n",
       "1   89.522559  105.924618  115.299310  \n",
       "2   90.137003  106.569011  113.317089  \n",
       "3   85.487124  110.407999  114.134229  \n",
       "5  101.523409   96.911449   92.821100  \n",
       "\n",
       "[5 rows x 22 columns]"
      ]
     },
     "execution_count": 9,
     "metadata": {},
     "output_type": "execute_result"
    }
   ],
   "source": [
    "df_zscore = z_scores(df, mean_df=mean_values, std_df=std_values)\n",
    "df_zscore.head()"
   ]
  },
  {
   "cell_type": "markdown",
   "id": "e9e27524",
   "metadata": {},
   "source": [
    "#### Player Avg Data"
   ]
  },
  {
   "cell_type": "markdown",
   "id": "c811bc6a",
   "metadata": {},
   "source": [
    "clean player names"
   ]
  },
  {
   "cell_type": "code",
   "execution_count": 10,
   "id": "53d0a657",
   "metadata": {},
   "outputs": [],
   "source": [
    "# borrowed from player att ipynb\n",
    "def clean_names(df):\n",
    "    df['Name'] = df['Name'].str.split(',').str[0]\n",
    "    df['Name'] = df['Name'].str.replace(r'[^a-z\\s]', '', regex=True)\n",
    "    return df"
   ]
  },
  {
   "cell_type": "markdown",
   "id": "34f026d2",
   "metadata": {},
   "source": [
    "group by player, weighted mean for player"
   ]
  },
  {
   "cell_type": "code",
   "execution_count": 11,
   "id": "06a5d472",
   "metadata": {},
   "outputs": [],
   "source": [
    "# clean names\n",
    "df_player = clean_names(df_zscore)\n",
    "df_player = df_player.drop(columns=['Season'])\n",
    "\n",
    "# df to store mean results\n",
    "df_zscore_mean = pd.DataFrame()\n",
    "\n",
    "# Loop through each group\n",
    "for name, group in df_player.groupby('Name'):\n",
    "    weighted_means = {}\n",
    "    for col in group.select_dtypes(include=[np.number]).columns:\n",
    "        if col != 'PA':  \n",
    "            weighted_means[col] = np.average(group[col], weights=group['PA'])\n",
    "    weighted_means['Name'] = name  \n",
    "    df_zscore_mean = pd.concat([df_zscore_mean, pd.DataFrame([weighted_means])], ignore_index=True)\n",
    "\n",
    "\n",
    "cols = ['Name'] + [col for col in df_zscore_mean.columns if col != 'Name']\n",
    "df_zscore_mean = df_zscore_mean[cols]"
   ]
  },
  {
   "cell_type": "markdown",
   "id": "1cb5def9",
   "metadata": {},
   "source": [
    "#### Clustering Methods"
   ]
  },
  {
   "cell_type": "code",
   "execution_count": 12,
   "id": "40dc09c8",
   "metadata": {},
   "outputs": [],
   "source": [
    "from sklearn.cluster import KMeans\n",
    "from sklearn.cluster import SpectralClustering\n",
    "from sklearn.metrics import silhouette_score"
   ]
  },
  {
   "cell_type": "markdown",
   "id": "1ffeeaa0",
   "metadata": {},
   "source": [
    "##### KMeans"
   ]
  },
  {
   "cell_type": "code",
   "execution_count": 13,
   "id": "8f70a04e",
   "metadata": {},
   "outputs": [
    {
     "name": "stderr",
     "output_type": "stream",
     "text": [
      "c:\\Users\\dalto\\anaconda3\\Lib\\site-packages\\sklearn\\cluster\\_kmeans.py:1429: UserWarning: KMeans is known to have a memory leak on Windows with MKL, when there are less chunks than available threads. You can avoid it by setting the environment variable OMP_NUM_THREADS=5.\n",
      "  warnings.warn(\n",
      "c:\\Users\\dalto\\anaconda3\\Lib\\site-packages\\sklearn\\cluster\\_kmeans.py:1429: UserWarning: KMeans is known to have a memory leak on Windows with MKL, when there are less chunks than available threads. You can avoid it by setting the environment variable OMP_NUM_THREADS=5.\n",
      "  warnings.warn(\n",
      "c:\\Users\\dalto\\anaconda3\\Lib\\site-packages\\sklearn\\cluster\\_kmeans.py:1429: UserWarning: KMeans is known to have a memory leak on Windows with MKL, when there are less chunks than available threads. You can avoid it by setting the environment variable OMP_NUM_THREADS=5.\n",
      "  warnings.warn(\n",
      "c:\\Users\\dalto\\anaconda3\\Lib\\site-packages\\sklearn\\cluster\\_kmeans.py:1429: UserWarning: KMeans is known to have a memory leak on Windows with MKL, when there are less chunks than available threads. You can avoid it by setting the environment variable OMP_NUM_THREADS=5.\n",
      "  warnings.warn(\n",
      "c:\\Users\\dalto\\anaconda3\\Lib\\site-packages\\sklearn\\cluster\\_kmeans.py:1429: UserWarning: KMeans is known to have a memory leak on Windows with MKL, when there are less chunks than available threads. You can avoid it by setting the environment variable OMP_NUM_THREADS=5.\n",
      "  warnings.warn(\n",
      "c:\\Users\\dalto\\anaconda3\\Lib\\site-packages\\sklearn\\cluster\\_kmeans.py:1429: UserWarning: KMeans is known to have a memory leak on Windows with MKL, when there are less chunks than available threads. You can avoid it by setting the environment variable OMP_NUM_THREADS=5.\n",
      "  warnings.warn(\n",
      "c:\\Users\\dalto\\anaconda3\\Lib\\site-packages\\sklearn\\cluster\\_kmeans.py:1429: UserWarning: KMeans is known to have a memory leak on Windows with MKL, when there are less chunks than available threads. You can avoid it by setting the environment variable OMP_NUM_THREADS=5.\n",
      "  warnings.warn(\n",
      "c:\\Users\\dalto\\anaconda3\\Lib\\site-packages\\sklearn\\cluster\\_kmeans.py:1429: UserWarning: KMeans is known to have a memory leak on Windows with MKL, when there are less chunks than available threads. You can avoid it by setting the environment variable OMP_NUM_THREADS=5.\n",
      "  warnings.warn(\n",
      "c:\\Users\\dalto\\anaconda3\\Lib\\site-packages\\sklearn\\cluster\\_kmeans.py:1429: UserWarning: KMeans is known to have a memory leak on Windows with MKL, when there are less chunks than available threads. You can avoid it by setting the environment variable OMP_NUM_THREADS=5.\n",
      "  warnings.warn(\n",
      "c:\\Users\\dalto\\anaconda3\\Lib\\site-packages\\sklearn\\cluster\\_kmeans.py:1429: UserWarning: KMeans is known to have a memory leak on Windows with MKL, when there are less chunks than available threads. You can avoid it by setting the environment variable OMP_NUM_THREADS=5.\n",
      "  warnings.warn(\n",
      "c:\\Users\\dalto\\anaconda3\\Lib\\site-packages\\sklearn\\cluster\\_kmeans.py:1429: UserWarning: KMeans is known to have a memory leak on Windows with MKL, when there are less chunks than available threads. You can avoid it by setting the environment variable OMP_NUM_THREADS=5.\n",
      "  warnings.warn(\n",
      "c:\\Users\\dalto\\anaconda3\\Lib\\site-packages\\sklearn\\cluster\\_kmeans.py:1429: UserWarning: KMeans is known to have a memory leak on Windows with MKL, when there are less chunks than available threads. You can avoid it by setting the environment variable OMP_NUM_THREADS=5.\n",
      "  warnings.warn(\n",
      "c:\\Users\\dalto\\anaconda3\\Lib\\site-packages\\sklearn\\cluster\\_kmeans.py:1429: UserWarning: KMeans is known to have a memory leak on Windows with MKL, when there are less chunks than available threads. You can avoid it by setting the environment variable OMP_NUM_THREADS=5.\n",
      "  warnings.warn(\n",
      "c:\\Users\\dalto\\anaconda3\\Lib\\site-packages\\sklearn\\cluster\\_kmeans.py:1429: UserWarning: KMeans is known to have a memory leak on Windows with MKL, when there are less chunks than available threads. You can avoid it by setting the environment variable OMP_NUM_THREADS=5.\n",
      "  warnings.warn(\n",
      "c:\\Users\\dalto\\anaconda3\\Lib\\site-packages\\sklearn\\cluster\\_kmeans.py:1429: UserWarning: KMeans is known to have a memory leak on Windows with MKL, when there are less chunks than available threads. You can avoid it by setting the environment variable OMP_NUM_THREADS=5.\n",
      "  warnings.warn(\n",
      "c:\\Users\\dalto\\anaconda3\\Lib\\site-packages\\sklearn\\cluster\\_kmeans.py:1429: UserWarning: KMeans is known to have a memory leak on Windows with MKL, when there are less chunks than available threads. You can avoid it by setting the environment variable OMP_NUM_THREADS=5.\n",
      "  warnings.warn(\n",
      "c:\\Users\\dalto\\anaconda3\\Lib\\site-packages\\sklearn\\cluster\\_kmeans.py:1429: UserWarning: KMeans is known to have a memory leak on Windows with MKL, when there are less chunks than available threads. You can avoid it by setting the environment variable OMP_NUM_THREADS=5.\n",
      "  warnings.warn(\n",
      "c:\\Users\\dalto\\anaconda3\\Lib\\site-packages\\sklearn\\cluster\\_kmeans.py:1429: UserWarning: KMeans is known to have a memory leak on Windows with MKL, when there are less chunks than available threads. You can avoid it by setting the environment variable OMP_NUM_THREADS=5.\n",
      "  warnings.warn(\n"
     ]
    }
   ],
   "source": [
    "X = df_zscore_mean.drop(columns=['Age', 'wRC+', 'Name']) # dont include age \n",
    "\n",
    "wcss = []\n",
    "for i in range(2,20):\n",
    "    kmeans_clust = KMeans(n_clusters=i, init='k-means++', random_state=42)\n",
    "    labels = kmeans_clust.fit_predict(X)\n",
    "    score = silhouette_score(X, labels)\n",
    "    wcss.append(score)"
   ]
  },
  {
   "cell_type": "markdown",
   "id": "d9f11974",
   "metadata": {},
   "source": [
    "##### Spectral 'rbf'"
   ]
  },
  {
   "cell_type": "code",
   "execution_count": 14,
   "id": "94b69d6b",
   "metadata": {},
   "outputs": [
    {
     "name": "stderr",
     "output_type": "stream",
     "text": [
      "c:\\Users\\dalto\\anaconda3\\Lib\\site-packages\\sklearn\\cluster\\_kmeans.py:1429: UserWarning: KMeans is known to have a memory leak on Windows with MKL, when there are less chunks than available threads. You can avoid it by setting the environment variable OMP_NUM_THREADS=5.\n",
      "  warnings.warn(\n"
     ]
    },
    {
     "name": "stdout",
     "output_type": "stream",
     "text": [
      "cluster 1, gamma 1, silo score 0.22889445300781466\n"
     ]
    },
    {
     "name": "stderr",
     "output_type": "stream",
     "text": [
      "c:\\Users\\dalto\\anaconda3\\Lib\\site-packages\\sklearn\\cluster\\_kmeans.py:1429: UserWarning: KMeans is known to have a memory leak on Windows with MKL, when there are less chunks than available threads. You can avoid it by setting the environment variable OMP_NUM_THREADS=5.\n",
      "  warnings.warn(\n"
     ]
    },
    {
     "name": "stdout",
     "output_type": "stream",
     "text": [
      "cluster 2, gamma 1, silo score 0.14260350048809686\n"
     ]
    },
    {
     "name": "stderr",
     "output_type": "stream",
     "text": [
      "c:\\Users\\dalto\\anaconda3\\Lib\\site-packages\\sklearn\\cluster\\_kmeans.py:1429: UserWarning: KMeans is known to have a memory leak on Windows with MKL, when there are less chunks than available threads. You can avoid it by setting the environment variable OMP_NUM_THREADS=5.\n",
      "  warnings.warn(\n"
     ]
    },
    {
     "name": "stdout",
     "output_type": "stream",
     "text": [
      "cluster 3, gamma 1, silo score 0.13462487306631674\n"
     ]
    },
    {
     "name": "stderr",
     "output_type": "stream",
     "text": [
      "c:\\Users\\dalto\\anaconda3\\Lib\\site-packages\\sklearn\\cluster\\_kmeans.py:1429: UserWarning: KMeans is known to have a memory leak on Windows with MKL, when there are less chunks than available threads. You can avoid it by setting the environment variable OMP_NUM_THREADS=5.\n",
      "  warnings.warn(\n"
     ]
    },
    {
     "name": "stdout",
     "output_type": "stream",
     "text": [
      "cluster 4, gamma 1, silo score 0.1019037133737978\n"
     ]
    },
    {
     "name": "stderr",
     "output_type": "stream",
     "text": [
      "c:\\Users\\dalto\\anaconda3\\Lib\\site-packages\\sklearn\\cluster\\_kmeans.py:1429: UserWarning: KMeans is known to have a memory leak on Windows with MKL, when there are less chunks than available threads. You can avoid it by setting the environment variable OMP_NUM_THREADS=5.\n",
      "  warnings.warn(\n"
     ]
    },
    {
     "name": "stdout",
     "output_type": "stream",
     "text": [
      "cluster 5, gamma 1, silo score 0.07990917963092568\n"
     ]
    },
    {
     "name": "stderr",
     "output_type": "stream",
     "text": [
      "c:\\Users\\dalto\\anaconda3\\Lib\\site-packages\\sklearn\\cluster\\_kmeans.py:1429: UserWarning: KMeans is known to have a memory leak on Windows with MKL, when there are less chunks than available threads. You can avoid it by setting the environment variable OMP_NUM_THREADS=5.\n",
      "  warnings.warn(\n"
     ]
    },
    {
     "name": "stdout",
     "output_type": "stream",
     "text": [
      "cluster 6, gamma 2, silo score 0.23088951781678635\n"
     ]
    },
    {
     "name": "stderr",
     "output_type": "stream",
     "text": [
      "c:\\Users\\dalto\\anaconda3\\Lib\\site-packages\\sklearn\\cluster\\_kmeans.py:1429: UserWarning: KMeans is known to have a memory leak on Windows with MKL, when there are less chunks than available threads. You can avoid it by setting the environment variable OMP_NUM_THREADS=5.\n",
      "  warnings.warn(\n"
     ]
    },
    {
     "name": "stdout",
     "output_type": "stream",
     "text": [
      "cluster 7, gamma 2, silo score 0.1508473898767749\n"
     ]
    },
    {
     "name": "stderr",
     "output_type": "stream",
     "text": [
      "c:\\Users\\dalto\\anaconda3\\Lib\\site-packages\\sklearn\\cluster\\_kmeans.py:1429: UserWarning: KMeans is known to have a memory leak on Windows with MKL, when there are less chunks than available threads. You can avoid it by setting the environment variable OMP_NUM_THREADS=5.\n",
      "  warnings.warn(\n"
     ]
    },
    {
     "name": "stdout",
     "output_type": "stream",
     "text": [
      "cluster 8, gamma 2, silo score 0.13276897841212276\n"
     ]
    },
    {
     "name": "stderr",
     "output_type": "stream",
     "text": [
      "c:\\Users\\dalto\\anaconda3\\Lib\\site-packages\\sklearn\\cluster\\_kmeans.py:1429: UserWarning: KMeans is known to have a memory leak on Windows with MKL, when there are less chunks than available threads. You can avoid it by setting the environment variable OMP_NUM_THREADS=5.\n",
      "  warnings.warn(\n"
     ]
    },
    {
     "name": "stdout",
     "output_type": "stream",
     "text": [
      "cluster 9, gamma 2, silo score 0.11811115076522426\n"
     ]
    },
    {
     "name": "stderr",
     "output_type": "stream",
     "text": [
      "c:\\Users\\dalto\\anaconda3\\Lib\\site-packages\\sklearn\\cluster\\_kmeans.py:1429: UserWarning: KMeans is known to have a memory leak on Windows with MKL, when there are less chunks than available threads. You can avoid it by setting the environment variable OMP_NUM_THREADS=5.\n",
      "  warnings.warn(\n"
     ]
    },
    {
     "name": "stdout",
     "output_type": "stream",
     "text": [
      "cluster 10, gamma 2, silo score 0.10810054428625229\n"
     ]
    },
    {
     "name": "stderr",
     "output_type": "stream",
     "text": [
      "c:\\Users\\dalto\\anaconda3\\Lib\\site-packages\\sklearn\\cluster\\_kmeans.py:1429: UserWarning: KMeans is known to have a memory leak on Windows with MKL, when there are less chunks than available threads. You can avoid it by setting the environment variable OMP_NUM_THREADS=5.\n",
      "  warnings.warn(\n"
     ]
    },
    {
     "name": "stdout",
     "output_type": "stream",
     "text": [
      "cluster 11, gamma 3, silo score 0.3382938797169301\n"
     ]
    },
    {
     "name": "stderr",
     "output_type": "stream",
     "text": [
      "c:\\Users\\dalto\\anaconda3\\Lib\\site-packages\\sklearn\\cluster\\_kmeans.py:1429: UserWarning: KMeans is known to have a memory leak on Windows with MKL, when there are less chunks than available threads. You can avoid it by setting the environment variable OMP_NUM_THREADS=5.\n",
      "  warnings.warn(\n"
     ]
    },
    {
     "name": "stdout",
     "output_type": "stream",
     "text": [
      "cluster 12, gamma 3, silo score 0.33724932637541327\n"
     ]
    },
    {
     "name": "stderr",
     "output_type": "stream",
     "text": [
      "c:\\Users\\dalto\\anaconda3\\Lib\\site-packages\\sklearn\\cluster\\_kmeans.py:1429: UserWarning: KMeans is known to have a memory leak on Windows with MKL, when there are less chunks than available threads. You can avoid it by setting the environment variable OMP_NUM_THREADS=5.\n",
      "  warnings.warn(\n"
     ]
    },
    {
     "name": "stdout",
     "output_type": "stream",
     "text": [
      "cluster 13, gamma 3, silo score 0.3050020874208477\n"
     ]
    },
    {
     "name": "stderr",
     "output_type": "stream",
     "text": [
      "c:\\Users\\dalto\\anaconda3\\Lib\\site-packages\\sklearn\\cluster\\_kmeans.py:1429: UserWarning: KMeans is known to have a memory leak on Windows with MKL, when there are less chunks than available threads. You can avoid it by setting the environment variable OMP_NUM_THREADS=5.\n",
      "  warnings.warn(\n"
     ]
    },
    {
     "name": "stdout",
     "output_type": "stream",
     "text": [
      "cluster 14, gamma 3, silo score 0.19479159905473864\n",
      "cluster 15, gamma 3, silo score 0.1773540530158263\n"
     ]
    },
    {
     "name": "stderr",
     "output_type": "stream",
     "text": [
      "c:\\Users\\dalto\\anaconda3\\Lib\\site-packages\\sklearn\\cluster\\_kmeans.py:1429: UserWarning: KMeans is known to have a memory leak on Windows with MKL, when there are less chunks than available threads. You can avoid it by setting the environment variable OMP_NUM_THREADS=5.\n",
      "  warnings.warn(\n"
     ]
    }
   ],
   "source": [
    "X1 = df_zscore_mean.drop(columns=['Age', 'wRC+', 'Name']) # dont include age \n",
    "gamma = [0.0001 ,0.001, 0.01]\n",
    "n_clusters = [2, 3, 4, 5, 6]\n",
    "\n",
    "# training matrix to min silo score\n",
    "para_matrix = pd.DataFrame(columns=['silo', 'gamma', 'clusters'])\n",
    "i = 0\n",
    "g = 0\n",
    "for gamma in gamma:\n",
    "    g += 1\n",
    "    for cluster in n_clusters:\n",
    "        i += 1\n",
    "        spectral = SpectralClustering(n_clusters=cluster, \n",
    "                                      gamma=gamma,\n",
    "                                      affinity='rbf', \n",
    "                                      assign_labels='kmeans',\n",
    "                                      n_init=20,\n",
    "                                      random_state=26)\n",
    "        labels = spectral.fit_predict(X)\n",
    "        loss_kinda = np.nan\n",
    "        if (len(set(labels))) > 1:\n",
    "            loss_kinda = silhouette_score(X, labels)\n",
    "        para_matrix.loc[len(para_matrix)] = [loss_kinda, gamma, cluster]\n",
    "        print(f\"cluster {i}, gamma {g}, silo score {loss_kinda}\")\n",
    "       "
   ]
  },
  {
   "cell_type": "markdown",
   "id": "84319202",
   "metadata": {},
   "source": [
    "##### Spectral 'nearest neighbor'"
   ]
  },
  {
   "cell_type": "code",
   "execution_count": 15,
   "id": "7c626d97",
   "metadata": {},
   "outputs": [
    {
     "name": "stderr",
     "output_type": "stream",
     "text": [
      "c:\\Users\\dalto\\anaconda3\\Lib\\site-packages\\sklearn\\cluster\\_kmeans.py:1429: UserWarning: KMeans is known to have a memory leak on Windows with MKL, when there are less chunks than available threads. You can avoid it by setting the environment variable OMP_NUM_THREADS=5.\n",
      "  warnings.warn(\n"
     ]
    },
    {
     "name": "stdout",
     "output_type": "stream",
     "text": [
      "cluster 1, gamma 0, silo score 0.22181923080619903\n"
     ]
    },
    {
     "name": "stderr",
     "output_type": "stream",
     "text": [
      "c:\\Users\\dalto\\anaconda3\\Lib\\site-packages\\sklearn\\cluster\\_kmeans.py:1429: UserWarning: KMeans is known to have a memory leak on Windows with MKL, when there are less chunks than available threads. You can avoid it by setting the environment variable OMP_NUM_THREADS=5.\n",
      "  warnings.warn(\n"
     ]
    },
    {
     "name": "stdout",
     "output_type": "stream",
     "text": [
      "cluster 2, gamma 0, silo score 0.15136255460143674\n"
     ]
    },
    {
     "name": "stderr",
     "output_type": "stream",
     "text": [
      "c:\\Users\\dalto\\anaconda3\\Lib\\site-packages\\sklearn\\cluster\\_kmeans.py:1429: UserWarning: KMeans is known to have a memory leak on Windows with MKL, when there are less chunks than available threads. You can avoid it by setting the environment variable OMP_NUM_THREADS=5.\n",
      "  warnings.warn(\n"
     ]
    },
    {
     "name": "stdout",
     "output_type": "stream",
     "text": [
      "cluster 3, gamma 0, silo score 0.13764538794825007\n"
     ]
    },
    {
     "name": "stderr",
     "output_type": "stream",
     "text": [
      "c:\\Users\\dalto\\anaconda3\\Lib\\site-packages\\sklearn\\cluster\\_kmeans.py:1429: UserWarning: KMeans is known to have a memory leak on Windows with MKL, when there are less chunks than available threads. You can avoid it by setting the environment variable OMP_NUM_THREADS=5.\n",
      "  warnings.warn(\n"
     ]
    },
    {
     "name": "stdout",
     "output_type": "stream",
     "text": [
      "cluster 4, gamma 0, silo score 0.1329636018991764\n"
     ]
    },
    {
     "name": "stderr",
     "output_type": "stream",
     "text": [
      "c:\\Users\\dalto\\anaconda3\\Lib\\site-packages\\sklearn\\cluster\\_kmeans.py:1429: UserWarning: KMeans is known to have a memory leak on Windows with MKL, when there are less chunks than available threads. You can avoid it by setting the environment variable OMP_NUM_THREADS=5.\n",
      "  warnings.warn(\n"
     ]
    },
    {
     "name": "stdout",
     "output_type": "stream",
     "text": [
      "cluster 5, gamma 0, silo score 0.12292696426742261\n"
     ]
    }
   ],
   "source": [
    "n_clusters = [2, 3, 4, 5, 6]\n",
    "\n",
    "# training matrix to min silo score\n",
    "para_matrix_nmeans = pd.DataFrame(columns=['silo', 'gamma', 'clusters'])\n",
    "i = 0\n",
    "g = 0\n",
    "for cluster in n_clusters:\n",
    "        i += 1\n",
    "        spectral = SpectralClustering(n_clusters=cluster, \n",
    "                                      affinity='nearest_neighbors', \n",
    "                                      assign_labels='kmeans',\n",
    "                                      n_init=20,\n",
    "                                      random_state=26)\n",
    "        labels = spectral.fit_predict(X)\n",
    "        loss_kinda = np.nan\n",
    "        if (len(set(labels))) > 1:\n",
    "            loss_kinda = silhouette_score(X, labels)\n",
    "        para_matrix_nmeans.loc[len(para_matrix_nmeans)] = [loss_kinda, gamma, cluster]\n",
    "        print(f\"cluster {i}, gamma {g}, silo score {loss_kinda}\")\n",
    "        "
   ]
  },
  {
   "cell_type": "markdown",
   "id": "05a16c5b",
   "metadata": {},
   "source": [
    "Player Clusters"
   ]
  },
  {
   "cell_type": "code",
   "execution_count": 16,
   "id": "ef646e84",
   "metadata": {},
   "outputs": [
    {
     "name": "stderr",
     "output_type": "stream",
     "text": [
      "c:\\Users\\dalto\\anaconda3\\Lib\\site-packages\\sklearn\\cluster\\_kmeans.py:1429: UserWarning: KMeans is known to have a memory leak on Windows with MKL, when there are less chunks than available threads. You can avoid it by setting the environment variable OMP_NUM_THREADS=5.\n",
      "  warnings.warn(\n"
     ]
    }
   ],
   "source": [
    "model = SpectralClustering(n_clusters=2, \n",
    "                                      gamma=0.01,\n",
    "                                      affinity='nearest_neighbors', \n",
    "                                      assign_labels='kmeans',\n",
    "                                      n_init=100,\n",
    "                                      random_state=40)\n",
    "labels = model.fit_predict(X)"
   ]
  },
  {
   "cell_type": "markdown",
   "id": "5e743e5a",
   "metadata": {},
   "source": [
    "add to df_zscore"
   ]
  },
  {
   "cell_type": "code",
   "execution_count": 17,
   "id": "ea7ef0dd",
   "metadata": {},
   "outputs": [
    {
     "data": {
      "application/vnd.microsoft.datawrangler.viewer.v0+json": {
       "columns": [
        {
         "name": "index",
         "rawType": "int64",
         "type": "integer"
        },
        {
         "name": "Name",
         "rawType": "object",
         "type": "string"
        },
        {
         "name": "Age",
         "rawType": "float64",
         "type": "float"
        },
        {
         "name": "BB%",
         "rawType": "float64",
         "type": "float"
        },
        {
         "name": "K%",
         "rawType": "float64",
         "type": "float"
        },
        {
         "name": "BABIP",
         "rawType": "float64",
         "type": "float"
        },
        {
         "name": "wRC+",
         "rawType": "float64",
         "type": "float"
        },
        {
         "name": "BsR",
         "rawType": "float64",
         "type": "float"
        },
        {
         "name": "Off",
         "rawType": "float64",
         "type": "float"
        },
        {
         "name": "Def",
         "rawType": "float64",
         "type": "float"
        },
        {
         "name": "WAR",
         "rawType": "float64",
         "type": "float"
        },
        {
         "name": "Barrel%",
         "rawType": "float64",
         "type": "float"
        },
        {
         "name": "maxEV",
         "rawType": "float64",
         "type": "float"
        },
        {
         "name": "HardHit%",
         "rawType": "float64",
         "type": "float"
        },
        {
         "name": "O-Swing%",
         "rawType": "float64",
         "type": "float"
        },
        {
         "name": "Z-Swing%",
         "rawType": "float64",
         "type": "float"
        },
        {
         "name": "O-Contact%",
         "rawType": "float64",
         "type": "float"
        },
        {
         "name": "Z-Contact%",
         "rawType": "float64",
         "type": "float"
        },
        {
         "name": "Contact%",
         "rawType": "float64",
         "type": "float"
        },
        {
         "name": "SwStr%",
         "rawType": "float64",
         "type": "float"
        },
        {
         "name": "CSW%",
         "rawType": "float64",
         "type": "float"
        },
        {
         "name": "Cluster",
         "rawType": "int32",
         "type": "integer"
        }
       ],
       "conversionMethod": "pd.DataFrame",
       "ref": "7a35cd0e-2344-458f-8016-97d45e4df693",
       "rows": [
        [
         "0",
         "aaron altherr",
         "92.79182805161726",
         "105.24563801781424",
         "112.79409182949298",
         "97.29571702405073",
         "97.46726048138869",
         "99.66324390408084",
         "96.95693352143928",
         "101.29722702947639",
         "94.82139204637625",
         "100.64769757705515",
         "105.5333733459791",
         "108.52156024579729",
         "93.46201082097224",
         "95.49910282991546",
         "83.90245094109775",
         "95.25782798250624",
         "90.03713664627408",
         "105.79377634624666",
         "112.55012123354976",
         "1"
        ],
        [
         "1",
         "aaron hicks",
         "102.16432561428257",
         "113.78368819990008",
         "99.03749621922915",
         "93.15239084951769",
         "99.98062069554013",
         "103.07144343560604",
         "99.74347616166536",
         "98.88963584542626",
         "97.80160911393699",
         "97.90223552011354",
         "95.28922017566423",
         "98.0831094127721",
         "86.99779786659714",
         "95.00170763120283",
         "96.8779471319756",
         "94.13813342598101",
         "96.93199540837574",
         "97.99793747158107",
         "100.74596124477301",
         "0"
        ],
        [
         "2",
         "aaron hill",
         "112.83840357212415",
         "103.44763242675917",
         "90.6338933213569",
         "90.88906644884885",
         "91.80699204465797",
         "98.91705753381798",
         "91.7607338291559",
         "100.69060186859208",
         "92.20686651239033",
         "88.81034634006296",
         "84.14421480936751",
         "91.37614789491036",
         "88.86354868920556",
         "92.99340370667507",
         "103.46411997758204",
         "109.41541225895615",
         "109.44102991705599",
         "89.64404289624234",
         "98.44380738735595",
         "0"
        ],
        [
         "3",
         "aaron judge",
         "101.13738551666195",
         "123.03834213981635",
         "109.51598683351143",
         "111.9182987120035",
         "125.32869292164342",
         "97.86253177988479",
         "129.46803593984325",
         "99.74943160210324",
         "125.08860664734115",
         "134.45911300569264",
         "123.35464845328471",
         "124.62034489153089",
         "88.79249386927496",
         "98.44644114891403",
         "81.44410212812001",
         "90.74788648720639",
         "86.21678380389024",
         "106.48156384841998",
         "107.74322354243384",
         "1"
        ],
        [
         "4",
         "abraham almonte",
         "100.30216755516864",
         "102.94069984948598",
         "102.0821502313484",
         "94.97935585075237",
         "91.57494809475807",
         "100.81788341607566",
         "95.0277864216796",
         "98.77870196527884",
         "90.80979806748252",
         "99.07001073455464",
         "99.20138090006407",
         "102.06591562428557",
         "98.73095950221375",
         "101.29754635759863",
         "95.98330496948707",
         "99.11324362460984",
         "97.1092519577135",
         "101.98091328412977",
         "99.06257214573807",
         "1"
        ]
       ],
       "shape": {
        "columns": 21,
        "rows": 5
       }
      },
      "text/html": [
       "<div>\n",
       "<style scoped>\n",
       "    .dataframe tbody tr th:only-of-type {\n",
       "        vertical-align: middle;\n",
       "    }\n",
       "\n",
       "    .dataframe tbody tr th {\n",
       "        vertical-align: top;\n",
       "    }\n",
       "\n",
       "    .dataframe thead th {\n",
       "        text-align: right;\n",
       "    }\n",
       "</style>\n",
       "<table border=\"1\" class=\"dataframe\">\n",
       "  <thead>\n",
       "    <tr style=\"text-align: right;\">\n",
       "      <th></th>\n",
       "      <th>Name</th>\n",
       "      <th>Age</th>\n",
       "      <th>BB%</th>\n",
       "      <th>K%</th>\n",
       "      <th>BABIP</th>\n",
       "      <th>wRC+</th>\n",
       "      <th>BsR</th>\n",
       "      <th>Off</th>\n",
       "      <th>Def</th>\n",
       "      <th>WAR</th>\n",
       "      <th>...</th>\n",
       "      <th>maxEV</th>\n",
       "      <th>HardHit%</th>\n",
       "      <th>O-Swing%</th>\n",
       "      <th>Z-Swing%</th>\n",
       "      <th>O-Contact%</th>\n",
       "      <th>Z-Contact%</th>\n",
       "      <th>Contact%</th>\n",
       "      <th>SwStr%</th>\n",
       "      <th>CSW%</th>\n",
       "      <th>Cluster</th>\n",
       "    </tr>\n",
       "  </thead>\n",
       "  <tbody>\n",
       "    <tr>\n",
       "      <th>0</th>\n",
       "      <td>aaron altherr</td>\n",
       "      <td>92.791828</td>\n",
       "      <td>105.245638</td>\n",
       "      <td>112.794092</td>\n",
       "      <td>97.295717</td>\n",
       "      <td>97.467260</td>\n",
       "      <td>99.663244</td>\n",
       "      <td>96.956934</td>\n",
       "      <td>101.297227</td>\n",
       "      <td>94.821392</td>\n",
       "      <td>...</td>\n",
       "      <td>105.533373</td>\n",
       "      <td>108.521560</td>\n",
       "      <td>93.462011</td>\n",
       "      <td>95.499103</td>\n",
       "      <td>83.902451</td>\n",
       "      <td>95.257828</td>\n",
       "      <td>90.037137</td>\n",
       "      <td>105.793776</td>\n",
       "      <td>112.550121</td>\n",
       "      <td>1</td>\n",
       "    </tr>\n",
       "    <tr>\n",
       "      <th>1</th>\n",
       "      <td>aaron hicks</td>\n",
       "      <td>102.164326</td>\n",
       "      <td>113.783688</td>\n",
       "      <td>99.037496</td>\n",
       "      <td>93.152391</td>\n",
       "      <td>99.980621</td>\n",
       "      <td>103.071443</td>\n",
       "      <td>99.743476</td>\n",
       "      <td>98.889636</td>\n",
       "      <td>97.801609</td>\n",
       "      <td>...</td>\n",
       "      <td>95.289220</td>\n",
       "      <td>98.083109</td>\n",
       "      <td>86.997798</td>\n",
       "      <td>95.001708</td>\n",
       "      <td>96.877947</td>\n",
       "      <td>94.138133</td>\n",
       "      <td>96.931995</td>\n",
       "      <td>97.997937</td>\n",
       "      <td>100.745961</td>\n",
       "      <td>0</td>\n",
       "    </tr>\n",
       "    <tr>\n",
       "      <th>2</th>\n",
       "      <td>aaron hill</td>\n",
       "      <td>112.838404</td>\n",
       "      <td>103.447632</td>\n",
       "      <td>90.633893</td>\n",
       "      <td>90.889066</td>\n",
       "      <td>91.806992</td>\n",
       "      <td>98.917058</td>\n",
       "      <td>91.760734</td>\n",
       "      <td>100.690602</td>\n",
       "      <td>92.206867</td>\n",
       "      <td>...</td>\n",
       "      <td>84.144215</td>\n",
       "      <td>91.376148</td>\n",
       "      <td>88.863549</td>\n",
       "      <td>92.993404</td>\n",
       "      <td>103.464120</td>\n",
       "      <td>109.415412</td>\n",
       "      <td>109.441030</td>\n",
       "      <td>89.644043</td>\n",
       "      <td>98.443807</td>\n",
       "      <td>0</td>\n",
       "    </tr>\n",
       "    <tr>\n",
       "      <th>3</th>\n",
       "      <td>aaron judge</td>\n",
       "      <td>101.137386</td>\n",
       "      <td>123.038342</td>\n",
       "      <td>109.515987</td>\n",
       "      <td>111.918299</td>\n",
       "      <td>125.328693</td>\n",
       "      <td>97.862532</td>\n",
       "      <td>129.468036</td>\n",
       "      <td>99.749432</td>\n",
       "      <td>125.088607</td>\n",
       "      <td>...</td>\n",
       "      <td>123.354648</td>\n",
       "      <td>124.620345</td>\n",
       "      <td>88.792494</td>\n",
       "      <td>98.446441</td>\n",
       "      <td>81.444102</td>\n",
       "      <td>90.747886</td>\n",
       "      <td>86.216784</td>\n",
       "      <td>106.481564</td>\n",
       "      <td>107.743224</td>\n",
       "      <td>1</td>\n",
       "    </tr>\n",
       "    <tr>\n",
       "      <th>4</th>\n",
       "      <td>abraham almonte</td>\n",
       "      <td>100.302168</td>\n",
       "      <td>102.940700</td>\n",
       "      <td>102.082150</td>\n",
       "      <td>94.979356</td>\n",
       "      <td>91.574948</td>\n",
       "      <td>100.817883</td>\n",
       "      <td>95.027786</td>\n",
       "      <td>98.778702</td>\n",
       "      <td>90.809798</td>\n",
       "      <td>...</td>\n",
       "      <td>99.201381</td>\n",
       "      <td>102.065916</td>\n",
       "      <td>98.730960</td>\n",
       "      <td>101.297546</td>\n",
       "      <td>95.983305</td>\n",
       "      <td>99.113244</td>\n",
       "      <td>97.109252</td>\n",
       "      <td>101.980913</td>\n",
       "      <td>99.062572</td>\n",
       "      <td>1</td>\n",
       "    </tr>\n",
       "  </tbody>\n",
       "</table>\n",
       "<p>5 rows × 21 columns</p>\n",
       "</div>"
      ],
      "text/plain": [
       "              Name         Age         BB%          K%       BABIP  \\\n",
       "0    aaron altherr   92.791828  105.245638  112.794092   97.295717   \n",
       "1      aaron hicks  102.164326  113.783688   99.037496   93.152391   \n",
       "2       aaron hill  112.838404  103.447632   90.633893   90.889066   \n",
       "3      aaron judge  101.137386  123.038342  109.515987  111.918299   \n",
       "4  abraham almonte  100.302168  102.940700  102.082150   94.979356   \n",
       "\n",
       "         wRC+         BsR         Off         Def         WAR  ...  \\\n",
       "0   97.467260   99.663244   96.956934  101.297227   94.821392  ...   \n",
       "1   99.980621  103.071443   99.743476   98.889636   97.801609  ...   \n",
       "2   91.806992   98.917058   91.760734  100.690602   92.206867  ...   \n",
       "3  125.328693   97.862532  129.468036   99.749432  125.088607  ...   \n",
       "4   91.574948  100.817883   95.027786   98.778702   90.809798  ...   \n",
       "\n",
       "        maxEV    HardHit%   O-Swing%    Z-Swing%  O-Contact%  Z-Contact%  \\\n",
       "0  105.533373  108.521560  93.462011   95.499103   83.902451   95.257828   \n",
       "1   95.289220   98.083109  86.997798   95.001708   96.877947   94.138133   \n",
       "2   84.144215   91.376148  88.863549   92.993404  103.464120  109.415412   \n",
       "3  123.354648  124.620345  88.792494   98.446441   81.444102   90.747886   \n",
       "4   99.201381  102.065916  98.730960  101.297546   95.983305   99.113244   \n",
       "\n",
       "     Contact%      SwStr%        CSW%  Cluster  \n",
       "0   90.037137  105.793776  112.550121        1  \n",
       "1   96.931995   97.997937  100.745961        0  \n",
       "2  109.441030   89.644043   98.443807        0  \n",
       "3   86.216784  106.481564  107.743224        1  \n",
       "4   97.109252  101.980913   99.062572        1  \n",
       "\n",
       "[5 rows x 21 columns]"
      ]
     },
     "execution_count": 17,
     "metadata": {},
     "output_type": "execute_result"
    }
   ],
   "source": [
    "df_zscore_mean['Cluster'] = labels\n",
    "df_zscore_mean.head()"
   ]
  },
  {
   "cell_type": "markdown",
   "id": "71911ef5",
   "metadata": {},
   "source": [
    "cluster count"
   ]
  },
  {
   "cell_type": "code",
   "execution_count": 31,
   "id": "64c94493",
   "metadata": {},
   "outputs": [
    {
     "data": {
      "image/png": "[encoded data removed]",
      "text/plain": [
       "<Figure size 640x480 with 1 Axes>"
      ]
     },
     "metadata": {},
     "output_type": "display_data"
    }
   ],
   "source": [
    "# Count the number of players in each cluster\n",
    "cluster_counts = df_zscore_mean['Cluster'].value_counts()\n",
    "\n",
    "# Plot the counts as a bar chart\n",
    "plt.bar(cluster_counts.index, cluster_counts.values)\n",
    "plt.xlabel('Cluster')\n",
    "plt.ylabel('Count')\n",
    "plt.title('Count of Players in Each Cluster')\n",
    "plt.show()"
   ]
  },
  {
   "cell_type": "markdown",
   "id": "5092ca7e",
   "metadata": {},
   "source": [
    "mapping clusters to players"
   ]
  },
  {
   "cell_type": "code",
   "execution_count": 32,
   "id": "b0f51db3",
   "metadata": {},
   "outputs": [],
   "source": [
    "# Create a dictionary mapping player names to their clusters\n",
    "name_to_cluster = df_zscore_mean.set_index('Name')['Cluster'].to_dict()\n",
    "\n",
    "# Map the clusters to the df_zscore DataFrame\n",
    "df_zscore['Cluster'] = df_zscore['Name'].map(name_to_cluster)"
   ]
  },
  {
   "cell_type": "markdown",
   "id": "a5ea7218",
   "metadata": {},
   "source": [
    "df with age for groupby"
   ]
  },
  {
   "cell_type": "code",
   "execution_count": 46,
   "id": "247c995f",
   "metadata": {},
   "outputs": [],
   "source": [
    "df_zscore_age = df_zscore.copy()\n",
    "df_zscore_age['Age'] = df['Age']"
   ]
  },
  {
   "cell_type": "markdown",
   "id": "7ed9f3ea",
   "metadata": {},
   "source": [
    "individual precent change\n",
    "<br>\n",
    "<small > look at the precent change for each player comapared to there own previous season"
   ]
  },
  {
   "cell_type": "code",
   "execution_count": 47,
   "id": "431a168b",
   "metadata": {},
   "outputs": [],
   "source": [
    "wrc_change_df = df_zscore_age.copy()\n",
    "wrc_change_df['wRC+ Change'] = df_zscore_age.groupby('Name')['wRC+'].pct_change() * 100"
   ]
  },
  {
   "cell_type": "markdown",
   "id": "a893b34a",
   "metadata": {},
   "source": [
    "mean by cluster, age"
   ]
  },
  {
   "cell_type": "code",
   "execution_count": 52,
   "id": "363e09b1",
   "metadata": {},
   "outputs": [],
   "source": [
    "# Initialize an empty DataFrame to store cluster means by age\n",
    "cluster_means_age = pd.DataFrame()\n",
    "\n",
    "# Loop through each group of Age and Cluster\n",
    "for (age, cluster), group in df_zscore_age.groupby(['Age', 'Cluster']):\n",
    "    weighted_means = {}\n",
    "    for col in group.select_dtypes(include=[np.number]).columns:\n",
    "        if col != 'PA':\n",
    "                weighted_means[col] = np.average(group[col], weights=group['PA'])\n",
    "    weighted_means['Age'] = age\n",
    "    weighted_means['Cluster'] = cluster\n",
    "    cluster_means_age = pd.concat([cluster_means_age, pd.DataFrame([weighted_means])], ignore_index=True)\n",
    "\n",
    "cluster_means_age = cluster_means_age.sort_values(by=['Age', 'Cluster']).reset_index(drop=True)"
   ]
  },
  {
   "cell_type": "markdown",
   "id": "de218d60",
   "metadata": {},
   "source": [
    "mean of change player for player in cluster"
   ]
  },
  {
   "cell_type": "code",
   "execution_count": 61,
   "id": "8c4bafb9",
   "metadata": {},
   "outputs": [
    {
     "name": "stderr",
     "output_type": "stream",
     "text": [
      "C:\\Users\\dalto\\AppData\\Local\\Temp\\ipykernel_26712\\1392026394.py:3: DeprecationWarning: DataFrameGroupBy.apply operated on the grouping columns. This behavior is deprecated, and in a future version of pandas the grouping columns will be excluded from the operation. Either pass `include_groups=False` to exclude the groupings or explicitly select the grouping columns after groupby to silence this warning.\n",
      "  wrc_change_indiv  = cluster_z.groupby(['Age', 'Cluster']).apply(\n"
     ]
    }
   ],
   "source": [
    "wrc_change_indiv = pd.DataFrame()\n",
    "cluster_z = wrc_change_df.dropna()\n",
    "wrc_change_indiv  = cluster_z.groupby(['Age', 'Cluster']).apply(\n",
    "\tlambda group: np.average(group['wRC+ Change'], weights=group['PA'])\n",
    ")\n",
    "wrc_change_indiv  = wrc_change_indiv.reset_index()\n",
    "wrc_change_indiv = wrc_change_indiv.rename(columns={'level_0': 'Age', 'level_1': 'Cluster'})\n",
    "wrc_change_indiv  = wrc_change_indiv.sort_values(['Cluster', 'Age'])\n",
    "\n",
    "wrc_change_indiv['y/y wrc+'] = cluster_means_age.groupby('Cluster')['wRC+'].pct_change() * 100"
   ]
  },
  {
   "cell_type": "markdown",
   "id": "7b98cb38",
   "metadata": {},
   "source": [
    "mean by age"
   ]
  },
  {
   "cell_type": "code",
   "execution_count": null,
   "id": "7b15d5ed",
   "metadata": {},
   "outputs": [],
   "source": [
    "def mean_age_player(group):\n",
    "        avg = np.average(group, weights=group.index.map(lambda x: df_zscore_age.loc[x, 'PA']))\n",
    "        return avg"
   ]
  },
  {
   "cell_type": "markdown",
   "id": "9500d234",
   "metadata": {},
   "source": [
    "age averages"
   ]
  },
  {
   "cell_type": "code",
   "execution_count": null,
   "id": "a1a36f9e",
   "metadata": {},
   "outputs": [],
   "source": [
    "age_values = pd.DataFrame()\n",
    "for col in df_zscore_age.select_dtypes(include=[np.number]).columns:\n",
    "    if col != 'Season' and col != 'MLBAMID':  \n",
    "        age_mean = df_zscore_age.groupby('Age')[col].apply(mean_age_player)\n",
    "        age_values[col] = age_mean\n",
    "age_values = age_values.reset_index(drop=True)\n",
    "age_values['Age'] = round(age_values['Age'])"
   ]
  },
  {
   "cell_type": "markdown",
   "id": "2cec727c",
   "metadata": {},
   "source": [
    "wrc+, by cluster, by age\n",
    "<br>\n",
    "<small> thanks gemeni for smoothing"
   ]
  },
  {
   "cell_type": "code",
   "execution_count": 25,
   "id": "35378416",
   "metadata": {},
   "outputs": [
    {
     "data": {
      "image/png": "[encoded data removed]",
      "text/plain": [
       "<Figure size 1200x600 with 1 Axes>"
      ]
     },
     "metadata": {},
     "output_type": "display_data"
    }
   ],
   "source": [
    "from scipy.interpolate import make_interp_spline\n",
    "import numpy as np\n",
    "\n",
    "# global averages\n",
    "global_means = age_values[['Age','wRC+']]\n",
    "\n",
    "# Plot wRC+ by age for each cluster\n",
    "plt.figure(figsize=(12, 6))\n",
    "for cluster in df_zscore_age['Cluster'].unique():\n",
    "    cluster_data = cluster_means_age.loc[cluster_means_age['Cluster'] == cluster].set_index('Age')['wRC+']\n",
    "    ages = cluster_data.index.get_level_values('Age')\n",
    "    values = cluster_data.values\n",
    "    # Smooth the trend line\n",
    "    if len(ages) > 3:  # Ensure enough points for smoothing\n",
    "        spline = make_interp_spline(ages, values, k=3)\n",
    "        smooth_ages = np.linspace(ages.min(), ages.max(), 200)\n",
    "        smooth_values = spline(smooth_ages)\n",
    "        plt.plot(smooth_ages, smooth_values, label=f'Cluster {cluster}')\n",
    "    else:\n",
    "        plt.plot(ages, values, label=f'Cluster {cluster}')\n",
    "\n",
    "# Smooth the global average trend line\n",
    "ages = global_means['Age']\n",
    "values = global_means['wRC+']\n",
    "spline = make_interp_spline(ages, values, k=3)\n",
    "smooth_ages = np.linspace(ages.min(), ages.max(), 200)\n",
    "smooth_values = spline(smooth_ages)\n",
    "plt.plot(smooth_ages, smooth_values, label='Avg Trend', linestyle='--', color='black')\n",
    "\n",
    "plt.xlabel('Age')\n",
    "plt.xlim(23, 37)\n",
    "plt.ylim(90, 105)\n",
    "plt.ylabel('wRC+')\n",
    "plt.title('wRC+ by Age and Cluster')\n",
    "plt.legend()\n",
    "plt.grid(True)\n",
    "plt.show()"
   ]
  },
  {
   "cell_type": "markdown",
   "id": "50b7ae36",
   "metadata": {},
   "source": [
    "diffrence in change y/y"
   ]
  },
  {
   "cell_type": "code",
   "execution_count": null,
   "id": "1374082b",
   "metadata": {},
   "outputs": [
    {
     "name": "stderr",
     "output_type": "stream",
     "text": [
      "C:\\Users\\dalto\\AppData\\Local\\Temp\\ipykernel_26712\\4021826687.py:3: SettingWithCopyWarning: \n",
      "A value is trying to be set on a copy of a slice from a DataFrame.\n",
      "Try using .loc[row_indexer,col_indexer] = value instead\n",
      "\n",
      "See the caveats in the documentation: https://pandas.pydata.org/pandas-docs/stable/user_guide/indexing.html#returning-a-view-versus-a-copy\n",
      "  global_means['y/y global'] = global_means['wRC+'].pct_change() * 100\n"
     ]
    },
    {
     "data": {
      "application/vnd.microsoft.datawrangler.viewer.v0+json": {
       "columns": [
        {
         "name": "index",
         "rawType": "int64",
         "type": "integer"
        },
        {
         "name": "Age",
         "rawType": "float64",
         "type": "float"
        },
        {
         "name": "Cluster",
         "rawType": "int64",
         "type": "integer"
        },
        {
         "name": "y/y wrc+",
         "rawType": "float64",
         "type": "float"
        },
        {
         "name": "y/y global",
         "rawType": "float64",
         "type": "float"
        },
        {
         "name": "diff",
         "rawType": "float64",
         "type": "float"
        }
       ],
       "conversionMethod": "pd.DataFrame",
       "ref": "7925b4c9-43e0-408a-af48-e781ac27edd2",
       "rows": [
        [
         "1",
         "20.0",
         "0",
         null,
         "-11.29115585269963",
         null
        ],
        [
         "3",
         "21.0",
         "0",
         "-6.27805255926649",
         "-3.7832304332884537",
         "2.494822125978036"
        ],
        [
         "5",
         "22.0",
         "0",
         "-1.1964012792171075",
         "-0.5113276430426028",
         "0.6850736361745047"
        ],
        [
         "7",
         "23.0",
         "0",
         "-1.5895028536625722",
         "-1.3241422215228504",
         "0.2653606321397217"
        ],
        [
         "9",
         "24.0",
         "0",
         "1.8700461427489268",
         "0.17549277904558291",
         "-1.6945533637033439"
        ]
       ],
       "shape": {
        "columns": 5,
        "rows": 5
       }
      },
      "text/html": [
       "<div>\n",
       "<style scoped>\n",
       "    .dataframe tbody tr th:only-of-type {\n",
       "        vertical-align: middle;\n",
       "    }\n",
       "\n",
       "    .dataframe tbody tr th {\n",
       "        vertical-align: top;\n",
       "    }\n",
       "\n",
       "    .dataframe thead th {\n",
       "        text-align: right;\n",
       "    }\n",
       "</style>\n",
       "<table border=\"1\" class=\"dataframe\">\n",
       "  <thead>\n",
       "    <tr style=\"text-align: right;\">\n",
       "      <th></th>\n",
       "      <th>Age</th>\n",
       "      <th>Cluster</th>\n",
       "      <th>y/y wrc+</th>\n",
       "      <th>y/y global</th>\n",
       "      <th>diff</th>\n",
       "    </tr>\n",
       "  </thead>\n",
       "  <tbody>\n",
       "    <tr>\n",
       "      <th>1</th>\n",
       "      <td>20.0</td>\n",
       "      <td>0</td>\n",
       "      <td>NaN</td>\n",
       "      <td>-11.291156</td>\n",
       "      <td>NaN</td>\n",
       "    </tr>\n",
       "    <tr>\n",
       "      <th>3</th>\n",
       "      <td>21.0</td>\n",
       "      <td>0</td>\n",
       "      <td>-6.278053</td>\n",
       "      <td>-3.783230</td>\n",
       "      <td>2.494822</td>\n",
       "    </tr>\n",
       "    <tr>\n",
       "      <th>5</th>\n",
       "      <td>22.0</td>\n",
       "      <td>0</td>\n",
       "      <td>-1.196401</td>\n",
       "      <td>-0.511328</td>\n",
       "      <td>0.685074</td>\n",
       "    </tr>\n",
       "    <tr>\n",
       "      <th>7</th>\n",
       "      <td>23.0</td>\n",
       "      <td>0</td>\n",
       "      <td>-1.589503</td>\n",
       "      <td>-1.324142</td>\n",
       "      <td>0.265361</td>\n",
       "    </tr>\n",
       "    <tr>\n",
       "      <th>9</th>\n",
       "      <td>24.0</td>\n",
       "      <td>0</td>\n",
       "      <td>1.870046</td>\n",
       "      <td>0.175493</td>\n",
       "      <td>-1.694553</td>\n",
       "    </tr>\n",
       "  </tbody>\n",
       "</table>\n",
       "</div>"
      ],
      "text/plain": [
       "    Age  Cluster  y/y wrc+  y/y global      diff\n",
       "1  20.0        0       NaN  -11.291156       NaN\n",
       "3  21.0        0 -6.278053   -3.783230  2.494822\n",
       "5  22.0        0 -1.196401   -0.511328  0.685074\n",
       "7  23.0        0 -1.589503   -1.324142  0.265361\n",
       "9  24.0        0  1.870046    0.175493 -1.694553"
      ]
     },
     "execution_count": 24,
     "metadata": {},
     "output_type": "execute_result"
    }
   ],
   "source": [
    "\n",
    "\n",
    "# global mean and cluster wrc+\n",
    "cluster_wrc = cluster_means_age[['Age', 'Cluster', 'y/y wrc+']]\n",
    "cluster_wrc = cluster_wrc.merge(global_means, on='Age', how='outer')\n",
    "cluster_wrc = cluster_wrc.drop(columns=['wRC+'])\n",
    "\n",
    "\n",
    "# sort\n",
    "cluster_wrc = cluster_wrc.sort_values(['Cluster', 'Age'])\n",
    "cluster_wrc['diff'] = cluster_wrc['y/y global'] - cluster_wrc['y/y wrc+']\n",
    "cluster_wrc.head()\n"
   ]
  }
 ],
 "metadata": {
  "kernelspec": {
   "display_name": "base",
   "language": "python",
   "name": "python3"
  },
  "language_info": {
   "codemirror_mode": {
    "name": "ipython",
    "version": 3
   },
   "file_extension": ".py",
   "mimetype": "text/x-python",
   "name": "python",
   "nbconvert_exporter": "python",
   "pygments_lexer": "ipython3",
   "version": "3.12.7"
  }
 },
 "nbformat": 4,
 "nbformat_minor": 5
}
