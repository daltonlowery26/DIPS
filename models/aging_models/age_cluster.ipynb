{
 "cells": [
  {
   "cell_type": "markdown",
   "id": "ed0b1b38",
   "metadata": {},
   "source": [
    "### Clustering Similar Players"
   ]
  },
  {
   "cell_type": "code",
   "execution_count": 1,
   "id": "b53b68b0",
   "metadata": {},
   "outputs": [],
   "source": [
    "# packages and file import\n",
    "import pandas as pd\n",
    "import numpy as np\n",
    "import os\n",
    "import matplotlib.pyplot as plt\n",
    "\n",
    "# wd\n",
    "os.chdir('C:/Users/dalto/OneDrive/Pictures/Documents/Projects/MLB Season Model/')"
   ]
  },
  {
   "cell_type": "code",
   "execution_count": 2,
   "id": "d778dafb",
   "metadata": {},
   "outputs": [],
   "source": [
    "data_02_24 = pd.read_csv('./data/cleaned/data_02_24.csv')\n",
    "data_15_24 = pd.read_csv('./data/cleaned/data_15_24.csv')"
   ]
  },
  {
   "cell_type": "markdown",
   "id": "471d2001",
   "metadata": {},
   "source": [
    "fix cols"
   ]
  },
  {
   "cell_type": "code",
   "execution_count": 3,
   "id": "a5264185",
   "metadata": {},
   "outputs": [],
   "source": [
    "data_02_24 = data_02_24.drop(columns=['Unnamed: 0', 'Team'])\n",
    "df = data_02_24.copy()\n",
    "df = df[df['PA'] > 200]"
   ]
  },
  {
   "cell_type": "markdown",
   "id": "cb2338b4",
   "metadata": {},
   "source": [
    "#### Normalization\n",
    "<small> all code standard across ipynb when normalization is required (I should probably refactor into .py lol)"
   ]
  },
  {
   "cell_type": "code",
   "execution_count": 4,
   "id": "7d9c1573",
   "metadata": {},
   "outputs": [],
   "source": [
    "def mean_year(group):\n",
    "        avg = np.average(group, weights=group.index.map(lambda x: df.loc[x, 'PA']))\n",
    "        return avg"
   ]
  },
  {
   "cell_type": "code",
   "execution_count": 5,
   "id": "6b8c10d2",
   "metadata": {},
   "outputs": [],
   "source": [
    "def calculate_weighted_std(group):\n",
    "    avg = np.average(group, weights=group.index.map(lambda x: df.loc[x, 'PA']))\n",
    "    variance = np.average((group - avg)**2, weights=group.index.map(lambda x: df.loc[x, 'PA']))\n",
    "    return np.sqrt(variance)"
   ]
  },
  {
   "cell_type": "code",
   "execution_count": 6,
   "id": "f10cf20f",
   "metadata": {},
   "outputs": [],
   "source": [
    "def z_scores(player_df, mean_df, std_df):\n",
    "    # z scores for each stat and player, also creating a new df flow, add back names based on MLBAMID later\n",
    "    z_scores = pd.DataFrame(index=player_df.index, columns=player_df.select_dtypes(include=[np.number]).columns)\n",
    "\n",
    "    # scaled for each col\n",
    "    for col in player_df.select_dtypes(include=[np.number]).columns:\n",
    "        if col not in ['Season', 'MLBAMID']:  # not needed\n",
    "            for idx in player_df.index:\n",
    "                season = player_df.loc[idx, 'Season']\n",
    "                value = player_df.loc[idx, col]\n",
    "                mean = mean_df.loc[mean_df['Season'] == season, col].iloc[0]\n",
    "                std = std_df.loc[std_df['Season'] == season, col].iloc[0]\n",
    "                # scale so that 10 is 1 std away\n",
    "                z_scores.loc[idx, col] = 100 + ((value - mean) / std * 10)\n",
    "\n",
    "    z_scores['Season'] = player_df['Season']\n",
    "    \n",
    "    # cols to numeric\n",
    "    for col in z_scores.columns:\n",
    "        if col not in ['Season', 'MLBAMID']:\n",
    "            z_scores[col] = pd.to_numeric(z_scores[col])\n",
    "    \n",
    "    # reinsert player names\n",
    "    z_scores.insert(0, 'Name', player_df['Name']) \n",
    "\n",
    "    return z_scores"
   ]
  },
  {
   "cell_type": "code",
   "execution_count": 7,
   "id": "71393c6e",
   "metadata": {},
   "outputs": [
    {
     "data": {
      "application/vnd.microsoft.datawrangler.viewer.v0+json": {
       "columns": [
        {
         "name": "index",
         "rawType": "int64",
         "type": "integer"
        },
        {
         "name": "Season",
         "rawType": "int64",
         "type": "integer"
        },
        {
         "name": "PA",
         "rawType": "float64",
         "type": "float"
        },
        {
         "name": "Age",
         "rawType": "float64",
         "type": "float"
        },
        {
         "name": "BB%",
         "rawType": "float64",
         "type": "float"
        },
        {
         "name": "K%",
         "rawType": "float64",
         "type": "float"
        },
        {
         "name": "BABIP",
         "rawType": "float64",
         "type": "float"
        },
        {
         "name": "wRC+",
         "rawType": "float64",
         "type": "float"
        },
        {
         "name": "BsR",
         "rawType": "float64",
         "type": "float"
        },
        {
         "name": "Off",
         "rawType": "float64",
         "type": "float"
        },
        {
         "name": "Def",
         "rawType": "float64",
         "type": "float"
        },
        {
         "name": "WAR",
         "rawType": "float64",
         "type": "float"
        },
        {
         "name": "O-Swing%",
         "rawType": "float64",
         "type": "float"
        },
        {
         "name": "Z-Swing%",
         "rawType": "float64",
         "type": "float"
        },
        {
         "name": "O-Contact%",
         "rawType": "float64",
         "type": "float"
        },
        {
         "name": "Z-Contact%",
         "rawType": "float64",
         "type": "float"
        },
        {
         "name": "Contact%",
         "rawType": "float64",
         "type": "float"
        },
        {
         "name": "SwStr%",
         "rawType": "float64",
         "type": "float"
        },
        {
         "name": "CSW%",
         "rawType": "float64",
         "type": "float"
        }
       ],
       "conversionMethod": "pd.DataFrame",
       "ref": "b1abe040-4580-4348-b322-2b9ef35e682e",
       "rows": [
        [
         "8",
         "2002",
         "517.6526038480266",
         "29.260241219582234",
         "0.09048855658778544",
         "0.15928358234223342",
         "0.2979443227403519",
         "103.70614932869552",
         "0.25063556257649633",
         "4.9541999151821",
         "-0.8669759442061218",
         "2.128259839595242",
         "0.1805314612238273",
         "0.7042055010735021",
         "0.5111902818796898",
         "0.8620461285884534",
         "0.7998897745623212",
         "0.09286894352652542",
         "0.2544553690902451"
        ],
        [
         "20",
         "2003",
         "519.1271842732327",
         "29.25499528395552",
         "0.08797905031423749",
         "0.15364996972138725",
         "0.2993673930053241",
         "104.0403573131399",
         "0.15450465997988783",
         "5.098692099947366",
         "-0.6470771648667853",
         "2.157391680785494",
         "0.21956451490530676",
         "0.6910822766296416",
         "0.5326867004973566",
         "0.8856312875009307",
         "0.8042620519833449",
         "0.09085841128884531",
         "0.25854430854832705"
        ],
        [
         "19",
         "2004",
         "526.277053873839",
         "29.419076965300434",
         "0.08967745507778865",
         "0.15762947574448444",
         "0.30256664580261233",
         "104.55452516562725",
         "0.3172165557462055",
         "5.543365352455023",
         "-0.5887372372018487",
         "2.220211149419782",
         "0.20109495563875773",
         "0.6931966887335249",
         "0.6298877189039976",
         "0.8593427918823097",
         "0.8111999939495007",
         "0.08625105622970453",
         "0.25318341391244953"
        ],
        [
         "1",
         "2005",
         "518.0831994220014",
         "29.27979371426436",
         "0.08447625049512937",
         "0.15641466371977653",
         "0.30053547180264584",
         "103.6852539773477",
         "0.35345091359830777",
         "4.590520967939106",
         "-0.9288876946983938",
         "2.090379083785193",
         "0.21337754757807342",
         "0.681759984858303",
         "0.5549766777524696",
         "0.8878954831707712",
         "0.8161171586123049",
         "0.08468646076939847",
         "0.25359774754437764"
        ],
        [
         "14",
         "2006",
         "524.8140975039622",
         "29.257283424815963",
         "0.08745005122630171",
         "0.15902679568668882",
         "0.3057717834652947",
         "103.5924302204868",
         "0.21170740680955208",
         "4.491168186433502",
         "-0.8340504902841529",
         "2.0783003290583553",
         "0.23052457525189848",
         "0.671632327338498",
         "0.5889560483264492",
         "0.8914638053314488",
         "0.8190530422957552",
         "0.08292314883281626",
         "0.2496617007904222"
        ]
       ],
       "shape": {
        "columns": 18,
        "rows": 5
       }
      },
      "text/html": [
       "<div>\n",
       "<style scoped>\n",
       "    .dataframe tbody tr th:only-of-type {\n",
       "        vertical-align: middle;\n",
       "    }\n",
       "\n",
       "    .dataframe tbody tr th {\n",
       "        vertical-align: top;\n",
       "    }\n",
       "\n",
       "    .dataframe thead th {\n",
       "        text-align: right;\n",
       "    }\n",
       "</style>\n",
       "<table border=\"1\" class=\"dataframe\">\n",
       "  <thead>\n",
       "    <tr style=\"text-align: right;\">\n",
       "      <th></th>\n",
       "      <th>Season</th>\n",
       "      <th>PA</th>\n",
       "      <th>Age</th>\n",
       "      <th>BB%</th>\n",
       "      <th>K%</th>\n",
       "      <th>BABIP</th>\n",
       "      <th>wRC+</th>\n",
       "      <th>BsR</th>\n",
       "      <th>Off</th>\n",
       "      <th>Def</th>\n",
       "      <th>WAR</th>\n",
       "      <th>O-Swing%</th>\n",
       "      <th>Z-Swing%</th>\n",
       "      <th>O-Contact%</th>\n",
       "      <th>Z-Contact%</th>\n",
       "      <th>Contact%</th>\n",
       "      <th>SwStr%</th>\n",
       "      <th>CSW%</th>\n",
       "    </tr>\n",
       "  </thead>\n",
       "  <tbody>\n",
       "    <tr>\n",
       "      <th>8</th>\n",
       "      <td>2002</td>\n",
       "      <td>517.652604</td>\n",
       "      <td>29.260241</td>\n",
       "      <td>0.090489</td>\n",
       "      <td>0.159284</td>\n",
       "      <td>0.297944</td>\n",
       "      <td>103.706149</td>\n",
       "      <td>0.250636</td>\n",
       "      <td>4.954200</td>\n",
       "      <td>-0.866976</td>\n",
       "      <td>2.128260</td>\n",
       "      <td>0.180531</td>\n",
       "      <td>0.704206</td>\n",
       "      <td>0.511190</td>\n",
       "      <td>0.862046</td>\n",
       "      <td>0.799890</td>\n",
       "      <td>0.092869</td>\n",
       "      <td>0.254455</td>\n",
       "    </tr>\n",
       "    <tr>\n",
       "      <th>20</th>\n",
       "      <td>2003</td>\n",
       "      <td>519.127184</td>\n",
       "      <td>29.254995</td>\n",
       "      <td>0.087979</td>\n",
       "      <td>0.153650</td>\n",
       "      <td>0.299367</td>\n",
       "      <td>104.040357</td>\n",
       "      <td>0.154505</td>\n",
       "      <td>5.098692</td>\n",
       "      <td>-0.647077</td>\n",
       "      <td>2.157392</td>\n",
       "      <td>0.219565</td>\n",
       "      <td>0.691082</td>\n",
       "      <td>0.532687</td>\n",
       "      <td>0.885631</td>\n",
       "      <td>0.804262</td>\n",
       "      <td>0.090858</td>\n",
       "      <td>0.258544</td>\n",
       "    </tr>\n",
       "    <tr>\n",
       "      <th>19</th>\n",
       "      <td>2004</td>\n",
       "      <td>526.277054</td>\n",
       "      <td>29.419077</td>\n",
       "      <td>0.089677</td>\n",
       "      <td>0.157629</td>\n",
       "      <td>0.302567</td>\n",
       "      <td>104.554525</td>\n",
       "      <td>0.317217</td>\n",
       "      <td>5.543365</td>\n",
       "      <td>-0.588737</td>\n",
       "      <td>2.220211</td>\n",
       "      <td>0.201095</td>\n",
       "      <td>0.693197</td>\n",
       "      <td>0.629888</td>\n",
       "      <td>0.859343</td>\n",
       "      <td>0.811200</td>\n",
       "      <td>0.086251</td>\n",
       "      <td>0.253183</td>\n",
       "    </tr>\n",
       "    <tr>\n",
       "      <th>1</th>\n",
       "      <td>2005</td>\n",
       "      <td>518.083199</td>\n",
       "      <td>29.279794</td>\n",
       "      <td>0.084476</td>\n",
       "      <td>0.156415</td>\n",
       "      <td>0.300535</td>\n",
       "      <td>103.685254</td>\n",
       "      <td>0.353451</td>\n",
       "      <td>4.590521</td>\n",
       "      <td>-0.928888</td>\n",
       "      <td>2.090379</td>\n",
       "      <td>0.213378</td>\n",
       "      <td>0.681760</td>\n",
       "      <td>0.554977</td>\n",
       "      <td>0.887895</td>\n",
       "      <td>0.816117</td>\n",
       "      <td>0.084686</td>\n",
       "      <td>0.253598</td>\n",
       "    </tr>\n",
       "    <tr>\n",
       "      <th>14</th>\n",
       "      <td>2006</td>\n",
       "      <td>524.814098</td>\n",
       "      <td>29.257283</td>\n",
       "      <td>0.087450</td>\n",
       "      <td>0.159027</td>\n",
       "      <td>0.305772</td>\n",
       "      <td>103.592430</td>\n",
       "      <td>0.211707</td>\n",
       "      <td>4.491168</td>\n",
       "      <td>-0.834050</td>\n",
       "      <td>2.078300</td>\n",
       "      <td>0.230525</td>\n",
       "      <td>0.671632</td>\n",
       "      <td>0.588956</td>\n",
       "      <td>0.891464</td>\n",
       "      <td>0.819053</td>\n",
       "      <td>0.082923</td>\n",
       "      <td>0.249662</td>\n",
       "    </tr>\n",
       "  </tbody>\n",
       "</table>\n",
       "</div>"
      ],
      "text/plain": [
       "    Season          PA        Age       BB%        K%     BABIP        wRC+  \\\n",
       "8     2002  517.652604  29.260241  0.090489  0.159284  0.297944  103.706149   \n",
       "20    2003  519.127184  29.254995  0.087979  0.153650  0.299367  104.040357   \n",
       "19    2004  526.277054  29.419077  0.089677  0.157629  0.302567  104.554525   \n",
       "1     2005  518.083199  29.279794  0.084476  0.156415  0.300535  103.685254   \n",
       "14    2006  524.814098  29.257283  0.087450  0.159027  0.305772  103.592430   \n",
       "\n",
       "         BsR       Off       Def       WAR  O-Swing%  Z-Swing%  O-Contact%  \\\n",
       "8   0.250636  4.954200 -0.866976  2.128260  0.180531  0.704206    0.511190   \n",
       "20  0.154505  5.098692 -0.647077  2.157392  0.219565  0.691082    0.532687   \n",
       "19  0.317217  5.543365 -0.588737  2.220211  0.201095  0.693197    0.629888   \n",
       "1   0.353451  4.590521 -0.928888  2.090379  0.213378  0.681760    0.554977   \n",
       "14  0.211707  4.491168 -0.834050  2.078300  0.230525  0.671632    0.588956   \n",
       "\n",
       "    Z-Contact%  Contact%    SwStr%      CSW%  \n",
       "8     0.862046  0.799890  0.092869  0.254455  \n",
       "20    0.885631  0.804262  0.090858  0.258544  \n",
       "19    0.859343  0.811200  0.086251  0.253183  \n",
       "1     0.887895  0.816117  0.084686  0.253598  \n",
       "14    0.891464  0.819053  0.082923  0.249662  "
      ]
     },
     "execution_count": 7,
     "metadata": {},
     "output_type": "execute_result"
    }
   ],
   "source": [
    "# df to store mean results\n",
    "mean_values = pd.DataFrame(index=df['Season'].unique())\n",
    "\n",
    "for col in df.select_dtypes(include=[np.number]).columns:\n",
    "    if col != 'Season' and col != 'MLBAMID':  # skip meaningless numeric\n",
    "        yearly_mean = df.groupby('Season')[col].apply(mean_year)\n",
    "        mean_values[col] = yearly_mean\n",
    "\n",
    "# reset and rename index\n",
    "mean_values = mean_values.reset_index()\n",
    "mean_values = mean_values.rename(columns={'index': 'Season'})\n",
    "\n",
    "# sort and display\n",
    "mean_values = mean_values.sort_values(by=['Season'])\n",
    "mean_values.head()"
   ]
  },
  {
   "cell_type": "code",
   "execution_count": 8,
   "id": "8f2d04db",
   "metadata": {},
   "outputs": [
    {
     "data": {
      "application/vnd.microsoft.datawrangler.viewer.v0+json": {
       "columns": [
        {
         "name": "index",
         "rawType": "int64",
         "type": "integer"
        },
        {
         "name": "Season",
         "rawType": "int64",
         "type": "integer"
        },
        {
         "name": "PA",
         "rawType": "float64",
         "type": "float"
        },
        {
         "name": "Age",
         "rawType": "float64",
         "type": "float"
        },
        {
         "name": "BB%",
         "rawType": "float64",
         "type": "float"
        },
        {
         "name": "K%",
         "rawType": "float64",
         "type": "float"
        },
        {
         "name": "BABIP",
         "rawType": "float64",
         "type": "float"
        },
        {
         "name": "wRC+",
         "rawType": "float64",
         "type": "float"
        },
        {
         "name": "BsR",
         "rawType": "float64",
         "type": "float"
        },
        {
         "name": "Off",
         "rawType": "float64",
         "type": "float"
        },
        {
         "name": "Def",
         "rawType": "float64",
         "type": "float"
        },
        {
         "name": "WAR",
         "rawType": "float64",
         "type": "float"
        },
        {
         "name": "O-Swing%",
         "rawType": "float64",
         "type": "float"
        },
        {
         "name": "Z-Swing%",
         "rawType": "float64",
         "type": "float"
        },
        {
         "name": "O-Contact%",
         "rawType": "float64",
         "type": "float"
        },
        {
         "name": "Z-Contact%",
         "rawType": "float64",
         "type": "float"
        },
        {
         "name": "Contact%",
         "rawType": "float64",
         "type": "float"
        },
        {
         "name": "SwStr%",
         "rawType": "float64",
         "type": "float"
        },
        {
         "name": "CSW%",
         "rawType": "float64",
         "type": "float"
        }
       ],
       "conversionMethod": "pd.DataFrame",
       "ref": "c0d3b8ea-5a58-4d13-9c3a-2e1142ab3f2a",
       "rows": [
        [
         "8",
         "2002",
         "143.77073962003598",
         "3.966764718354989",
         "0.037700468569184034",
         "0.05347518952920276",
         "0.030582397941639812",
         "28.703381960155458",
         "3.271384464698216",
         "20.16342898846208",
         "9.618470301927909",
         "2.2093581773282165",
         "0.04532522884811365",
         "0.05520748622470195",
         "0.10352414379687944",
         "0.05092636811230984",
         "0.06039854886637633",
         "0.03142846953869049",
         "0.026928467985787206"
        ],
        [
         "20",
         "2003",
         "144.54698904505847",
         "4.043607916772911",
         "0.035018898542729604",
         "0.04843021002691061",
         "0.02943290944664881",
         "26.995945562130228",
         "3.453807651898175",
         "18.56436055082587",
         "9.932158203588196",
         "2.1260949981866433",
         "0.046107048769815334",
         "0.05795855710372982",
         "0.1035344670354652",
         "0.04376525789016257",
         "0.05821588483722828",
         "0.030465690294176066",
         "0.025367288073275963"
        ],
        [
         "19",
         "2004",
         "144.78120810523404",
         "4.051280806355007",
         "0.03705985563311028",
         "0.053072986069554774",
         "0.0312048065170933",
         "25.81115750738667",
         "3.7800010312587764",
         "18.667497387184344",
         "10.276879128558914",
         "2.1721595730781567",
         "0.04752145096271784",
         "0.059482413796005745",
         "0.10027024273420843",
         "0.05270641163182209",
         "0.06098689334604947",
         "0.031842152941657",
         "0.02842543436507861"
        ],
        [
         "1",
         "2005",
         "142.46563675761166",
         "4.071363410116955",
         "0.03168593704183591",
         "0.05229853437340692",
         "0.028067264531430533",
         "24.446565241443555",
         "3.4893424251192866",
         "17.158772336184708",
         "10.559476055383307",
         "1.9328545627340061",
         "0.055558124087680114",
         "0.05851687420661886",
         "0.11274610956972655",
         "0.04606635788860224",
         "0.060001413129005345",
         "0.031248376507306795",
         "0.026794287820006972"
        ],
        [
         "14",
         "2006",
         "144.7981373076198",
         "4.200207144555588",
         "0.03490722377644211",
         "0.0511853916319486",
         "0.031398877645077775",
         "24.871897462269438",
         "3.77321096786554",
         "17.332006996079034",
         "10.395328275016999",
         "1.967939693164303",
         "0.05914208049228249",
         "0.05896303115354612",
         "0.10885211686754219",
         "0.043896599193921436",
         "0.05847014440174545",
         "0.029960242161422245",
         "0.02652514582526067"
        ]
       ],
       "shape": {
        "columns": 18,
        "rows": 5
       }
      },
      "text/html": [
       "<div>\n",
       "<style scoped>\n",
       "    .dataframe tbody tr th:only-of-type {\n",
       "        vertical-align: middle;\n",
       "    }\n",
       "\n",
       "    .dataframe tbody tr th {\n",
       "        vertical-align: top;\n",
       "    }\n",
       "\n",
       "    .dataframe thead th {\n",
       "        text-align: right;\n",
       "    }\n",
       "</style>\n",
       "<table border=\"1\" class=\"dataframe\">\n",
       "  <thead>\n",
       "    <tr style=\"text-align: right;\">\n",
       "      <th></th>\n",
       "      <th>Season</th>\n",
       "      <th>PA</th>\n",
       "      <th>Age</th>\n",
       "      <th>BB%</th>\n",
       "      <th>K%</th>\n",
       "      <th>BABIP</th>\n",
       "      <th>wRC+</th>\n",
       "      <th>BsR</th>\n",
       "      <th>Off</th>\n",
       "      <th>Def</th>\n",
       "      <th>WAR</th>\n",
       "      <th>O-Swing%</th>\n",
       "      <th>Z-Swing%</th>\n",
       "      <th>O-Contact%</th>\n",
       "      <th>Z-Contact%</th>\n",
       "      <th>Contact%</th>\n",
       "      <th>SwStr%</th>\n",
       "      <th>CSW%</th>\n",
       "    </tr>\n",
       "  </thead>\n",
       "  <tbody>\n",
       "    <tr>\n",
       "      <th>8</th>\n",
       "      <td>2002</td>\n",
       "      <td>143.770740</td>\n",
       "      <td>3.966765</td>\n",
       "      <td>0.037700</td>\n",
       "      <td>0.053475</td>\n",
       "      <td>0.030582</td>\n",
       "      <td>28.703382</td>\n",
       "      <td>3.271384</td>\n",
       "      <td>20.163429</td>\n",
       "      <td>9.618470</td>\n",
       "      <td>2.209358</td>\n",
       "      <td>0.045325</td>\n",
       "      <td>0.055207</td>\n",
       "      <td>0.103524</td>\n",
       "      <td>0.050926</td>\n",
       "      <td>0.060399</td>\n",
       "      <td>0.031428</td>\n",
       "      <td>0.026928</td>\n",
       "    </tr>\n",
       "    <tr>\n",
       "      <th>20</th>\n",
       "      <td>2003</td>\n",
       "      <td>144.546989</td>\n",
       "      <td>4.043608</td>\n",
       "      <td>0.035019</td>\n",
       "      <td>0.048430</td>\n",
       "      <td>0.029433</td>\n",
       "      <td>26.995946</td>\n",
       "      <td>3.453808</td>\n",
       "      <td>18.564361</td>\n",
       "      <td>9.932158</td>\n",
       "      <td>2.126095</td>\n",
       "      <td>0.046107</td>\n",
       "      <td>0.057959</td>\n",
       "      <td>0.103534</td>\n",
       "      <td>0.043765</td>\n",
       "      <td>0.058216</td>\n",
       "      <td>0.030466</td>\n",
       "      <td>0.025367</td>\n",
       "    </tr>\n",
       "    <tr>\n",
       "      <th>19</th>\n",
       "      <td>2004</td>\n",
       "      <td>144.781208</td>\n",
       "      <td>4.051281</td>\n",
       "      <td>0.037060</td>\n",
       "      <td>0.053073</td>\n",
       "      <td>0.031205</td>\n",
       "      <td>25.811158</td>\n",
       "      <td>3.780001</td>\n",
       "      <td>18.667497</td>\n",
       "      <td>10.276879</td>\n",
       "      <td>2.172160</td>\n",
       "      <td>0.047521</td>\n",
       "      <td>0.059482</td>\n",
       "      <td>0.100270</td>\n",
       "      <td>0.052706</td>\n",
       "      <td>0.060987</td>\n",
       "      <td>0.031842</td>\n",
       "      <td>0.028425</td>\n",
       "    </tr>\n",
       "    <tr>\n",
       "      <th>1</th>\n",
       "      <td>2005</td>\n",
       "      <td>142.465637</td>\n",
       "      <td>4.071363</td>\n",
       "      <td>0.031686</td>\n",
       "      <td>0.052299</td>\n",
       "      <td>0.028067</td>\n",
       "      <td>24.446565</td>\n",
       "      <td>3.489342</td>\n",
       "      <td>17.158772</td>\n",
       "      <td>10.559476</td>\n",
       "      <td>1.932855</td>\n",
       "      <td>0.055558</td>\n",
       "      <td>0.058517</td>\n",
       "      <td>0.112746</td>\n",
       "      <td>0.046066</td>\n",
       "      <td>0.060001</td>\n",
       "      <td>0.031248</td>\n",
       "      <td>0.026794</td>\n",
       "    </tr>\n",
       "    <tr>\n",
       "      <th>14</th>\n",
       "      <td>2006</td>\n",
       "      <td>144.798137</td>\n",
       "      <td>4.200207</td>\n",
       "      <td>0.034907</td>\n",
       "      <td>0.051185</td>\n",
       "      <td>0.031399</td>\n",
       "      <td>24.871897</td>\n",
       "      <td>3.773211</td>\n",
       "      <td>17.332007</td>\n",
       "      <td>10.395328</td>\n",
       "      <td>1.967940</td>\n",
       "      <td>0.059142</td>\n",
       "      <td>0.058963</td>\n",
       "      <td>0.108852</td>\n",
       "      <td>0.043897</td>\n",
       "      <td>0.058470</td>\n",
       "      <td>0.029960</td>\n",
       "      <td>0.026525</td>\n",
       "    </tr>\n",
       "  </tbody>\n",
       "</table>\n",
       "</div>"
      ],
      "text/plain": [
       "    Season          PA       Age       BB%        K%     BABIP       wRC+  \\\n",
       "8     2002  143.770740  3.966765  0.037700  0.053475  0.030582  28.703382   \n",
       "20    2003  144.546989  4.043608  0.035019  0.048430  0.029433  26.995946   \n",
       "19    2004  144.781208  4.051281  0.037060  0.053073  0.031205  25.811158   \n",
       "1     2005  142.465637  4.071363  0.031686  0.052299  0.028067  24.446565   \n",
       "14    2006  144.798137  4.200207  0.034907  0.051185  0.031399  24.871897   \n",
       "\n",
       "         BsR        Off        Def       WAR  O-Swing%  Z-Swing%  O-Contact%  \\\n",
       "8   3.271384  20.163429   9.618470  2.209358  0.045325  0.055207    0.103524   \n",
       "20  3.453808  18.564361   9.932158  2.126095  0.046107  0.057959    0.103534   \n",
       "19  3.780001  18.667497  10.276879  2.172160  0.047521  0.059482    0.100270   \n",
       "1   3.489342  17.158772  10.559476  1.932855  0.055558  0.058517    0.112746   \n",
       "14  3.773211  17.332007  10.395328  1.967940  0.059142  0.058963    0.108852   \n",
       "\n",
       "    Z-Contact%  Contact%    SwStr%      CSW%  \n",
       "8     0.050926  0.060399  0.031428  0.026928  \n",
       "20    0.043765  0.058216  0.030466  0.025367  \n",
       "19    0.052706  0.060987  0.031842  0.028425  \n",
       "1     0.046066  0.060001  0.031248  0.026794  \n",
       "14    0.043897  0.058470  0.029960  0.026525  "
      ]
     },
     "execution_count": 8,
     "metadata": {},
     "output_type": "execute_result"
    }
   ],
   "source": [
    "# Create empty DataFrame to store results\n",
    "std_values = pd.DataFrame(index=df['Season'].unique())\n",
    "\n",
    "# Loop through numeric columns\n",
    "for col in df.select_dtypes(include=[np.number]).columns:\n",
    "    if col != 'Season' and col != 'MLBAMID':  # skip meaningless numeric\n",
    "        yearly_std = df.groupby('Season')[col].apply(calculate_weighted_std)\n",
    "        std_values[col] = yearly_std\n",
    "\n",
    "std_values = std_values.reset_index()\n",
    "std_values = std_values.rename(columns={'index': 'Season'})\n",
    "\n",
    "std_values = std_values.sort_values(by=['Season'])\n",
    "std_values.head()"
   ]
  },
  {
   "cell_type": "code",
   "execution_count": 9,
   "id": "e00580e3",
   "metadata": {},
   "outputs": [
    {
     "data": {
      "application/vnd.microsoft.datawrangler.viewer.v0+json": {
       "columns": [
        {
         "name": "index",
         "rawType": "int64",
         "type": "integer"
        },
        {
         "name": "Name",
         "rawType": "object",
         "type": "string"
        },
        {
         "name": "Season",
         "rawType": "int64",
         "type": "integer"
        },
        {
         "name": "PA",
         "rawType": "float64",
         "type": "float"
        },
        {
         "name": "Age",
         "rawType": "float64",
         "type": "float"
        },
        {
         "name": "BB%",
         "rawType": "float64",
         "type": "float"
        },
        {
         "name": "K%",
         "rawType": "float64",
         "type": "float"
        },
        {
         "name": "BABIP",
         "rawType": "float64",
         "type": "float"
        },
        {
         "name": "wRC+",
         "rawType": "float64",
         "type": "float"
        },
        {
         "name": "BsR",
         "rawType": "float64",
         "type": "float"
        },
        {
         "name": "Off",
         "rawType": "float64",
         "type": "float"
        },
        {
         "name": "Def",
         "rawType": "float64",
         "type": "float"
        },
        {
         "name": "WAR",
         "rawType": "float64",
         "type": "float"
        },
        {
         "name": "O-Swing%",
         "rawType": "float64",
         "type": "float"
        },
        {
         "name": "Z-Swing%",
         "rawType": "float64",
         "type": "float"
        },
        {
         "name": "O-Contact%",
         "rawType": "float64",
         "type": "float"
        },
        {
         "name": "Z-Contact%",
         "rawType": "float64",
         "type": "float"
        },
        {
         "name": "Contact%",
         "rawType": "float64",
         "type": "float"
        },
        {
         "name": "SwStr%",
         "rawType": "float64",
         "type": "float"
        },
        {
         "name": "CSW%",
         "rawType": "float64",
         "type": "float"
        }
       ],
       "conversionMethod": "pd.DataFrame",
       "ref": "b1f43327-6140-4227-9853-240ce82d3116",
       "rows": [
        [
         "233",
         "keon broxton",
         "2019",
         "81.50243352816742",
         "102.79749791470071",
         "99.98209579239862",
         "140.151113468428",
         "97.08463864000794",
         "73.76234066437274",
         "100.60727378658015",
         "86.095569721497",
         "107.95799745543489",
         "87.91112043037481",
         "91.47574570215455",
         "97.2199698942713",
         "72.45921719714602",
         "57.03061969447188",
         "65.49755647715824",
         "126.37127925429465",
         "136.26299356535952"
        ],
        [
         "263",
         "brad eldred",
         "2005",
         "78.23452683192852",
         "87.03187806535627",
         "93.06435202906783",
         "140.87641189978098",
         "96.69603113895859",
         "94.07685208332144",
         "97.63283113105858",
         "95.40602360975723",
         "90.68333320513058",
         "85.40513745556818",
         "138.43481145708407",
         "115.15464835469055",
         "84.03699440811613",
         "60.54104524383388",
         "57.998556122259345",
         "152.79626581304933",
         "141.88330856542734"
        ],
        [
         "268",
         "jose siri",
         "2024",
         "96.9998288171772",
         "99.86051934679098",
         "95.1043680372585",
         "127.3962476177304",
         "90.3797716565124",
         "89.98735547453408",
         "105.21306328280649",
         "91.33125957348693",
         "115.84196053987645",
         "99.26065106489753",
         "111.75425597476853",
         "95.41922635445133",
         "83.14215326950828",
         "64.91024723097303",
         "70.39180706800812",
         "128.21996067329627",
         "134.6437737445728"
        ],
        [
         "276",
         "javier baez",
         "2014",
         "80.97174094320869",
         "80.7427644476748",
         "95.37412179391492",
         "136.98959153873744",
         "84.31561988571013",
         "80.06362904346425",
         "101.94359111942809",
         "89.7599167963223",
         "97.78926222032946",
         "85.94301155044232",
         "116.00928986234736",
         "87.31391704999592",
         "73.30448503925041",
         "78.65191642623262",
         "66.08965171540873",
         "130.13011167644166",
         "134.93992500905273"
        ],
        [
         "289",
         "nick pratto",
         "2023",
         "89.59274984251817",
         "89.02266257630217",
         "98.98696976208622",
         "129.96994489738398",
         "125.13924298788478",
         "89.53637519977951",
         "94.86178978664748",
         "90.46798918260389",
         "91.71867891521892",
         "85.85966638245898",
         "96.97860919655207",
         "85.38761315038603",
         "76.88464102096073",
         "92.75294701918713",
         "82.73858006546222",
         "110.01661258762488",
         "132.38967848029705"
        ]
       ],
       "shape": {
        "columns": 19,
        "rows": 5
       }
      },
      "text/html": [
       "<div>\n",
       "<style scoped>\n",
       "    .dataframe tbody tr th:only-of-type {\n",
       "        vertical-align: middle;\n",
       "    }\n",
       "\n",
       "    .dataframe tbody tr th {\n",
       "        vertical-align: top;\n",
       "    }\n",
       "\n",
       "    .dataframe thead th {\n",
       "        text-align: right;\n",
       "    }\n",
       "</style>\n",
       "<table border=\"1\" class=\"dataframe\">\n",
       "  <thead>\n",
       "    <tr style=\"text-align: right;\">\n",
       "      <th></th>\n",
       "      <th>Name</th>\n",
       "      <th>Season</th>\n",
       "      <th>PA</th>\n",
       "      <th>Age</th>\n",
       "      <th>BB%</th>\n",
       "      <th>K%</th>\n",
       "      <th>BABIP</th>\n",
       "      <th>wRC+</th>\n",
       "      <th>BsR</th>\n",
       "      <th>Off</th>\n",
       "      <th>Def</th>\n",
       "      <th>WAR</th>\n",
       "      <th>O-Swing%</th>\n",
       "      <th>Z-Swing%</th>\n",
       "      <th>O-Contact%</th>\n",
       "      <th>Z-Contact%</th>\n",
       "      <th>Contact%</th>\n",
       "      <th>SwStr%</th>\n",
       "      <th>CSW%</th>\n",
       "    </tr>\n",
       "  </thead>\n",
       "  <tbody>\n",
       "    <tr>\n",
       "      <th>233</th>\n",
       "      <td>keon broxton</td>\n",
       "      <td>2019</td>\n",
       "      <td>81.502434</td>\n",
       "      <td>102.797498</td>\n",
       "      <td>99.982096</td>\n",
       "      <td>140.151113</td>\n",
       "      <td>97.084639</td>\n",
       "      <td>73.762341</td>\n",
       "      <td>100.607274</td>\n",
       "      <td>86.095570</td>\n",
       "      <td>107.957997</td>\n",
       "      <td>87.911120</td>\n",
       "      <td>91.475746</td>\n",
       "      <td>97.219970</td>\n",
       "      <td>72.459217</td>\n",
       "      <td>57.030620</td>\n",
       "      <td>65.497556</td>\n",
       "      <td>126.371279</td>\n",
       "      <td>136.262994</td>\n",
       "    </tr>\n",
       "    <tr>\n",
       "      <th>263</th>\n",
       "      <td>brad eldred</td>\n",
       "      <td>2005</td>\n",
       "      <td>78.234527</td>\n",
       "      <td>87.031878</td>\n",
       "      <td>93.064352</td>\n",
       "      <td>140.876412</td>\n",
       "      <td>96.696031</td>\n",
       "      <td>94.076852</td>\n",
       "      <td>97.632831</td>\n",
       "      <td>95.406024</td>\n",
       "      <td>90.683333</td>\n",
       "      <td>85.405137</td>\n",
       "      <td>138.434811</td>\n",
       "      <td>115.154648</td>\n",
       "      <td>84.036994</td>\n",
       "      <td>60.541045</td>\n",
       "      <td>57.998556</td>\n",
       "      <td>152.796266</td>\n",
       "      <td>141.883309</td>\n",
       "    </tr>\n",
       "    <tr>\n",
       "      <th>268</th>\n",
       "      <td>jose siri</td>\n",
       "      <td>2024</td>\n",
       "      <td>96.999829</td>\n",
       "      <td>99.860519</td>\n",
       "      <td>95.104368</td>\n",
       "      <td>127.396248</td>\n",
       "      <td>90.379772</td>\n",
       "      <td>89.987355</td>\n",
       "      <td>105.213063</td>\n",
       "      <td>91.331260</td>\n",
       "      <td>115.841961</td>\n",
       "      <td>99.260651</td>\n",
       "      <td>111.754256</td>\n",
       "      <td>95.419226</td>\n",
       "      <td>83.142153</td>\n",
       "      <td>64.910247</td>\n",
       "      <td>70.391807</td>\n",
       "      <td>128.219961</td>\n",
       "      <td>134.643774</td>\n",
       "    </tr>\n",
       "    <tr>\n",
       "      <th>276</th>\n",
       "      <td>javier baez</td>\n",
       "      <td>2014</td>\n",
       "      <td>80.971741</td>\n",
       "      <td>80.742764</td>\n",
       "      <td>95.374122</td>\n",
       "      <td>136.989592</td>\n",
       "      <td>84.315620</td>\n",
       "      <td>80.063629</td>\n",
       "      <td>101.943591</td>\n",
       "      <td>89.759917</td>\n",
       "      <td>97.789262</td>\n",
       "      <td>85.943012</td>\n",
       "      <td>116.009290</td>\n",
       "      <td>87.313917</td>\n",
       "      <td>73.304485</td>\n",
       "      <td>78.651916</td>\n",
       "      <td>66.089652</td>\n",
       "      <td>130.130112</td>\n",
       "      <td>134.939925</td>\n",
       "    </tr>\n",
       "    <tr>\n",
       "      <th>289</th>\n",
       "      <td>nick pratto</td>\n",
       "      <td>2023</td>\n",
       "      <td>89.592750</td>\n",
       "      <td>89.022663</td>\n",
       "      <td>98.986970</td>\n",
       "      <td>129.969945</td>\n",
       "      <td>125.139243</td>\n",
       "      <td>89.536375</td>\n",
       "      <td>94.861790</td>\n",
       "      <td>90.467989</td>\n",
       "      <td>91.718679</td>\n",
       "      <td>85.859666</td>\n",
       "      <td>96.978609</td>\n",
       "      <td>85.387613</td>\n",
       "      <td>76.884641</td>\n",
       "      <td>92.752947</td>\n",
       "      <td>82.738580</td>\n",
       "      <td>110.016613</td>\n",
       "      <td>132.389678</td>\n",
       "    </tr>\n",
       "  </tbody>\n",
       "</table>\n",
       "</div>"
      ],
      "text/plain": [
       "             Name  Season         PA         Age        BB%          K%  \\\n",
       "233  keon broxton    2019  81.502434  102.797498  99.982096  140.151113   \n",
       "263   brad eldred    2005  78.234527   87.031878  93.064352  140.876412   \n",
       "268     jose siri    2024  96.999829   99.860519  95.104368  127.396248   \n",
       "276   javier baez    2014  80.971741   80.742764  95.374122  136.989592   \n",
       "289   nick pratto    2023  89.592750   89.022663  98.986970  129.969945   \n",
       "\n",
       "          BABIP       wRC+         BsR        Off         Def        WAR  \\\n",
       "233   97.084639  73.762341  100.607274  86.095570  107.957997  87.911120   \n",
       "263   96.696031  94.076852   97.632831  95.406024   90.683333  85.405137   \n",
       "268   90.379772  89.987355  105.213063  91.331260  115.841961  99.260651   \n",
       "276   84.315620  80.063629  101.943591  89.759917   97.789262  85.943012   \n",
       "289  125.139243  89.536375   94.861790  90.467989   91.718679  85.859666   \n",
       "\n",
       "       O-Swing%    Z-Swing%  O-Contact%  Z-Contact%   Contact%      SwStr%  \\\n",
       "233   91.475746   97.219970   72.459217   57.030620  65.497556  126.371279   \n",
       "263  138.434811  115.154648   84.036994   60.541045  57.998556  152.796266   \n",
       "268  111.754256   95.419226   83.142153   64.910247  70.391807  128.219961   \n",
       "276  116.009290   87.313917   73.304485   78.651916  66.089652  130.130112   \n",
       "289   96.978609   85.387613   76.884641   92.752947  82.738580  110.016613   \n",
       "\n",
       "           CSW%  \n",
       "233  136.262994  \n",
       "263  141.883309  \n",
       "268  134.643774  \n",
       "276  134.939925  \n",
       "289  132.389678  "
      ]
     },
     "execution_count": 9,
     "metadata": {},
     "output_type": "execute_result"
    }
   ],
   "source": [
    "df_zscore = z_scores(df, mean_df=mean_values, std_df=std_values)\n",
    "df_zscore.head()"
   ]
  },
  {
   "cell_type": "markdown",
   "id": "a2f9d240",
   "metadata": {},
   "source": [
    "#### Clustering"
   ]
  },
  {
   "cell_type": "markdown",
   "id": "ef2b0db3",
   "metadata": {},
   "source": [
    "<small> First Cluster for 2002-2024 Data"
   ]
  },
  {
   "cell_type": "code",
   "execution_count": 10,
   "id": "f02672e3",
   "metadata": {},
   "outputs": [],
   "source": [
    "# clustering\n",
    "from sklearn.cluster import KMeans"
   ]
  },
  {
   "cell_type": "markdown",
   "id": "6802d573",
   "metadata": {},
   "source": [
    "average indiv player, not by season\n",
    "<br>\n",
    "<br>\n",
    "<small> Need to average player together so that for each player there is only one row. We can then cluster the type of career a player has and look at age progression based on such clusters"
   ]
  },
  {
   "cell_type": "code",
   "execution_count": 11,
   "id": "53d0a657",
   "metadata": {},
   "outputs": [],
   "source": [
    "# borrowed from player att ipynb\n",
    "def clean_names(df):\n",
    "    df['Name'] = df['Name'].str.split(',').str[0]\n",
    "    df['Name'] = df['Name'].str.replace(r'[^a-z\\s]', '', regex=True)\n",
    "    return df"
   ]
  },
  {
   "cell_type": "code",
   "execution_count": 12,
   "id": "06a5d472",
   "metadata": {},
   "outputs": [],
   "source": [
    "# clean names\n",
    "df_player = clean_names(df_zscore)\n",
    "df_player = df_player.drop(columns=['Season'])\n",
    "\n",
    "# df to store mean results\n",
    "df_zscore_mean = pd.DataFrame()\n",
    "\n",
    "# Loop through each group\n",
    "for name, group in df_player.groupby('Name'):\n",
    "    weighted_means = {}\n",
    "    for col in group.select_dtypes(include=[np.number]).columns:\n",
    "        if col != 'PA':  \n",
    "            weighted_means[col] = np.average(group[col], weights=group['PA'])\n",
    "    weighted_means['Name'] = name  \n",
    "    df_zscore_mean = pd.concat([df_zscore_mean, pd.DataFrame([weighted_means])], ignore_index=True)\n",
    "\n",
    "\n",
    "cols = ['Name'] + [col for col in df_zscore_mean.columns if col != 'Name']\n",
    "df_zscore_mean = df_zscore_mean[cols]"
   ]
  },
  {
   "cell_type": "markdown",
   "id": "1ffeeaa0",
   "metadata": {},
   "source": [
    "Amount of Clusters"
   ]
  },
  {
   "cell_type": "code",
   "execution_count": 13,
   "id": "8f70a04e",
   "metadata": {},
   "outputs": [
    {
     "name": "stderr",
     "output_type": "stream",
     "text": [
      "c:\\Users\\dalto\\anaconda3\\Lib\\site-packages\\sklearn\\cluster\\_kmeans.py:1429: UserWarning: KMeans is known to have a memory leak on Windows with MKL, when there are less chunks than available threads. You can avoid it by setting the environment variable OMP_NUM_THREADS=7.\n",
      "  warnings.warn(\n",
      "c:\\Users\\dalto\\anaconda3\\Lib\\site-packages\\sklearn\\cluster\\_kmeans.py:1429: UserWarning: KMeans is known to have a memory leak on Windows with MKL, when there are less chunks than available threads. You can avoid it by setting the environment variable OMP_NUM_THREADS=7.\n",
      "  warnings.warn(\n",
      "c:\\Users\\dalto\\anaconda3\\Lib\\site-packages\\sklearn\\cluster\\_kmeans.py:1429: UserWarning: KMeans is known to have a memory leak on Windows with MKL, when there are less chunks than available threads. You can avoid it by setting the environment variable OMP_NUM_THREADS=7.\n",
      "  warnings.warn(\n",
      "c:\\Users\\dalto\\anaconda3\\Lib\\site-packages\\sklearn\\cluster\\_kmeans.py:1429: UserWarning: KMeans is known to have a memory leak on Windows with MKL, when there are less chunks than available threads. You can avoid it by setting the environment variable OMP_NUM_THREADS=7.\n",
      "  warnings.warn(\n",
      "c:\\Users\\dalto\\anaconda3\\Lib\\site-packages\\sklearn\\cluster\\_kmeans.py:1429: UserWarning: KMeans is known to have a memory leak on Windows with MKL, when there are less chunks than available threads. You can avoid it by setting the environment variable OMP_NUM_THREADS=7.\n",
      "  warnings.warn(\n",
      "c:\\Users\\dalto\\anaconda3\\Lib\\site-packages\\sklearn\\cluster\\_kmeans.py:1429: UserWarning: KMeans is known to have a memory leak on Windows with MKL, when there are less chunks than available threads. You can avoid it by setting the environment variable OMP_NUM_THREADS=7.\n",
      "  warnings.warn(\n",
      "c:\\Users\\dalto\\anaconda3\\Lib\\site-packages\\sklearn\\cluster\\_kmeans.py:1429: UserWarning: KMeans is known to have a memory leak on Windows with MKL, when there are less chunks than available threads. You can avoid it by setting the environment variable OMP_NUM_THREADS=7.\n",
      "  warnings.warn(\n",
      "c:\\Users\\dalto\\anaconda3\\Lib\\site-packages\\sklearn\\cluster\\_kmeans.py:1429: UserWarning: KMeans is known to have a memory leak on Windows with MKL, when there are less chunks than available threads. You can avoid it by setting the environment variable OMP_NUM_THREADS=7.\n",
      "  warnings.warn(\n",
      "c:\\Users\\dalto\\anaconda3\\Lib\\site-packages\\sklearn\\cluster\\_kmeans.py:1429: UserWarning: KMeans is known to have a memory leak on Windows with MKL, when there are less chunks than available threads. You can avoid it by setting the environment variable OMP_NUM_THREADS=7.\n",
      "  warnings.warn(\n",
      "c:\\Users\\dalto\\anaconda3\\Lib\\site-packages\\sklearn\\cluster\\_kmeans.py:1429: UserWarning: KMeans is known to have a memory leak on Windows with MKL, when there are less chunks than available threads. You can avoid it by setting the environment variable OMP_NUM_THREADS=7.\n",
      "  warnings.warn(\n",
      "c:\\Users\\dalto\\anaconda3\\Lib\\site-packages\\sklearn\\cluster\\_kmeans.py:1429: UserWarning: KMeans is known to have a memory leak on Windows with MKL, when there are less chunks than available threads. You can avoid it by setting the environment variable OMP_NUM_THREADS=7.\n",
      "  warnings.warn(\n",
      "c:\\Users\\dalto\\anaconda3\\Lib\\site-packages\\sklearn\\cluster\\_kmeans.py:1429: UserWarning: KMeans is known to have a memory leak on Windows with MKL, when there are less chunks than available threads. You can avoid it by setting the environment variable OMP_NUM_THREADS=7.\n",
      "  warnings.warn(\n",
      "c:\\Users\\dalto\\anaconda3\\Lib\\site-packages\\sklearn\\cluster\\_kmeans.py:1429: UserWarning: KMeans is known to have a memory leak on Windows with MKL, when there are less chunks than available threads. You can avoid it by setting the environment variable OMP_NUM_THREADS=7.\n",
      "  warnings.warn(\n",
      "c:\\Users\\dalto\\anaconda3\\Lib\\site-packages\\sklearn\\cluster\\_kmeans.py:1429: UserWarning: KMeans is known to have a memory leak on Windows with MKL, when there are less chunks than available threads. You can avoid it by setting the environment variable OMP_NUM_THREADS=7.\n",
      "  warnings.warn(\n",
      "c:\\Users\\dalto\\anaconda3\\Lib\\site-packages\\sklearn\\cluster\\_kmeans.py:1429: UserWarning: KMeans is known to have a memory leak on Windows with MKL, when there are less chunks than available threads. You can avoid it by setting the environment variable OMP_NUM_THREADS=7.\n",
      "  warnings.warn(\n",
      "c:\\Users\\dalto\\anaconda3\\Lib\\site-packages\\sklearn\\cluster\\_kmeans.py:1429: UserWarning: KMeans is known to have a memory leak on Windows with MKL, when there are less chunks than available threads. You can avoid it by setting the environment variable OMP_NUM_THREADS=7.\n",
      "  warnings.warn(\n",
      "c:\\Users\\dalto\\anaconda3\\Lib\\site-packages\\sklearn\\cluster\\_kmeans.py:1429: UserWarning: KMeans is known to have a memory leak on Windows with MKL, when there are less chunks than available threads. You can avoid it by setting the environment variable OMP_NUM_THREADS=7.\n",
      "  warnings.warn(\n",
      "c:\\Users\\dalto\\anaconda3\\Lib\\site-packages\\sklearn\\cluster\\_kmeans.py:1429: UserWarning: KMeans is known to have a memory leak on Windows with MKL, when there are less chunks than available threads. You can avoid it by setting the environment variable OMP_NUM_THREADS=7.\n",
      "  warnings.warn(\n",
      "c:\\Users\\dalto\\anaconda3\\Lib\\site-packages\\sklearn\\cluster\\_kmeans.py:1429: UserWarning: KMeans is known to have a memory leak on Windows with MKL, when there are less chunks than available threads. You can avoid it by setting the environment variable OMP_NUM_THREADS=7.\n",
      "  warnings.warn(\n"
     ]
    },
    {
     "data": {
      "image/png": "[encoded data removed]",
      "text/plain": [
       "<Figure size 640x480 with 1 Axes>"
      ]
     },
     "metadata": {},
     "output_type": "display_data"
    }
   ],
   "source": [
    "X = df_zscore_mean.drop(columns=['Age', 'wRC+', 'Name']) # dont include age \n",
    "\n",
    "wcss = []\n",
    "for i in range(1,20):\n",
    "    kmeans_clust = KMeans(n_clusters=i, init='k-means++', random_state=42)\n",
    "    kmeans_clust.fit(X)\n",
    "    wcss.append(kmeans_clust.inertia_)\n",
    "\n",
    "plt.plot(range(1,20), wcss)\n",
    "plt.title('Within Cluster Sum of Squares')\n",
    "plt.ylabel('WCSS')\n",
    "plt.xlabel('Clusters')\n",
    "plt.grid(True)\n",
    "plt.show()"
   ]
  },
  {
   "cell_type": "markdown",
   "id": "05a16c5b",
   "metadata": {},
   "source": [
    "Player Clusters"
   ]
  },
  {
   "cell_type": "code",
   "execution_count": 14,
   "id": "ef646e84",
   "metadata": {},
   "outputs": [
    {
     "name": "stderr",
     "output_type": "stream",
     "text": [
      "c:\\Users\\dalto\\anaconda3\\Lib\\site-packages\\sklearn\\cluster\\_kmeans.py:1429: UserWarning: KMeans is known to have a memory leak on Windows with MKL, when there are less chunks than available threads. You can avoid it by setting the environment variable OMP_NUM_THREADS=7.\n",
      "  warnings.warn(\n"
     ]
    }
   ],
   "source": [
    "model = KMeans(n_clusters=3, init=\"k-means++\", n_init=1000, random_state=26)\n",
    "labels = model.fit_predict(X)"
   ]
  },
  {
   "cell_type": "markdown",
   "id": "5e743e5a",
   "metadata": {},
   "source": [
    "add to df_zscore"
   ]
  },
  {
   "cell_type": "code",
   "execution_count": 15,
   "id": "ea7ef0dd",
   "metadata": {},
   "outputs": [
    {
     "data": {
      "application/vnd.microsoft.datawrangler.viewer.v0+json": {
       "columns": [
        {
         "name": "index",
         "rawType": "int64",
         "type": "integer"
        },
        {
         "name": "Name",
         "rawType": "object",
         "type": "string"
        },
        {
         "name": "Age",
         "rawType": "float64",
         "type": "float"
        },
        {
         "name": "BB%",
         "rawType": "float64",
         "type": "float"
        },
        {
         "name": "K%",
         "rawType": "float64",
         "type": "float"
        },
        {
         "name": "BABIP",
         "rawType": "float64",
         "type": "float"
        },
        {
         "name": "wRC+",
         "rawType": "float64",
         "type": "float"
        },
        {
         "name": "BsR",
         "rawType": "float64",
         "type": "float"
        },
        {
         "name": "Off",
         "rawType": "float64",
         "type": "float"
        },
        {
         "name": "Def",
         "rawType": "float64",
         "type": "float"
        },
        {
         "name": "WAR",
         "rawType": "float64",
         "type": "float"
        },
        {
         "name": "O-Swing%",
         "rawType": "float64",
         "type": "float"
        },
        {
         "name": "Z-Swing%",
         "rawType": "float64",
         "type": "float"
        },
        {
         "name": "O-Contact%",
         "rawType": "float64",
         "type": "float"
        },
        {
         "name": "Z-Contact%",
         "rawType": "float64",
         "type": "float"
        },
        {
         "name": "Contact%",
         "rawType": "float64",
         "type": "float"
        },
        {
         "name": "SwStr%",
         "rawType": "float64",
         "type": "float"
        },
        {
         "name": "CSW%",
         "rawType": "float64",
         "type": "float"
        },
        {
         "name": "Cluster",
         "rawType": "int32",
         "type": "integer"
        }
       ],
       "conversionMethod": "pd.DataFrame",
       "ref": "3cdb688d-4776-4618-a319-e7e619e4701b",
       "rows": [
        [
         "0",
         "aaron altherr",
         "93.80831110636959",
         "104.51014549736146",
         "114.23152169965672",
         "96.13690239995017",
         "93.029960461802",
         "98.67548213778784",
         "95.28919585912088",
         "100.2506387579908",
         "93.07021278360081",
         "94.96714766747824",
         "96.2727879294212",
         "82.19582768431782",
         "93.35526738166597",
         "88.07981750671195",
         "107.9250732340778",
         "114.90721888545401",
         "2"
        ],
        [
         "1",
         "aaron boone",
         "106.40025980079436",
         "95.78066845843422",
         "101.95131342799702",
         "93.27197120629215",
         "94.77637874626923",
         "104.05249139144436",
         "94.98842389502714",
         "97.36705485025675",
         "93.72695923722151",
         "106.18763280303169",
         "104.30138674254634",
         "95.10079245801077",
         "96.59575060084018",
         "94.06334396976179",
         "106.91734934951127",
         "102.39759346574044",
         "1"
        ],
        [
         "2",
         "aaron guiel",
         "100.65848371742578",
         "94.40205678135843",
         "106.35545707876469",
         "98.13304916439266",
         "94.87887525639593",
         "97.95485200118553",
         "96.10186991122339",
         "93.76211702347203",
         "90.99501821755926",
         "96.86156627534211",
         "89.1196502598517",
         "97.69646766678292",
         "97.84485109237114",
         "98.35900403633516",
         "99.01133749546065",
         "113.56451807608693",
         "1"
        ],
        [
         "3",
         "aaron hicks",
         "98.84285986359717",
         "113.75149074264041",
         "101.64091824332527",
         "93.04627682875581",
         "97.57269289331434",
         "103.74515198829725",
         "98.20702211284912",
         "99.4699284153205",
         "96.23767507774241",
         "86.06235012900734",
         "94.6766782758668",
         "96.85636909742983",
         "94.2660387898179",
         "97.18738633093733",
         "97.82330088298752",
         "101.99454255519485",
         "1"
        ],
        [
         "4",
         "aaron hill",
         "99.24271987567236",
         "95.70125590150907",
         "92.57809964826957",
         "95.1162142149379",
         "96.62668732435124",
         "101.29567643502382",
         "96.65947219349185",
         "102.58509481054912",
         "98.97108441114972",
         "96.20891130567875",
         "98.95665450437248",
         "101.69948141971527",
         "107.15648789004393",
         "106.30776758573536",
         "94.22431575935498",
         "95.91010138484366",
         "0"
        ]
       ],
       "shape": {
        "columns": 18,
        "rows": 5
       }
      },
      "text/html": [
       "<div>\n",
       "<style scoped>\n",
       "    .dataframe tbody tr th:only-of-type {\n",
       "        vertical-align: middle;\n",
       "    }\n",
       "\n",
       "    .dataframe tbody tr th {\n",
       "        vertical-align: top;\n",
       "    }\n",
       "\n",
       "    .dataframe thead th {\n",
       "        text-align: right;\n",
       "    }\n",
       "</style>\n",
       "<table border=\"1\" class=\"dataframe\">\n",
       "  <thead>\n",
       "    <tr style=\"text-align: right;\">\n",
       "      <th></th>\n",
       "      <th>Name</th>\n",
       "      <th>Age</th>\n",
       "      <th>BB%</th>\n",
       "      <th>K%</th>\n",
       "      <th>BABIP</th>\n",
       "      <th>wRC+</th>\n",
       "      <th>BsR</th>\n",
       "      <th>Off</th>\n",
       "      <th>Def</th>\n",
       "      <th>WAR</th>\n",
       "      <th>O-Swing%</th>\n",
       "      <th>Z-Swing%</th>\n",
       "      <th>O-Contact%</th>\n",
       "      <th>Z-Contact%</th>\n",
       "      <th>Contact%</th>\n",
       "      <th>SwStr%</th>\n",
       "      <th>CSW%</th>\n",
       "      <th>Cluster</th>\n",
       "    </tr>\n",
       "  </thead>\n",
       "  <tbody>\n",
       "    <tr>\n",
       "      <th>0</th>\n",
       "      <td>aaron altherr</td>\n",
       "      <td>93.808311</td>\n",
       "      <td>104.510145</td>\n",
       "      <td>114.231522</td>\n",
       "      <td>96.136902</td>\n",
       "      <td>93.029960</td>\n",
       "      <td>98.675482</td>\n",
       "      <td>95.289196</td>\n",
       "      <td>100.250639</td>\n",
       "      <td>93.070213</td>\n",
       "      <td>94.967148</td>\n",
       "      <td>96.272788</td>\n",
       "      <td>82.195828</td>\n",
       "      <td>93.355267</td>\n",
       "      <td>88.079818</td>\n",
       "      <td>107.925073</td>\n",
       "      <td>114.907219</td>\n",
       "      <td>2</td>\n",
       "    </tr>\n",
       "    <tr>\n",
       "      <th>1</th>\n",
       "      <td>aaron boone</td>\n",
       "      <td>106.400260</td>\n",
       "      <td>95.780668</td>\n",
       "      <td>101.951313</td>\n",
       "      <td>93.271971</td>\n",
       "      <td>94.776379</td>\n",
       "      <td>104.052491</td>\n",
       "      <td>94.988424</td>\n",
       "      <td>97.367055</td>\n",
       "      <td>93.726959</td>\n",
       "      <td>106.187633</td>\n",
       "      <td>104.301387</td>\n",
       "      <td>95.100792</td>\n",
       "      <td>96.595751</td>\n",
       "      <td>94.063344</td>\n",
       "      <td>106.917349</td>\n",
       "      <td>102.397593</td>\n",
       "      <td>1</td>\n",
       "    </tr>\n",
       "    <tr>\n",
       "      <th>2</th>\n",
       "      <td>aaron guiel</td>\n",
       "      <td>100.658484</td>\n",
       "      <td>94.402057</td>\n",
       "      <td>106.355457</td>\n",
       "      <td>98.133049</td>\n",
       "      <td>94.878875</td>\n",
       "      <td>97.954852</td>\n",
       "      <td>96.101870</td>\n",
       "      <td>93.762117</td>\n",
       "      <td>90.995018</td>\n",
       "      <td>96.861566</td>\n",
       "      <td>89.119650</td>\n",
       "      <td>97.696468</td>\n",
       "      <td>97.844851</td>\n",
       "      <td>98.359004</td>\n",
       "      <td>99.011337</td>\n",
       "      <td>113.564518</td>\n",
       "      <td>1</td>\n",
       "    </tr>\n",
       "    <tr>\n",
       "      <th>3</th>\n",
       "      <td>aaron hicks</td>\n",
       "      <td>98.842860</td>\n",
       "      <td>113.751491</td>\n",
       "      <td>101.640918</td>\n",
       "      <td>93.046277</td>\n",
       "      <td>97.572693</td>\n",
       "      <td>103.745152</td>\n",
       "      <td>98.207022</td>\n",
       "      <td>99.469928</td>\n",
       "      <td>96.237675</td>\n",
       "      <td>86.062350</td>\n",
       "      <td>94.676678</td>\n",
       "      <td>96.856369</td>\n",
       "      <td>94.266039</td>\n",
       "      <td>97.187386</td>\n",
       "      <td>97.823301</td>\n",
       "      <td>101.994543</td>\n",
       "      <td>1</td>\n",
       "    </tr>\n",
       "    <tr>\n",
       "      <th>4</th>\n",
       "      <td>aaron hill</td>\n",
       "      <td>99.242720</td>\n",
       "      <td>95.701256</td>\n",
       "      <td>92.578100</td>\n",
       "      <td>95.116214</td>\n",
       "      <td>96.626687</td>\n",
       "      <td>101.295676</td>\n",
       "      <td>96.659472</td>\n",
       "      <td>102.585095</td>\n",
       "      <td>98.971084</td>\n",
       "      <td>96.208911</td>\n",
       "      <td>98.956655</td>\n",
       "      <td>101.699481</td>\n",
       "      <td>107.156488</td>\n",
       "      <td>106.307768</td>\n",
       "      <td>94.224316</td>\n",
       "      <td>95.910101</td>\n",
       "      <td>0</td>\n",
       "    </tr>\n",
       "  </tbody>\n",
       "</table>\n",
       "</div>"
      ],
      "text/plain": [
       "            Name         Age         BB%          K%      BABIP       wRC+  \\\n",
       "0  aaron altherr   93.808311  104.510145  114.231522  96.136902  93.029960   \n",
       "1    aaron boone  106.400260   95.780668  101.951313  93.271971  94.776379   \n",
       "2    aaron guiel  100.658484   94.402057  106.355457  98.133049  94.878875   \n",
       "3    aaron hicks   98.842860  113.751491  101.640918  93.046277  97.572693   \n",
       "4     aaron hill   99.242720   95.701256   92.578100  95.116214  96.626687   \n",
       "\n",
       "          BsR        Off         Def        WAR    O-Swing%    Z-Swing%  \\\n",
       "0   98.675482  95.289196  100.250639  93.070213   94.967148   96.272788   \n",
       "1  104.052491  94.988424   97.367055  93.726959  106.187633  104.301387   \n",
       "2   97.954852  96.101870   93.762117  90.995018   96.861566   89.119650   \n",
       "3  103.745152  98.207022   99.469928  96.237675   86.062350   94.676678   \n",
       "4  101.295676  96.659472  102.585095  98.971084   96.208911   98.956655   \n",
       "\n",
       "   O-Contact%  Z-Contact%    Contact%      SwStr%        CSW%  Cluster  \n",
       "0   82.195828   93.355267   88.079818  107.925073  114.907219        2  \n",
       "1   95.100792   96.595751   94.063344  106.917349  102.397593        1  \n",
       "2   97.696468   97.844851   98.359004   99.011337  113.564518        1  \n",
       "3   96.856369   94.266039   97.187386   97.823301  101.994543        1  \n",
       "4  101.699481  107.156488  106.307768   94.224316   95.910101        0  "
      ]
     },
     "execution_count": 15,
     "metadata": {},
     "output_type": "execute_result"
    }
   ],
   "source": [
    "df_zscore_mean['Cluster'] = labels\n",
    "df_zscore_mean.head()"
   ]
  },
  {
   "cell_type": "markdown",
   "id": "298198cd",
   "metadata": {},
   "source": [
    "#### Cluster Means"
   ]
  },
  {
   "cell_type": "code",
   "execution_count": 16,
   "id": "a5c4672d",
   "metadata": {},
   "outputs": [
    {
     "data": {
      "application/vnd.microsoft.datawrangler.viewer.v0+json": {
       "columns": [
        {
         "name": "Cluster",
         "rawType": "int32",
         "type": "integer"
        },
        {
         "name": "Age",
         "rawType": "float64",
         "type": "float"
        },
        {
         "name": "BB%",
         "rawType": "float64",
         "type": "float"
        },
        {
         "name": "K%",
         "rawType": "float64",
         "type": "float"
        },
        {
         "name": "BABIP",
         "rawType": "float64",
         "type": "float"
        },
        {
         "name": "wRC+",
         "rawType": "float64",
         "type": "float"
        },
        {
         "name": "BsR",
         "rawType": "float64",
         "type": "float"
        },
        {
         "name": "Off",
         "rawType": "float64",
         "type": "float"
        },
        {
         "name": "Def",
         "rawType": "float64",
         "type": "float"
        },
        {
         "name": "WAR",
         "rawType": "float64",
         "type": "float"
        },
        {
         "name": "O-Swing%",
         "rawType": "float64",
         "type": "float"
        },
        {
         "name": "Z-Swing%",
         "rawType": "float64",
         "type": "float"
        },
        {
         "name": "O-Contact%",
         "rawType": "float64",
         "type": "float"
        },
        {
         "name": "Z-Contact%",
         "rawType": "float64",
         "type": "float"
        },
        {
         "name": "Contact%",
         "rawType": "float64",
         "type": "float"
        },
        {
         "name": "SwStr%",
         "rawType": "float64",
         "type": "float"
        },
        {
         "name": "CSW%",
         "rawType": "float64",
         "type": "float"
        }
       ],
       "conversionMethod": "pd.DataFrame",
       "ref": "92b6e4f3-077f-4111-9821-62f43bda4f93",
       "rows": [
        [
         "0",
         "99.32968632282376",
         "96.73117364662633",
         "93.1410741593151",
         "97.8412181838948",
         "95.33473586165141",
         "100.06354728933559",
         "96.05180918700502",
         "101.84597209632823",
         "96.37569646906485",
         "99.73331020480234",
         "96.9732448552536",
         "107.62992510806238",
         "107.63222359097135",
         "108.21989362368532",
         "92.59330082134888",
         "95.81447144929068"
        ],
        [
         "1",
         "98.37200223005084",
         "100.44895645024239",
         "104.78056003510682",
         "99.39741063721897",
         "97.40916101281819",
         "99.76563493994077",
         "97.77203253189617",
         "99.11062506766248",
         "96.08555867629819",
         "99.37455157014863",
         "99.83968390506764",
         "95.47956837380454",
         "96.78928467947044",
         "96.14645710623968",
         "103.01719715731278",
         "103.88507546793873"
        ],
        [
         "2",
         "96.38267349448843",
         "97.03625243079031",
         "115.58872719119233",
         "100.46563902930464",
         "94.54885292732001",
         "99.12117139182077",
         "95.57100391620467",
         "99.4496124131838",
         "93.65287186572787",
         "106.0611098412908",
         "106.67793405997911",
         "86.94545298869251",
         "85.04886875824661",
         "84.3495483545634",
         "116.49365567088796",
         "111.33341750804202"
        ]
       ],
       "shape": {
        "columns": 16,
        "rows": 3
       }
      },
      "text/html": [
       "<div>\n",
       "<style scoped>\n",
       "    .dataframe tbody tr th:only-of-type {\n",
       "        vertical-align: middle;\n",
       "    }\n",
       "\n",
       "    .dataframe tbody tr th {\n",
       "        vertical-align: top;\n",
       "    }\n",
       "\n",
       "    .dataframe thead th {\n",
       "        text-align: right;\n",
       "    }\n",
       "</style>\n",
       "<table border=\"1\" class=\"dataframe\">\n",
       "  <thead>\n",
       "    <tr style=\"text-align: right;\">\n",
       "      <th></th>\n",
       "      <th>Age</th>\n",
       "      <th>BB%</th>\n",
       "      <th>K%</th>\n",
       "      <th>BABIP</th>\n",
       "      <th>wRC+</th>\n",
       "      <th>BsR</th>\n",
       "      <th>Off</th>\n",
       "      <th>Def</th>\n",
       "      <th>WAR</th>\n",
       "      <th>O-Swing%</th>\n",
       "      <th>Z-Swing%</th>\n",
       "      <th>O-Contact%</th>\n",
       "      <th>Z-Contact%</th>\n",
       "      <th>Contact%</th>\n",
       "      <th>SwStr%</th>\n",
       "      <th>CSW%</th>\n",
       "    </tr>\n",
       "    <tr>\n",
       "      <th>Cluster</th>\n",
       "      <th></th>\n",
       "      <th></th>\n",
       "      <th></th>\n",
       "      <th></th>\n",
       "      <th></th>\n",
       "      <th></th>\n",
       "      <th></th>\n",
       "      <th></th>\n",
       "      <th></th>\n",
       "      <th></th>\n",
       "      <th></th>\n",
       "      <th></th>\n",
       "      <th></th>\n",
       "      <th></th>\n",
       "      <th></th>\n",
       "      <th></th>\n",
       "    </tr>\n",
       "  </thead>\n",
       "  <tbody>\n",
       "    <tr>\n",
       "      <th>0</th>\n",
       "      <td>99.329686</td>\n",
       "      <td>96.731174</td>\n",
       "      <td>93.141074</td>\n",
       "      <td>97.841218</td>\n",
       "      <td>95.334736</td>\n",
       "      <td>100.063547</td>\n",
       "      <td>96.051809</td>\n",
       "      <td>101.845972</td>\n",
       "      <td>96.375696</td>\n",
       "      <td>99.733310</td>\n",
       "      <td>96.973245</td>\n",
       "      <td>107.629925</td>\n",
       "      <td>107.632224</td>\n",
       "      <td>108.219894</td>\n",
       "      <td>92.593301</td>\n",
       "      <td>95.814471</td>\n",
       "    </tr>\n",
       "    <tr>\n",
       "      <th>1</th>\n",
       "      <td>98.372002</td>\n",
       "      <td>100.448956</td>\n",
       "      <td>104.780560</td>\n",
       "      <td>99.397411</td>\n",
       "      <td>97.409161</td>\n",
       "      <td>99.765635</td>\n",
       "      <td>97.772033</td>\n",
       "      <td>99.110625</td>\n",
       "      <td>96.085559</td>\n",
       "      <td>99.374552</td>\n",
       "      <td>99.839684</td>\n",
       "      <td>95.479568</td>\n",
       "      <td>96.789285</td>\n",
       "      <td>96.146457</td>\n",
       "      <td>103.017197</td>\n",
       "      <td>103.885075</td>\n",
       "    </tr>\n",
       "    <tr>\n",
       "      <th>2</th>\n",
       "      <td>96.382673</td>\n",
       "      <td>97.036252</td>\n",
       "      <td>115.588727</td>\n",
       "      <td>100.465639</td>\n",
       "      <td>94.548853</td>\n",
       "      <td>99.121171</td>\n",
       "      <td>95.571004</td>\n",
       "      <td>99.449612</td>\n",
       "      <td>93.652872</td>\n",
       "      <td>106.061110</td>\n",
       "      <td>106.677934</td>\n",
       "      <td>86.945453</td>\n",
       "      <td>85.048869</td>\n",
       "      <td>84.349548</td>\n",
       "      <td>116.493656</td>\n",
       "      <td>111.333418</td>\n",
       "    </tr>\n",
       "  </tbody>\n",
       "</table>\n",
       "</div>"
      ],
      "text/plain": [
       "               Age         BB%          K%       BABIP       wRC+         BsR  \\\n",
       "Cluster                                                                         \n",
       "0        99.329686   96.731174   93.141074   97.841218  95.334736  100.063547   \n",
       "1        98.372002  100.448956  104.780560   99.397411  97.409161   99.765635   \n",
       "2        96.382673   97.036252  115.588727  100.465639  94.548853   99.121171   \n",
       "\n",
       "               Off         Def        WAR    O-Swing%    Z-Swing%  O-Contact%  \\\n",
       "Cluster                                                                         \n",
       "0        96.051809  101.845972  96.375696   99.733310   96.973245  107.629925   \n",
       "1        97.772033   99.110625  96.085559   99.374552   99.839684   95.479568   \n",
       "2        95.571004   99.449612  93.652872  106.061110  106.677934   86.945453   \n",
       "\n",
       "         Z-Contact%    Contact%      SwStr%        CSW%  \n",
       "Cluster                                                  \n",
       "0        107.632224  108.219894   92.593301   95.814471  \n",
       "1         96.789285   96.146457  103.017197  103.885075  \n",
       "2         85.048869   84.349548  116.493656  111.333418  "
      ]
     },
     "execution_count": 16,
     "metadata": {},
     "output_type": "execute_result"
    }
   ],
   "source": [
    "cluster_means = df_zscore_mean.groupby('Cluster').mean(numeric_only=True)\n",
    "cluster_means.head()"
   ]
  },
  {
   "cell_type": "markdown",
   "id": "71911ef5",
   "metadata": {},
   "source": [
    "cluster count"
   ]
  },
  {
   "cell_type": "code",
   "execution_count": 17,
   "id": "64c94493",
   "metadata": {},
   "outputs": [
    {
     "data": {
      "image/png": "[encoded data removed]",
      "text/plain": [
       "<Figure size 640x480 with 1 Axes>"
      ]
     },
     "metadata": {},
     "output_type": "display_data"
    }
   ],
   "source": [
    "# Count the number of players in each cluster\n",
    "cluster_counts = df_zscore_mean['Cluster'].value_counts()\n",
    "\n",
    "# Plot the counts as a bar chart\n",
    "plt.bar(cluster_counts.index, cluster_counts.values)\n",
    "plt.xlabel('Cluster')\n",
    "plt.ylabel('Count')\n",
    "plt.title('Count of Players in Each Cluster')\n",
    "plt.show()"
   ]
  },
  {
   "cell_type": "markdown",
   "id": "7981d01b",
   "metadata": {},
   "source": [
    "cluster v. wrc+"
   ]
  },
  {
   "cell_type": "code",
   "execution_count": 18,
   "id": "fec73770",
   "metadata": {},
   "outputs": [
    {
     "data": {
      "image/png": "[encoded data removed]",
      "text/plain": [
       "<Figure size 640x480 with 1 Axes>"
      ]
     },
     "metadata": {},
     "output_type": "display_data"
    }
   ],
   "source": [
    "plt.bar(x=cluster_means.index, height=cluster_means['wRC+'])\n",
    "plt.ylim(70, 100)\n",
    "plt.xlabel('Cluster')\n",
    "plt.ylabel('wRC+')\n",
    "plt.show()"
   ]
  },
  {
   "cell_type": "markdown",
   "id": "5092ca7e",
   "metadata": {},
   "source": [
    "clusters to players"
   ]
  },
  {
   "cell_type": "code",
   "execution_count": 31,
   "id": "b0f51db3",
   "metadata": {},
   "outputs": [],
   "source": [
    "# Create a dictionary mapping player names to their clusters\n",
    "name_to_cluster = df_zscore_mean.set_index('Name')['Cluster'].to_dict()\n",
    "\n",
    "# Map the clusters to the df_zscore DataFrame\n",
    "df_zscore['Cluster'] = df_zscore['Name'].map(name_to_cluster)"
   ]
  },
  {
   "cell_type": "markdown",
   "id": "01186d8d",
   "metadata": {},
   "source": [
    "weighted avg based on cluster and pa"
   ]
  },
  {
   "cell_type": "code",
   "execution_count": 32,
   "id": "a8c76082",
   "metadata": {},
   "outputs": [],
   "source": [
    "# Initialize an empty DataFrame to store cluster means by age\n",
    "cluster_means_age = pd.DataFrame()\n",
    "\n",
    "# Create a copy of df_zscore and add the Age column from df\n",
    "df_zscore_age = df_zscore.copy()\n",
    "df_zscore_age['Age'] = df['Age']\n",
    "\n",
    "# Loop through each group of Age and Cluster\n",
    "for (age, cluster), group in df_zscore_age.groupby(['Age', 'Cluster']):\n",
    "    weighted_means = {}\n",
    "    for col in group.select_dtypes(include=[np.number]).columns:\n",
    "        if col != 'PA':  # Skip PA column for weighted means\n",
    "            weighted_means[col] = np.average(group[col], weights=group['PA'])\n",
    "    weighted_means['Age'] = age\n",
    "    weighted_means['Cluster'] = cluster\n",
    "    cluster_means_age = pd.concat([cluster_means_age, pd.DataFrame([weighted_means])], ignore_index=True)\n",
    "\n",
    "cluster_means_age = cluster_means_age.sort_values(by=['Age', 'Cluster']).reset_index(drop=True)"
   ]
  },
  {
   "cell_type": "markdown",
   "id": "adfa0204",
   "metadata": {},
   "source": [
    "overall average for age"
   ]
  },
  {
   "cell_type": "code",
   "execution_count": null,
   "id": "cc200529",
   "metadata": {},
   "outputs": [],
   "source": [
    "age_values = pd.DataFrame()\n",
    "for col in df.select_dtypes(include=[np.number]).columns:\n",
    "    if col != 'Season' and col != 'MLBAMID':  \n",
    "        age_mean = df.groupby('Age')[col].apply(mean_year)\n",
    "        age_values[col] = age_mean\n",
    "age_values = age_values.reset_index(drop=True)"
   ]
  },
  {
   "cell_type": "markdown",
   "id": "2cec727c",
   "metadata": {},
   "source": [
    "wrc+, by cluster, by age\n",
    "<br>\n",
    "<small> thanks gemeni for smoothing"
   ]
  },
  {
   "cell_type": "code",
   "execution_count": 46,
   "id": "35378416",
   "metadata": {},
   "outputs": [
    {
     "data": {
      "image/png": "[encoded data removed]",
      "text/plain": [
       "<Figure size 1200x600 with 1 Axes>"
      ]
     },
     "metadata": {},
     "output_type": "display_data"
    }
   ],
   "source": [
    "from scipy.interpolate import make_interp_spline\n",
    "import numpy as np\n",
    "\n",
    "# global averages\n",
    "global_means = age_values[['Age','wRC+']]\n",
    "\n",
    "# Plot wRC+ by age for each cluster\n",
    "plt.figure(figsize=(12, 6))\n",
    "for cluster in df_zscore_age['Cluster'].unique():\n",
    "    cluster_data = cluster_means_age.loc[cluster_means_age['Cluster'] == cluster].set_index('Age')['wRC+']\n",
    "    ages = cluster_data.index.get_level_values('Age')\n",
    "    values = cluster_data.values\n",
    "    # Smooth the trend line\n",
    "    if len(ages) > 3:  # Ensure enough points for smoothing\n",
    "        spline = make_interp_spline(ages, values, k=3)\n",
    "        smooth_ages = np.linspace(ages.min(), ages.max(), 200)\n",
    "        smooth_values = spline(smooth_ages)\n",
    "        plt.plot(smooth_ages, smooth_values, label=f'Cluster {cluster}')\n",
    "    else:\n",
    "        plt.plot(ages, values, label=f'Cluster {cluster}')\n",
    "\n",
    "# Smooth the global average trend line\n",
    "ages = global_means['Age']\n",
    "values = global_means['wRC+']\n",
    "spline = make_interp_spline(ages, values, k=3)\n",
    "smooth_ages = np.linspace(ages.min(), ages.max(), 200)\n",
    "smooth_values = spline(smooth_ages)\n",
    "plt.plot(smooth_ages, smooth_values, label='Avg Trend', linestyle='--', color='black')\n",
    "\n",
    "plt.xlabel('Age')\n",
    "plt.xlim(23, 35)\n",
    "plt.ylim(85, 110)\n",
    "plt.ylabel('wRC+')\n",
    "plt.title('wRC+ by Age and Cluster')\n",
    "plt.legend()\n",
    "plt.grid(True)\n",
    "plt.show()"
   ]
  },
  {
   "cell_type": "markdown",
   "id": "50b7ae36",
   "metadata": {},
   "source": [
    "looking at this numerically"
   ]
  },
  {
   "cell_type": "code",
   "execution_count": null,
   "id": "1374082b",
   "metadata": {},
   "outputs": [
    {
     "name": "stderr",
     "output_type": "stream",
     "text": [
      "C:\\Users\\dalto\\AppData\\Local\\Temp\\ipykernel_11480\\3086426791.py:3: SettingWithCopyWarning: \n",
      "A value is trying to be set on a copy of a slice from a DataFrame.\n",
      "Try using .loc[row_indexer,col_indexer] = value instead\n",
      "\n",
      "See the caveats in the documentation: https://pandas.pydata.org/pandas-docs/stable/user_guide/indexing.html#returning-a-view-versus-a-copy\n",
      "  global_means['y/y global'] = global_means['wRC+'].pct_change() * 100\n"
     ]
    },
    {
     "data": {
      "application/vnd.microsoft.datawrangler.viewer.v0+json": {
       "columns": [
        {
         "name": "index",
         "rawType": "int64",
         "type": "integer"
        },
        {
         "name": "Age",
         "rawType": "int64",
         "type": "integer"
        },
        {
         "name": "Cluster",
         "rawType": "int64",
         "type": "integer"
        },
        {
         "name": "y/y wrc+",
         "rawType": "float64",
         "type": "float"
        },
        {
         "name": "wRC+",
         "rawType": "float64",
         "type": "float"
        },
        {
         "name": "y/y global",
         "rawType": "float64",
         "type": "float"
        }
       ],
       "conversionMethod": "pd.DataFrame",
       "ref": "b66a0b5b-ffb0-4f2f-ba70-5f9d3a53a7dc",
       "rows": [
        [
         "0",
         "19",
         "0",
         null,
         "126.53446218253566",
         null
        ],
        [
         "2",
         "20",
         "0",
         "-7.827167736892182",
         "114.21123686623682",
         "-9.739026905193349"
        ],
        [
         "5",
         "21",
         "0",
         "-2.348113734780932",
         "105.94679735404159",
         "-7.236100176267646"
        ],
        [
         "8",
         "22",
         "0",
         "1.8724283648435813",
         "106.11665811382127",
         "0.16032646953174634"
        ],
        [
         "11",
         "23",
         "0",
         "-2.404564074357296",
         "101.64213332514238",
         "-4.216609218770806"
        ]
       ],
       "shape": {
        "columns": 5,
        "rows": 5
       }
      },
      "text/html": [
       "<div>\n",
       "<style scoped>\n",
       "    .dataframe tbody tr th:only-of-type {\n",
       "        vertical-align: middle;\n",
       "    }\n",
       "\n",
       "    .dataframe tbody tr th {\n",
       "        vertical-align: top;\n",
       "    }\n",
       "\n",
       "    .dataframe thead th {\n",
       "        text-align: right;\n",
       "    }\n",
       "</style>\n",
       "<table border=\"1\" class=\"dataframe\">\n",
       "  <thead>\n",
       "    <tr style=\"text-align: right;\">\n",
       "      <th></th>\n",
       "      <th>Age</th>\n",
       "      <th>Cluster</th>\n",
       "      <th>y/y wrc+</th>\n",
       "      <th>wRC+</th>\n",
       "      <th>y/y global</th>\n",
       "    </tr>\n",
       "  </thead>\n",
       "  <tbody>\n",
       "    <tr>\n",
       "      <th>0</th>\n",
       "      <td>19</td>\n",
       "      <td>0</td>\n",
       "      <td>NaN</td>\n",
       "      <td>126.534462</td>\n",
       "      <td>NaN</td>\n",
       "    </tr>\n",
       "    <tr>\n",
       "      <th>2</th>\n",
       "      <td>20</td>\n",
       "      <td>0</td>\n",
       "      <td>-7.827168</td>\n",
       "      <td>114.211237</td>\n",
       "      <td>-9.739027</td>\n",
       "    </tr>\n",
       "    <tr>\n",
       "      <th>5</th>\n",
       "      <td>21</td>\n",
       "      <td>0</td>\n",
       "      <td>-2.348114</td>\n",
       "      <td>105.946797</td>\n",
       "      <td>-7.236100</td>\n",
       "    </tr>\n",
       "    <tr>\n",
       "      <th>8</th>\n",
       "      <td>22</td>\n",
       "      <td>0</td>\n",
       "      <td>1.872428</td>\n",
       "      <td>106.116658</td>\n",
       "      <td>0.160326</td>\n",
       "    </tr>\n",
       "    <tr>\n",
       "      <th>11</th>\n",
       "      <td>23</td>\n",
       "      <td>0</td>\n",
       "      <td>-2.404564</td>\n",
       "      <td>101.642133</td>\n",
       "      <td>-4.216609</td>\n",
       "    </tr>\n",
       "  </tbody>\n",
       "</table>\n",
       "</div>"
      ],
      "text/plain": [
       "    Age  Cluster  y/y wrc+        wRC+  y/y global\n",
       "0    19        0       NaN  126.534462         NaN\n",
       "2    20        0 -7.827168  114.211237   -9.739027\n",
       "5    21        0 -2.348114  105.946797   -7.236100\n",
       "8    22        0  1.872428  106.116658    0.160326\n",
       "11   23        0 -2.404564  101.642133   -4.216609"
      ]
     },
     "execution_count": 48,
     "metadata": {},
     "output_type": "execute_result"
    }
   ],
   "source": [
    "# Calculate the percentage change in wRC+ for each cluster\n",
    "cluster_means_age['y/y wrc+'] = cluster_means_age.groupby('Cluster')['wRC+'].pct_change() * 100\n",
    "global_means['y/y global'] = global_means['wRC+'].pct_change() * 100\n",
    "\n",
    "# global mean and cluster wrc+\n",
    "cluster_wrc = cluster_means_age[['Age', 'Cluster', 'y/y wrc+']]\n",
    "cluster_wrc = cluster_wrc.merge(global_means, on='Age', how='outer')\n",
    "cluster_wrc = cluster_wrc.drop\n",
    "\n",
    "\n",
    "# sort\n",
    "cluster_wrc = cluster_wrc.sort_values(['Cluster', 'Age'])\n",
    "cluster_wrc.head()\n"
   ]
  }
 ],
 "metadata": {
  "kernelspec": {
   "display_name": "base",
   "language": "python",
   "name": "python3"
  },
  "language_info": {
   "codemirror_mode": {
    "name": "ipython",
    "version": 3
   },
   "file_extension": ".py",
   "mimetype": "text/x-python",
   "name": "python",
   "nbconvert_exporter": "python",
   "pygments_lexer": "ipython3",
   "version": "3.12.7"
  }
 },
 "nbformat": 4,
 "nbformat_minor": 5
}
