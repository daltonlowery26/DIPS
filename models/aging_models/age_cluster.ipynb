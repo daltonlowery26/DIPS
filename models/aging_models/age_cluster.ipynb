{
 "cells": [
  {
   "cell_type": "markdown",
   "id": "ed0b1b38",
   "metadata": {},
   "source": [
    "### Clustering Similar Players"
   ]
  },
  {
   "cell_type": "code",
   "execution_count": 11,
   "id": "b53b68b0",
   "metadata": {},
   "outputs": [],
   "source": [
    "# packages and file import\n",
    "import pandas as pd\n",
    "import numpy as np\n",
    "import os\n",
    "import matplotlib.pyplot as plt\n",
    "\n",
    "# wd\n",
    "os.chdir('C:/Users/dalto/OneDrive/Pictures/Documents/Projects/MLB Season Model/')"
   ]
  },
  {
   "cell_type": "code",
   "execution_count": 12,
   "id": "d778dafb",
   "metadata": {},
   "outputs": [],
   "source": [
    "data_02_24 = pd.read_csv('./data/cleaned/data_02_24.csv')\n",
    "data_15_24 = pd.read_csv('./data/cleaned/data_15_24.csv')"
   ]
  },
  {
   "cell_type": "markdown",
   "id": "471d2001",
   "metadata": {},
   "source": [
    "fix cols"
   ]
  },
  {
   "cell_type": "code",
   "execution_count": 13,
   "id": "a5264185",
   "metadata": {},
   "outputs": [],
   "source": [
    "data_02_24 = data_02_24.drop(columns=['Unnamed: 0', 'Team'])\n",
    "df = data_02_24.copy()"
   ]
  },
  {
   "cell_type": "markdown",
   "id": "cb2338b4",
   "metadata": {},
   "source": [
    "#### Normalization\n",
    "<small> all code standard across ipynb when normalization is required (I should probably refactor into .py lol)"
   ]
  },
  {
   "cell_type": "code",
   "execution_count": 14,
   "id": "7d9c1573",
   "metadata": {},
   "outputs": [],
   "source": [
    "def mean_year(group):\n",
    "        avg = np.average(group, weights=group.index.map(lambda x: df.loc[x, 'PA']))\n",
    "        return avg"
   ]
  },
  {
   "cell_type": "code",
   "execution_count": 15,
   "id": "6b8c10d2",
   "metadata": {},
   "outputs": [],
   "source": [
    "def calculate_weighted_std(group):\n",
    "    avg = np.average(group, weights=group.index.map(lambda x: df.loc[x, 'PA']))\n",
    "    variance = np.average((group - avg)**2, weights=group.index.map(lambda x: df.loc[x, 'PA']))\n",
    "    return np.sqrt(variance)"
   ]
  },
  {
   "cell_type": "code",
   "execution_count": 16,
   "id": "f10cf20f",
   "metadata": {},
   "outputs": [],
   "source": [
    "def z_scores(player_df, mean_df, std_df):\n",
    "    # z scores for each stat and player, also creating a new df flow, add back names based on MLBAMID later\n",
    "    z_scores = pd.DataFrame(index=player_df.index, columns=player_df.select_dtypes(include=[np.number]).columns)\n",
    "\n",
    "    # scaled for each col\n",
    "    for col in player_df.select_dtypes(include=[np.number]).columns:\n",
    "        if col not in ['Season', 'MLBAMID']:  # not needed\n",
    "            for idx in player_df.index:\n",
    "                season = player_df.loc[idx, 'Season']\n",
    "                value = player_df.loc[idx, col]\n",
    "                mean = mean_df.loc[mean_df['Season'] == season, col].iloc[0]\n",
    "                std = std_df.loc[std_df['Season'] == season, col].iloc[0]\n",
    "                # scale so that 10 is 1 std away\n",
    "                z_scores.loc[idx, col] = 100 + ((value - mean) / std * 10)\n",
    "\n",
    "    z_scores['Season'] = player_df['Season']\n",
    "    \n",
    "    # cols to numeric\n",
    "    for col in z_scores.columns:\n",
    "        if col not in ['Season', 'MLBAMID']:\n",
    "            z_scores[col] = pd.to_numeric(z_scores[col])\n",
    "    \n",
    "    # reinsert player names\n",
    "    z_scores.insert(0, 'Name', player_df['Name']) \n",
    "\n",
    "    return z_scores"
   ]
  },
  {
   "cell_type": "code",
   "execution_count": 17,
   "id": "71393c6e",
   "metadata": {},
   "outputs": [
    {
     "data": {
      "application/vnd.microsoft.datawrangler.viewer.v0+json": {
       "columns": [
        {
         "name": "index",
         "rawType": "int64",
         "type": "integer"
        },
        {
         "name": "Season",
         "rawType": "int64",
         "type": "integer"
        },
        {
         "name": "PA",
         "rawType": "float64",
         "type": "float"
        },
        {
         "name": "Age",
         "rawType": "float64",
         "type": "float"
        },
        {
         "name": "BB%",
         "rawType": "float64",
         "type": "float"
        },
        {
         "name": "K%",
         "rawType": "float64",
         "type": "float"
        },
        {
         "name": "BABIP",
         "rawType": "float64",
         "type": "float"
        },
        {
         "name": "wRC+",
         "rawType": "float64",
         "type": "float"
        },
        {
         "name": "BsR",
         "rawType": "float64",
         "type": "float"
        },
        {
         "name": "Off",
         "rawType": "float64",
         "type": "float"
        },
        {
         "name": "Def",
         "rawType": "float64",
         "type": "float"
        },
        {
         "name": "WAR",
         "rawType": "float64",
         "type": "float"
        },
        {
         "name": "O-Swing%",
         "rawType": "float64",
         "type": "float"
        },
        {
         "name": "Z-Swing%",
         "rawType": "float64",
         "type": "float"
        },
        {
         "name": "O-Contact%",
         "rawType": "float64",
         "type": "float"
        },
        {
         "name": "Z-Contact%",
         "rawType": "float64",
         "type": "float"
        },
        {
         "name": "Contact%",
         "rawType": "float64",
         "type": "float"
        },
        {
         "name": "SwStr%",
         "rawType": "float64",
         "type": "float"
        },
        {
         "name": "CSW%",
         "rawType": "float64",
         "type": "float"
        }
       ],
       "conversionMethod": "pd.DataFrame",
       "ref": "1005871e-d520-4d09-b447-4dd36411572a",
       "rows": [
        [
         "19",
         "2002",
         "473.684181354617",
         "29.200232790156303",
         "0.08893138186421129",
         "0.16288105482276907",
         "0.2948774261872132",
         "99.85694941353789",
         "0.2215090222718693",
         "3.9221564071534294",
         "-0.76781861309497",
         "1.8888725801531885",
         "0.18198213268684185",
         "0.7034468602312383",
         "0.5070120165684869",
         "0.8601069185044341",
         "0.7973360297859439",
         "0.09429924206113512",
         "0.25650808502305733"
        ],
        [
         "22",
         "2003",
         "475.4619385473318",
         "29.191110620324103",
         "0.08657482763749551",
         "0.15911437435584572",
         "0.29640179118683707",
         "99.92708199786821",
         "0.14168259366640218",
         "4.016513337596543",
         "-0.608825757416218",
         "1.909975891346873",
         "0.22173824026811692",
         "0.6915265574913178",
         "0.5276341489811999",
         "0.8820548874547663",
         "0.8001202164529165",
         "0.09313814163150486",
         "0.2607909497226072"
        ],
        [
         "20",
         "2004",
         "477.65106301264643",
         "29.335335911996268",
         "0.08784462135154308",
         "0.16339944537804843",
         "0.2992360266517324",
         "99.90687394675106",
         "0.2551119905441171",
         "4.3037836969351675",
         "-0.5175744809144041",
         "1.9458666977020949",
         "0.20454627934907965",
         "0.6933716514704963",
         "0.6236717235271972",
         "0.8558515879665871",
         "0.806546857921049",
         "0.08874910593427152",
         "0.2557935953829863"
        ],
        [
         "14",
         "2005",
         "475.4516494690693",
         "29.259353103624555",
         "0.08335417000521762",
         "0.15942922818743993",
         "0.29761148371860396",
         "100.11658819203653",
         "0.2773563309621209",
         "3.6562529866410003",
         "-0.8930022380070661",
         "1.8584941091337936",
         "0.2147573974995416",
         "0.6818910992800903",
         "0.5506099093947224",
         "0.8862060252256246",
         "0.8137834663464969",
         "0.08601749941894903",
         "0.2552006761955803"
        ],
        [
         "15",
         "2006",
         "483.9885281242438",
         "29.191617721463295",
         "0.08599507199943354",
         "0.16280054508544514",
         "0.30367603306882024",
         "100.09068196060142",
         "0.16836481825267235",
         "3.5744423428988417",
         "-0.7604546541283645",
         "1.8626313052099333",
         "0.23221504149552344",
         "0.6713277222290415",
         "0.5842240744944346",
         "0.8893583511397632",
         "0.8160406894359202",
         "0.08459671178858971",
         "0.25167566714314"
        ]
       ],
       "shape": {
        "columns": 18,
        "rows": 5
       }
      },
      "text/html": [
       "<div>\n",
       "<style scoped>\n",
       "    .dataframe tbody tr th:only-of-type {\n",
       "        vertical-align: middle;\n",
       "    }\n",
       "\n",
       "    .dataframe tbody tr th {\n",
       "        vertical-align: top;\n",
       "    }\n",
       "\n",
       "    .dataframe thead th {\n",
       "        text-align: right;\n",
       "    }\n",
       "</style>\n",
       "<table border=\"1\" class=\"dataframe\">\n",
       "  <thead>\n",
       "    <tr style=\"text-align: right;\">\n",
       "      <th></th>\n",
       "      <th>Season</th>\n",
       "      <th>PA</th>\n",
       "      <th>Age</th>\n",
       "      <th>BB%</th>\n",
       "      <th>K%</th>\n",
       "      <th>BABIP</th>\n",
       "      <th>wRC+</th>\n",
       "      <th>BsR</th>\n",
       "      <th>Off</th>\n",
       "      <th>Def</th>\n",
       "      <th>WAR</th>\n",
       "      <th>O-Swing%</th>\n",
       "      <th>Z-Swing%</th>\n",
       "      <th>O-Contact%</th>\n",
       "      <th>Z-Contact%</th>\n",
       "      <th>Contact%</th>\n",
       "      <th>SwStr%</th>\n",
       "      <th>CSW%</th>\n",
       "    </tr>\n",
       "  </thead>\n",
       "  <tbody>\n",
       "    <tr>\n",
       "      <th>19</th>\n",
       "      <td>2002</td>\n",
       "      <td>473.684181</td>\n",
       "      <td>29.200233</td>\n",
       "      <td>0.088931</td>\n",
       "      <td>0.162881</td>\n",
       "      <td>0.294877</td>\n",
       "      <td>99.856949</td>\n",
       "      <td>0.221509</td>\n",
       "      <td>3.922156</td>\n",
       "      <td>-0.767819</td>\n",
       "      <td>1.888873</td>\n",
       "      <td>0.181982</td>\n",
       "      <td>0.703447</td>\n",
       "      <td>0.507012</td>\n",
       "      <td>0.860107</td>\n",
       "      <td>0.797336</td>\n",
       "      <td>0.094299</td>\n",
       "      <td>0.256508</td>\n",
       "    </tr>\n",
       "    <tr>\n",
       "      <th>22</th>\n",
       "      <td>2003</td>\n",
       "      <td>475.461939</td>\n",
       "      <td>29.191111</td>\n",
       "      <td>0.086575</td>\n",
       "      <td>0.159114</td>\n",
       "      <td>0.296402</td>\n",
       "      <td>99.927082</td>\n",
       "      <td>0.141683</td>\n",
       "      <td>4.016513</td>\n",
       "      <td>-0.608826</td>\n",
       "      <td>1.909976</td>\n",
       "      <td>0.221738</td>\n",
       "      <td>0.691527</td>\n",
       "      <td>0.527634</td>\n",
       "      <td>0.882055</td>\n",
       "      <td>0.800120</td>\n",
       "      <td>0.093138</td>\n",
       "      <td>0.260791</td>\n",
       "    </tr>\n",
       "    <tr>\n",
       "      <th>20</th>\n",
       "      <td>2004</td>\n",
       "      <td>477.651063</td>\n",
       "      <td>29.335336</td>\n",
       "      <td>0.087845</td>\n",
       "      <td>0.163399</td>\n",
       "      <td>0.299236</td>\n",
       "      <td>99.906874</td>\n",
       "      <td>0.255112</td>\n",
       "      <td>4.303784</td>\n",
       "      <td>-0.517574</td>\n",
       "      <td>1.945867</td>\n",
       "      <td>0.204546</td>\n",
       "      <td>0.693372</td>\n",
       "      <td>0.623672</td>\n",
       "      <td>0.855852</td>\n",
       "      <td>0.806547</td>\n",
       "      <td>0.088749</td>\n",
       "      <td>0.255794</td>\n",
       "    </tr>\n",
       "    <tr>\n",
       "      <th>14</th>\n",
       "      <td>2005</td>\n",
       "      <td>475.451649</td>\n",
       "      <td>29.259353</td>\n",
       "      <td>0.083354</td>\n",
       "      <td>0.159429</td>\n",
       "      <td>0.297611</td>\n",
       "      <td>100.116588</td>\n",
       "      <td>0.277356</td>\n",
       "      <td>3.656253</td>\n",
       "      <td>-0.893002</td>\n",
       "      <td>1.858494</td>\n",
       "      <td>0.214757</td>\n",
       "      <td>0.681891</td>\n",
       "      <td>0.550610</td>\n",
       "      <td>0.886206</td>\n",
       "      <td>0.813783</td>\n",
       "      <td>0.086017</td>\n",
       "      <td>0.255201</td>\n",
       "    </tr>\n",
       "    <tr>\n",
       "      <th>15</th>\n",
       "      <td>2006</td>\n",
       "      <td>483.988528</td>\n",
       "      <td>29.191618</td>\n",
       "      <td>0.085995</td>\n",
       "      <td>0.162801</td>\n",
       "      <td>0.303676</td>\n",
       "      <td>100.090682</td>\n",
       "      <td>0.168365</td>\n",
       "      <td>3.574442</td>\n",
       "      <td>-0.760455</td>\n",
       "      <td>1.862631</td>\n",
       "      <td>0.232215</td>\n",
       "      <td>0.671328</td>\n",
       "      <td>0.584224</td>\n",
       "      <td>0.889358</td>\n",
       "      <td>0.816041</td>\n",
       "      <td>0.084597</td>\n",
       "      <td>0.251676</td>\n",
       "    </tr>\n",
       "  </tbody>\n",
       "</table>\n",
       "</div>"
      ],
      "text/plain": [
       "    Season          PA        Age       BB%        K%     BABIP        wRC+  \\\n",
       "19    2002  473.684181  29.200233  0.088931  0.162881  0.294877   99.856949   \n",
       "22    2003  475.461939  29.191111  0.086575  0.159114  0.296402   99.927082   \n",
       "20    2004  477.651063  29.335336  0.087845  0.163399  0.299236   99.906874   \n",
       "14    2005  475.451649  29.259353  0.083354  0.159429  0.297611  100.116588   \n",
       "15    2006  483.988528  29.191618  0.085995  0.162801  0.303676  100.090682   \n",
       "\n",
       "         BsR       Off       Def       WAR  O-Swing%  Z-Swing%  O-Contact%  \\\n",
       "19  0.221509  3.922156 -0.767819  1.888873  0.181982  0.703447    0.507012   \n",
       "22  0.141683  4.016513 -0.608826  1.909976  0.221738  0.691527    0.527634   \n",
       "20  0.255112  4.303784 -0.517574  1.945867  0.204546  0.693372    0.623672   \n",
       "14  0.277356  3.656253 -0.893002  1.858494  0.214757  0.681891    0.550610   \n",
       "15  0.168365  3.574442 -0.760455  1.862631  0.232215  0.671328    0.584224   \n",
       "\n",
       "    Z-Contact%  Contact%    SwStr%      CSW%  \n",
       "19    0.860107  0.797336  0.094299  0.256508  \n",
       "22    0.882055  0.800120  0.093138  0.260791  \n",
       "20    0.855852  0.806547  0.088749  0.255794  \n",
       "14    0.886206  0.813783  0.086017  0.255201  \n",
       "15    0.889358  0.816041  0.084597  0.251676  "
      ]
     },
     "execution_count": 17,
     "metadata": {},
     "output_type": "execute_result"
    }
   ],
   "source": [
    "# df to store mean results\n",
    "mean_values = pd.DataFrame(index=df['Season'].unique())\n",
    "\n",
    "for col in df.select_dtypes(include=[np.number]).columns:\n",
    "    if col != 'Season' and col != 'MLBAMID':  # skip meaningless numeric\n",
    "        yearly_mean = df.groupby('Season')[col].apply(mean_year)\n",
    "        mean_values[col] = yearly_mean\n",
    "\n",
    "# reset and rename index\n",
    "mean_values = mean_values.reset_index()\n",
    "mean_values = mean_values.rename(columns={'index': 'Season'})\n",
    "\n",
    "# sort and display\n",
    "mean_values = mean_values.sort_values(by=['Season'])\n",
    "mean_values.head()"
   ]
  },
  {
   "cell_type": "code",
   "execution_count": 18,
   "id": "8f2d04db",
   "metadata": {},
   "outputs": [
    {
     "data": {
      "application/vnd.microsoft.datawrangler.viewer.v0+json": {
       "columns": [
        {
         "name": "index",
         "rawType": "int64",
         "type": "integer"
        },
        {
         "name": "Season",
         "rawType": "int64",
         "type": "integer"
        },
        {
         "name": "PA",
         "rawType": "float64",
         "type": "float"
        },
        {
         "name": "Age",
         "rawType": "float64",
         "type": "float"
        },
        {
         "name": "BB%",
         "rawType": "float64",
         "type": "float"
        },
        {
         "name": "K%",
         "rawType": "float64",
         "type": "float"
        },
        {
         "name": "BABIP",
         "rawType": "float64",
         "type": "float"
        },
        {
         "name": "wRC+",
         "rawType": "float64",
         "type": "float"
        },
        {
         "name": "BsR",
         "rawType": "float64",
         "type": "float"
        },
        {
         "name": "Off",
         "rawType": "float64",
         "type": "float"
        },
        {
         "name": "Def",
         "rawType": "float64",
         "type": "float"
        },
        {
         "name": "WAR",
         "rawType": "float64",
         "type": "float"
        },
        {
         "name": "O-Swing%",
         "rawType": "float64",
         "type": "float"
        },
        {
         "name": "Z-Swing%",
         "rawType": "float64",
         "type": "float"
        },
        {
         "name": "O-Contact%",
         "rawType": "float64",
         "type": "float"
        },
        {
         "name": "Z-Contact%",
         "rawType": "float64",
         "type": "float"
        },
        {
         "name": "Contact%",
         "rawType": "float64",
         "type": "float"
        },
        {
         "name": "SwStr%",
         "rawType": "float64",
         "type": "float"
        },
        {
         "name": "CSW%",
         "rawType": "float64",
         "type": "float"
        }
       ],
       "conversionMethod": "pd.DataFrame",
       "ref": "6bfeaae0-64ce-4ae8-815f-98f9fa6c8e31",
       "rows": [
        [
         "19",
         "2002",
         "184.24330165853834",
         "4.009692274646744",
         "0.03798599629205102",
         "0.055976942254907715",
         "0.035673984005970306",
         "31.645659573301582",
         "3.121744723140282",
         "19.286649598414964",
         "9.129971620766597",
         "2.195603234792303",
         "0.04709474714842255",
         "0.056035361316012305",
         "0.10892652340570513",
         "0.051808565395263094",
         "0.06129294090418795",
         "0.032166621094507956",
         "0.028209158617817424"
        ],
        [
         "22",
         "2003",
         "185.10606016417066",
         "4.078476845168657",
         "0.035646729641055835",
         "0.05369595803435153",
         "0.03469611738438972",
         "30.915634140920783",
         "3.2825364534090276",
         "17.866265019521098",
         "9.428022490979147",
         "2.1346348063613205",
         "0.048461493457370754",
         "0.05864365684397401",
         "0.10744268055992046",
         "0.04722366226412888",
         "0.06070391000359493",
         "0.03193055135879889",
         "0.027495464970379236"
        ],
        [
         "20",
         "2004",
         "189.82090996954454",
         "4.146485360482718",
         "0.037056764640299736",
         "0.05797759368882925",
         "0.036772340992278774",
         "30.199232946075487",
         "3.5759045430921557",
         "17.922924716777167",
         "9.712096314226864",
         "2.177107542410151",
         "0.05110112602655437",
         "0.05931372669861332",
         "0.10697494215552399",
         "0.05555260748863162",
         "0.06382417093277147",
         "0.0333390644538275",
         "0.030214671343818694"
        ],
        [
         "14",
         "2005",
         "182.88454797795544",
         "4.155987432828558",
         "0.032446954915301016",
         "0.054885165390722634",
         "0.0351864336077939",
         "28.238546210084742",
         "3.328611606338844",
         "16.513000148648338",
         "10.06039353032471",
         "1.9537895066743731",
         "0.05737639468217071",
         "0.05931670898920055",
         "0.11727080140373768",
         "0.04754348574258483",
         "0.06126406890835202",
         "0.03213033283312283",
         "0.027910076325625942"
        ],
        [
         "15",
         "2006",
         "184.13800809010854",
         "4.310582280945339",
         "0.035271679079829574",
         "0.05541648618400445",
         "0.036207905273433406",
         "28.10010493014276",
         "3.600161482110246",
         "16.729147618506595",
         "9.90659274219367",
         "1.9792405760148433",
         "0.060375813273563374",
         "0.05951995510088225",
         "0.11273634996559617",
         "0.046222862745675046",
         "0.06101921683973694",
         "0.031551023685090905",
         "0.028022496663663972"
        ]
       ],
       "shape": {
        "columns": 18,
        "rows": 5
       }
      },
      "text/html": [
       "<div>\n",
       "<style scoped>\n",
       "    .dataframe tbody tr th:only-of-type {\n",
       "        vertical-align: middle;\n",
       "    }\n",
       "\n",
       "    .dataframe tbody tr th {\n",
       "        vertical-align: top;\n",
       "    }\n",
       "\n",
       "    .dataframe thead th {\n",
       "        text-align: right;\n",
       "    }\n",
       "</style>\n",
       "<table border=\"1\" class=\"dataframe\">\n",
       "  <thead>\n",
       "    <tr style=\"text-align: right;\">\n",
       "      <th></th>\n",
       "      <th>Season</th>\n",
       "      <th>PA</th>\n",
       "      <th>Age</th>\n",
       "      <th>BB%</th>\n",
       "      <th>K%</th>\n",
       "      <th>BABIP</th>\n",
       "      <th>wRC+</th>\n",
       "      <th>BsR</th>\n",
       "      <th>Off</th>\n",
       "      <th>Def</th>\n",
       "      <th>WAR</th>\n",
       "      <th>O-Swing%</th>\n",
       "      <th>Z-Swing%</th>\n",
       "      <th>O-Contact%</th>\n",
       "      <th>Z-Contact%</th>\n",
       "      <th>Contact%</th>\n",
       "      <th>SwStr%</th>\n",
       "      <th>CSW%</th>\n",
       "    </tr>\n",
       "  </thead>\n",
       "  <tbody>\n",
       "    <tr>\n",
       "      <th>19</th>\n",
       "      <td>2002</td>\n",
       "      <td>184.243302</td>\n",
       "      <td>4.009692</td>\n",
       "      <td>0.037986</td>\n",
       "      <td>0.055977</td>\n",
       "      <td>0.035674</td>\n",
       "      <td>31.645660</td>\n",
       "      <td>3.121745</td>\n",
       "      <td>19.286650</td>\n",
       "      <td>9.129972</td>\n",
       "      <td>2.195603</td>\n",
       "      <td>0.047095</td>\n",
       "      <td>0.056035</td>\n",
       "      <td>0.108927</td>\n",
       "      <td>0.051809</td>\n",
       "      <td>0.061293</td>\n",
       "      <td>0.032167</td>\n",
       "      <td>0.028209</td>\n",
       "    </tr>\n",
       "    <tr>\n",
       "      <th>22</th>\n",
       "      <td>2003</td>\n",
       "      <td>185.106060</td>\n",
       "      <td>4.078477</td>\n",
       "      <td>0.035647</td>\n",
       "      <td>0.053696</td>\n",
       "      <td>0.034696</td>\n",
       "      <td>30.915634</td>\n",
       "      <td>3.282536</td>\n",
       "      <td>17.866265</td>\n",
       "      <td>9.428022</td>\n",
       "      <td>2.134635</td>\n",
       "      <td>0.048461</td>\n",
       "      <td>0.058644</td>\n",
       "      <td>0.107443</td>\n",
       "      <td>0.047224</td>\n",
       "      <td>0.060704</td>\n",
       "      <td>0.031931</td>\n",
       "      <td>0.027495</td>\n",
       "    </tr>\n",
       "    <tr>\n",
       "      <th>20</th>\n",
       "      <td>2004</td>\n",
       "      <td>189.820910</td>\n",
       "      <td>4.146485</td>\n",
       "      <td>0.037057</td>\n",
       "      <td>0.057978</td>\n",
       "      <td>0.036772</td>\n",
       "      <td>30.199233</td>\n",
       "      <td>3.575905</td>\n",
       "      <td>17.922925</td>\n",
       "      <td>9.712096</td>\n",
       "      <td>2.177108</td>\n",
       "      <td>0.051101</td>\n",
       "      <td>0.059314</td>\n",
       "      <td>0.106975</td>\n",
       "      <td>0.055553</td>\n",
       "      <td>0.063824</td>\n",
       "      <td>0.033339</td>\n",
       "      <td>0.030215</td>\n",
       "    </tr>\n",
       "    <tr>\n",
       "      <th>14</th>\n",
       "      <td>2005</td>\n",
       "      <td>182.884548</td>\n",
       "      <td>4.155987</td>\n",
       "      <td>0.032447</td>\n",
       "      <td>0.054885</td>\n",
       "      <td>0.035186</td>\n",
       "      <td>28.238546</td>\n",
       "      <td>3.328612</td>\n",
       "      <td>16.513000</td>\n",
       "      <td>10.060394</td>\n",
       "      <td>1.953790</td>\n",
       "      <td>0.057376</td>\n",
       "      <td>0.059317</td>\n",
       "      <td>0.117271</td>\n",
       "      <td>0.047543</td>\n",
       "      <td>0.061264</td>\n",
       "      <td>0.032130</td>\n",
       "      <td>0.027910</td>\n",
       "    </tr>\n",
       "    <tr>\n",
       "      <th>15</th>\n",
       "      <td>2006</td>\n",
       "      <td>184.138008</td>\n",
       "      <td>4.310582</td>\n",
       "      <td>0.035272</td>\n",
       "      <td>0.055416</td>\n",
       "      <td>0.036208</td>\n",
       "      <td>28.100105</td>\n",
       "      <td>3.600161</td>\n",
       "      <td>16.729148</td>\n",
       "      <td>9.906593</td>\n",
       "      <td>1.979241</td>\n",
       "      <td>0.060376</td>\n",
       "      <td>0.059520</td>\n",
       "      <td>0.112736</td>\n",
       "      <td>0.046223</td>\n",
       "      <td>0.061019</td>\n",
       "      <td>0.031551</td>\n",
       "      <td>0.028022</td>\n",
       "    </tr>\n",
       "  </tbody>\n",
       "</table>\n",
       "</div>"
      ],
      "text/plain": [
       "    Season          PA       Age       BB%        K%     BABIP       wRC+  \\\n",
       "19    2002  184.243302  4.009692  0.037986  0.055977  0.035674  31.645660   \n",
       "22    2003  185.106060  4.078477  0.035647  0.053696  0.034696  30.915634   \n",
       "20    2004  189.820910  4.146485  0.037057  0.057978  0.036772  30.199233   \n",
       "14    2005  182.884548  4.155987  0.032447  0.054885  0.035186  28.238546   \n",
       "15    2006  184.138008  4.310582  0.035272  0.055416  0.036208  28.100105   \n",
       "\n",
       "         BsR        Off        Def       WAR  O-Swing%  Z-Swing%  O-Contact%  \\\n",
       "19  3.121745  19.286650   9.129972  2.195603  0.047095  0.056035    0.108927   \n",
       "22  3.282536  17.866265   9.428022  2.134635  0.048461  0.058644    0.107443   \n",
       "20  3.575905  17.922925   9.712096  2.177108  0.051101  0.059314    0.106975   \n",
       "14  3.328612  16.513000  10.060394  1.953790  0.057376  0.059317    0.117271   \n",
       "15  3.600161  16.729148   9.906593  1.979241  0.060376  0.059520    0.112736   \n",
       "\n",
       "    Z-Contact%  Contact%    SwStr%      CSW%  \n",
       "19    0.051809  0.061293  0.032167  0.028209  \n",
       "22    0.047224  0.060704  0.031931  0.027495  \n",
       "20    0.055553  0.063824  0.033339  0.030215  \n",
       "14    0.047543  0.061264  0.032130  0.027910  \n",
       "15    0.046223  0.061019  0.031551  0.028022  "
      ]
     },
     "execution_count": 18,
     "metadata": {},
     "output_type": "execute_result"
    }
   ],
   "source": [
    "# Create empty DataFrame to store results\n",
    "std_values = pd.DataFrame(index=df['Season'].unique())\n",
    "\n",
    "# Loop through numeric columns\n",
    "for col in df.select_dtypes(include=[np.number]).columns:\n",
    "    if col != 'Season' and col != 'MLBAMID':  # skip meaningless numeric\n",
    "        yearly_std = df.groupby('Season')[col].apply(calculate_weighted_std)\n",
    "        std_values[col] = yearly_std\n",
    "\n",
    "std_values = std_values.reset_index()\n",
    "std_values = std_values.rename(columns={'index': 'Season'})\n",
    "\n",
    "std_values = std_values.sort_values(by=['Season'])\n",
    "std_values.head()"
   ]
  },
  {
   "cell_type": "code",
   "execution_count": 19,
   "id": "e00580e3",
   "metadata": {},
   "outputs": [
    {
     "data": {
      "application/vnd.microsoft.datawrangler.viewer.v0+json": {
       "columns": [
        {
         "name": "index",
         "rawType": "int64",
         "type": "integer"
        },
        {
         "name": "Name",
         "rawType": "object",
         "type": "string"
        },
        {
         "name": "Season",
         "rawType": "int64",
         "type": "integer"
        },
        {
         "name": "PA",
         "rawType": "float64",
         "type": "float"
        },
        {
         "name": "Age",
         "rawType": "float64",
         "type": "float"
        },
        {
         "name": "BB%",
         "rawType": "float64",
         "type": "float"
        },
        {
         "name": "K%",
         "rawType": "float64",
         "type": "float"
        },
        {
         "name": "BABIP",
         "rawType": "float64",
         "type": "float"
        },
        {
         "name": "wRC+",
         "rawType": "float64",
         "type": "float"
        },
        {
         "name": "BsR",
         "rawType": "float64",
         "type": "float"
        },
        {
         "name": "Off",
         "rawType": "float64",
         "type": "float"
        },
        {
         "name": "Def",
         "rawType": "float64",
         "type": "float"
        },
        {
         "name": "WAR",
         "rawType": "float64",
         "type": "float"
        },
        {
         "name": "O-Swing%",
         "rawType": "float64",
         "type": "float"
        },
        {
         "name": "Z-Swing%",
         "rawType": "float64",
         "type": "float"
        },
        {
         "name": "O-Contact%",
         "rawType": "float64",
         "type": "float"
        },
        {
         "name": "Z-Contact%",
         "rawType": "float64",
         "type": "float"
        },
        {
         "name": "Contact%",
         "rawType": "float64",
         "type": "float"
        },
        {
         "name": "SwStr%",
         "rawType": "float64",
         "type": "float"
        },
        {
         "name": "CSW%",
         "rawType": "float64",
         "type": "float"
        }
       ],
       "conversionMethod": "pd.DataFrame",
       "ref": "3b95ce50-1fb5-46e2-8636-cc9de06bce4e",
       "rows": [
        [
         "0",
         "brent clevlen",
         "2007",
         "74.82686965346299",
         "85.95897097365655",
         "74.68621926827133",
         "193.0601611968982",
         "107.34412235380708",
         "43.28257097834069",
         "98.65316986170303",
         "96.3633867499809",
         "100.65771789876774",
         "89.90199649736043",
         "138.70318257146263",
         "88.95028719048153",
         "71.66645938599967",
         "22.211544275216127",
         "37.18720140908257",
         "169.89357525799795",
         "204.59646049994342"
        ],
        [
         "1",
         "brett hayes",
         "2009",
         "74.29790715830276",
         "90.36779112804864",
         "72.47599860795061",
         "127.85962270821554",
         "108.21988159474317",
         "117.93150611315738",
         "99.86631494499727",
         "98.23577807314419",
         "100.84351155401015",
         "91.58048026414406",
         "170.66860220711342",
         "80.73514071279259",
         "60.42176300872076",
         "105.38103277851104",
         "65.57805018787153",
         "147.46935152033797",
         "199.42887754060763"
        ],
        [
         "2",
         "carlos peguero",
         "2014",
         "75.72375535231586",
         "96.25773902392005",
         "107.34848313743288",
         "147.61270518046274",
         "148.43698439941105",
         "92.7380368299762",
         "100.37761539793819",
         "97.71131717721981",
         "100.97105074966669",
         "91.2566035394176",
         "122.45797617721612",
         "73.45258378271696",
         "41.259125456093116",
         "91.33666568489791",
         "33.46246418241941",
         "156.57837997335707",
         "183.27808682000165"
        ],
        [
         "3",
         "seby zavala",
         "2019",
         "75.88713140387156",
         "92.0570938043091",
         "73.04051755987777",
         "181.64620704336818",
         "108.09899657296708",
         "44.14668195985887",
         "99.59461346320022",
         "95.87499441100647",
         "101.72985530630164",
         "90.24562523344896",
         "129.4582571961723",
         "111.27206771150115",
         "55.70808040980202",
         "34.47670554334525",
         "40.15832273383544",
         "179.13401637986044",
         "179.99329986469255"
        ],
        [
         "4",
         "franklin barreto",
         "2020",
         "77.8341976303452",
         "88.98194342202012",
         "76.64764920699801",
         "142.10982216936895",
         "78.73713656970641",
         "59.95612376444079",
         "101.61013218968431",
         "90.94652110328067",
         "99.88766180408643",
         "86.74733423869667",
         "120.94239541578541",
         "87.57240930388888",
         "55.23315474981282",
         "84.44268713722647",
         "56.51782175309771",
         "144.96958252498857",
         "165.94178022285124"
        ]
       ],
       "shape": {
        "columns": 19,
        "rows": 5
       }
      },
      "text/html": [
       "<div>\n",
       "<style scoped>\n",
       "    .dataframe tbody tr th:only-of-type {\n",
       "        vertical-align: middle;\n",
       "    }\n",
       "\n",
       "    .dataframe tbody tr th {\n",
       "        vertical-align: top;\n",
       "    }\n",
       "\n",
       "    .dataframe thead th {\n",
       "        text-align: right;\n",
       "    }\n",
       "</style>\n",
       "<table border=\"1\" class=\"dataframe\">\n",
       "  <thead>\n",
       "    <tr style=\"text-align: right;\">\n",
       "      <th></th>\n",
       "      <th>Name</th>\n",
       "      <th>Season</th>\n",
       "      <th>PA</th>\n",
       "      <th>Age</th>\n",
       "      <th>BB%</th>\n",
       "      <th>K%</th>\n",
       "      <th>BABIP</th>\n",
       "      <th>wRC+</th>\n",
       "      <th>BsR</th>\n",
       "      <th>Off</th>\n",
       "      <th>Def</th>\n",
       "      <th>WAR</th>\n",
       "      <th>O-Swing%</th>\n",
       "      <th>Z-Swing%</th>\n",
       "      <th>O-Contact%</th>\n",
       "      <th>Z-Contact%</th>\n",
       "      <th>Contact%</th>\n",
       "      <th>SwStr%</th>\n",
       "      <th>CSW%</th>\n",
       "    </tr>\n",
       "  </thead>\n",
       "  <tbody>\n",
       "    <tr>\n",
       "      <th>0</th>\n",
       "      <td>brent clevlen</td>\n",
       "      <td>2007</td>\n",
       "      <td>74.826870</td>\n",
       "      <td>85.958971</td>\n",
       "      <td>74.686219</td>\n",
       "      <td>193.060161</td>\n",
       "      <td>107.344122</td>\n",
       "      <td>43.282571</td>\n",
       "      <td>98.653170</td>\n",
       "      <td>96.363387</td>\n",
       "      <td>100.657718</td>\n",
       "      <td>89.901996</td>\n",
       "      <td>138.703183</td>\n",
       "      <td>88.950287</td>\n",
       "      <td>71.666459</td>\n",
       "      <td>22.211544</td>\n",
       "      <td>37.187201</td>\n",
       "      <td>169.893575</td>\n",
       "      <td>204.596460</td>\n",
       "    </tr>\n",
       "    <tr>\n",
       "      <th>1</th>\n",
       "      <td>brett hayes</td>\n",
       "      <td>2009</td>\n",
       "      <td>74.297907</td>\n",
       "      <td>90.367791</td>\n",
       "      <td>72.475999</td>\n",
       "      <td>127.859623</td>\n",
       "      <td>108.219882</td>\n",
       "      <td>117.931506</td>\n",
       "      <td>99.866315</td>\n",
       "      <td>98.235778</td>\n",
       "      <td>100.843512</td>\n",
       "      <td>91.580480</td>\n",
       "      <td>170.668602</td>\n",
       "      <td>80.735141</td>\n",
       "      <td>60.421763</td>\n",
       "      <td>105.381033</td>\n",
       "      <td>65.578050</td>\n",
       "      <td>147.469352</td>\n",
       "      <td>199.428878</td>\n",
       "    </tr>\n",
       "    <tr>\n",
       "      <th>2</th>\n",
       "      <td>carlos peguero</td>\n",
       "      <td>2014</td>\n",
       "      <td>75.723755</td>\n",
       "      <td>96.257739</td>\n",
       "      <td>107.348483</td>\n",
       "      <td>147.612705</td>\n",
       "      <td>148.436984</td>\n",
       "      <td>92.738037</td>\n",
       "      <td>100.377615</td>\n",
       "      <td>97.711317</td>\n",
       "      <td>100.971051</td>\n",
       "      <td>91.256604</td>\n",
       "      <td>122.457976</td>\n",
       "      <td>73.452584</td>\n",
       "      <td>41.259125</td>\n",
       "      <td>91.336666</td>\n",
       "      <td>33.462464</td>\n",
       "      <td>156.578380</td>\n",
       "      <td>183.278087</td>\n",
       "    </tr>\n",
       "    <tr>\n",
       "      <th>3</th>\n",
       "      <td>seby zavala</td>\n",
       "      <td>2019</td>\n",
       "      <td>75.887131</td>\n",
       "      <td>92.057094</td>\n",
       "      <td>73.040518</td>\n",
       "      <td>181.646207</td>\n",
       "      <td>108.098997</td>\n",
       "      <td>44.146682</td>\n",
       "      <td>99.594613</td>\n",
       "      <td>95.874994</td>\n",
       "      <td>101.729855</td>\n",
       "      <td>90.245625</td>\n",
       "      <td>129.458257</td>\n",
       "      <td>111.272068</td>\n",
       "      <td>55.708080</td>\n",
       "      <td>34.476706</td>\n",
       "      <td>40.158323</td>\n",
       "      <td>179.134016</td>\n",
       "      <td>179.993300</td>\n",
       "    </tr>\n",
       "    <tr>\n",
       "      <th>4</th>\n",
       "      <td>franklin barreto</td>\n",
       "      <td>2020</td>\n",
       "      <td>77.834198</td>\n",
       "      <td>88.981943</td>\n",
       "      <td>76.647649</td>\n",
       "      <td>142.109822</td>\n",
       "      <td>78.737137</td>\n",
       "      <td>59.956124</td>\n",
       "      <td>101.610132</td>\n",
       "      <td>90.946521</td>\n",
       "      <td>99.887662</td>\n",
       "      <td>86.747334</td>\n",
       "      <td>120.942395</td>\n",
       "      <td>87.572409</td>\n",
       "      <td>55.233155</td>\n",
       "      <td>84.442687</td>\n",
       "      <td>56.517822</td>\n",
       "      <td>144.969583</td>\n",
       "      <td>165.941780</td>\n",
       "    </tr>\n",
       "  </tbody>\n",
       "</table>\n",
       "</div>"
      ],
      "text/plain": [
       "               Name  Season         PA        Age         BB%          K%  \\\n",
       "0     brent clevlen    2007  74.826870  85.958971   74.686219  193.060161   \n",
       "1       brett hayes    2009  74.297907  90.367791   72.475999  127.859623   \n",
       "2    carlos peguero    2014  75.723755  96.257739  107.348483  147.612705   \n",
       "3       seby zavala    2019  75.887131  92.057094   73.040518  181.646207   \n",
       "4  franklin barreto    2020  77.834198  88.981943   76.647649  142.109822   \n",
       "\n",
       "        BABIP        wRC+         BsR        Off         Def        WAR  \\\n",
       "0  107.344122   43.282571   98.653170  96.363387  100.657718  89.901996   \n",
       "1  108.219882  117.931506   99.866315  98.235778  100.843512  91.580480   \n",
       "2  148.436984   92.738037  100.377615  97.711317  100.971051  91.256604   \n",
       "3  108.098997   44.146682   99.594613  95.874994  101.729855  90.245625   \n",
       "4   78.737137   59.956124  101.610132  90.946521   99.887662  86.747334   \n",
       "\n",
       "     O-Swing%    Z-Swing%  O-Contact%  Z-Contact%   Contact%      SwStr%  \\\n",
       "0  138.703183   88.950287   71.666459   22.211544  37.187201  169.893575   \n",
       "1  170.668602   80.735141   60.421763  105.381033  65.578050  147.469352   \n",
       "2  122.457976   73.452584   41.259125   91.336666  33.462464  156.578380   \n",
       "3  129.458257  111.272068   55.708080   34.476706  40.158323  179.134016   \n",
       "4  120.942395   87.572409   55.233155   84.442687  56.517822  144.969583   \n",
       "\n",
       "         CSW%  \n",
       "0  204.596460  \n",
       "1  199.428878  \n",
       "2  183.278087  \n",
       "3  179.993300  \n",
       "4  165.941780  "
      ]
     },
     "execution_count": 19,
     "metadata": {},
     "output_type": "execute_result"
    }
   ],
   "source": [
    "df_zscore = z_scores(df, mean_df=mean_values, std_df=std_values)\n",
    "df_zscore.head()"
   ]
  },
  {
   "cell_type": "markdown",
   "id": "a2f9d240",
   "metadata": {},
   "source": [
    "#### Clustering"
   ]
  },
  {
   "cell_type": "markdown",
   "id": "ef2b0db3",
   "metadata": {},
   "source": [
    "<small> First Cluster for 2002-2024 Data"
   ]
  },
  {
   "cell_type": "code",
   "execution_count": 70,
   "id": "f02672e3",
   "metadata": {},
   "outputs": [],
   "source": [
    "# clustering\n",
    "from sklearn.cluster import KMeans"
   ]
  },
  {
   "cell_type": "markdown",
   "id": "6802d573",
   "metadata": {},
   "source": [
    "average indiv player, not by season\n",
    "<br>\n",
    "<br>\n",
    "<small> Need to average player together so that for each player there is only one row. We can then cluster the type of career a player has and look at age progression based on such clusters"
   ]
  },
  {
   "cell_type": "code",
   "execution_count": 71,
   "id": "53d0a657",
   "metadata": {},
   "outputs": [],
   "source": [
    "# borrowed from player att ipynb\n",
    "def clean_names(df):\n",
    "    df['Name'] = df['Name'].str.split(',').str[0]\n",
    "    return df"
   ]
  },
  {
   "cell_type": "code",
   "execution_count": 72,
   "id": "06a5d472",
   "metadata": {},
   "outputs": [],
   "source": [
    "df_zscore_player = clean_names(df_zscore)\n",
    "df_zscore_player = df_zscore_player.groupby('Name').mean()"
   ]
  },
  {
   "cell_type": "markdown",
   "id": "1ffeeaa0",
   "metadata": {},
   "source": [
    "Amount of Clusters"
   ]
  },
  {
   "cell_type": "code",
   "execution_count": 76,
   "id": "8f70a04e",
   "metadata": {},
   "outputs": [
    {
     "data": {
      "image/png": "[encoded data removed]",
      "text/plain": [
       "<Figure size 640x480 with 1 Axes>"
      ]
     },
     "metadata": {},
     "output_type": "display_data"
    }
   ],
   "source": [
    "X = df_zscore_player.drop(columns=['Season', 'Age'])\n",
    "\n",
    "wcss = []\n",
    "for i in range(1,20):\n",
    "    kmeans_clust = KMeans(n_clusters=i, init='k-means++', random_state=42)\n",
    "    kmeans_clust.fit(X)\n",
    "    wcss.append(kmeans_clust.inertia_)\n",
    "\n",
    "plt.plot(range(1,20), wcss)\n",
    "plt.title('Within Cluster Sum of Squares')\n",
    "plt.ylabel('WCSS')\n",
    "plt.xlabel('Clusters')\n",
    "plt.grid(True)\n",
    "plt.show()"
   ]
  },
  {
   "cell_type": "markdown",
   "id": "05a16c5b",
   "metadata": {},
   "source": [
    "Player Clusters"
   ]
  },
  {
   "cell_type": "code",
   "execution_count": 52,
   "id": "ef646e84",
   "metadata": {},
   "outputs": [],
   "source": [
    "model = KMeans(n_clusters=4, init=\"k-means++\", random_state=26)\n",
    "labels = model.fit_predict(X)"
   ]
  },
  {
   "cell_type": "markdown",
   "id": "5e743e5a",
   "metadata": {},
   "source": [
    "add to df_zscore"
   ]
  },
  {
   "cell_type": "code",
   "execution_count": 53,
   "id": "ea7ef0dd",
   "metadata": {},
   "outputs": [
    {
     "data": {
      "application/vnd.microsoft.datawrangler.viewer.v0+json": {
       "columns": [
        {
         "name": "index",
         "rawType": "int64",
         "type": "integer"
        },
        {
         "name": "Name",
         "rawType": "object",
         "type": "string"
        },
        {
         "name": "Season",
         "rawType": "int64",
         "type": "integer"
        },
        {
         "name": "PA",
         "rawType": "float64",
         "type": "float"
        },
        {
         "name": "Age",
         "rawType": "float64",
         "type": "float"
        },
        {
         "name": "BB%",
         "rawType": "float64",
         "type": "float"
        },
        {
         "name": "K%",
         "rawType": "float64",
         "type": "float"
        },
        {
         "name": "BABIP",
         "rawType": "float64",
         "type": "float"
        },
        {
         "name": "wRC+",
         "rawType": "float64",
         "type": "float"
        },
        {
         "name": "BsR",
         "rawType": "float64",
         "type": "float"
        },
        {
         "name": "Off",
         "rawType": "float64",
         "type": "float"
        },
        {
         "name": "Def",
         "rawType": "float64",
         "type": "float"
        },
        {
         "name": "WAR",
         "rawType": "float64",
         "type": "float"
        },
        {
         "name": "O-Swing%",
         "rawType": "float64",
         "type": "float"
        },
        {
         "name": "Z-Swing%",
         "rawType": "float64",
         "type": "float"
        },
        {
         "name": "O-Contact%",
         "rawType": "float64",
         "type": "float"
        },
        {
         "name": "Z-Contact%",
         "rawType": "float64",
         "type": "float"
        },
        {
         "name": "Contact%",
         "rawType": "float64",
         "type": "float"
        },
        {
         "name": "SwStr%",
         "rawType": "float64",
         "type": "float"
        },
        {
         "name": "CSW%",
         "rawType": "float64",
         "type": "float"
        },
        {
         "name": "Cluster",
         "rawType": "int32",
         "type": "integer"
        }
       ],
       "conversionMethod": "pd.DataFrame",
       "ref": "453dd9ff-c92d-427b-b1b1-86d9d60da4c0",
       "rows": [
        [
         "0",
         "brent clevlen",
         "2007",
         "74.82686965346299",
         "85.95897097365655",
         "74.68621926827133",
         "193.0601611968982",
         "107.34412235380708",
         "43.28257097834069",
         "98.65316986170303",
         "96.3633867499809",
         "100.65771789876774",
         "89.90199649736043",
         "138.70318257146263",
         "88.95028719048153",
         "71.66645938599967",
         "22.211544275216127",
         "37.18720140908257",
         "169.89357525799795",
         "204.59646049994342",
         "2"
        ],
        [
         "1",
         "brett hayes",
         "2009",
         "74.29790715830276",
         "90.36779112804864",
         "72.47599860795061",
         "127.85962270821554",
         "108.21988159474317",
         "117.93150611315738",
         "99.86631494499727",
         "98.23577807314419",
         "100.84351155401015",
         "91.58048026414406",
         "170.66860220711342",
         "80.73514071279259",
         "60.42176300872076",
         "105.38103277851104",
         "65.57805018787153",
         "147.46935152033797",
         "199.42887754060763",
         "2"
        ],
        [
         "2",
         "carlos peguero",
         "2014",
         "75.72375535231586",
         "96.25773902392005",
         "107.34848313743288",
         "147.61270518046274",
         "148.43698439941105",
         "92.7380368299762",
         "100.37761539793819",
         "97.71131717721981",
         "100.97105074966669",
         "91.2566035394176",
         "122.45797617721612",
         "73.45258378271696",
         "41.259125456093116",
         "91.33666568489791",
         "33.46246418241941",
         "156.57837997335707",
         "183.27808682000165",
         "2"
        ],
        [
         "3",
         "seby zavala",
         "2019",
         "75.88713140387156",
         "92.0570938043091",
         "73.04051755987777",
         "181.64620704336818",
         "108.09899657296708",
         "44.14668195985887",
         "99.59461346320022",
         "95.87499441100647",
         "101.72985530630164",
         "90.24562523344896",
         "129.4582571961723",
         "111.27206771150115",
         "55.70808040980202",
         "34.47670554334525",
         "40.15832273383544",
         "179.13401637986044",
         "179.99329986469255",
         "2"
        ],
        [
         "4",
         "franklin barreto",
         "2020",
         "77.8341976303452",
         "88.98194342202012",
         "76.64764920699801",
         "142.10982216936895",
         "78.73713656970641",
         "59.95612376444079",
         "101.61013218968431",
         "90.94652110328067",
         "99.88766180408643",
         "86.74733423869667",
         "120.94239541578541",
         "87.57240930388888",
         "55.23315474981282",
         "84.44268713722647",
         "56.51782175309771",
         "144.96958252498857",
         "165.94178022285124",
         "2"
        ]
       ],
       "shape": {
        "columns": 20,
        "rows": 5
       }
      },
      "text/html": [
       "<div>\n",
       "<style scoped>\n",
       "    .dataframe tbody tr th:only-of-type {\n",
       "        vertical-align: middle;\n",
       "    }\n",
       "\n",
       "    .dataframe tbody tr th {\n",
       "        vertical-align: top;\n",
       "    }\n",
       "\n",
       "    .dataframe thead th {\n",
       "        text-align: right;\n",
       "    }\n",
       "</style>\n",
       "<table border=\"1\" class=\"dataframe\">\n",
       "  <thead>\n",
       "    <tr style=\"text-align: right;\">\n",
       "      <th></th>\n",
       "      <th>Name</th>\n",
       "      <th>Season</th>\n",
       "      <th>PA</th>\n",
       "      <th>Age</th>\n",
       "      <th>BB%</th>\n",
       "      <th>K%</th>\n",
       "      <th>BABIP</th>\n",
       "      <th>wRC+</th>\n",
       "      <th>BsR</th>\n",
       "      <th>Off</th>\n",
       "      <th>Def</th>\n",
       "      <th>WAR</th>\n",
       "      <th>O-Swing%</th>\n",
       "      <th>Z-Swing%</th>\n",
       "      <th>O-Contact%</th>\n",
       "      <th>Z-Contact%</th>\n",
       "      <th>Contact%</th>\n",
       "      <th>SwStr%</th>\n",
       "      <th>CSW%</th>\n",
       "      <th>Cluster</th>\n",
       "    </tr>\n",
       "  </thead>\n",
       "  <tbody>\n",
       "    <tr>\n",
       "      <th>0</th>\n",
       "      <td>brent clevlen</td>\n",
       "      <td>2007</td>\n",
       "      <td>74.826870</td>\n",
       "      <td>85.958971</td>\n",
       "      <td>74.686219</td>\n",
       "      <td>193.060161</td>\n",
       "      <td>107.344122</td>\n",
       "      <td>43.282571</td>\n",
       "      <td>98.653170</td>\n",
       "      <td>96.363387</td>\n",
       "      <td>100.657718</td>\n",
       "      <td>89.901996</td>\n",
       "      <td>138.703183</td>\n",
       "      <td>88.950287</td>\n",
       "      <td>71.666459</td>\n",
       "      <td>22.211544</td>\n",
       "      <td>37.187201</td>\n",
       "      <td>169.893575</td>\n",
       "      <td>204.596460</td>\n",
       "      <td>2</td>\n",
       "    </tr>\n",
       "    <tr>\n",
       "      <th>1</th>\n",
       "      <td>brett hayes</td>\n",
       "      <td>2009</td>\n",
       "      <td>74.297907</td>\n",
       "      <td>90.367791</td>\n",
       "      <td>72.475999</td>\n",
       "      <td>127.859623</td>\n",
       "      <td>108.219882</td>\n",
       "      <td>117.931506</td>\n",
       "      <td>99.866315</td>\n",
       "      <td>98.235778</td>\n",
       "      <td>100.843512</td>\n",
       "      <td>91.580480</td>\n",
       "      <td>170.668602</td>\n",
       "      <td>80.735141</td>\n",
       "      <td>60.421763</td>\n",
       "      <td>105.381033</td>\n",
       "      <td>65.578050</td>\n",
       "      <td>147.469352</td>\n",
       "      <td>199.428878</td>\n",
       "      <td>2</td>\n",
       "    </tr>\n",
       "    <tr>\n",
       "      <th>2</th>\n",
       "      <td>carlos peguero</td>\n",
       "      <td>2014</td>\n",
       "      <td>75.723755</td>\n",
       "      <td>96.257739</td>\n",
       "      <td>107.348483</td>\n",
       "      <td>147.612705</td>\n",
       "      <td>148.436984</td>\n",
       "      <td>92.738037</td>\n",
       "      <td>100.377615</td>\n",
       "      <td>97.711317</td>\n",
       "      <td>100.971051</td>\n",
       "      <td>91.256604</td>\n",
       "      <td>122.457976</td>\n",
       "      <td>73.452584</td>\n",
       "      <td>41.259125</td>\n",
       "      <td>91.336666</td>\n",
       "      <td>33.462464</td>\n",
       "      <td>156.578380</td>\n",
       "      <td>183.278087</td>\n",
       "      <td>2</td>\n",
       "    </tr>\n",
       "    <tr>\n",
       "      <th>3</th>\n",
       "      <td>seby zavala</td>\n",
       "      <td>2019</td>\n",
       "      <td>75.887131</td>\n",
       "      <td>92.057094</td>\n",
       "      <td>73.040518</td>\n",
       "      <td>181.646207</td>\n",
       "      <td>108.098997</td>\n",
       "      <td>44.146682</td>\n",
       "      <td>99.594613</td>\n",
       "      <td>95.874994</td>\n",
       "      <td>101.729855</td>\n",
       "      <td>90.245625</td>\n",
       "      <td>129.458257</td>\n",
       "      <td>111.272068</td>\n",
       "      <td>55.708080</td>\n",
       "      <td>34.476706</td>\n",
       "      <td>40.158323</td>\n",
       "      <td>179.134016</td>\n",
       "      <td>179.993300</td>\n",
       "      <td>2</td>\n",
       "    </tr>\n",
       "    <tr>\n",
       "      <th>4</th>\n",
       "      <td>franklin barreto</td>\n",
       "      <td>2020</td>\n",
       "      <td>77.834198</td>\n",
       "      <td>88.981943</td>\n",
       "      <td>76.647649</td>\n",
       "      <td>142.109822</td>\n",
       "      <td>78.737137</td>\n",
       "      <td>59.956124</td>\n",
       "      <td>101.610132</td>\n",
       "      <td>90.946521</td>\n",
       "      <td>99.887662</td>\n",
       "      <td>86.747334</td>\n",
       "      <td>120.942395</td>\n",
       "      <td>87.572409</td>\n",
       "      <td>55.233155</td>\n",
       "      <td>84.442687</td>\n",
       "      <td>56.517822</td>\n",
       "      <td>144.969583</td>\n",
       "      <td>165.941780</td>\n",
       "      <td>2</td>\n",
       "    </tr>\n",
       "  </tbody>\n",
       "</table>\n",
       "</div>"
      ],
      "text/plain": [
       "               Name  Season         PA        Age         BB%          K%  \\\n",
       "0     brent clevlen    2007  74.826870  85.958971   74.686219  193.060161   \n",
       "1       brett hayes    2009  74.297907  90.367791   72.475999  127.859623   \n",
       "2    carlos peguero    2014  75.723755  96.257739  107.348483  147.612705   \n",
       "3       seby zavala    2019  75.887131  92.057094   73.040518  181.646207   \n",
       "4  franklin barreto    2020  77.834198  88.981943   76.647649  142.109822   \n",
       "\n",
       "        BABIP        wRC+         BsR        Off         Def        WAR  \\\n",
       "0  107.344122   43.282571   98.653170  96.363387  100.657718  89.901996   \n",
       "1  108.219882  117.931506   99.866315  98.235778  100.843512  91.580480   \n",
       "2  148.436984   92.738037  100.377615  97.711317  100.971051  91.256604   \n",
       "3  108.098997   44.146682   99.594613  95.874994  101.729855  90.245625   \n",
       "4   78.737137   59.956124  101.610132  90.946521   99.887662  86.747334   \n",
       "\n",
       "     O-Swing%    Z-Swing%  O-Contact%  Z-Contact%   Contact%      SwStr%  \\\n",
       "0  138.703183   88.950287   71.666459   22.211544  37.187201  169.893575   \n",
       "1  170.668602   80.735141   60.421763  105.381033  65.578050  147.469352   \n",
       "2  122.457976   73.452584   41.259125   91.336666  33.462464  156.578380   \n",
       "3  129.458257  111.272068   55.708080   34.476706  40.158323  179.134016   \n",
       "4  120.942395   87.572409   55.233155   84.442687  56.517822  144.969583   \n",
       "\n",
       "         CSW%  Cluster  \n",
       "0  204.596460        2  \n",
       "1  199.428878        2  \n",
       "2  183.278087        2  \n",
       "3  179.993300        2  \n",
       "4  165.941780        2  "
      ]
     },
     "execution_count": 53,
     "metadata": {},
     "output_type": "execute_result"
    }
   ],
   "source": [
    "df_zscore['Cluster'] = labels\n",
    "df_zscore.head()"
   ]
  },
  {
   "cell_type": "markdown",
   "id": "298198cd",
   "metadata": {},
   "source": [
    "#### Cluster Means"
   ]
  },
  {
   "cell_type": "markdown",
   "id": "1818e2e8",
   "metadata": {},
   "source": [
    "wrc by cluster"
   ]
  },
  {
   "cell_type": "code",
   "execution_count": 55,
   "id": "a5c4672d",
   "metadata": {},
   "outputs": [
    {
     "data": {
      "application/vnd.microsoft.datawrangler.viewer.v0+json": {
       "columns": [
        {
         "name": "Cluster",
         "rawType": "int32",
         "type": "integer"
        },
        {
         "name": "Season",
         "rawType": "float64",
         "type": "float"
        },
        {
         "name": "PA",
         "rawType": "float64",
         "type": "float"
        },
        {
         "name": "Age",
         "rawType": "float64",
         "type": "float"
        },
        {
         "name": "BB%",
         "rawType": "float64",
         "type": "float"
        },
        {
         "name": "K%",
         "rawType": "float64",
         "type": "float"
        },
        {
         "name": "BABIP",
         "rawType": "float64",
         "type": "float"
        },
        {
         "name": "wRC+",
         "rawType": "float64",
         "type": "float"
        },
        {
         "name": "BsR",
         "rawType": "float64",
         "type": "float"
        },
        {
         "name": "Off",
         "rawType": "float64",
         "type": "float"
        },
        {
         "name": "Def",
         "rawType": "float64",
         "type": "float"
        },
        {
         "name": "WAR",
         "rawType": "float64",
         "type": "float"
        },
        {
         "name": "O-Swing%",
         "rawType": "float64",
         "type": "float"
        },
        {
         "name": "Z-Swing%",
         "rawType": "float64",
         "type": "float"
        },
        {
         "name": "O-Contact%",
         "rawType": "float64",
         "type": "float"
        },
        {
         "name": "Z-Contact%",
         "rawType": "float64",
         "type": "float"
        },
        {
         "name": "Contact%",
         "rawType": "float64",
         "type": "float"
        },
        {
         "name": "SwStr%",
         "rawType": "float64",
         "type": "float"
        },
        {
         "name": "CSW%",
         "rawType": "float64",
         "type": "float"
        }
       ],
       "conversionMethod": "pd.DataFrame",
       "ref": "c3b28331-3261-40ca-bed2-479ddc2affd7",
       "rows": [
        [
         "0",
         "2013.2713472485768",
         "91.27547295943539",
         "98.12898841484444",
         "100.44697026611364",
         "109.93973001090829",
         "104.55226395102471",
         "99.85760779973427",
         "99.3276718267449",
         "98.1950580556011",
         "99.03936010082023",
         "95.49677916680841",
         "101.30275311631556",
         "102.6509360130327",
         "90.581053975994",
         "90.85903652395879",
         "90.0466042182619",
         "109.26169969078225",
         "107.59112030072212"
        ],
        [
         "1",
         "2013.2150962012827",
         "101.65939347142962",
         "100.43447244979505",
         "102.15298153785687",
         "94.1762432275178",
         "103.50933853101716",
         "104.76973058606794",
         "100.90224764605111",
         "103.26275686971228",
         "100.66309665681786",
         "103.39240529801926",
         "96.85071098616191",
         "97.26530651522249",
         "105.29443993753561",
         "105.62953483097435",
         "106.23035533512846",
         "93.60924504332607",
         "95.81300485621064"
        ],
        [
         "2",
         "2012.7596848325672",
         "79.19747740081655",
         "96.81191195236951",
         "92.31774440736432",
         "123.80627522962773",
         "82.52616360385",
         "74.46242916492363",
         "99.4851276317735",
         "94.34095651042576",
         "100.87350208778405",
         "89.65414314095715",
         "108.19195466545094",
         "102.41659407993038",
         "83.79068428640086",
         "80.76302314606748",
         "79.92973180936953",
         "120.73371088643832",
         "122.02786043425968"
        ],
        [
         "3",
         "2012.9884496919917",
         "85.60701884435362",
         "99.92539608324795",
         "94.60598617192187",
         "98.02446675290702",
         "88.0144389271452",
         "85.8340761566466",
         "98.76801521185415",
         "92.75826764102705",
         "101.16980470807218",
         "90.47064138124864",
         "102.54968049506088",
         "99.03533757927065",
         "103.65615839535035",
         "104.16825886592247",
         "104.13026651908619",
         "96.86317389584623",
         "98.40203059695446"
        ]
       ],
       "shape": {
        "columns": 18,
        "rows": 4
       }
      },
      "text/html": [
       "<div>\n",
       "<style scoped>\n",
       "    .dataframe tbody tr th:only-of-type {\n",
       "        vertical-align: middle;\n",
       "    }\n",
       "\n",
       "    .dataframe tbody tr th {\n",
       "        vertical-align: top;\n",
       "    }\n",
       "\n",
       "    .dataframe thead th {\n",
       "        text-align: right;\n",
       "    }\n",
       "</style>\n",
       "<table border=\"1\" class=\"dataframe\">\n",
       "  <thead>\n",
       "    <tr style=\"text-align: right;\">\n",
       "      <th></th>\n",
       "      <th>Season</th>\n",
       "      <th>PA</th>\n",
       "      <th>Age</th>\n",
       "      <th>BB%</th>\n",
       "      <th>K%</th>\n",
       "      <th>BABIP</th>\n",
       "      <th>wRC+</th>\n",
       "      <th>BsR</th>\n",
       "      <th>Off</th>\n",
       "      <th>Def</th>\n",
       "      <th>WAR</th>\n",
       "      <th>O-Swing%</th>\n",
       "      <th>Z-Swing%</th>\n",
       "      <th>O-Contact%</th>\n",
       "      <th>Z-Contact%</th>\n",
       "      <th>Contact%</th>\n",
       "      <th>SwStr%</th>\n",
       "      <th>CSW%</th>\n",
       "    </tr>\n",
       "    <tr>\n",
       "      <th>Cluster</th>\n",
       "      <th></th>\n",
       "      <th></th>\n",
       "      <th></th>\n",
       "      <th></th>\n",
       "      <th></th>\n",
       "      <th></th>\n",
       "      <th></th>\n",
       "      <th></th>\n",
       "      <th></th>\n",
       "      <th></th>\n",
       "      <th></th>\n",
       "      <th></th>\n",
       "      <th></th>\n",
       "      <th></th>\n",
       "      <th></th>\n",
       "      <th></th>\n",
       "      <th></th>\n",
       "      <th></th>\n",
       "    </tr>\n",
       "  </thead>\n",
       "  <tbody>\n",
       "    <tr>\n",
       "      <th>0</th>\n",
       "      <td>2013.271347</td>\n",
       "      <td>91.275473</td>\n",
       "      <td>98.128988</td>\n",
       "      <td>100.446970</td>\n",
       "      <td>109.939730</td>\n",
       "      <td>104.552264</td>\n",
       "      <td>99.857608</td>\n",
       "      <td>99.327672</td>\n",
       "      <td>98.195058</td>\n",
       "      <td>99.039360</td>\n",
       "      <td>95.496779</td>\n",
       "      <td>101.302753</td>\n",
       "      <td>102.650936</td>\n",
       "      <td>90.581054</td>\n",
       "      <td>90.859037</td>\n",
       "      <td>90.046604</td>\n",
       "      <td>109.261700</td>\n",
       "      <td>107.591120</td>\n",
       "    </tr>\n",
       "    <tr>\n",
       "      <th>1</th>\n",
       "      <td>2013.215096</td>\n",
       "      <td>101.659393</td>\n",
       "      <td>100.434472</td>\n",
       "      <td>102.152982</td>\n",
       "      <td>94.176243</td>\n",
       "      <td>103.509339</td>\n",
       "      <td>104.769731</td>\n",
       "      <td>100.902248</td>\n",
       "      <td>103.262757</td>\n",
       "      <td>100.663097</td>\n",
       "      <td>103.392405</td>\n",
       "      <td>96.850711</td>\n",
       "      <td>97.265307</td>\n",
       "      <td>105.294440</td>\n",
       "      <td>105.629535</td>\n",
       "      <td>106.230355</td>\n",
       "      <td>93.609245</td>\n",
       "      <td>95.813005</td>\n",
       "    </tr>\n",
       "    <tr>\n",
       "      <th>2</th>\n",
       "      <td>2012.759685</td>\n",
       "      <td>79.197477</td>\n",
       "      <td>96.811912</td>\n",
       "      <td>92.317744</td>\n",
       "      <td>123.806275</td>\n",
       "      <td>82.526164</td>\n",
       "      <td>74.462429</td>\n",
       "      <td>99.485128</td>\n",
       "      <td>94.340957</td>\n",
       "      <td>100.873502</td>\n",
       "      <td>89.654143</td>\n",
       "      <td>108.191955</td>\n",
       "      <td>102.416594</td>\n",
       "      <td>83.790684</td>\n",
       "      <td>80.763023</td>\n",
       "      <td>79.929732</td>\n",
       "      <td>120.733711</td>\n",
       "      <td>122.027860</td>\n",
       "    </tr>\n",
       "    <tr>\n",
       "      <th>3</th>\n",
       "      <td>2012.988450</td>\n",
       "      <td>85.607019</td>\n",
       "      <td>99.925396</td>\n",
       "      <td>94.605986</td>\n",
       "      <td>98.024467</td>\n",
       "      <td>88.014439</td>\n",
       "      <td>85.834076</td>\n",
       "      <td>98.768015</td>\n",
       "      <td>92.758268</td>\n",
       "      <td>101.169805</td>\n",
       "      <td>90.470641</td>\n",
       "      <td>102.549680</td>\n",
       "      <td>99.035338</td>\n",
       "      <td>103.656158</td>\n",
       "      <td>104.168259</td>\n",
       "      <td>104.130267</td>\n",
       "      <td>96.863174</td>\n",
       "      <td>98.402031</td>\n",
       "    </tr>\n",
       "  </tbody>\n",
       "</table>\n",
       "</div>"
      ],
      "text/plain": [
       "              Season          PA         Age         BB%          K%  \\\n",
       "Cluster                                                                \n",
       "0        2013.271347   91.275473   98.128988  100.446970  109.939730   \n",
       "1        2013.215096  101.659393  100.434472  102.152982   94.176243   \n",
       "2        2012.759685   79.197477   96.811912   92.317744  123.806275   \n",
       "3        2012.988450   85.607019   99.925396   94.605986   98.024467   \n",
       "\n",
       "              BABIP        wRC+         BsR         Off         Def  \\\n",
       "Cluster                                                               \n",
       "0        104.552264   99.857608   99.327672   98.195058   99.039360   \n",
       "1        103.509339  104.769731  100.902248  103.262757  100.663097   \n",
       "2         82.526164   74.462429   99.485128   94.340957  100.873502   \n",
       "3         88.014439   85.834076   98.768015   92.758268  101.169805   \n",
       "\n",
       "                WAR    O-Swing%    Z-Swing%  O-Contact%  Z-Contact%  \\\n",
       "Cluster                                                               \n",
       "0         95.496779  101.302753  102.650936   90.581054   90.859037   \n",
       "1        103.392405   96.850711   97.265307  105.294440  105.629535   \n",
       "2         89.654143  108.191955  102.416594   83.790684   80.763023   \n",
       "3         90.470641  102.549680   99.035338  103.656158  104.168259   \n",
       "\n",
       "           Contact%      SwStr%        CSW%  \n",
       "Cluster                                      \n",
       "0         90.046604  109.261700  107.591120  \n",
       "1        106.230355   93.609245   95.813005  \n",
       "2         79.929732  120.733711  122.027860  \n",
       "3        104.130267   96.863174   98.402031  "
      ]
     },
     "execution_count": 55,
     "metadata": {},
     "output_type": "execute_result"
    }
   ],
   "source": [
    "cluster_means = df_zscore.groupby('Cluster').mean(numeric_only=True)\n",
    "cluster_means.head()"
   ]
  },
  {
   "cell_type": "markdown",
   "id": "7981d01b",
   "metadata": {},
   "source": [
    "cluster v. wrc+"
   ]
  },
  {
   "cell_type": "code",
   "execution_count": 56,
   "id": "fec73770",
   "metadata": {},
   "outputs": [
    {
     "data": {
      "image/png": "[encoded data removed]",
      "text/plain": [
       "<Figure size 640x480 with 1 Axes>"
      ]
     },
     "metadata": {},
     "output_type": "display_data"
    }
   ],
   "source": [
    "plt.bar(x=cluster_means.index, height=cluster_means['wRC+'])\n",
    "plt.ylim(60, 120)\n",
    "plt.xlabel('Cluster')\n",
    "plt.ylabel('wRC+')\n",
    "plt.show()"
   ]
  },
  {
   "cell_type": "markdown",
   "id": "052fc491",
   "metadata": {},
   "source": [
    "wrc+, by age, by cluster"
   ]
  },
  {
   "cell_type": "code",
   "execution_count": 57,
   "id": "35378416",
   "metadata": {},
   "outputs": [
    {
     "data": {
      "image/png": "[encoded data removed]",
      "text/plain": [
       "<Figure size 1200x600 with 1 Axes>"
      ]
     },
     "metadata": {},
     "output_type": "display_data"
    }
   ],
   "source": [
    "df_zscore_age = df_zscore.copy()\n",
    "df_zscore_age['Age'] = df['Age']\n",
    "cluster_means_age = df_zscore_age.groupby(['Age','Cluster']).mean(numeric_only=True)\n",
    "\n",
    "# Plot wRC+ by age for each cluster\n",
    "plt.figure(figsize=(12, 6))\n",
    "for cluster in df_zscore_age['Cluster'].unique():\n",
    "    cluster_data = cluster_means_age.loc[(slice(None), cluster), 'wRC+']\n",
    "    plt.plot(cluster_data.index.get_level_values('Age'), cluster_data.values, label=f'Cluster {cluster}')\n",
    "\n",
    "plt.xlabel('Age')\n",
    "plt.xlim(23, 38)\n",
    "plt.ylabel('wRC+')\n",
    "plt.title('wRC+ by Age and Cluster')\n",
    "plt.legend()\n",
    "plt.grid(True)\n",
    "plt.show()"
   ]
  }
 ],
 "metadata": {
  "kernelspec": {
   "display_name": "base",
   "language": "python",
   "name": "python3"
  },
  "language_info": {
   "codemirror_mode": {
    "name": "ipython",
    "version": 3
   },
   "file_extension": ".py",
   "mimetype": "text/x-python",
   "name": "python",
   "nbconvert_exporter": "python",
   "pygments_lexer": "ipython3",
   "version": "3.12.7"
  }
 },
 "nbformat": 4,
 "nbformat_minor": 5
}
