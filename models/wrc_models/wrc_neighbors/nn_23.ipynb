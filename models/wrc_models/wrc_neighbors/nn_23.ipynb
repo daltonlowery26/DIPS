{
  "cells": [
    {
      "cell_type": "markdown",
      "id": "2baff03a",
      "metadata": {
        "id": "2baff03a"
      },
      "source": [
        "### NN Model for 2023 Data"
      ]
    },
    {
      "cell_type": "markdown",
      "id": "b7062e36",
      "metadata": {},
      "source": [
        "#### Imports"
      ]
    },
    {
      "cell_type": "markdown",
      "id": "2e4dd603",
      "metadata": {},
      "source": [
        "packages"
      ]
    },
    {
      "cell_type": "code",
      "execution_count": 77,
      "id": "00438762",
      "metadata": {
        "id": "00438762"
      },
      "outputs": [],
      "source": [
        "import pandas as pd\n",
        "from sklearn.neighbors import NearestNeighbors\n",
        "import numpy as np\n",
        "import os"
      ]
    },
    {
      "cell_type": "markdown",
      "id": "tcCWuK5XsFTy",
      "metadata": {
        "id": "tcCWuK5XsFTy"
      },
      "source": [
        "local import"
      ]
    },
    {
      "cell_type": "code",
      "execution_count": 78,
      "id": "CpfudBH_r_At",
      "metadata": {
        "id": "CpfudBH_r_At"
      },
      "outputs": [],
      "source": [
        "os.chdir('C:/Users/dalto/OneDrive/Pictures/Documents/Projects/MLB Season Model/')\n",
        "data_23_24 = pd.read_csv('./data/cleaned/data_23_24.csv')\n",
        "df = data_23_24.copy() # import data\n",
        "df = df.dropna()"
      ]
    },
    {
      "cell_type": "markdown",
      "id": "355cf313",
      "metadata": {},
      "source": [
        "drop always unneeded cols"
      ]
    },
    {
      "cell_type": "code",
      "execution_count": 79,
      "id": "a9bda7f5",
      "metadata": {
        "id": "a9bda7f5"
      },
      "outputs": [],
      "source": [
        "df = df.drop(columns=['Unnamed: 0', 'Team', 'Def'])"
      ]
    },
    {
      "cell_type": "markdown",
      "id": "c9f8645d",
      "metadata": {
        "id": "c9f8645d"
      },
      "source": [
        "#### Normalize Data"
      ]
    },
    {
      "cell_type": "markdown",
      "id": "b3c1ea32",
      "metadata": {
        "id": "b3c1ea32"
      },
      "source": [
        "copied from 'exploration/nearest_neighbors.ipynb'"
      ]
    },
    {
      "cell_type": "code",
      "execution_count": 80,
      "id": "fb420f14",
      "metadata": {
        "id": "fb420f14"
      },
      "outputs": [],
      "source": [
        "def mean_year(group):\n",
        "        avg = np.average(group, weights=group.index.map(lambda x: df.loc[x, 'PA']))\n",
        "        return avg"
      ]
    },
    {
      "cell_type": "code",
      "execution_count": 81,
      "id": "81a4d29a",
      "metadata": {
        "id": "81a4d29a"
      },
      "outputs": [],
      "source": [
        "# weighted std to account for low PA outlier preformances\n",
        "def calculate_weighted_std(group):\n",
        "    avg = np.average(group, weights=group.index.map(lambda x: df.loc[x, 'PA']))\n",
        "    variance = np.average((group - avg)**2, weights=group.index.map(lambda x: df.loc[x, 'PA']))\n",
        "    return np.sqrt(variance)"
      ]
    },
    {
      "cell_type": "code",
      "execution_count": 82,
      "id": "b4a9b759",
      "metadata": {},
      "outputs": [],
      "source": [
        "def z_scores(player_df, mean_df, std_df):\n",
        "    # z scores for each stat and player, also creating a new df flow, add back names based on MLBAMID later\n",
        "    z_scores = pd.DataFrame(index=player_df.index, columns=player_df.select_dtypes(include=[np.number]).columns)\n",
        "\n",
        "    # scaled for each col\n",
        "    for col in player_df.select_dtypes(include=[np.number]).columns:\n",
        "        if col not in ['Season', 'MLBAMID']:  # not needed\n",
        "            for idx in player_df.index:\n",
        "                season = player_df.loc[idx, 'Season']\n",
        "                value = player_df.loc[idx, col]\n",
        "                mean = mean_df.loc[mean_df['Season'] == season, col].iloc[0]\n",
        "                std = std_df.loc[std_df['Season'] == season, col].iloc[0]\n",
        "                # scale so that 10 is 1 std away\n",
        "                z_scores.loc[idx, col] = 100 + ((value - mean) / std * 10)\n",
        "\n",
        "    z_scores['Season'] = player_df['Season']\n",
        "    \n",
        "    # cols to numeric\n",
        "    for col in z_scores.columns:\n",
        "        if col not in ['Season', 'MLBAMID']:\n",
        "            z_scores[col] = pd.to_numeric(z_scores[col])\n",
        "    \n",
        "    # reinsert player names\n",
        "    z_scores.insert(0, 'Name', player_df['Name']) \n",
        "\n",
        "    return z_scores"
      ]
    },
    {
      "cell_type": "markdown",
      "id": "166cbc8d",
      "metadata": {
        "id": "166cbc8d"
      },
      "source": [
        "mean for each year"
      ]
    },
    {
      "cell_type": "code",
      "execution_count": 83,
      "id": "0fbf74af",
      "metadata": {
        "colab": {
          "base_uri": "https://localhost:8080/",
          "height": 808
        },
        "id": "0fbf74af",
        "outputId": "cf212c0c-0976-492a-ac56-84bed9e03e07"
      },
      "outputs": [
        {
          "data": {
            "application/vnd.microsoft.datawrangler.viewer.v0+json": {
              "columns": [
                {
                  "name": "index",
                  "rawType": "int64",
                  "type": "integer"
                },
                {
                  "name": "Season",
                  "rawType": "int64",
                  "type": "integer"
                },
                {
                  "name": "PA",
                  "rawType": "float64",
                  "type": "float"
                },
                {
                  "name": "Age",
                  "rawType": "float64",
                  "type": "float"
                },
                {
                  "name": "BB%",
                  "rawType": "float64",
                  "type": "float"
                },
                {
                  "name": "K%",
                  "rawType": "float64",
                  "type": "float"
                },
                {
                  "name": "BABIP",
                  "rawType": "float64",
                  "type": "float"
                },
                {
                  "name": "wRC+",
                  "rawType": "float64",
                  "type": "float"
                },
                {
                  "name": "BsR",
                  "rawType": "float64",
                  "type": "float"
                },
                {
                  "name": "Off",
                  "rawType": "float64",
                  "type": "float"
                },
                {
                  "name": "WAR",
                  "rawType": "float64",
                  "type": "float"
                },
                {
                  "name": "Barrel%",
                  "rawType": "float64",
                  "type": "float"
                },
                {
                  "name": "maxEV",
                  "rawType": "float64",
                  "type": "float"
                },
                {
                  "name": "HardHit%",
                  "rawType": "float64",
                  "type": "float"
                },
                {
                  "name": "O-Swing%",
                  "rawType": "float64",
                  "type": "float"
                },
                {
                  "name": "Z-Swing%",
                  "rawType": "float64",
                  "type": "float"
                },
                {
                  "name": "O-Contact%",
                  "rawType": "float64",
                  "type": "float"
                },
                {
                  "name": "Z-Contact%",
                  "rawType": "float64",
                  "type": "float"
                },
                {
                  "name": "Contact%",
                  "rawType": "float64",
                  "type": "float"
                },
                {
                  "name": "SwStr%",
                  "rawType": "float64",
                  "type": "float"
                },
                {
                  "name": "CSW%",
                  "rawType": "float64",
                  "type": "float"
                },
                {
                  "name": "player_id",
                  "rawType": "float64",
                  "type": "float"
                },
                {
                  "name": "pa",
                  "rawType": "float64",
                  "type": "float"
                },
                {
                  "name": "k_percent",
                  "rawType": "float64",
                  "type": "float"
                },
                {
                  "name": "bb_percent",
                  "rawType": "float64",
                  "type": "float"
                },
                {
                  "name": "woba",
                  "rawType": "float64",
                  "type": "float"
                },
                {
                  "name": "xwoba",
                  "rawType": "float64",
                  "type": "float"
                },
                {
                  "name": "sweet_spot_percent",
                  "rawType": "float64",
                  "type": "float"
                },
                {
                  "name": "barrel_batted_rate",
                  "rawType": "float64",
                  "type": "float"
                },
                {
                  "name": "hard_hit_percent",
                  "rawType": "float64",
                  "type": "float"
                },
                {
                  "name": "avg_best_speed",
                  "rawType": "float64",
                  "type": "float"
                },
                {
                  "name": "avg_hyper_speed",
                  "rawType": "float64",
                  "type": "float"
                },
                {
                  "name": "whiff_percent",
                  "rawType": "float64",
                  "type": "float"
                },
                {
                  "name": "swing_percent",
                  "rawType": "float64",
                  "type": "float"
                }
              ],
              "conversionMethod": "pd.DataFrame",
              "ref": "65e4398c-bed3-486b-98a2-2bb460562c88",
              "rows": [
                [
                  "0",
                  "2023",
                  "446.22121321789484",
                  "27.977188831045908",
                  "0.08598312916482836",
                  "0.22724311634896582",
                  "0.2966555895271401",
                  "100.23690184702953",
                  "0.052216574992026796",
                  "3.8007169080134524",
                  "1.766131590096605",
                  "0.08311539136015145",
                  "110.87009291222405",
                  "0.3946430921033936",
                  "0.3204638937042955",
                  "0.6899816872397762",
                  "0.6260407320507224",
                  "0.856240215754851",
                  "0.7665978023848445",
                  "0.11164998476645974",
                  "0.274959902615239",
                  "630930.4337574121",
                  "446.11823167506475",
                  "22.722581219899226",
                  "8.601494390467971",
                  "0.31855320286183575",
                  "0.32035224520475486",
                  "33.95950224102893",
                  "8.335060827927954",
                  "39.65642548926811",
                  "99.8656458925611",
                  "94.2049509846031",
                  "25.523627404582275",
                  "47.72291138888116"
                ],
                [
                  "1",
                  "2024",
                  "447.38188498599095",
                  "27.939266160737755",
                  "0.08185087166926341",
                  "0.22606298151782592",
                  "0.2911844533850335",
                  "100.08464150427866",
                  "0.027875553207191685",
                  "3.5174517935720555",
                  "1.7862323104315123",
                  "0.08013307203307365",
                  "110.70161655808023",
                  "0.3893833004802783",
                  "0.3196639444720462",
                  "0.6959496708541325",
                  "0.6253899376203073",
                  "0.8598034037231074",
                  "0.7703240306921196",
                  "0.11069202784394869",
                  "0.2739240732632974",
                  "642818.9305084082",
                  "447.3792621341849",
                  "22.608200186787315",
                  "8.184798644393863",
                  "0.31024661517898583",
                  "0.3123414404992926",
                  "33.90751455431093",
                  "8.037711463931592",
                  "39.17517294603859",
                  "99.6954451764122",
                  "94.11446933035458",
                  "25.13226890662312",
                  "48.12501384127551"
                ]
              ],
              "shape": {
                "columns": 33,
                "rows": 2
              }
            },
            "text/html": [
              "<div>\n",
              "<style scoped>\n",
              "    .dataframe tbody tr th:only-of-type {\n",
              "        vertical-align: middle;\n",
              "    }\n",
              "\n",
              "    .dataframe tbody tr th {\n",
              "        vertical-align: top;\n",
              "    }\n",
              "\n",
              "    .dataframe thead th {\n",
              "        text-align: right;\n",
              "    }\n",
              "</style>\n",
              "<table border=\"1\" class=\"dataframe\">\n",
              "  <thead>\n",
              "    <tr style=\"text-align: right;\">\n",
              "      <th></th>\n",
              "      <th>Season</th>\n",
              "      <th>PA</th>\n",
              "      <th>Age</th>\n",
              "      <th>BB%</th>\n",
              "      <th>K%</th>\n",
              "      <th>BABIP</th>\n",
              "      <th>wRC+</th>\n",
              "      <th>BsR</th>\n",
              "      <th>Off</th>\n",
              "      <th>WAR</th>\n",
              "      <th>...</th>\n",
              "      <th>bb_percent</th>\n",
              "      <th>woba</th>\n",
              "      <th>xwoba</th>\n",
              "      <th>sweet_spot_percent</th>\n",
              "      <th>barrel_batted_rate</th>\n",
              "      <th>hard_hit_percent</th>\n",
              "      <th>avg_best_speed</th>\n",
              "      <th>avg_hyper_speed</th>\n",
              "      <th>whiff_percent</th>\n",
              "      <th>swing_percent</th>\n",
              "    </tr>\n",
              "  </thead>\n",
              "  <tbody>\n",
              "    <tr>\n",
              "      <th>0</th>\n",
              "      <td>2023</td>\n",
              "      <td>446.221213</td>\n",
              "      <td>27.977189</td>\n",
              "      <td>0.085983</td>\n",
              "      <td>0.227243</td>\n",
              "      <td>0.296656</td>\n",
              "      <td>100.236902</td>\n",
              "      <td>0.052217</td>\n",
              "      <td>3.800717</td>\n",
              "      <td>1.766132</td>\n",
              "      <td>...</td>\n",
              "      <td>8.601494</td>\n",
              "      <td>0.318553</td>\n",
              "      <td>0.320352</td>\n",
              "      <td>33.959502</td>\n",
              "      <td>8.335061</td>\n",
              "      <td>39.656425</td>\n",
              "      <td>99.865646</td>\n",
              "      <td>94.204951</td>\n",
              "      <td>25.523627</td>\n",
              "      <td>47.722911</td>\n",
              "    </tr>\n",
              "    <tr>\n",
              "      <th>1</th>\n",
              "      <td>2024</td>\n",
              "      <td>447.381885</td>\n",
              "      <td>27.939266</td>\n",
              "      <td>0.081851</td>\n",
              "      <td>0.226063</td>\n",
              "      <td>0.291184</td>\n",
              "      <td>100.084642</td>\n",
              "      <td>0.027876</td>\n",
              "      <td>3.517452</td>\n",
              "      <td>1.786232</td>\n",
              "      <td>...</td>\n",
              "      <td>8.184799</td>\n",
              "      <td>0.310247</td>\n",
              "      <td>0.312341</td>\n",
              "      <td>33.907515</td>\n",
              "      <td>8.037711</td>\n",
              "      <td>39.175173</td>\n",
              "      <td>99.695445</td>\n",
              "      <td>94.114469</td>\n",
              "      <td>25.132269</td>\n",
              "      <td>48.125014</td>\n",
              "    </tr>\n",
              "  </tbody>\n",
              "</table>\n",
              "<p>2 rows × 33 columns</p>\n",
              "</div>"
            ],
            "text/plain": [
              "   Season          PA        Age       BB%        K%     BABIP        wRC+  \\\n",
              "0    2023  446.221213  27.977189  0.085983  0.227243  0.296656  100.236902   \n",
              "1    2024  447.381885  27.939266  0.081851  0.226063  0.291184  100.084642   \n",
              "\n",
              "        BsR       Off       WAR  ...  bb_percent      woba     xwoba  \\\n",
              "0  0.052217  3.800717  1.766132  ...    8.601494  0.318553  0.320352   \n",
              "1  0.027876  3.517452  1.786232  ...    8.184799  0.310247  0.312341   \n",
              "\n",
              "   sweet_spot_percent  barrel_batted_rate  hard_hit_percent  avg_best_speed  \\\n",
              "0           33.959502            8.335061         39.656425       99.865646   \n",
              "1           33.907515            8.037711         39.175173       99.695445   \n",
              "\n",
              "   avg_hyper_speed  whiff_percent  swing_percent  \n",
              "0        94.204951      25.523627      47.722911  \n",
              "1        94.114469      25.132269      48.125014  \n",
              "\n",
              "[2 rows x 33 columns]"
            ]
          },
          "execution_count": 83,
          "metadata": {},
          "output_type": "execute_result"
        }
      ],
      "source": [
        "# Create empty DataFrame to store results\n",
        "mean_col_year = pd.DataFrame(index=df['Season'].unique())\n",
        "\n",
        "# Loop through numeric columns\n",
        "for col in df.select_dtypes(include=[np.number]).columns:\n",
        "    if col != 'Season' and col != 'MLBAMID':  # skip meaningless numeric\n",
        "        yearly_mean = df.groupby('Season')[col].apply(mean_year)\n",
        "        mean_col_year[col] = yearly_mean\n",
        "        \n",
        "# clean up df to make it easier to work with\n",
        "mean_col_year = mean_col_year.reset_index()\n",
        "mean_col_year = mean_col_year.rename(columns={'index': 'Season'})\n",
        "mean_col_year = mean_col_year.sort_values(by=['Season'])\n",
        "mean_col_year.head()"
      ]
    },
    {
      "cell_type": "markdown",
      "id": "2ed349f8",
      "metadata": {
        "id": "2ed349f8"
      },
      "source": [
        "std for each year"
      ]
    },
    {
      "cell_type": "code",
      "execution_count": 84,
      "id": "3c24e363",
      "metadata": {
        "colab": {
          "base_uri": "https://localhost:8080/",
          "height": 808
        },
        "id": "3c24e363",
        "outputId": "02006ca3-aafa-4cab-a222-a097440ded56"
      },
      "outputs": [
        {
          "data": {
            "application/vnd.microsoft.datawrangler.viewer.v0+json": {
              "columns": [
                {
                  "name": "index",
                  "rawType": "int64",
                  "type": "integer"
                },
                {
                  "name": "Season",
                  "rawType": "int64",
                  "type": "integer"
                },
                {
                  "name": "PA",
                  "rawType": "float64",
                  "type": "float"
                },
                {
                  "name": "Age",
                  "rawType": "float64",
                  "type": "float"
                },
                {
                  "name": "BB%",
                  "rawType": "float64",
                  "type": "float"
                },
                {
                  "name": "K%",
                  "rawType": "float64",
                  "type": "float"
                },
                {
                  "name": "BABIP",
                  "rawType": "float64",
                  "type": "float"
                },
                {
                  "name": "wRC+",
                  "rawType": "float64",
                  "type": "float"
                },
                {
                  "name": "BsR",
                  "rawType": "float64",
                  "type": "float"
                },
                {
                  "name": "Off",
                  "rawType": "float64",
                  "type": "float"
                },
                {
                  "name": "WAR",
                  "rawType": "float64",
                  "type": "float"
                },
                {
                  "name": "Barrel%",
                  "rawType": "float64",
                  "type": "float"
                },
                {
                  "name": "maxEV",
                  "rawType": "float64",
                  "type": "float"
                },
                {
                  "name": "HardHit%",
                  "rawType": "float64",
                  "type": "float"
                },
                {
                  "name": "O-Swing%",
                  "rawType": "float64",
                  "type": "float"
                },
                {
                  "name": "Z-Swing%",
                  "rawType": "float64",
                  "type": "float"
                },
                {
                  "name": "O-Contact%",
                  "rawType": "float64",
                  "type": "float"
                },
                {
                  "name": "Z-Contact%",
                  "rawType": "float64",
                  "type": "float"
                },
                {
                  "name": "Contact%",
                  "rawType": "float64",
                  "type": "float"
                },
                {
                  "name": "SwStr%",
                  "rawType": "float64",
                  "type": "float"
                },
                {
                  "name": "CSW%",
                  "rawType": "float64",
                  "type": "float"
                },
                {
                  "name": "player_id",
                  "rawType": "float64",
                  "type": "float"
                },
                {
                  "name": "pa",
                  "rawType": "float64",
                  "type": "float"
                },
                {
                  "name": "k_percent",
                  "rawType": "float64",
                  "type": "float"
                },
                {
                  "name": "bb_percent",
                  "rawType": "float64",
                  "type": "float"
                },
                {
                  "name": "woba",
                  "rawType": "float64",
                  "type": "float"
                },
                {
                  "name": "xwoba",
                  "rawType": "float64",
                  "type": "float"
                },
                {
                  "name": "sweet_spot_percent",
                  "rawType": "float64",
                  "type": "float"
                },
                {
                  "name": "barrel_batted_rate",
                  "rawType": "float64",
                  "type": "float"
                },
                {
                  "name": "hard_hit_percent",
                  "rawType": "float64",
                  "type": "float"
                },
                {
                  "name": "avg_best_speed",
                  "rawType": "float64",
                  "type": "float"
                },
                {
                  "name": "avg_hyper_speed",
                  "rawType": "float64",
                  "type": "float"
                },
                {
                  "name": "whiff_percent",
                  "rawType": "float64",
                  "type": "float"
                },
                {
                  "name": "swing_percent",
                  "rawType": "float64",
                  "type": "float"
                }
              ],
              "conversionMethod": "pd.DataFrame",
              "ref": "65af6951-8d73-454b-83c4-e918bb56c042",
              "rows": [
                [
                  "0",
                  "2023",
                  "184.64087376463388",
                  "3.6760132440079953",
                  "0.031613850187359425",
                  "0.06319977561623526",
                  "0.04139817354560123",
                  "28.80499906922522",
                  "2.7418223222037557",
                  "15.14853688712443",
                  "1.935213498225631",
                  "0.042805412991506",
                  "3.163377978116227",
                  "0.08047239463429232",
                  "0.06217967037476172",
                  "0.058523109006949424",
                  "0.09062235418920209",
                  "0.04881725795020535",
                  "0.060791966628851835",
                  "0.03424223883822685",
                  "0.02953962590171561",
                  "56008.09413390143",
                  "184.82214484191502",
                  "6.322306097959382",
                  "3.160195457087849",
                  "0.04178470997967155",
                  "0.0392411322934006",
                  "4.295183175444612",
                  "4.296957390197846",
                  "8.054790002002525",
                  "2.490147602766274",
                  "1.443158023691557",
                  "6.280494955023469",
                  "5.035636252671827"
                ],
                [
                  "1",
                  "2024",
                  "181.3453139497205",
                  "3.6238148676460376",
                  "0.02882100340011916",
                  "0.06264506895926088",
                  "0.03888934825033581",
                  "29.40395383971507",
                  "2.684777592699208",
                  "15.563986443800005",
                  "2.050169004190287",
                  "0.04173958068446644",
                  "3.1506229023149457",
                  "0.08130891111136969",
                  "0.05823281775883976",
                  "0.05837914473090046",
                  "0.09348345582280244",
                  "0.0493394431659026",
                  "0.06096612153938709",
                  "0.033851037309506574",
                  "0.029273261916691308",
                  "50481.706467832984",
                  "181.34500849284802",
                  "6.2667403948769955",
                  "2.883527920277078",
                  "0.04236541620114638",
                  "0.03927834728069606",
                  "4.165549236708527",
                  "4.1897564090168355",
                  "8.16148914793825",
                  "2.604873966082739",
                  "1.5129851021353933",
                  "6.330818730483975",
                  "4.873295985622965"
                ]
              ],
              "shape": {
                "columns": 33,
                "rows": 2
              }
            },
            "text/html": [
              "<div>\n",
              "<style scoped>\n",
              "    .dataframe tbody tr th:only-of-type {\n",
              "        vertical-align: middle;\n",
              "    }\n",
              "\n",
              "    .dataframe tbody tr th {\n",
              "        vertical-align: top;\n",
              "    }\n",
              "\n",
              "    .dataframe thead th {\n",
              "        text-align: right;\n",
              "    }\n",
              "</style>\n",
              "<table border=\"1\" class=\"dataframe\">\n",
              "  <thead>\n",
              "    <tr style=\"text-align: right;\">\n",
              "      <th></th>\n",
              "      <th>Season</th>\n",
              "      <th>PA</th>\n",
              "      <th>Age</th>\n",
              "      <th>BB%</th>\n",
              "      <th>K%</th>\n",
              "      <th>BABIP</th>\n",
              "      <th>wRC+</th>\n",
              "      <th>BsR</th>\n",
              "      <th>Off</th>\n",
              "      <th>WAR</th>\n",
              "      <th>...</th>\n",
              "      <th>bb_percent</th>\n",
              "      <th>woba</th>\n",
              "      <th>xwoba</th>\n",
              "      <th>sweet_spot_percent</th>\n",
              "      <th>barrel_batted_rate</th>\n",
              "      <th>hard_hit_percent</th>\n",
              "      <th>avg_best_speed</th>\n",
              "      <th>avg_hyper_speed</th>\n",
              "      <th>whiff_percent</th>\n",
              "      <th>swing_percent</th>\n",
              "    </tr>\n",
              "  </thead>\n",
              "  <tbody>\n",
              "    <tr>\n",
              "      <th>0</th>\n",
              "      <td>2023</td>\n",
              "      <td>184.640874</td>\n",
              "      <td>3.676013</td>\n",
              "      <td>0.031614</td>\n",
              "      <td>0.063200</td>\n",
              "      <td>0.041398</td>\n",
              "      <td>28.804999</td>\n",
              "      <td>2.741822</td>\n",
              "      <td>15.148537</td>\n",
              "      <td>1.935213</td>\n",
              "      <td>...</td>\n",
              "      <td>3.160195</td>\n",
              "      <td>0.041785</td>\n",
              "      <td>0.039241</td>\n",
              "      <td>4.295183</td>\n",
              "      <td>4.296957</td>\n",
              "      <td>8.054790</td>\n",
              "      <td>2.490148</td>\n",
              "      <td>1.443158</td>\n",
              "      <td>6.280495</td>\n",
              "      <td>5.035636</td>\n",
              "    </tr>\n",
              "    <tr>\n",
              "      <th>1</th>\n",
              "      <td>2024</td>\n",
              "      <td>181.345314</td>\n",
              "      <td>3.623815</td>\n",
              "      <td>0.028821</td>\n",
              "      <td>0.062645</td>\n",
              "      <td>0.038889</td>\n",
              "      <td>29.403954</td>\n",
              "      <td>2.684778</td>\n",
              "      <td>15.563986</td>\n",
              "      <td>2.050169</td>\n",
              "      <td>...</td>\n",
              "      <td>2.883528</td>\n",
              "      <td>0.042365</td>\n",
              "      <td>0.039278</td>\n",
              "      <td>4.165549</td>\n",
              "      <td>4.189756</td>\n",
              "      <td>8.161489</td>\n",
              "      <td>2.604874</td>\n",
              "      <td>1.512985</td>\n",
              "      <td>6.330819</td>\n",
              "      <td>4.873296</td>\n",
              "    </tr>\n",
              "  </tbody>\n",
              "</table>\n",
              "<p>2 rows × 33 columns</p>\n",
              "</div>"
            ],
            "text/plain": [
              "   Season          PA       Age       BB%        K%     BABIP       wRC+  \\\n",
              "0    2023  184.640874  3.676013  0.031614  0.063200  0.041398  28.804999   \n",
              "1    2024  181.345314  3.623815  0.028821  0.062645  0.038889  29.403954   \n",
              "\n",
              "        BsR        Off       WAR  ...  bb_percent      woba     xwoba  \\\n",
              "0  2.741822  15.148537  1.935213  ...    3.160195  0.041785  0.039241   \n",
              "1  2.684778  15.563986  2.050169  ...    2.883528  0.042365  0.039278   \n",
              "\n",
              "   sweet_spot_percent  barrel_batted_rate  hard_hit_percent  avg_best_speed  \\\n",
              "0            4.295183            4.296957          8.054790        2.490148   \n",
              "1            4.165549            4.189756          8.161489        2.604874   \n",
              "\n",
              "   avg_hyper_speed  whiff_percent  swing_percent  \n",
              "0         1.443158       6.280495       5.035636  \n",
              "1         1.512985       6.330819       4.873296  \n",
              "\n",
              "[2 rows x 33 columns]"
            ]
          },
          "execution_count": 84,
          "metadata": {},
          "output_type": "execute_result"
        }
      ],
      "source": [
        "# Create empty DataFrame to store results\n",
        "std_col_year = pd.DataFrame(index=df['Season'].unique())\n",
        "\n",
        "# Loop through numeric columns\n",
        "for col in df.select_dtypes(include=[np.number]).columns:\n",
        "    if col != 'Season' and col != 'MLBAMID':  # skip meaningless numeric\n",
        "        yearly_std = df.groupby('Season')[col].apply(calculate_weighted_std)\n",
        "        std_col_year[col] = yearly_std\n",
        "\n",
        "# clean up df to make it easier to work with\n",
        "std_col_year = std_col_year.reset_index()\n",
        "std_col_year = std_col_year.rename(columns={'index': 'Season'})\n",
        "std_col_year = std_col_year.sort_values(by=['Season'])\n",
        "std_col_year.head()"
      ]
    },
    {
      "cell_type": "markdown",
      "id": "0602b291",
      "metadata": {
        "id": "0602b291"
      },
      "source": [
        "z_scores"
      ]
    },
    {
      "cell_type": "code",
      "execution_count": 85,
      "id": "3fa1ed6a",
      "metadata": {
        "id": "3fa1ed6a"
      },
      "outputs": [
        {
          "data": {
            "application/vnd.microsoft.datawrangler.viewer.v0+json": {
              "columns": [
                {
                  "name": "index",
                  "rawType": "int64",
                  "type": "integer"
                },
                {
                  "name": "Name",
                  "rawType": "object",
                  "type": "string"
                },
                {
                  "name": "Season",
                  "rawType": "int64",
                  "type": "integer"
                },
                {
                  "name": "PA",
                  "rawType": "float64",
                  "type": "float"
                },
                {
                  "name": "Age",
                  "rawType": "float64",
                  "type": "float"
                },
                {
                  "name": "BB%",
                  "rawType": "float64",
                  "type": "float"
                },
                {
                  "name": "K%",
                  "rawType": "float64",
                  "type": "float"
                },
                {
                  "name": "BABIP",
                  "rawType": "float64",
                  "type": "float"
                },
                {
                  "name": "wRC+",
                  "rawType": "float64",
                  "type": "float"
                },
                {
                  "name": "BsR",
                  "rawType": "float64",
                  "type": "float"
                },
                {
                  "name": "Off",
                  "rawType": "float64",
                  "type": "float"
                },
                {
                  "name": "WAR",
                  "rawType": "float64",
                  "type": "float"
                },
                {
                  "name": "Barrel%",
                  "rawType": "float64",
                  "type": "float"
                },
                {
                  "name": "maxEV",
                  "rawType": "float64",
                  "type": "float"
                },
                {
                  "name": "HardHit%",
                  "rawType": "float64",
                  "type": "float"
                },
                {
                  "name": "O-Swing%",
                  "rawType": "float64",
                  "type": "float"
                },
                {
                  "name": "Z-Swing%",
                  "rawType": "float64",
                  "type": "float"
                },
                {
                  "name": "O-Contact%",
                  "rawType": "float64",
                  "type": "float"
                },
                {
                  "name": "Z-Contact%",
                  "rawType": "float64",
                  "type": "float"
                },
                {
                  "name": "Contact%",
                  "rawType": "float64",
                  "type": "float"
                },
                {
                  "name": "SwStr%",
                  "rawType": "float64",
                  "type": "float"
                },
                {
                  "name": "CSW%",
                  "rawType": "float64",
                  "type": "float"
                },
                {
                  "name": "player_id",
                  "rawType": "float64",
                  "type": "float"
                },
                {
                  "name": "pa",
                  "rawType": "float64",
                  "type": "float"
                },
                {
                  "name": "k_percent",
                  "rawType": "float64",
                  "type": "float"
                },
                {
                  "name": "bb_percent",
                  "rawType": "float64",
                  "type": "float"
                },
                {
                  "name": "woba",
                  "rawType": "float64",
                  "type": "float"
                },
                {
                  "name": "xwoba",
                  "rawType": "float64",
                  "type": "float"
                },
                {
                  "name": "sweet_spot_percent",
                  "rawType": "float64",
                  "type": "float"
                },
                {
                  "name": "barrel_batted_rate",
                  "rawType": "float64",
                  "type": "float"
                },
                {
                  "name": "hard_hit_percent",
                  "rawType": "float64",
                  "type": "float"
                },
                {
                  "name": "avg_best_speed",
                  "rawType": "float64",
                  "type": "float"
                },
                {
                  "name": "avg_hyper_speed",
                  "rawType": "float64",
                  "type": "float"
                },
                {
                  "name": "whiff_percent",
                  "rawType": "float64",
                  "type": "float"
                },
                {
                  "name": "swing_percent",
                  "rawType": "float64",
                  "type": "float"
                }
              ],
              "conversionMethod": "pd.DataFrame",
              "ref": "c1c5bca1-2749-4518-a70e-f85988cc7963",
              "rows": [
                [
                  "0",
                  "aaron hicks",
                  "2023",
                  "92.7306879305072",
                  "113.66374611718665",
                  "115.38321164519749",
                  "99.03650443540474",
                  "103.4361997775555",
                  "103.00922440432866",
                  "103.68972613821366",
                  "100.39093061627855",
                  "95.71444052682082",
                  "89.88109485855296",
                  "86.68798688820699",
                  "87.43534940610472",
                  "88.56590855567592",
                  "86.62416290452362",
                  "99.81513920426026",
                  "102.13581316996219",
                  "101.97394298631889",
                  "93.21901091918728",
                  "103.21300188984783",
                  "84.35486243329018",
                  "92.74338950076675",
                  "99.01526245288855",
                  "115.5006412611138",
                  "101.78218232022842",
                  "90.22651922528627",
                  "82.40004690778662",
                  "89.91132460885689",
                  "87.26667549778675",
                  "87.12985896498316",
                  "87.19892379576349",
                  "100.12160282902009",
                  "85.25923832377153"
                ],
                [
                  "1",
                  "aaron hicks",
                  "2024",
                  "78.80386999729345",
                  "116.72473363187889",
                  "104.64495394032022",
                  "122.19111348932806",
                  "79.66969235995083",
                  "72.75806774424115",
                  "100.50386780016719",
                  "94.138795574035",
                  "88.77660717008425",
                  "94.89464396056952",
                  "81.94764421378002",
                  "95.51806561148469",
                  "93.43552039155045",
                  "93.51994431769933",
                  "94.5528492531524",
                  "83.66770710156771",
                  "88.72962081937115",
                  "105.78701975272995",
                  "117.08712437959707",
                  "80.28713023561939",
                  "78.8039789278598",
                  "122.16750485558507",
                  "104.56108417177995",
                  "73.03304784342131",
                  "83.61910697527894",
                  "96.38099451321786",
                  "94.89776670707874",
                  "95.25188004811899",
                  "99.78167217242478",
                  "100.07931783087936",
                  "112.11175271289231",
                  "91.53547444389795"
                ],
                [
                  "2",
                  "aaron judge",
                  "2023",
                  "100.63792954084045",
                  "108.22306930988717",
                  "133.57914559790558",
                  "108.95567699396933",
                  "100.92685742974464",
                  "124.9533266304914",
                  "91.05033688145151",
                  "122.03043592997001",
                  "115.23176508300213",
                  "144.82718311301534",
                  "119.19753861153299",
                  "130.6966853688408",
                  "84.60825972098726",
                  "100.72518921708686",
                  "80.91908628971308",
                  "81.81905344921617",
                  "83.28238778565667",
                  "107.73321667389885",
                  "107.7300293039374",
                  "93.12948702281942",
                  "100.64287579473218",
                  "108.9799808679514",
                  "133.5375003016385",
                  "124.2784495064148",
                  "135.8419206009758",
                  "107.3116736369363",
                  "144.60118505198776",
                  "130.470781366901",
                  "130.29141833222843",
                  "138.41459510591866",
                  "117.63614599603852",
                  "87.24508469913158"
                ],
                [
                  "3",
                  "aaron judge",
                  "2024",
                  "114.15079934655266",
                  "111.20568789403974",
                  "137.14984549437787",
                  "102.68732172569273",
                  "119.61602059358445",
                  "140.2465392571338",
                  "98.23132578864718",
                  "158.74459743169157",
                  "145.83990522783824",
                  "145.13919998171988",
                  "121.62868630489815",
                  "126.97273232688201",
                  "81.6086721210071",
                  "103.96896344622247",
                  "85.40494075455146",
                  "89.3098542791099",
                  "90.44094831348762",
                  "103.01163656015595",
                  "97.65491003946399",
                  "90.02233996576494",
                  "114.1509678153582",
                  "102.69964879125314",
                  "137.16004024187328",
                  "139.12469171411774",
                  "142.43013544070737",
                  "116.5464025366683",
                  "145.02001236987095",
                  "126.74123148160379",
                  "128.8113382501724",
                  "132.9760827360675",
                  "108.79464620676517",
                  "87.4314758238668"
                ],
                [
                  "4",
                  "aaron schunk",
                  "2024",
                  "80.73388954054474",
                  "94.6485506805223",
                  "85.76227721860171",
                  "114.40872362050938",
                  "109.43301964816284",
                  "82.78678644634425",
                  "97.4861697096824",
                  "93.51969677881489",
                  "91.41618008025213",
                  "92.210266250908",
                  "94.0468389387314",
                  "91.15435448621804",
                  "122.45924386993971",
                  "109.54590537472711",
                  "99.42343406404188",
                  "94.0319018955899",
                  "93.57151977155054",
                  "112.68699146894099",
                  "100.34452489086212",
                  "105.15554471364307",
                  "80.73400172202898",
                  "114.34844791171405",
                  "85.83402430172634",
                  "87.43158454382304",
                  "80.5639886134385",
                  "113.90569434312124",
                  "92.27231574378962",
                  "90.84092031424564",
                  "85.31029288466286",
                  "85.7699600391576",
                  "103.89796517391082",
                  "121.2894644391238"
                ]
              ],
              "shape": {
                "columns": 34,
                "rows": 5
              }
            },
            "text/html": [
              "<div>\n",
              "<style scoped>\n",
              "    .dataframe tbody tr th:only-of-type {\n",
              "        vertical-align: middle;\n",
              "    }\n",
              "\n",
              "    .dataframe tbody tr th {\n",
              "        vertical-align: top;\n",
              "    }\n",
              "\n",
              "    .dataframe thead th {\n",
              "        text-align: right;\n",
              "    }\n",
              "</style>\n",
              "<table border=\"1\" class=\"dataframe\">\n",
              "  <thead>\n",
              "    <tr style=\"text-align: right;\">\n",
              "      <th></th>\n",
              "      <th>Name</th>\n",
              "      <th>Season</th>\n",
              "      <th>PA</th>\n",
              "      <th>Age</th>\n",
              "      <th>BB%</th>\n",
              "      <th>K%</th>\n",
              "      <th>BABIP</th>\n",
              "      <th>wRC+</th>\n",
              "      <th>BsR</th>\n",
              "      <th>Off</th>\n",
              "      <th>...</th>\n",
              "      <th>bb_percent</th>\n",
              "      <th>woba</th>\n",
              "      <th>xwoba</th>\n",
              "      <th>sweet_spot_percent</th>\n",
              "      <th>barrel_batted_rate</th>\n",
              "      <th>hard_hit_percent</th>\n",
              "      <th>avg_best_speed</th>\n",
              "      <th>avg_hyper_speed</th>\n",
              "      <th>whiff_percent</th>\n",
              "      <th>swing_percent</th>\n",
              "    </tr>\n",
              "  </thead>\n",
              "  <tbody>\n",
              "    <tr>\n",
              "      <th>0</th>\n",
              "      <td>aaron hicks</td>\n",
              "      <td>2023</td>\n",
              "      <td>92.730688</td>\n",
              "      <td>113.663746</td>\n",
              "      <td>115.383212</td>\n",
              "      <td>99.036504</td>\n",
              "      <td>103.436200</td>\n",
              "      <td>103.009224</td>\n",
              "      <td>103.689726</td>\n",
              "      <td>100.390931</td>\n",
              "      <td>...</td>\n",
              "      <td>115.500641</td>\n",
              "      <td>101.782182</td>\n",
              "      <td>90.226519</td>\n",
              "      <td>82.400047</td>\n",
              "      <td>89.911325</td>\n",
              "      <td>87.266675</td>\n",
              "      <td>87.129859</td>\n",
              "      <td>87.198924</td>\n",
              "      <td>100.121603</td>\n",
              "      <td>85.259238</td>\n",
              "    </tr>\n",
              "    <tr>\n",
              "      <th>1</th>\n",
              "      <td>aaron hicks</td>\n",
              "      <td>2024</td>\n",
              "      <td>78.803870</td>\n",
              "      <td>116.724734</td>\n",
              "      <td>104.644954</td>\n",
              "      <td>122.191113</td>\n",
              "      <td>79.669692</td>\n",
              "      <td>72.758068</td>\n",
              "      <td>100.503868</td>\n",
              "      <td>94.138796</td>\n",
              "      <td>...</td>\n",
              "      <td>104.561084</td>\n",
              "      <td>73.033048</td>\n",
              "      <td>83.619107</td>\n",
              "      <td>96.380995</td>\n",
              "      <td>94.897767</td>\n",
              "      <td>95.251880</td>\n",
              "      <td>99.781672</td>\n",
              "      <td>100.079318</td>\n",
              "      <td>112.111753</td>\n",
              "      <td>91.535474</td>\n",
              "    </tr>\n",
              "    <tr>\n",
              "      <th>2</th>\n",
              "      <td>aaron judge</td>\n",
              "      <td>2023</td>\n",
              "      <td>100.637930</td>\n",
              "      <td>108.223069</td>\n",
              "      <td>133.579146</td>\n",
              "      <td>108.955677</td>\n",
              "      <td>100.926857</td>\n",
              "      <td>124.953327</td>\n",
              "      <td>91.050337</td>\n",
              "      <td>122.030436</td>\n",
              "      <td>...</td>\n",
              "      <td>133.537500</td>\n",
              "      <td>124.278450</td>\n",
              "      <td>135.841921</td>\n",
              "      <td>107.311674</td>\n",
              "      <td>144.601185</td>\n",
              "      <td>130.470781</td>\n",
              "      <td>130.291418</td>\n",
              "      <td>138.414595</td>\n",
              "      <td>117.636146</td>\n",
              "      <td>87.245085</td>\n",
              "    </tr>\n",
              "    <tr>\n",
              "      <th>3</th>\n",
              "      <td>aaron judge</td>\n",
              "      <td>2024</td>\n",
              "      <td>114.150799</td>\n",
              "      <td>111.205688</td>\n",
              "      <td>137.149845</td>\n",
              "      <td>102.687322</td>\n",
              "      <td>119.616021</td>\n",
              "      <td>140.246539</td>\n",
              "      <td>98.231326</td>\n",
              "      <td>158.744597</td>\n",
              "      <td>...</td>\n",
              "      <td>137.160040</td>\n",
              "      <td>139.124692</td>\n",
              "      <td>142.430135</td>\n",
              "      <td>116.546403</td>\n",
              "      <td>145.020012</td>\n",
              "      <td>126.741231</td>\n",
              "      <td>128.811338</td>\n",
              "      <td>132.976083</td>\n",
              "      <td>108.794646</td>\n",
              "      <td>87.431476</td>\n",
              "    </tr>\n",
              "    <tr>\n",
              "      <th>4</th>\n",
              "      <td>aaron schunk</td>\n",
              "      <td>2024</td>\n",
              "      <td>80.733890</td>\n",
              "      <td>94.648551</td>\n",
              "      <td>85.762277</td>\n",
              "      <td>114.408724</td>\n",
              "      <td>109.433020</td>\n",
              "      <td>82.786786</td>\n",
              "      <td>97.486170</td>\n",
              "      <td>93.519697</td>\n",
              "      <td>...</td>\n",
              "      <td>85.834024</td>\n",
              "      <td>87.431585</td>\n",
              "      <td>80.563989</td>\n",
              "      <td>113.905694</td>\n",
              "      <td>92.272316</td>\n",
              "      <td>90.840920</td>\n",
              "      <td>85.310293</td>\n",
              "      <td>85.769960</td>\n",
              "      <td>103.897965</td>\n",
              "      <td>121.289464</td>\n",
              "    </tr>\n",
              "  </tbody>\n",
              "</table>\n",
              "<p>5 rows × 34 columns</p>\n",
              "</div>"
            ],
            "text/plain": [
              "           Name  Season          PA         Age         BB%          K%  \\\n",
              "0   aaron hicks    2023   92.730688  113.663746  115.383212   99.036504   \n",
              "1   aaron hicks    2024   78.803870  116.724734  104.644954  122.191113   \n",
              "2   aaron judge    2023  100.637930  108.223069  133.579146  108.955677   \n",
              "3   aaron judge    2024  114.150799  111.205688  137.149845  102.687322   \n",
              "4  aaron schunk    2024   80.733890   94.648551   85.762277  114.408724   \n",
              "\n",
              "        BABIP        wRC+         BsR         Off  ...  bb_percent  \\\n",
              "0  103.436200  103.009224  103.689726  100.390931  ...  115.500641   \n",
              "1   79.669692   72.758068  100.503868   94.138796  ...  104.561084   \n",
              "2  100.926857  124.953327   91.050337  122.030436  ...  133.537500   \n",
              "3  119.616021  140.246539   98.231326  158.744597  ...  137.160040   \n",
              "4  109.433020   82.786786   97.486170   93.519697  ...   85.834024   \n",
              "\n",
              "         woba       xwoba  sweet_spot_percent  barrel_batted_rate  \\\n",
              "0  101.782182   90.226519           82.400047           89.911325   \n",
              "1   73.033048   83.619107           96.380995           94.897767   \n",
              "2  124.278450  135.841921          107.311674          144.601185   \n",
              "3  139.124692  142.430135          116.546403          145.020012   \n",
              "4   87.431585   80.563989          113.905694           92.272316   \n",
              "\n",
              "   hard_hit_percent  avg_best_speed  avg_hyper_speed  whiff_percent  \\\n",
              "0         87.266675       87.129859        87.198924     100.121603   \n",
              "1         95.251880       99.781672       100.079318     112.111753   \n",
              "2        130.470781      130.291418       138.414595     117.636146   \n",
              "3        126.741231      128.811338       132.976083     108.794646   \n",
              "4         90.840920       85.310293        85.769960     103.897965   \n",
              "\n",
              "   swing_percent  \n",
              "0      85.259238  \n",
              "1      91.535474  \n",
              "2      87.245085  \n",
              "3      87.431476  \n",
              "4     121.289464  \n",
              "\n",
              "[5 rows x 34 columns]"
            ]
          },
          "execution_count": 85,
          "metadata": {},
          "output_type": "execute_result"
        }
      ],
      "source": [
        "# z scores for each stat and player, applying function above\n",
        "normalized_data = z_scores(df, mean_col_year, std_col_year)\n",
        "normalized_data.head()"
      ]
    },
    {
      "cell_type": "markdown",
      "id": "e4115ad0",
      "metadata": {
        "id": "e4115ad0"
      },
      "source": [
        "correlation with WRC+, help feature selection"
      ]
    },
    {
      "cell_type": "code",
      "execution_count": 86,
      "id": "54c820db",
      "metadata": {
        "colab": {
          "base_uri": "https://localhost:8080/"
        },
        "id": "54c820db",
        "outputId": "121c9b61-6315-49e4-9238-03743ac2118d"
      },
      "outputs": [
        {
          "name": "stdout",
          "output_type": "stream",
          "text": [
            "Season               -0.001886\n",
            "PA                    0.516948\n",
            "Age                   0.010575\n",
            "BB%                   0.342593\n",
            "K%                   -0.348082\n",
            "BABIP                 0.666505\n",
            "wRC+                  1.000000\n",
            "BsR                   0.005465\n",
            "Off                   0.617394\n",
            "WAR                   0.612147\n",
            "Barrel%               0.473195\n",
            "maxEV                 0.462960\n",
            "HardHit%              0.400085\n",
            "O-Swing%             -0.202483\n",
            "Z-Swing%              0.001095\n",
            "O-Contact%            0.141159\n",
            "Z-Contact%            0.202123\n",
            "Contact%              0.235714\n",
            "SwStr%               -0.268000\n",
            "CSW%                 -0.320614\n",
            "player_id            -0.045208\n",
            "pa                    0.516732\n",
            "k_percent            -0.348130\n",
            "bb_percent            0.342328\n",
            "woba                  0.994585\n",
            "xwoba                 0.802905\n",
            "sweet_spot_percent    0.401221\n",
            "barrel_batted_rate    0.474190\n",
            "hard_hit_percent      0.400273\n",
            "avg_best_speed        0.426823\n",
            "avg_hyper_speed       0.401459\n",
            "whiff_percent        -0.227577\n",
            "swing_percent        -0.190558\n",
            "Name: wRC+, dtype: float64\n"
          ]
        }
      ],
      "source": [
        "corr = normalized_data.corr(numeric_only=True)\n",
        "corr = corr['wRC+']\n",
        "print(corr)"
      ]
    },
    {
      "cell_type": "markdown",
      "id": "27774a21",
      "metadata": {
        "id": "27774a21"
      },
      "source": [
        "#### NN"
      ]
    },
    {
      "cell_type": "markdown",
      "id": "5bbf5ee1",
      "metadata": {
        "id": "5bbf5ee1"
      },
      "source": [
        "function to find the str nearest neighbor based on a found nn index"
      ]
    },
    {
      "cell_type": "code",
      "execution_count": 87,
      "id": "a1b9af21",
      "metadata": {
        "id": "a1b9af21"
      },
      "outputs": [],
      "source": [
        "def df_apply(df, indices):\n",
        "    num_samples = indices.shape[0]\n",
        "    output_index = df.index\n",
        "    rows_data = []\n",
        "    indices_array = indices.astype(int)\n",
        "\n",
        "    for i in range(num_samples):\n",
        "        row_neighbors = {}\n",
        "        neighbor_positional_indices = indices_array[i]\n",
        "\n",
        "        for j, neighbor_pos_idx in enumerate(neighbor_positional_indices):\n",
        "            neighbor_row = df.iloc[neighbor_pos_idx]\n",
        "            name = neighbor_row['Name']\n",
        "            season = str(neighbor_row['Season'])\n",
        "            row_neighbors[f'n{j+1}'] = f\"{name},{season}\"\n",
        "\n",
        "        rows_data.append(row_neighbors)\n",
        "\n",
        "    return pd.DataFrame(rows_data, index=output_index)"
      ]
    },
    {
      "cell_type": "markdown",
      "id": "86dffaa2",
      "metadata": {
        "id": "86dffaa2"
      },
      "source": [
        "diff between target player season plus 1, and closest neighbor season plus 1 WRC+"
      ]
    },
    {
      "cell_type": "code",
      "execution_count": 88,
      "id": "409950a5",
      "metadata": {
        "id": "409950a5"
      },
      "outputs": [],
      "source": [
        "def single_n_diff(row):\n",
        "    wrc_current = np.nan\n",
        "    player_name = None\n",
        "\n",
        "    try:\n",
        "        player_info = row['n1'].split(',')\n",
        "        player_name = player_info[0].strip()\n",
        "        season = int(player_info[1])\n",
        "\n",
        "        current_lookup = df[(df['Name'] == player_name) & (df['Season'] == season + 1)]['wRC+']\n",
        "\n",
        "        if not current_lookup.empty:\n",
        "            wrc_current = current_lookup.iloc[0]\n",
        "        else:\n",
        "            return np.nan\n",
        "    except (IndexError, ValueError, AttributeError, KeyError):\n",
        "         return np.nan\n",
        "\n",
        "    wrc_target_val = np.nan\n",
        "    for i in range(2, 6):\n",
        "        neighbor_col = f'n{i}'\n",
        "        if neighbor_col in row and pd.notna(row[neighbor_col]):\n",
        "            try:\n",
        "                neighbor_info = row[neighbor_col].split(',')\n",
        "                neighbor_name = neighbor_info[0].strip()\n",
        "\n",
        "                if neighbor_name != player_name:\n",
        "                    neighbor_season = int(neighbor_info[1])\n",
        "\n",
        "                    neighbor_lookup = df[(df['Name'] == neighbor_name) & (df['Season'] == neighbor_season + 1)]['wRC+']\n",
        "\n",
        "                    if not neighbor_lookup.empty:\n",
        "                        wrc_target_val = neighbor_lookup.iloc[0]\n",
        "                        break\n",
        "            except (IndexError, ValueError, AttributeError):\n",
        "                 continue\n",
        "\n",
        "    if pd.notna(wrc_current) and pd.notna(wrc_target_val):\n",
        "        return abs(wrc_target_val - wrc_current)\n",
        "    else:\n",
        "        return np.nan"
      ]
    },
    {
      "cell_type": "markdown",
      "id": "645ced33",
      "metadata": {},
      "source": [
        "Implementing NN"
      ]
    },
    {
      "cell_type": "markdown",
      "id": "fb5016ff",
      "metadata": {},
      "source": [
        "<small> Removed players below 200 PA (85 is the normalized value) because I was having a ton of issues with small sample size players impacting preformance"
      ]
    },
    {
      "cell_type": "code",
      "execution_count": 89,
      "id": "1e810588",
      "metadata": {
        "id": "1e810588"
      },
      "outputs": [],
      "source": [
        "X1 = normalized_data[normalized_data['PA'] > 85] # filter pa so we dont get small sample outliers, corresponds to about 200 PA\n",
        "X1 = normalized_data[normalized_data['Season'] < 2024]\n",
        "X1 = X1.reset_index(drop=True)\n",
        "X1 = X1.drop(columns=['BsR', 'Z-Swing%', 'O-Contact%', 'Z-Contact%', 'player_id', 'pa', 'k_percent', 'bb_percent', 'woba']) # filter uneed features, more varience\n",
        "X = X1.drop(columns=['Name', 'Season']) # same as x1 without names\n",
        "X = X.to_numpy()"
      ]
    },
    {
      "cell_type": "code",
      "execution_count": 90,
      "id": "4669adc2",
      "metadata": {
        "colab": {
          "base_uri": "https://localhost:8080/",
          "height": 257
        },
        "id": "4669adc2",
        "outputId": "f0a86044-8480-4abb-ff8e-5a8c8308e2d8"
      },
      "outputs": [],
      "source": [
        "# nearest neighbors and indices\n",
        "nn = NearestNeighbors(n_neighbors=9).fit(X)\n",
        "indices_test = nn.kneighbors(X, return_distance=False)"
      ]
    },
    {
      "cell_type": "markdown",
      "id": "324470c2",
      "metadata": {
        "id": "324470c2"
      },
      "source": [
        "Nearest Neighbor for Every Player in df"
      ]
    },
    {
      "cell_type": "code",
      "execution_count": 91,
      "id": "8876d733",
      "metadata": {
        "colab": {
          "base_uri": "https://localhost:8080/"
        },
        "id": "8876d733",
        "outputId": "636064cb-15bd-4e25-9f82-566224e03e72"
      },
      "outputs": [],
      "source": [
        "kNear = pd.DataFrame(columns=['n1', 'n2', 'n3', 'n4', 'n5', 'n6', 'n7', 'n8', 'n9'])\n",
        "kNear = df_apply(df = X1, indices=indices_test)\n",
        "for i in range(1, 7):  # for columns n1 through n6\n",
        "    kNear[f'n{i}'] = kNear[f'n{i}'].astype(str)"
      ]
    },
    {
      "cell_type": "markdown",
      "id": "db7ff3ad",
      "metadata": {
        "id": "db7ff3ad"
      },
      "source": [
        "Loss Value"
      ]
    },
    {
      "cell_type": "code",
      "execution_count": 92,
      "id": "2f78f1ae",
      "metadata": {
        "colab": {
          "base_uri": "https://localhost:8080/"
        },
        "id": "2f78f1ae",
        "outputId": "a66932d4-0089-4d3e-c875-c9a5d80c9cac"
      },
      "outputs": [
        {
          "name": "stdout",
          "output_type": "stream",
          "text": [
            "16171.947460148318\n"
          ]
        }
      ],
      "source": [
        "# Calculate wrc_diff and handle missing values\n",
        "kNear['wrc_diff'] = kNear.apply(single_n_diff, axis=1)\n",
        "\n",
        "# Calculate sum of wrc_diff, ignoring NaN values\n",
        "miss = kNear['wrc_diff'].sum(skipna=True)\n",
        "print(miss)"
      ]
    },
    {
      "cell_type": "markdown",
      "id": "a4e15f31",
      "metadata": {},
      "source": [
        "Experiment with how to calc loss\n",
        "<br>\n",
        "<small> look at more then one neighbor? </small>"
      ]
    },
    {
      "cell_type": "code",
      "execution_count": 93,
      "id": "696510e9",
      "metadata": {},
      "outputs": [],
      "source": [
        "# same as the first loss function except now calculating 8 neighbors and weighted avg wrc+\n",
        "def wrc_diff_weight(row):\n",
        "    wrc_current = np.nan\n",
        "    player_name = None\n",
        "\n",
        "    try:\n",
        "        player_info = row['n1'].split(',')\n",
        "        player_name = player_info[0].strip()\n",
        "        season = int(player_info[1])\n",
        "\n",
        "        current_lookup = df[(df['Name'] == player_name) & (df['Season'] == season + 1)]['wRC+']\n",
        "\n",
        "        if not current_lookup.empty:\n",
        "            wrc_current = current_lookup.iloc[0]\n",
        "        else:\n",
        "            return np.nan\n",
        "    except (IndexError, ValueError, AttributeError, KeyError):\n",
        "         return np.nan\n",
        "\n",
        "    wrc_target_val = []\n",
        "    for i in range(2, 10):\n",
        "        neighbor_col = f'n{i}'\n",
        "        if neighbor_col in row and pd.notna(row[neighbor_col]):\n",
        "            try:\n",
        "                neighbor_info = row[neighbor_col].split(',')\n",
        "                neighbor_name = neighbor_info[0].strip()\n",
        "\n",
        "                if neighbor_name != player_name:\n",
        "                    neighbor_season = int(neighbor_info[1])\n",
        "\n",
        "                    neighbor_lookup = df[(df['Name'] == neighbor_name) & (df['Season'] == neighbor_season + 1)]['wRC+']\n",
        "\n",
        "                    if not neighbor_lookup.empty:\n",
        "                        wrc_target_val.append(neighbor_lookup.iloc[0]) # add neighbors\n",
        "\n",
        "                    # if len of the list is greater then 2 break\n",
        "                    if len(wrc_target_val) >= 7:\n",
        "                        break\n",
        "            except (IndexError, ValueError, AttributeError):\n",
        "                continue\n",
        "\n",
        "    if pd.notna(wrc_current) and len(wrc_target_val) > 0:\n",
        "        weights = [0.25, 0.15, 0.125, 0.125, 0.125, 0.125, 0.1]\n",
        "        avg_target = sum(w * x for w, x in zip(weights[:len(wrc_target_val)], wrc_target_val)) / sum(weights[:len(wrc_target_val)])\n",
        "        return abs(avg_target - wrc_current)\n",
        "    else:\n",
        "        return np.nan\n"
      ]
    },
    {
      "cell_type": "markdown",
      "id": "5f7df92b",
      "metadata": {},
      "source": [
        "loss | diffrence in future year WRC+"
      ]
    },
    {
      "cell_type": "code",
      "execution_count": 94,
      "id": "744f8aef",
      "metadata": {},
      "outputs": [
        {
          "name": "stdout",
          "output_type": "stream",
          "text": [
            "12607.289661320436\n"
          ]
        }
      ],
      "source": [
        "kNear['wrc_diff'] = kNear.apply(wrc_diff_weight, axis=1)\n",
        "miss = kNear['wrc_diff'].sum(skipna=True)\n",
        "print(miss)"
      ]
    },
    {
      "cell_type": "markdown",
      "id": "3a0933b0",
      "metadata": {
        "id": "3a0933b0"
      },
      "source": [
        "#### loss function "
      ]
    },
    {
      "cell_type": "markdown",
      "id": "23532837",
      "metadata": {},
      "source": [
        "<small> just adding all the previous steps together to make it easy to tune col weights"
      ]
    },
    {
      "cell_type": "code",
      "execution_count": 95,
      "id": "6548555d",
      "metadata": {
        "id": "6548555d"
      },
      "outputs": [],
      "source": [
        "def loss_fn(weights, normalized_data):\n",
        "\n",
        "    # begin eval function\n",
        "    weighted_og = normalized_data[normalized_data['Season'] < 2024] # filter for eval metric\n",
        "    weighted_og = weighted_og[weighted_og['PA'] > 85] # drop if below 200 PA, more stability, less outliers\n",
        "    weighted_og = weighted_og.reset_index(drop=True)\n",
        "    weighted_og = weighted_og.drop(columns=['BsR', 'Z-Swing%', 'O-Contact%', 'Z-Contact%'])\n",
        "    weighted_x = weighted_og.drop(columns=['Name', 'Season'])\n",
        "    \n",
        "\n",
        "    # apply weights\n",
        "    for col in weighted_x.columns:\n",
        "        if col in weights:\n",
        "            weighted_x[col] = weighted_x[col] * weights[col]\n",
        "\n",
        "    # nearest neighbors\n",
        "    nn_fn = NearestNeighbors(n_neighbors=9).fit(weighted_x)\n",
        "\n",
        "    # distances and index\n",
        "    indices_test_fn = nn_fn.kneighbors(weighted_x, return_distance=False)\n",
        "\n",
        "\n",
        "    # add data using the mapped indices\n",
        "    kNear_fn = df_apply(df = weighted_og, indices=indices_test_fn) # pass mapped to avoid out of bounds\n",
        "\n",
        "    for i in range(1, 7):  # for columns n1 through n6\n",
        "        kNear_fn[f'n{i}'] = kNear_fn[f'n{i}'].astype(str)\n",
        "\n",
        "    # add miss\n",
        "    kNear_fn['wrc_diff'] = kNear_fn.apply(wrc_diff_weight, axis=1) # using new wrc calc\n",
        "\n",
        "    # drop inf or na\n",
        "    kNear_fn = kNear_fn.dropna(subset=['wrc_diff'])\n",
        "    kNear_fn['wrc_diff'] = kNear_fn['wrc_diff'].clip(upper=1000)\n",
        "\n",
        "    # calc miss\n",
        "    miss_fn = kNear_fn['wrc_diff'].sum(skipna=True)\n",
        "    print(f\"miss of {miss_fn}\")\n",
        "    return miss_fn\n"
      ]
    },
    {
      "cell_type": "markdown",
      "id": "569d6b79",
      "metadata": {},
      "source": [
        "#### Manual Weight Tuning"
      ]
    },
    {
      "cell_type": "markdown",
      "id": "24c6761c",
      "metadata": {},
      "source": [
        "<small> Ditched scipy largely because it was ineffective in finding the weights. Alot of this was likely because it was super slow as I coded everything in pandas and the it had to recompute the df constantly. This was widely inefficent. This is def my fault to a certian extent, however I can tune it just as effectively if not more (I wanted to do scipy just to learn it). Doing it manually also allows me not to recode everything. </small>"
      ]
    },
    {
      "cell_type": "markdown",
      "id": "8b0315e3",
      "metadata": {
        "id": "8b0315e3"
      },
      "source": [
        "creating weight index"
      ]
    },
    {
      "cell_type": "code",
      "execution_count": 96,
      "id": "8f402340",
      "metadata": {
        "colab": {
          "base_uri": "https://localhost:8080/"
        },
        "id": "8f402340",
        "outputId": "6dab67e1-b0ba-4695-fa19-ac414add96bd"
      },
      "outputs": [
        {
          "name": "stdout",
          "output_type": "stream",
          "text": [
            "{'PA': 1, 'Age': 1, 'BB%': 1, 'K%': 1, 'BABIP': 1, 'wRC+': 1, 'Off': 1, 'WAR': 1, 'Barrel%': 1, 'maxEV': 1, 'HardHit%': 1, 'O-Swing%': 1, 'Contact%': 1, 'SwStr%': 1, 'CSW%': 1, 'xwoba': 1, 'sweet_spot_percent': 1, 'barrel_batted_rate': 1, 'hard_hit_percent': 1, 'avg_best_speed': 1, 'avg_hyper_speed': 1, 'whiff_percent': 1, 'swing_percent': 1}\n"
          ]
        }
      ],
      "source": [
        "cols = normalized_data.drop(columns=['BsR', 'Z-Swing%', 'O-Contact%', 'Z-Contact%', 'player_id', 'pa', 'k_percent', 'bb_percent', 'woba']) # filter uneed features, more varience\n",
        "cols = cols.drop(columns=['Name', 'Season'])\n",
        "cols_opti = cols.columns\n",
        "weights = {}\n",
        "for col in cols_opti:\n",
        "    weights[col] = 1\n",
        "print(weights)"
      ]
    },
    {
      "cell_type": "markdown",
      "id": "e81d04b2",
      "metadata": {
        "id": "e81d04b2"
      },
      "source": [
        "manual weight tuining\n"
      ]
    },
    {
      "cell_type": "code",
      "execution_count": 97,
      "id": "25d2d3f2",
      "metadata": {},
      "outputs": [],
      "source": [
        "weights = {'PA': 1, 'Age': 1, 'BB%': 1, 'K%': 1, 'BABIP': 1, 'wRC+': 1, 'Off': 1, 'WAR': 1, 'Barrel%': 1, \n",
        "           'maxEV': 1, 'HardHit%': 1, 'O-Swing%': 1, 'Contact%': 1, 'SwStr%': 1, 'CSW%': 1, 'xwoba': 1, \n",
        "           'sweet_spot_percent': 1, 'barrel_batted_rate': 1, 'hard_hit_percent': 1, 'avg_best_speed': 1,\n",
        "             'avg_hyper_speed': 1, 'whiff_percent': 1, 'swing_percent': 1}"
      ]
    },
    {
      "cell_type": "markdown",
      "id": "c2f2d185",
      "metadata": {},
      "source": [
        "loss value"
      ]
    },
    {
      "cell_type": "code",
      "execution_count": 98,
      "id": "773b0c4d",
      "metadata": {
        "colab": {
          "base_uri": "https://localhost:8080/"
        },
        "id": "773b0c4d",
        "outputId": "8ed51b25-636b-4a81-96c3-72b0ef611e80"
      },
      "outputs": [
        {
          "name": "stdout",
          "output_type": "stream",
          "text": [
            "miss of 8171.802612505395\n"
          ]
        }
      ],
      "source": [
        "loss_value = loss_fn(weights = weights, normalized_data=normalized_data)"
      ]
    },
    {
      "cell_type": "markdown",
      "id": "dc98aeeb",
      "metadata": {},
      "source": [
        "#### 2025 Predections"
      ]
    },
    {
      "cell_type": "markdown",
      "id": "eac019e8",
      "metadata": {},
      "source": [
        "war predection function"
      ]
    },
    {
      "cell_type": "code",
      "execution_count": 99,
      "id": "bee068c7",
      "metadata": {},
      "outputs": [],
      "source": [
        "def wrc_predict(row):\n",
        "    player_info = row['t1'].split(',')\n",
        "    player_name = player_info[0].strip()\n",
        "\n",
        "    wrc_target_val = []\n",
        "    for i in range(1, 9):\n",
        "        neighbor_col = f'n{i}'\n",
        "        if neighbor_col in row and pd.notna(row[neighbor_col]):\n",
        "            try:\n",
        "                neighbor_info = row[neighbor_col].split(',')\n",
        "                neighbor_name = neighbor_info[0].strip()\n",
        "\n",
        "                neighbor_season = int(neighbor_info[1])\n",
        "                neighbor_lookup = df[(df['Name'] == neighbor_name) & (df['Season'] == neighbor_season + 1)]['wRC+']\n",
        "\n",
        "                if not neighbor_lookup.empty:\n",
        "                    wrc_target_val.append(neighbor_lookup.iloc[0]) # add neighbors\n",
        "\n",
        "                    # if len of the list is greater then 2 break\n",
        "                    if len(wrc_target_val) >= 7:\n",
        "                        break\n",
        "\n",
        "            except (IndexError, ValueError, AttributeError):\n",
        "                continue\n",
        "\n",
        "    if len(wrc_target_val) > 0:\n",
        "        weights = [0.25, 0.15, 0.125, 0.125, 0.125, 0.125, 0.1]\n",
        "        avg_target = sum(w * x for w, x in zip(weights[:len(wrc_target_val)], wrc_target_val)) / sum(weights[:len(wrc_target_val)])\n",
        "        return avg_target\n",
        "    else:\n",
        "        return np.nan\n",
        "  \n"
      ]
    },
    {
      "cell_type": "markdown",
      "id": "371a624f",
      "metadata": {},
      "source": [
        "special apply function"
      ]
    },
    {
      "cell_type": "code",
      "execution_count": 100,
      "id": "0b16f188",
      "metadata": {},
      "outputs": [],
      "source": [
        "def results_apply(player_df, index_df, knn_pd):\n",
        "    rows_data = []\n",
        "    for i in range(len(knn_pd)):\n",
        "        row_data = {}\n",
        "        for col in knn_pd.columns:\n",
        "            if col == 'player':\n",
        "                neighbor_idx = knn_pd.iloc[i][col]\n",
        "                neighbor_row = player_df.iloc[neighbor_idx]\n",
        "                name = neighbor_row['Name']\n",
        "                season = str(neighbor_row['Season'])\n",
        "                row_data['t1'] = f\"{name},{season}\"\n",
        "            else:\n",
        "                neighbor_idx = knn_pd.iloc[i][col]\n",
        "                neighbor_row = index_df.iloc[neighbor_idx]\n",
        "                name = neighbor_row['Name']\n",
        "                season = str(neighbor_row['Season'])\n",
        "                row_data[f'n{int(col + 1)}'] = f\"{name},{season}\"\n",
        "        rows_data.append(row_data)\n",
        "    return pd.DataFrame(rows_data)\n"
      ]
    },
    {
      "cell_type": "markdown",
      "id": "f39a9c65",
      "metadata": {},
      "source": [
        "prepare data for indexed data search"
      ]
    },
    {
      "cell_type": "code",
      "execution_count": 108,
      "id": "0dc9a499",
      "metadata": {},
      "outputs": [],
      "source": [
        "target_data = normalized_data[normalized_data['Season'] >= 2024]\n",
        "target_data = target_data.reset_index()\n",
        "target_data = target_data.drop(columns=['BsR', 'Z-Swing%', 'O-Contact%', 'Z-Contact%', 'player_id', 'pa', 'k_percent', 'bb_percent', 'woba', 'index']) # filter uneed features, more varience\n",
        "index_search = target_data.drop(columns=['Name', 'Season']) # same as x1 without names\n",
        "index_search = index_search.to_numpy()"
      ]
    },
    {
      "cell_type": "markdown",
      "id": "e2a4cee6",
      "metadata": {},
      "source": [
        "search for index"
      ]
    },
    {
      "cell_type": "code",
      "execution_count": 109,
      "id": "fcb8e50e",
      "metadata": {},
      "outputs": [],
      "source": [
        "# nearest neighbors and index\n",
        "nn = NearestNeighbors(n_neighbors=9).fit(X)"
      ]
    },
    {
      "cell_type": "code",
      "execution_count": 110,
      "id": "f265f763",
      "metadata": {},
      "outputs": [],
      "source": [
        "# nearest neighbors and indices for predictions\n",
        "index_25 = nn.kneighbors(index_search, return_distance=False)"
      ]
    },
    {
      "cell_type": "markdown",
      "id": "c85d4054",
      "metadata": {},
      "source": [
        "index to pandas"
      ]
    },
    {
      "cell_type": "code",
      "execution_count": 111,
      "id": "644f4459",
      "metadata": {},
      "outputs": [],
      "source": [
        "# to pd so its easier to work with\n",
        "index_list = pd.DataFrame(index_25)\n",
        "\n",
        "# insert player\n",
        "index_list['player'] = index_list.index\n",
        "\n",
        "# add index into first col as target player\n",
        "cols = index_list.columns.tolist()\n",
        "cols.insert(0, cols.pop(cols.index('player')))\n",
        "index_list = index_list[cols]"
      ]
    },
    {
      "cell_type": "markdown",
      "id": "5ecffd25",
      "metadata": {},
      "source": [
        "apply results search"
      ]
    },
    {
      "cell_type": "code",
      "execution_count": 112,
      "id": "e98eb6d7",
      "metadata": {},
      "outputs": [],
      "source": [
        "preds = pd.DataFrame(columns=['n1', 'n2', 'n3', 'n4', 'n5', 'n6', 'n7', 'n8', 'n9'])\n",
        "preds = results_apply(player_df = target_data, index_df=X1, knn_pd=index_list)\n",
        "for i in range(1, 7):  # for columns n1 through n6\n",
        "    preds[f'n{i}'] = preds[f'n{i}'].astype(str)"
      ]
    },
    {
      "cell_type": "markdown",
      "id": "941d52d1",
      "metadata": {},
      "source": [
        "calculate WAR"
      ]
    },
    {
      "cell_type": "code",
      "execution_count": 113,
      "id": "9e1cbac5",
      "metadata": {},
      "outputs": [],
      "source": [
        "# WAR Predection\n",
        "preds['proj_wrc+'] = preds.apply(wrc_predict, axis=1)\n",
        "final_predection = preds[['t1', 'proj_wrc+']]"
      ]
    },
    {
      "cell_type": "markdown",
      "id": "05eeb31e",
      "metadata": {},
      "source": [
        "export to folder"
      ]
    },
    {
      "cell_type": "code",
      "execution_count": 114,
      "id": "99a979d2",
      "metadata": {},
      "outputs": [],
      "source": [
        "final_predection.to_csv('./models/wrc_models/2025_Predections/nn_23_preds.csv')"
      ]
    }
  ],
  "metadata": {
    "colab": {
      "provenance": []
    },
    "kernelspec": {
      "display_name": "base",
      "language": "python",
      "name": "python3"
    },
    "language_info": {
      "codemirror_mode": {
        "name": "ipython",
        "version": 3
      },
      "file_extension": ".py",
      "mimetype": "text/x-python",
      "name": "python",
      "nbconvert_exporter": "python",
      "pygments_lexer": "ipython3",
      "version": "3.12.7"
    }
  },
  "nbformat": 4,
  "nbformat_minor": 5
}
