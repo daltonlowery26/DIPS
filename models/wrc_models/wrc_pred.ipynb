{
 "cells": [
  {
   "cell_type": "markdown",
   "id": "029c4aad",
   "metadata": {},
   "source": [
    "WRC+ Predections"
   ]
  },
  {
   "cell_type": "code",
   "execution_count": 1,
   "id": "a470991c",
   "metadata": {},
   "outputs": [],
   "source": [
    "import pandas as pd\n",
    "import numpy as np\n",
    "import os\n",
    "os.chdir('C:/Users/dalto/OneDrive/Pictures/Documents/Projects/MLB Season Model/')"
   ]
  },
  {
   "cell_type": "markdown",
   "id": "a5fe288d",
   "metadata": {},
   "source": [
    "import predections"
   ]
  },
  {
   "cell_type": "code",
   "execution_count": 26,
   "id": "7f55b36c",
   "metadata": {},
   "outputs": [],
   "source": [
    "nn_02_preds = pd.read_csv('./models/wrc_models/2025_Predections/nn_02_23_preds.csv')\n",
    "nn_15_preds = pd.read_csv('./models/wrc_models/2025_Predections/nn_15_23_preds.csv')\n",
    "nn_23_preds = pd.read_csv('./models/wrc_models/2025_Predections/nn_23_preds.csv')\n",
    "reg_02_preds = pd.read_csv('./models/wrc_models/2025_Predections/reg_02_23_preds.csv')\n",
    "reg_15_preds = pd.read_csv('./models/wrc_models/2025_Predections/reg_15_23_preds.csv')\n",
    "reg_23_preds = pd.read_csv('./models/wrc_models/2025_Predections/reg_23_preds.csv')"
   ]
  },
  {
   "cell_type": "markdown",
   "id": "8cb88f52",
   "metadata": {},
   "source": [
    "basic cleaning"
   ]
  },
  {
   "cell_type": "code",
   "execution_count": 27,
   "id": "938d365c",
   "metadata": {},
   "outputs": [],
   "source": [
    "reg_02_preds = reg_02_preds.rename(columns={'Name': 't1'})\n",
    "reg_15_preds = reg_15_preds.rename(columns={'Name': 't1'})\n",
    "reg_23_preds = reg_23_preds.rename(columns={'Name': 't1'})"
   ]
  },
  {
   "cell_type": "code",
   "execution_count": 28,
   "id": "ed44808e",
   "metadata": {},
   "outputs": [],
   "source": [
    "reg_02_preds = reg_02_preds.rename(columns={'0': 'proj_wrc+'})\n",
    "reg_15_preds = reg_15_preds.rename(columns={'0': 'proj_wrc+'})\n",
    "reg_23_preds = reg_23_preds.rename(columns={'0': 'proj_wrc+'})"
   ]
  },
  {
   "cell_type": "code",
   "execution_count": 29,
   "id": "5e2dfb55",
   "metadata": {},
   "outputs": [],
   "source": [
    "nn_02_preds = nn_02_preds.drop(columns=['Unnamed: 0'])\n",
    "nn_15_preds = nn_15_preds.drop(columns=['Unnamed: 0'])\n",
    "nn_23_preds = nn_23_preds.drop(columns=['Unnamed: 0'])\n",
    "reg_02_preds = reg_02_preds.drop(columns=['Unnamed: 0'])\n",
    "reg_15_preds = reg_15_preds.drop(columns=['Unnamed: 0'])\n",
    "reg_23_preds = reg_23_preds.drop(columns=['Unnamed: 0'])"
   ]
  },
  {
   "cell_type": "markdown",
   "id": "8b9ceca0",
   "metadata": {},
   "source": [
    "uniform names"
   ]
  },
  {
   "cell_type": "code",
   "execution_count": 30,
   "id": "550c06c8",
   "metadata": {},
   "outputs": [],
   "source": [
    "def clean_names(df):\n",
    "    df['t1'] = df['t1'].str.split(',').str[0]\n",
    "    return df"
   ]
  },
  {
   "cell_type": "code",
   "execution_count": 31,
   "id": "9abf6ae4",
   "metadata": {},
   "outputs": [],
   "source": [
    "# apply function\n",
    "nn_02_preds = clean_names(nn_02_preds)\n",
    "nn_15_preds = clean_names(nn_15_preds)\n",
    "nn_23_preds = clean_names(nn_23_preds)"
   ]
  },
  {
   "cell_type": "markdown",
   "id": "f2f866ce",
   "metadata": {},
   "source": [
    "#### AVG of Projections"
   ]
  },
  {
   "cell_type": "markdown",
   "id": "59e2fe49",
   "metadata": {},
   "source": [
    "merge dfs together"
   ]
  },
  {
   "cell_type": "code",
   "execution_count": 34,
   "id": "7e836c85",
   "metadata": {},
   "outputs": [],
   "source": [
    "# merge all dfs together\n",
    "merged_preds = nn_02_preds.rename(columns={'proj_wrc+': 'proj_wrc+_N02'})\n",
    "\n",
    "merged_preds = merged_preds.merge(\n",
    "    nn_15_preds,\n",
    "    on='t1',\n",
    "    how='outer',\n",
    "    suffixes=('', \"_N15\")\n",
    ")\n",
    "\n",
    "merged_preds = merged_preds.merge(\n",
    "    nn_23_preds,\n",
    "    on='t1',\n",
    "    how='outer',\n",
    "    suffixes=('', '_N23')\n",
    ")\n",
    "\n",
    "merged_preds = merged_preds.merge(\n",
    "    reg_02_preds,\n",
    "    on='t1',\n",
    "    how='outer',\n",
    "    suffixes=(\"\", \"_R02\")\n",
    ")\n",
    "\n",
    "merged_preds = merged_preds.merge(\n",
    "    reg_15_preds,\n",
    "    on='t1',\n",
    "    how='outer',\n",
    "    suffixes=('', '_R15')\n",
    ")\n",
    "\n",
    "merged_preds = merged_preds.merge(\n",
    "    reg_23_preds,\n",
    "    on='t1',\n",
    "    how='outer',\n",
    "    suffixes=('', '_R23')\n",
    ")"
   ]
  },
  {
   "cell_type": "markdown",
   "id": "bc73f16f",
   "metadata": {},
   "source": [
    "averages\n",
    "<br>\n",
    "<small> Adjustement Factor applied because WRC+ is centered at 100 and the models were consitently undershooting. Long term I want to use an xgboost model to predict outcomes but I currently do not have the PA model. I also think age adjustements need to be applied first. "
   ]
  },
  {
   "cell_type": "code",
   "execution_count": 38,
   "id": "a346d947",
   "metadata": {},
   "outputs": [],
   "source": [
    "# Calculate weighted average proj_wrc+ across all models\n",
    "merged_preds['avg_proj_wrc+'] = (\n",
    "    merged_preds['proj_wrc+_N23'] * .25 +\n",
    "    merged_preds['proj_wrc+'] * 0.125 +\n",
    "    merged_preds['proj_wrc+_N02'] * 0.125 +\n",
    "    merged_preds['proj_wrc+_R23'] * .25 +\n",
    "    merged_preds['proj_wrc+_R15'] * 0.125 +\n",
    "    merged_preds['proj_wrc+_R02'] * 0.125\n",
    ")\n",
    "\n",
    "# Calculate the current mean\n",
    "current_mean = merged_preds['avg_proj_wrc+'].mean()\n",
    "\n",
    "# Adjust values to make mean = 100\n",
    "adjustment_factor = 100 / current_mean\n",
    "merged_preds['avg_proj_wrc+'] = merged_preds['avg_proj_wrc+'] * adjustment_factor\n",
    "\n",
    "# Sort by average projection\n",
    "merged_preds = merged_preds.sort_values('avg_proj_wrc+', ascending=False)"
   ]
  }
 ],
 "metadata": {
  "kernelspec": {
   "display_name": "base",
   "language": "python",
   "name": "python3"
  },
  "language_info": {
   "codemirror_mode": {
    "name": "ipython",
    "version": 3
   },
   "file_extension": ".py",
   "mimetype": "text/x-python",
   "name": "python",
   "nbconvert_exporter": "python",
   "pygments_lexer": "ipython3",
   "version": "3.12.7"
  }
 },
 "nbformat": 4,
 "nbformat_minor": 5
}
