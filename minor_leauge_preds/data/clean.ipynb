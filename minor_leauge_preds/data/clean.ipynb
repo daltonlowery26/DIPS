{
 "cells": [
  {
   "cell_type": "markdown",
   "id": "a3616668",
   "metadata": {},
   "source": [
    "#### Clean Minor Leauge Data"
   ]
  },
  {
   "cell_type": "code",
   "execution_count": 16,
   "id": "16dd6b51",
   "metadata": {},
   "outputs": [],
   "source": [
    "import pandas as pd\n",
    "import numpy as np\n",
    "import os \n",
    "os.chdir('C:/Users/dalto/OneDrive/Pictures/Documents/Projects/MLB Season Model/') "
   ]
  },
  {
   "cell_type": "code",
   "execution_count": 17,
   "id": "0f6227be",
   "metadata": {},
   "outputs": [],
   "source": [
    "minor = pd.read_csv('./minor_leauge_preds/data/minor_06_24.csv')"
   ]
  },
  {
   "cell_type": "code",
   "execution_count": 18,
   "id": "57d73659",
   "metadata": {},
   "outputs": [],
   "source": [
    "minor = minor.drop(columns=['Team', 'BB/K', 'AVG', \n",
    "                            'OPS', 'Spd', 'wSB', 'PlayerId'])"
   ]
  },
  {
   "cell_type": "code",
   "execution_count": 19,
   "id": "3969ce73",
   "metadata": {},
   "outputs": [],
   "source": [
    "minor['Name'] = minor['Name'].str.lower()"
   ]
  },
  {
   "cell_type": "code",
   "execution_count": 20,
   "id": "0060f186",
   "metadata": {},
   "outputs": [],
   "source": [
    "import unicodedata\n",
    "def remove_accents(name):\n",
    "    return ''.join(\n",
    "        c for c in unicodedata.normalize('NFKD', name)\n",
    "        if not unicodedata.combining(c)\n",
    "    )\n",
    "\n",
    "minor['Name'] = minor['Name'].apply(remove_accents)\n",
    "minor['Name'] = minor['Name'].replace(r'[^a-z\\s]', '', regex=True)\n"
   ]
  },
  {
   "cell_type": "code",
   "execution_count": 21,
   "id": "1ec27e26",
   "metadata": {},
   "outputs": [],
   "source": [
    "minor.to_csv('./minor_leauge_preds/data/minor_clean.csv')"
   ]
  }
 ],
 "metadata": {
  "kernelspec": {
   "display_name": "base",
   "language": "python",
   "name": "python3"
  },
  "language_info": {
   "codemirror_mode": {
    "name": "ipython",
    "version": 3
   },
   "file_extension": ".py",
   "mimetype": "text/x-python",
   "name": "python",
   "nbconvert_exporter": "python",
   "pygments_lexer": "ipython3",
   "version": "3.12.7"
  }
 },
 "nbformat": 4,
 "nbformat_minor": 5
}
