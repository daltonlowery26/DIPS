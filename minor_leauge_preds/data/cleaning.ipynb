{
 "cells": [
  {
   "cell_type": "markdown",
   "id": "b2fe1e13",
   "metadata": {},
   "source": [
    "#### Cleaning Data\n",
    "<small> Seperating out into season"
   ]
  }
 ],
 "metadata": {
  "language_info": {
   "name": "python"
  }
 },
 "nbformat": 4,
 "nbformat_minor": 5
}
