{
 "cells": [
  {
   "cell_type": "markdown",
   "id": "b2fe1e13",
   "metadata": {},
   "source": [
    "#### Triple A to MLB Translation"
   ]
  },
  {
   "cell_type": "code",
   "execution_count": 36,
   "id": "c389c3aa",
   "metadata": {},
   "outputs": [],
   "source": [
    "import pandas as pd\n",
    "import numpy as np\n",
    "import os\n",
    "\n",
    "os.chdir('C:/Users/dalto/OneDrive/Pictures/Documents/Projects/MLB Season Model/') "
   ]
  },
  {
   "cell_type": "code",
   "execution_count": 37,
   "id": "a40beeaa",
   "metadata": {},
   "outputs": [],
   "source": [
    "minor = pd.read_csv('./minor_leauge_preds/data/minor_clean.csv')\n",
    "major = pd.read_csv('./major_leauge_preds/data/cleaned/data_02_24.csv')"
   ]
  },
  {
   "cell_type": "code",
   "execution_count": 38,
   "id": "979b5f1f",
   "metadata": {},
   "outputs": [
    {
     "name": "stderr",
     "output_type": "stream",
     "text": [
      "C:\\Users\\dalto\\AppData\\Local\\Temp\\ipykernel_10176\\3590174584.py:5: DeprecationWarning: DataFrameGroupBy.apply operated on the grouping columns. This behavior is deprecated, and in a future version of pandas the grouping columns will be excluded from the operation. Either pass `include_groups=False` to exclude the groupings or explicitly select the grouping columns after groupby to silence this warning.\n",
      "  minor_aaa = minor_aaa.groupby('Name').apply(lambda x: x[x['group'] == x['group'].iloc[0]]).reset_index(drop=True)\n"
     ]
    }
   ],
   "source": [
    "minor_aaa = minor[minor['Level'] == 'AAA']\n",
    "minor_aaa = minor_aaa.sort_values(['Name', 'Season'])\n",
    "minor_aaa['Season_diff'] = minor_aaa.groupby('Name')['Season'].diff()\n",
    "minor_aaa['group'] = (minor_aaa['Season_diff'] != 1).cumsum()\n",
    "minor_aaa = minor_aaa.groupby('Name').apply(lambda x: x[x['group'] == x['group'].iloc[0]]).reset_index(drop=True)\n",
    "minor_aaa = minor_aaa.drop(['Season_diff', 'group'], axis=1)"
   ]
  },
  {
   "cell_type": "code",
   "execution_count": 39,
   "id": "705d53c1",
   "metadata": {},
   "outputs": [],
   "source": [
    "from tools.zscore_pa import normalize\n",
    "minor_aaa = normalize(minor_aaa)"
   ]
  },
  {
   "cell_type": "code",
   "execution_count": 40,
   "id": "62ddeb52",
   "metadata": {},
   "outputs": [],
   "source": [
    "from tools.three_yr_avg import three_year_avg\n",
    "minor_aaa = three_year_avg(minor_aaa)"
   ]
  },
  {
   "cell_type": "markdown",
   "id": "41127d1b",
   "metadata": {},
   "source": [
    "MLB Data Frame"
   ]
  },
  {
   "cell_type": "code",
   "execution_count": 32,
   "id": "a82957b0",
   "metadata": {},
   "outputs": [],
   "source": [
    "major = major[major['PA'] > 100]\n",
    "major = major.sort_values(by=['Name'])\n",
    "major = major.drop_duplicates(subset='Name', keep='first')\n",
    "major = major.drop(columns=['Unnamed: 0'])\n",
    "major['Team'] = 'MLB'\n",
    "major = major.rename(columns={'Team':'Level'})\n",
    "major = major[['Name', 'Level', 'wRC+']]\n"
   ]
  },
  {
   "cell_type": "markdown",
   "id": "5d49e50f",
   "metadata": {},
   "source": [
    "Merge"
   ]
  },
  {
   "cell_type": "code",
   "execution_count": 35,
   "id": "34f5c7c2",
   "metadata": {},
   "outputs": [],
   "source": [
    "outcome = minor_aaa.merge(major[['Name','wRC+']], on=['Name'], how='outer')"
   ]
  }
 ],
 "metadata": {
  "kernelspec": {
   "display_name": "base",
   "language": "python",
   "name": "python3"
  },
  "language_info": {
   "codemirror_mode": {
    "name": "ipython",
    "version": 3
   },
   "file_extension": ".py",
   "mimetype": "text/x-python",
   "name": "python",
   "nbconvert_exporter": "python",
   "pygments_lexer": "ipython3",
   "version": "3.12.7"
  }
 },
 "nbformat": 4,
 "nbformat_minor": 5
}
