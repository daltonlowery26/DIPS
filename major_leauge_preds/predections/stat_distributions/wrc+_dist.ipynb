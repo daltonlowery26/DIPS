{
 "cells": [
  {
   "cell_type": "markdown",
   "id": "21ea734c",
   "metadata": {},
   "source": [
    "### Stat Distributions for Each Year"
   ]
  },
  {
   "cell_type": "code",
   "execution_count": 1,
   "id": "d609612a",
   "metadata": {},
   "outputs": [],
   "source": [
    "import pandas as pd\n",
    "import matplotlib.pyplot as plt\n",
    "import numpy as np\n",
    "import os\n",
    "os.chdir('C:/Users/dalto/OneDrive/Pictures/Documents/Projects/MLB Season Model/major_leauge_preds')"
   ]
  },
  {
   "cell_type": "code",
   "execution_count": 2,
   "id": "536d4455",
   "metadata": {},
   "outputs": [],
   "source": [
    "data_02_24 = pd.read_csv('./data/cleaned/data_02_24.csv')\n",
    "data_02_24 = data_02_24[data_02_24['PA'] > 200]\n",
    "wrc_year = data_02_24[['Name', 'Season', 'wRC+']]\n",
    "wrc_year = wrc_year.reset_index()\n",
    "wrc_year = wrc_year.drop(columns=['index'])"
   ]
  },
  {
   "cell_type": "markdown",
   "id": "19418d5d",
   "metadata": {},
   "source": [
    "### Distribtion of WRC+"
   ]
  },
  {
   "cell_type": "code",
   "execution_count": 3,
   "id": "ec3f465e",
   "metadata": {},
   "outputs": [
    {
     "data": {
      "image/png": "[encoded data removed]",
      "text/plain": [
       "<Figure size 640x480 with 1 Axes>"
      ]
     },
     "metadata": {},
     "output_type": "display_data"
    }
   ],
   "source": [
    "wrc_2024 = wrc_year[wrc_year['Season'] == 2024]\n",
    "plt.hist(wrc_2024['wRC+'], bins=40, edgecolor='black')\n",
    "plt.xlabel('wRC+')\n",
    "plt.ylabel('Count')\n",
    "plt.title('Distribution of wRC+ for 2024')\n",
    "plt.show()"
   ]
  },
  {
   "cell_type": "markdown",
   "id": "66a392d4",
   "metadata": {},
   "source": [
    "summary stats"
   ]
  },
  {
   "cell_type": "code",
   "execution_count": 4,
   "id": "784ea422",
   "metadata": {},
   "outputs": [
    {
     "data": {
      "application/vnd.microsoft.datawrangler.viewer.v0+json": {
       "columns": [
        {
         "name": "index",
         "rawType": "object",
         "type": "string"
        },
        {
         "name": "Season",
         "rawType": "float64",
         "type": "float"
        },
        {
         "name": "wRC+",
         "rawType": "float64",
         "type": "float"
        }
       ],
       "conversionMethod": "pd.DataFrame",
       "ref": "470c8f8c-fe74-49e1-8763-0f8ed59ff17b",
       "rows": [
        [
         "count",
         "365.0",
         "365.0"
        ],
        [
         "mean",
         "2024.0",
         "100.09513166120605"
        ],
        [
         "std",
         "0.0",
         "26.15022522659544"
        ],
        [
         "min",
         "2024.0",
         "26.76256374903553"
        ],
        [
         "25%",
         "2024.0",
         "83.29002984196227"
        ],
        [
         "50%",
         "2024.0",
         "98.5543450434368"
        ],
        [
         "75%",
         "2024.0",
         "115.21803132765"
        ],
        [
         "max",
         "2024.0",
         "218.4253797567829"
        ]
       ],
       "shape": {
        "columns": 2,
        "rows": 8
       }
      },
      "text/html": [
       "<div>\n",
       "<style scoped>\n",
       "    .dataframe tbody tr th:only-of-type {\n",
       "        vertical-align: middle;\n",
       "    }\n",
       "\n",
       "    .dataframe tbody tr th {\n",
       "        vertical-align: top;\n",
       "    }\n",
       "\n",
       "    .dataframe thead th {\n",
       "        text-align: right;\n",
       "    }\n",
       "</style>\n",
       "<table border=\"1\" class=\"dataframe\">\n",
       "  <thead>\n",
       "    <tr style=\"text-align: right;\">\n",
       "      <th></th>\n",
       "      <th>Season</th>\n",
       "      <th>wRC+</th>\n",
       "    </tr>\n",
       "  </thead>\n",
       "  <tbody>\n",
       "    <tr>\n",
       "      <th>count</th>\n",
       "      <td>365.0</td>\n",
       "      <td>365.000000</td>\n",
       "    </tr>\n",
       "    <tr>\n",
       "      <th>mean</th>\n",
       "      <td>2024.0</td>\n",
       "      <td>100.095132</td>\n",
       "    </tr>\n",
       "    <tr>\n",
       "      <th>std</th>\n",
       "      <td>0.0</td>\n",
       "      <td>26.150225</td>\n",
       "    </tr>\n",
       "    <tr>\n",
       "      <th>min</th>\n",
       "      <td>2024.0</td>\n",
       "      <td>26.762564</td>\n",
       "    </tr>\n",
       "    <tr>\n",
       "      <th>25%</th>\n",
       "      <td>2024.0</td>\n",
       "      <td>83.290030</td>\n",
       "    </tr>\n",
       "    <tr>\n",
       "      <th>50%</th>\n",
       "      <td>2024.0</td>\n",
       "      <td>98.554345</td>\n",
       "    </tr>\n",
       "    <tr>\n",
       "      <th>75%</th>\n",
       "      <td>2024.0</td>\n",
       "      <td>115.218031</td>\n",
       "    </tr>\n",
       "    <tr>\n",
       "      <th>max</th>\n",
       "      <td>2024.0</td>\n",
       "      <td>218.425380</td>\n",
       "    </tr>\n",
       "  </tbody>\n",
       "</table>\n",
       "</div>"
      ],
      "text/plain": [
       "       Season        wRC+\n",
       "count   365.0  365.000000\n",
       "mean   2024.0  100.095132\n",
       "std       0.0   26.150225\n",
       "min    2024.0   26.762564\n",
       "25%    2024.0   83.290030\n",
       "50%    2024.0   98.554345\n",
       "75%    2024.0  115.218031\n",
       "max    2024.0  218.425380"
      ]
     },
     "execution_count": 4,
     "metadata": {},
     "output_type": "execute_result"
    }
   ],
   "source": [
    "wrc_2024.describe()"
   ]
  },
  {
   "cell_type": "code",
   "execution_count": 5,
   "id": "23edfaaa",
   "metadata": {},
   "outputs": [
    {
     "name": "stdout",
     "output_type": "stream",
     "text": [
      "count    7828.000000\n",
      "mean      100.344053\n",
      "std        25.876430\n",
      "min        -7.710482\n",
      "25%        83.112436\n",
      "50%        99.416733\n",
      "75%       116.713857\n",
      "max       243.820203\n",
      "Name: wRC+, dtype: float64\n"
     ]
    }
   ],
   "source": [
    "print(wrc_year['wRC+'].describe())"
   ]
  },
  {
   "cell_type": "code",
   "execution_count": 6,
   "id": "f956d90f",
   "metadata": {},
   "outputs": [
    {
     "data": {
      "image/png": "[encoded data removed]",
      "text/plain": [
       "<Figure size 640x480 with 1 Axes>"
      ]
     },
     "metadata": {},
     "output_type": "display_data"
    }
   ],
   "source": [
    "plt.hist(wrc_year['wRC+'], bins=60, edgecolor='black')\n",
    "plt.xlabel('wRC+')\n",
    "plt.ylabel('Count')\n",
    "plt.title('Distribution of wRC+ for 2024')\n",
    "plt.show()"
   ]
  },
  {
   "cell_type": "markdown",
   "id": "61368d44",
   "metadata": {},
   "source": [
    "#### Average Amount in Each Bin of 10 Each Season"
   ]
  },
  {
   "cell_type": "code",
   "execution_count": 7,
   "id": "0acb44b6",
   "metadata": {},
   "outputs": [
    {
     "name": "stdout",
     "output_type": "stream",
     "text": [
      "0-10: 0.09 players on average\n",
      "10-20: 0.04 players on average\n",
      "20-30: 0.43 players on average\n",
      "30-40: 1.78 players on average\n",
      "40-50: 4.96 players on average\n",
      "50-60: 10.70 players on average\n",
      "60-70: 20.48 players on average\n",
      "70-80: 33.91 players on average\n",
      "80-90: 45.57 players on average\n",
      "90-100: 55.09 players on average\n",
      "100-110: 52.70 players on average\n",
      "110-120: 41.87 players on average\n",
      "120-130: 31.35 players on average\n",
      "130-140: 19.17 players on average\n",
      "140-150: 10.74 players on average\n",
      "150-160: 5.91 players on average\n",
      "160-170: 2.78 players on average\n",
      "170-180: 1.83 players on average\n",
      "180-190: 0.57 players on average\n",
      "190-200: 0.13 players on average\n",
      "200-210: 0.04 players on average\n",
      "210-220: 0.09 players on average\n",
      "220-230: 0.00 players on average\n",
      "230-240: 0.04 players on average\n",
      "240-250: 0.04 players on average\n"
     ]
    }
   ],
   "source": [
    "# calculate the amount of players in each 10 wRC+ bin on average for every season\n",
    "bins = np.arange(0, wrc_year['wRC+'].max() + 10, 10)\n",
    "season_bin_counts = wrc_year.groupby('Season')['wRC+'].apply(lambda x: np.histogram(x, bins=bins)[0])\n",
    "avg_bin_counts = season_bin_counts.apply(pd.Series).mean(axis=0)\n",
    "\n",
    "for i, count in enumerate(avg_bin_counts):\n",
    "    print(f\"{int(bins[i])}-{int(bins[i+1])}: {count:.2f} players on average\")"
   ]
  },
  {
   "cell_type": "code",
   "execution_count": 18,
   "id": "4d905ae6",
   "metadata": {},
   "outputs": [
    {
     "name": "stdout",
     "output_type": "stream",
     "text": [
      "Percent of players with wRC+ greater than 10: 99.97%\n",
      "Percent of players with wRC+ greater than 20: 99.96%\n",
      "Percent of players with wRC+ greater than 30: 99.83%\n",
      "Percent of players with wRC+ greater than 40: 99.31%\n",
      "Percent of players with wRC+ greater than 50: 97.85%\n",
      "Percent of players with wRC+ greater than 60: 94.71%\n",
      "Percent of players with wRC+ greater than 70: 88.69%\n",
      "Percent of players with wRC+ greater than 80: 78.73%\n",
      "Percent of players with wRC+ greater than 90: 65.34%\n",
      "Percent of players with wRC+ greater than 100: 49.15%\n",
      "Percent of players with wRC+ greater than 110: 33.67%\n",
      "Percent of players with wRC+ greater than 120: 21.36%\n",
      "Percent of players with wRC+ greater than 130: 12.15%\n",
      "Percent of players with wRC+ greater than 140: 6.52%\n",
      "Percent of players with wRC+ greater than 150: 3.36%\n",
      "Percent of players with wRC+ greater than 160: 1.62%\n",
      "Percent of players with wRC+ greater than 170: 0.80%\n",
      "Percent of players with wRC+ greater than 180: 0.27%\n",
      "Percent of players with wRC+ greater than 190: 0.10%\n",
      "Percent of players with wRC+ greater than 200: 0.06%\n",
      "Percent of players with wRC+ greater than 210: 0.05%\n",
      "Percent of players with wRC+ greater than 220: 0.03%\n",
      "Percent of players with wRC+ greater than 230: 0.03%\n",
      "Percent of players with wRC+ greater than 240: 0.01%\n"
     ]
    }
   ],
   "source": [
    "for i in range(len(avg_bin_counts) - 1):\n",
    "    percent_greater = 100 * avg_bin_counts[i+1:].sum() / avg_bin_counts.sum()\n",
    "    print(f\"Percent of players with wRC+ greater than {int(bins[i+1])}: {percent_greater:.2f}%\")\n"
   ]
  }
 ],
 "metadata": {
  "kernelspec": {
   "display_name": "base",
   "language": "python",
   "name": "python3"
  },
  "language_info": {
   "codemirror_mode": {
    "name": "ipython",
    "version": 3
   },
   "file_extension": ".py",
   "mimetype": "text/x-python",
   "name": "python",
   "nbconvert_exporter": "python",
   "pygments_lexer": "ipython3",
   "version": "3.12.7"
  }
 },
 "nbformat": 4,
 "nbformat_minor": 5
}
