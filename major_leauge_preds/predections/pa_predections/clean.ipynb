{
 "cells": [
  {
   "cell_type": "markdown",
   "id": "02412dc7",
   "metadata": {},
   "source": [
    "### PA Model Data Preprocessing"
   ]
  },
  {
   "cell_type": "code",
   "execution_count": 9,
   "id": "a690dcef",
   "metadata": {},
   "outputs": [],
   "source": [
    "# packages\n",
    "import pandas as pd\n",
    "import numpy as np\n",
    "import os\n",
    "os.chdir('C:/Users/dalto/OneDrive/Pictures/Documents/Projects/MLB Season Model/') "
   ]
  },
  {
   "cell_type": "code",
   "execution_count": 10,
   "id": "56f84f79",
   "metadata": {},
   "outputs": [],
   "source": [
    "data_full = pd.read_csv('./data/cleaned/data_15_24.csv')\n",
    "injury_df = pd.read_csv('./data/full/injury_data.csv')"
   ]
  },
  {
   "cell_type": "markdown",
   "id": "c1a7f9cd",
   "metadata": {},
   "source": [
    "#### Injury Data"
   ]
  },
  {
   "cell_type": "markdown",
   "id": "998e8513",
   "metadata": {},
   "source": [
    "Filter out Pitchers, Drop Unneeded Cols, Fill Return Date NAs"
   ]
  },
  {
   "cell_type": "code",
   "execution_count": 11,
   "id": "77484ff3",
   "metadata": {},
   "outputs": [],
   "source": [
    "injury_df = injury_df[~injury_df['Pos'].isin(['SP', 'RP', 'SP/RP'])]\n",
    "injury_df = injury_df.drop(columns=['Pos', 'Injury / Surgery Date', 'Status' , 'Latest Update', 'Eligible to Return'])\n",
    "injury_df.loc[injury_df['Return Date'].isna(), 'Return Date'] = '10/03/' + injury_df['Season'].astype(str) \n",
    "# on average last day of season. It differs like 2-3 days a year but this makes the code alot simpler lol"
   ]
  },
  {
   "cell_type": "markdown",
   "id": "2350ce08",
   "metadata": {},
   "source": [
    "Clean Names"
   ]
  },
  {
   "cell_type": "code",
   "execution_count": 12,
   "id": "6c9f2a2b",
   "metadata": {},
   "outputs": [],
   "source": [
    "injury_df = injury_df.rename(columns={'NameASCII': 'Name'})\n",
    "injury_df['Name'] = injury_df['Name'].str.lower()\n",
    "injury_df['Name'] = injury_df['Name'].str.replace(r'[^a-z\\s]', '', regex=True)"
   ]
  },
  {
   "cell_type": "markdown",
   "id": "3448c6b0",
   "metadata": {},
   "source": [
    "Date Col to Datetime Obj"
   ]
  },
  {
   "cell_type": "code",
   "execution_count": 13,
   "id": "0e4593bf",
   "metadata": {},
   "outputs": [],
   "source": [
    "injury_df['IL Retro Date'] = pd.to_datetime(injury_df['IL Retro Date']).dt.dayofyear\n",
    "injury_df['Return Date'] = pd.to_datetime(injury_df['Return Date']).dt.dayofyear"
   ]
  },
  {
   "cell_type": "markdown",
   "id": "513936e6",
   "metadata": {},
   "source": [
    "Days Missed Each Season"
   ]
  },
  {
   "cell_type": "code",
   "execution_count": 14,
   "id": "1aafd266",
   "metadata": {},
   "outputs": [],
   "source": [
    "injury_df['Days_Missed'] = injury_df['Return Date'] - injury_df['IL Retro Date']\n",
    "injury_df = injury_df.drop(columns=['Team', 'Injury / Surgery', 'IL Retro Date', 'Return Date'])\n",
    "injury_df['Days_Missed_Season'] = injury_df.groupby(['Name', 'Season'])['Days_Missed'].transform('sum')\n",
    "injury_df = injury_df.drop(columns=['Days_Missed'])\n",
    "injury_df = injury_df.drop_duplicates()"
   ]
  },
  {
   "cell_type": "markdown",
   "id": "48324871",
   "metadata": {},
   "source": [
    "#### match to PA df"
   ]
  },
  {
   "cell_type": "code",
   "execution_count": 15,
   "id": "6a6753f0",
   "metadata": {},
   "outputs": [],
   "source": [
    "pa_data = data_full[['Name', 'Season', 'PA', 'Age']]\n",
    "pa_data = pa_data.reset_index()\n",
    "pa_data = pa_data.drop(columns=['index'])\n",
    "pa_data = pa_data[pa_data['Season'] > 2020]\n",
    "pa_data = pa_data.merge(injury_df, how='outer', on=['Name', 'Season'])"
   ]
  },
  {
   "cell_type": "code",
   "execution_count": 16,
   "id": "c2e984ee",
   "metadata": {},
   "outputs": [],
   "source": [
    "pa_data['Days_Missed_Season'] = pa_data['Days_Missed_Season'].fillna(0)\n",
    "pa_data = pa_data.dropna()"
   ]
  },
  {
   "cell_type": "markdown",
   "id": "348181b9",
   "metadata": {},
   "source": [
    "Export to CSV"
   ]
  },
  {
   "cell_type": "code",
   "execution_count": 17,
   "id": "7592ac50",
   "metadata": {},
   "outputs": [],
   "source": [
    "pa_data.to_csv('./data/cleaned/pa_injury_data.csv')"
   ]
  }
 ],
 "metadata": {
  "kernelspec": {
   "display_name": "base",
   "language": "python",
   "name": "python3"
  },
  "language_info": {
   "codemirror_mode": {
    "name": "ipython",
    "version": 3
   },
   "file_extension": ".py",
   "mimetype": "text/x-python",
   "name": "python",
   "nbconvert_exporter": "python",
   "pygments_lexer": "ipython3",
   "version": "3.12.7"
  }
 },
 "nbformat": 4,
 "nbformat_minor": 5
}
