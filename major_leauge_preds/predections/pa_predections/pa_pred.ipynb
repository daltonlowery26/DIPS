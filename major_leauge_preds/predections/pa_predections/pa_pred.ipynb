{
 "cells": [
  {
   "cell_type": "markdown",
   "id": "74b30a0a",
   "metadata": {},
   "source": [
    "### Combined PA Predections"
   ]
  },
  {
   "cell_type": "code",
   "execution_count": 1,
   "id": "e10a7662",
   "metadata": {},
   "outputs": [],
   "source": [
    "import pandas as pd\n",
    "import matplotlib.pyplot as plt\n",
    "import numpy as np\n",
    "import os\n",
    "os.chdir('C:/Users/dalto/OneDrive/Pictures/Documents/Projects/MLB Season Model/')"
   ]
  },
  {
   "cell_type": "markdown",
   "id": "552b6ef9",
   "metadata": {},
   "source": [
    "import"
   ]
  },
  {
   "cell_type": "code",
   "execution_count": 3,
   "id": "ced475d4",
   "metadata": {},
   "outputs": [],
   "source": [
    "pa_1 = pd.read_csv('./predicted_data/pa_pred/pa_25_1.csv')\n",
    "pa_2 = pd.read_csv('./predicted_data/pa_pred/pa_25_2.csv')\n",
    "pa_3 = pd.read_csv('./predicted_data/pa_pred/pa_25_3.csv')\n"
   ]
  },
  {
   "cell_type": "markdown",
   "id": "aa699c5d",
   "metadata": {},
   "source": [
    "basic drop and merge"
   ]
  },
  {
   "cell_type": "code",
   "execution_count": 4,
   "id": "a6ceed2b",
   "metadata": {},
   "outputs": [],
   "source": [
    "pa_1 = pa_1.drop(columns=['Unnamed: 0'])\n",
    "pa_2 = pa_2.drop(columns=['Unnamed: 0'])\n",
    "pa_3 = pa_3.drop(columns=['Unnamed: 0'])"
   ]
  },
  {
   "cell_type": "code",
   "execution_count": 5,
   "id": "972e4d12",
   "metadata": {},
   "outputs": [],
   "source": [
    "pas = pa_1.merge(pa_2, on='Name', how='outer',suffixes=[\"\",'_2'])\n",
    "pas = pas.merge(pa_3, on='Name', how = 'outer',suffixes=[\"\",'_3'])\n",
    "pas = pas[pas['Name'] != 'Carlos Perez'] # idk whats up w bro, his name doesnt work. I have checked very throughly and everything else is fine"
   ]
  },
  {
   "cell_type": "markdown",
   "id": "5b74aee4",
   "metadata": {},
   "source": [
    "#### predecited PA "
   ]
  },
  {
   "cell_type": "markdown",
   "id": "13761d2e",
   "metadata": {},
   "source": [
    "<small> highest value given to pa_2 as this model preformed best by a fair bit. However both other models I think still provide imporant context. Some players dont have enough previos season for some models so just averages based on what they have"
   ]
  },
  {
   "cell_type": "code",
   "execution_count": 6,
   "id": "ad5f5059",
   "metadata": {},
   "outputs": [],
   "source": [
    "def weighted_average_pred_pa(row, weights=[1, 1, 1]):\n",
    "    values = [row['pred_pa'], row['pred_pa_2'], row['pred_pa_3']]\n",
    "    valid = [(v, w) for v, w in zip(values, weights) if not np.isnan(v)]\n",
    "    if valid:\n",
    "        vals, ws = zip(*valid)\n",
    "        return np.average(vals, weights=ws)\n",
    "    else:\n",
    "        return np.nan\n",
    "\n",
    "\n",
    "weights = [0.25,0.5, 0.25]\n",
    "pas['avg_pred_pa'] = pas.apply(weighted_average_pred_pa, axis=1, weights=weights)"
   ]
  },
  {
   "cell_type": "markdown",
   "id": "43bbbea5",
   "metadata": {},
   "source": [
    "#### Export PA"
   ]
  },
  {
   "cell_type": "code",
   "execution_count": 7,
   "id": "27ceb1d7",
   "metadata": {},
   "outputs": [],
   "source": [
    "pa_preds = pas[['Name', 'avg_pred_pa']]\n",
    "pa_preds = pa_preds.reset_index()\n",
    "pa_preds = pa_preds.drop(columns=['index'])"
   ]
  },
  {
   "cell_type": "code",
   "execution_count": 22,
   "id": "a6048e35",
   "metadata": {},
   "outputs": [],
   "source": [
    "pa_preds.to_csv('./predicted_data/pa_25.csv')"
   ]
  }
 ],
 "metadata": {
  "kernelspec": {
   "display_name": "base",
   "language": "python",
   "name": "python3"
  },
  "language_info": {
   "codemirror_mode": {
    "name": "ipython",
    "version": 3
   },
   "file_extension": ".py",
   "mimetype": "text/x-python",
   "name": "python",
   "nbconvert_exporter": "python",
   "pygments_lexer": "ipython3",
   "version": "3.12.7"
  }
 },
 "nbformat": 4,
 "nbformat_minor": 5
}
