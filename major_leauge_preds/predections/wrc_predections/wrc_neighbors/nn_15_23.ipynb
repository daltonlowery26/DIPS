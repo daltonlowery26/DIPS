{
  "cells": [
    {
      "cell_type": "markdown",
      "id": "2baff03a",
      "metadata": {
        "id": "2baff03a"
      },
      "source": [
        "### NN Model for 2015-2023 Data"
      ]
    },
    {
      "cell_type": "markdown",
      "id": "b7062e36",
      "metadata": {},
      "source": [
        "#### Imports"
      ]
    },
    {
      "cell_type": "markdown",
      "id": "2e4dd603",
      "metadata": {},
      "source": [
        "packages"
      ]
    },
    {
      "cell_type": "code",
      "execution_count": 3,
      "id": "00438762",
      "metadata": {
        "id": "00438762"
      },
      "outputs": [],
      "source": [
        "import pandas as pd\n",
        "from sklearn.neighbors import NearestNeighbors\n",
        "import numpy as np\n",
        "import os\n",
        "import sys\n",
        "function_dir = 'C:/Users/dalto/OneDrive/Pictures/Documents/Projects/MLB Season Model/tools'\n",
        "sys.path.append(function_dir)"
      ]
    },
    {
      "cell_type": "markdown",
      "id": "tcCWuK5XsFTy",
      "metadata": {
        "id": "tcCWuK5XsFTy"
      },
      "source": [
        "local import"
      ]
    },
    {
      "cell_type": "code",
      "execution_count": 4,
      "id": "CpfudBH_r_At",
      "metadata": {
        "id": "CpfudBH_r_At"
      },
      "outputs": [],
      "source": [
        "os.chdir('C:/Users/dalto/OneDrive/Pictures/Documents/Projects/Active/MLB Season Model/')\n",
        "data_15_24 = pd.read_csv('./major_leauge_preds/data/multi_season/weighted_15_24.csv')\n",
        "df = data_15_24.copy() # import data\n",
        "df = df.dropna(axis=1)"
      ]
    },
    {
      "cell_type": "markdown",
      "id": "355cf313",
      "metadata": {},
      "source": [
        "drop always unneeded cols"
      ]
    },
    {
      "cell_type": "code",
      "execution_count": 5,
      "id": "a9bda7f5",
      "metadata": {
        "id": "a9bda7f5"
      },
      "outputs": [],
      "source": [
        "df = df.drop(columns=['Unnamed: 0', 'Def'])"
      ]
    },
    {
      "cell_type": "markdown",
      "id": "c9f8645d",
      "metadata": {
        "id": "c9f8645d"
      },
      "source": [
        "#### Normalize Data"
      ]
    },
    {
      "cell_type": "code",
      "execution_count": 6,
      "id": "3fa1ed6a",
      "metadata": {
        "id": "3fa1ed6a"
      },
      "outputs": [],
      "source": [
        "from tools.zscore import normalize\n",
        "normalized_data = normalize(df)"
      ]
    },
    {
      "cell_type": "markdown",
      "id": "e4115ad0",
      "metadata": {
        "id": "e4115ad0"
      },
      "source": [
        "correlation with WRC+, help feature selection"
      ]
    },
    {
      "cell_type": "code",
      "execution_count": 7,
      "id": "54c820db",
      "metadata": {
        "colab": {
          "base_uri": "https://localhost:8080/"
        },
        "id": "54c820db",
        "outputId": "121c9b61-6315-49e4-9238-03743ac2118d"
      },
      "outputs": [
        {
          "name": "stdout",
          "output_type": "stream",
          "text": [
            "Season                0.042267\n",
            "Age                   0.265668\n",
            "PA                    0.581236\n",
            "BB%                   0.345346\n",
            "K%                   -0.360422\n",
            "BABIP                 0.614066\n",
            "wRC+                  1.000000\n",
            "BsR                  -0.099534\n",
            "Off                   0.532577\n",
            "WAR                   0.604059\n",
            "Barrel%               0.448656\n",
            "maxEV                 0.534405\n",
            "HardHit%              0.456330\n",
            "O-Swing%             -0.169259\n",
            "Z-Swing%              0.088434\n",
            "O-Contact%            0.180056\n",
            "Z-Contact%            0.175081\n",
            "Contact%              0.210717\n",
            "SwStr%               -0.226905\n",
            "CSW%                 -0.372772\n",
            "player_id            -0.198675\n",
            "pa                    0.564580\n",
            "k_percent            -0.334878\n",
            "bb_percent            0.315890\n",
            "woba                  0.790494\n",
            "xwoba                 0.626661\n",
            "sweet_spot_percent    0.291506\n",
            "barrel_batted_rate    0.423812\n",
            "hard_hit_percent      0.389558\n",
            "avg_best_speed        0.186915\n",
            "avg_hyper_speed       0.147004\n",
            "whiff_percent        -0.192780\n",
            "swing_percent        -0.094628\n",
            "Name: wRC+, dtype: float64\n"
          ]
        }
      ],
      "source": [
        "corr = normalized_data.corr(numeric_only=True)\n",
        "corr = corr['wRC+']\n",
        "print(corr)"
      ]
    },
    {
      "cell_type": "markdown",
      "id": "27774a21",
      "metadata": {
        "id": "27774a21"
      },
      "source": [
        "#### NN"
      ]
    },
    {
      "cell_type": "markdown",
      "id": "5bbf5ee1",
      "metadata": {
        "id": "5bbf5ee1"
      },
      "source": [
        "function to find the str nearest neighbor based on a found nn index"
      ]
    },
    {
      "cell_type": "code",
      "execution_count": 8,
      "id": "a1b9af21",
      "metadata": {
        "id": "a1b9af21"
      },
      "outputs": [],
      "source": [
        "def df_apply(df, indices):\n",
        "    num_samples = indices.shape[0]\n",
        "    output_index = df.index\n",
        "    rows_data = []\n",
        "    indices_array = indices.astype(int)\n",
        "\n",
        "    for i in range(num_samples):\n",
        "        row_neighbors = {}\n",
        "        neighbor_positional_indices = indices_array[i]\n",
        "\n",
        "        for j, neighbor_pos_idx in enumerate(neighbor_positional_indices):\n",
        "            neighbor_row = df.iloc[neighbor_pos_idx]\n",
        "            name = neighbor_row['Name']\n",
        "            season = str(neighbor_row['Season'])\n",
        "            row_neighbors[f'n{j+1}'] = f\"{name},{season}\"\n",
        "\n",
        "        rows_data.append(row_neighbors)\n",
        "\n",
        "    return pd.DataFrame(rows_data, index=output_index)"
      ]
    },
    {
      "cell_type": "markdown",
      "id": "86dffaa2",
      "metadata": {
        "id": "86dffaa2"
      },
      "source": [
        "diff between target player season plus 1, and closest neighbor season plus 1 WRC+"
      ]
    },
    {
      "cell_type": "code",
      "execution_count": 9,
      "id": "409950a5",
      "metadata": {
        "id": "409950a5"
      },
      "outputs": [],
      "source": [
        "def single_n_diff(row):\n",
        "    wrc_current = np.nan\n",
        "    player_name = None\n",
        "\n",
        "    try:\n",
        "        player_info = row['n1'].split(',')\n",
        "        player_name = player_info[0].strip()\n",
        "        season = int(player_info[1])\n",
        "\n",
        "        current_lookup = df[(df['Name'] == player_name) & (df['Season'] == season + 1)]['wRC+']\n",
        "\n",
        "        if not current_lookup.empty:\n",
        "            wrc_current = current_lookup.iloc[0]\n",
        "        else:\n",
        "            return np.nan\n",
        "    except (IndexError, ValueError, AttributeError, KeyError):\n",
        "         return np.nan\n",
        "\n",
        "    wrc_target_val = np.nan\n",
        "    for i in range(2, 6):\n",
        "        neighbor_col = f'n{i}'\n",
        "        if neighbor_col in row and pd.notna(row[neighbor_col]):\n",
        "            try:\n",
        "                neighbor_info = row[neighbor_col].split(',')\n",
        "                neighbor_name = neighbor_info[0].strip()\n",
        "\n",
        "                if neighbor_name != player_name:\n",
        "                    neighbor_season = int(neighbor_info[1])\n",
        "\n",
        "                    neighbor_lookup = df[(df['Name'] == neighbor_name) & (df['Season'] == neighbor_season + 1)]['wRC+']\n",
        "\n",
        "                    if not neighbor_lookup.empty:\n",
        "                        wrc_target_val = neighbor_lookup.iloc[0]\n",
        "                        break\n",
        "            except (IndexError, ValueError, AttributeError):\n",
        "                 continue\n",
        "\n",
        "    if pd.notna(wrc_current) and pd.notna(wrc_target_val):\n",
        "        return abs(wrc_target_val - wrc_current)\n",
        "    else:\n",
        "        return np.nan"
      ]
    },
    {
      "cell_type": "markdown",
      "id": "645ced33",
      "metadata": {},
      "source": [
        "Implementing NN"
      ]
    },
    {
      "cell_type": "markdown",
      "id": "fb5016ff",
      "metadata": {},
      "source": [
        "<small> Removed players below 200 PA (85 is the normalized value) because I was having a ton of issues with small sample size players impacting preformance"
      ]
    },
    {
      "cell_type": "code",
      "execution_count": 10,
      "id": "1e810588",
      "metadata": {
        "id": "1e810588"
      },
      "outputs": [],
      "source": [
        "X1 = normalized_data[normalized_data['PA'] > 85] # filter pa so we dont get small sample outliers, corresponds to about 200 PA\n",
        "X1 = normalized_data[normalized_data['Season'] < 2024]\n",
        "X1 = X1.reset_index(drop=True)\n",
        "X1 = X1.drop(columns=['BsR', 'Z-Swing%', 'O-Contact%', 'Z-Contact%', 'Age']) # filter uneed features, more varience\n",
        "X = X1.drop(columns=['Name', 'Season']) # same as x1 without names\n",
        "X = X.to_numpy()"
      ]
    },
    {
      "cell_type": "code",
      "execution_count": 11,
      "id": "4669adc2",
      "metadata": {
        "colab": {
          "base_uri": "https://localhost:8080/",
          "height": 257
        },
        "id": "4669adc2",
        "outputId": "f0a86044-8480-4abb-ff8e-5a8c8308e2d8"
      },
      "outputs": [],
      "source": [
        "# nearest neighbors and indices\n",
        "nn = NearestNeighbors(n_neighbors=9).fit(X)\n",
        "indices_test = nn.kneighbors(X, return_distance=False)"
      ]
    },
    {
      "cell_type": "markdown",
      "id": "324470c2",
      "metadata": {
        "id": "324470c2"
      },
      "source": [
        "Nearest Neighbor for Every Player in df"
      ]
    },
    {
      "cell_type": "code",
      "execution_count": 12,
      "id": "8876d733",
      "metadata": {
        "colab": {
          "base_uri": "https://localhost:8080/"
        },
        "id": "8876d733",
        "outputId": "636064cb-15bd-4e25-9f82-566224e03e72"
      },
      "outputs": [],
      "source": [
        "kNear = pd.DataFrame(columns=['n1', 'n2', 'n3', 'n4', 'n5', 'n6', 'n7', 'n8', 'n9'])\n",
        "kNear = df_apply(df = X1, indices=indices_test)\n",
        "for i in range(1, 7):  # for columns n1 through n6\n",
        "    kNear[f'n{i}'] = kNear[f'n{i}'].astype(str)"
      ]
    },
    {
      "cell_type": "markdown",
      "id": "db7ff3ad",
      "metadata": {
        "id": "db7ff3ad"
      },
      "source": [
        "Loss Value"
      ]
    },
    {
      "cell_type": "code",
      "execution_count": 16,
      "id": "2f78f1ae",
      "metadata": {
        "colab": {
          "base_uri": "https://localhost:8080/"
        },
        "id": "2f78f1ae",
        "outputId": "a66932d4-0089-4d3e-c875-c9a5d80c9cac"
      },
      "outputs": [
        {
          "name": "stdout",
          "output_type": "stream",
          "text": [
            "10008.392413714842\n"
          ]
        }
      ],
      "source": [
        "# Calculate wrc_diff and handle missing values\n",
        "kNear['wrc_diff'] = kNear.apply(single_n_diff, axis=1)\n",
        "\n",
        "# Calculate sum of wrc_diff, ignoring NaN values\n",
        "miss = kNear['wrc_diff'].sum(skipna=True)\n",
        "print(miss)"
      ]
    },
    {
      "cell_type": "markdown",
      "id": "a4e15f31",
      "metadata": {},
      "source": [
        "Experiment with how to calc loss\n",
        "<br>\n",
        "<small> look at more then one neighbor? </small>"
      ]
    },
    {
      "cell_type": "code",
      "execution_count": 17,
      "id": "696510e9",
      "metadata": {},
      "outputs": [],
      "source": [
        "# same as the first loss function except now calculating 8 neighbors and weighted avg wrc+\n",
        "def wrc_diff_weight(row):\n",
        "    wrc_current = np.nan\n",
        "    player_name = None\n",
        "\n",
        "    try:\n",
        "        player_info = row['n1'].split(',')\n",
        "        player_name = player_info[0].strip()\n",
        "        season = int(player_info[1])\n",
        "\n",
        "        current_lookup = df[(df['Name'] == player_name) & (df['Season'] == season + 1)]['wRC+']\n",
        "\n",
        "        if not current_lookup.empty:\n",
        "            wrc_current = current_lookup.iloc[0]\n",
        "        else:\n",
        "            return np.nan\n",
        "    except (IndexError, ValueError, AttributeError, KeyError):\n",
        "         return np.nan\n",
        "\n",
        "    wrc_target_val = []\n",
        "    for i in range(2, 10):\n",
        "        neighbor_col = f'n{i}'\n",
        "        if neighbor_col in row and pd.notna(row[neighbor_col]):\n",
        "            try:\n",
        "                neighbor_info = row[neighbor_col].split(',')\n",
        "                neighbor_name = neighbor_info[0].strip()\n",
        "\n",
        "                if neighbor_name != player_name:\n",
        "                    neighbor_season = int(neighbor_info[1])\n",
        "\n",
        "                    neighbor_lookup = df[(df['Name'] == neighbor_name) & (df['Season'] == neighbor_season + 1)]['wRC+']\n",
        "\n",
        "                    if not neighbor_lookup.empty:\n",
        "                        wrc_target_val.append(neighbor_lookup.iloc[0]) # add neighbors\n",
        "\n",
        "                    # if len of the list is greater then 2 break\n",
        "                    if len(wrc_target_val) >= 7:\n",
        "                        break\n",
        "            except (IndexError, ValueError, AttributeError):\n",
        "                continue\n",
        "\n",
        "    if pd.notna(wrc_current) and len(wrc_target_val) > 0:\n",
        "        weights = [0.25, 0.15, 0.125, 0.125, 0.125, 0.125, 0.1]\n",
        "        avg_target = sum(w * x for w, x in zip(weights[:len(wrc_target_val)], wrc_target_val)) / sum(weights[:len(wrc_target_val)])\n",
        "        return abs(avg_target - wrc_current)\n",
        "    else:\n",
        "        return np.nan\n"
      ]
    },
    {
      "cell_type": "markdown",
      "id": "5f7df92b",
      "metadata": {},
      "source": [
        "loss | diffrence in future year WRC+"
      ]
    },
    {
      "cell_type": "code",
      "execution_count": 18,
      "id": "744f8aef",
      "metadata": {},
      "outputs": [
        {
          "name": "stdout",
          "output_type": "stream",
          "text": [
            "8846.205203483434\n"
          ]
        }
      ],
      "source": [
        "kNear['wrc_diff'] = kNear.apply(wrc_diff_weight, axis=1)\n",
        "miss = kNear['wrc_diff'].sum(skipna=True)\n",
        "print(miss)"
      ]
    },
    {
      "cell_type": "markdown",
      "id": "3a0933b0",
      "metadata": {
        "id": "3a0933b0"
      },
      "source": [
        "#### loss function "
      ]
    },
    {
      "cell_type": "markdown",
      "id": "23532837",
      "metadata": {},
      "source": [
        "<small> just adding all the previous steps together to make it easy to tune col weights"
      ]
    },
    {
      "cell_type": "code",
      "execution_count": 19,
      "id": "6548555d",
      "metadata": {
        "id": "6548555d"
      },
      "outputs": [],
      "source": [
        "def loss_fn(weights, normalized_data):\n",
        "\n",
        "    # begin eval function\n",
        "    weighted_og = normalized_data[normalized_data['Season'] < 2024] # filter for eval metric\n",
        "    weighted_og = weighted_og[weighted_og['PA'] > 85] # drop if below 200 PA, more stability, less outliers\n",
        "    weighted_og = weighted_og.reset_index(drop=True)\n",
        "    weighted_og = weighted_og.drop(columns=['BsR', 'Z-Swing%', 'O-Contact%', 'Z-Contact%'])\n",
        "    weighted_x = weighted_og.drop(columns=['Name', 'Season'])\n",
        "    \n",
        "\n",
        "    # apply weights\n",
        "    for col in weighted_x.columns:\n",
        "        if col in weights:\n",
        "            weighted_x[col] = weighted_x[col] * weights[col]\n",
        "\n",
        "    # nearest neighbors\n",
        "    nn_fn = NearestNeighbors(n_neighbors=9).fit(weighted_x)\n",
        "\n",
        "    # distances and index\n",
        "    indices_test_fn = nn_fn.kneighbors(weighted_x, return_distance=False)\n",
        "\n",
        "\n",
        "    # add data using the mapped indices\n",
        "    kNear_fn = df_apply(df = weighted_og, indices=indices_test_fn) # pass mapped to avoid out of bounds\n",
        "\n",
        "    for i in range(1, 7):  # for columns n1 through n6\n",
        "        kNear_fn[f'n{i}'] = kNear_fn[f'n{i}'].astype(str)\n",
        "\n",
        "    # add miss\n",
        "    kNear_fn['wrc_diff'] = kNear_fn.apply(wrc_diff_weight, axis=1) # using new wrc calc\n",
        "\n",
        "    # drop inf or na\n",
        "    kNear_fn = kNear_fn.dropna(subset=['wrc_diff'])\n",
        "    kNear_fn['wrc_diff'] = kNear_fn['wrc_diff'].clip(upper=1000)\n",
        "\n",
        "    # calc miss\n",
        "    miss_fn = kNear_fn['wrc_diff'].sum(skipna=True)\n",
        "    print(f\"miss of {miss_fn}\")\n",
        "    return miss_fn\n"
      ]
    },
    {
      "cell_type": "markdown",
      "id": "569d6b79",
      "metadata": {},
      "source": [
        "#### Manual Weight Tuning"
      ]
    },
    {
      "cell_type": "markdown",
      "id": "24c6761c",
      "metadata": {},
      "source": [
        "<small> Ditched scipy largely because it was ineffective in finding the weights. Alot of this was likely because it was super slow as I coded everything in pandas and the it had to recompute the df constantly. This was widely inefficent. This is def my fault to a certian extent, however I can tune it just as effectively if not more (I wanted to do scipy just to learn it). Doing it manually also allows me not to recode everything. </small>"
      ]
    },
    {
      "cell_type": "markdown",
      "id": "8b0315e3",
      "metadata": {
        "id": "8b0315e3"
      },
      "source": [
        "creating weight index"
      ]
    },
    {
      "cell_type": "code",
      "execution_count": 20,
      "id": "8f402340",
      "metadata": {
        "colab": {
          "base_uri": "https://localhost:8080/"
        },
        "id": "8f402340",
        "outputId": "6dab67e1-b0ba-4695-fa19-ac414add96bd"
      },
      "outputs": [
        {
          "name": "stdout",
          "output_type": "stream",
          "text": [
            "{'Age': 1, 'PA': 1, 'BB%': 1, 'K%': 1, 'BABIP': 1, 'wRC+': 1, 'Off': 1, 'WAR': 1, 'Barrel%': 1, 'maxEV': 1, 'HardHit%': 1, 'O-Swing%': 1, 'Contact%': 1, 'SwStr%': 1, 'CSW%': 1, 'player_id': 1, 'pa': 1, 'k_percent': 1, 'bb_percent': 1, 'woba': 1, 'xwoba': 1, 'sweet_spot_percent': 1, 'barrel_batted_rate': 1, 'hard_hit_percent': 1, 'avg_best_speed': 1, 'avg_hyper_speed': 1, 'whiff_percent': 1, 'swing_percent': 1}\n"
          ]
        }
      ],
      "source": [
        "cols = normalized_data.drop(columns=['BsR', 'Z-Swing%', 'O-Contact%', 'Z-Contact%']) # filter uneed features, more varience\n",
        "cols = cols.drop(columns=['Name', 'Season'])\n",
        "\n",
        "cols_opti = cols.columns\n",
        "weights = {}\n",
        "for col in cols_opti:\n",
        "    weights[col] = 1\n",
        "print(weights)"
      ]
    },
    {
      "cell_type": "markdown",
      "id": "e81d04b2",
      "metadata": {
        "id": "e81d04b2"
      },
      "source": [
        "manual weight tuining\n"
      ]
    },
    {
      "cell_type": "code",
      "execution_count": 21,
      "id": "25d2d3f2",
      "metadata": {},
      "outputs": [],
      "source": [
        "weights = {'PA': 1, 'Age': 1, 'BB%': 1, \n",
        "           'K%': 1, 'BABIP': 1, 'wRC+': 2, \n",
        "           'Off': 1, 'WAR': 1, 'Barrel%': 1, \n",
        "           'maxEV': 1.5, 'HardHit%': 1, 'O-Swing%': 1, \n",
        "           'Contact%': 1, 'SwStr%': 1, 'CSW%': 1}"
      ]
    },
    {
      "cell_type": "markdown",
      "id": "c2f2d185",
      "metadata": {},
      "source": [
        "loss value"
      ]
    },
    {
      "cell_type": "code",
      "execution_count": 22,
      "id": "773b0c4d",
      "metadata": {
        "colab": {
          "base_uri": "https://localhost:8080/"
        },
        "id": "773b0c4d",
        "outputId": "8ed51b25-636b-4a81-96c3-72b0ef611e80"
      },
      "outputs": [
        {
          "name": "stdout",
          "output_type": "stream",
          "text": [
            "miss of 6923.304460022768\n"
          ]
        }
      ],
      "source": [
        "loss_value = loss_fn(weights = weights, normalized_data=normalized_data)"
      ]
    },
    {
      "cell_type": "markdown",
      "id": "27dc94e8",
      "metadata": {},
      "source": [
        "#### 2025 Predections"
      ]
    },
    {
      "cell_type": "markdown",
      "id": "ed7c8a4d",
      "metadata": {},
      "source": [
        "predection function"
      ]
    },
    {
      "cell_type": "code",
      "execution_count": 23,
      "id": "07e8f8eb",
      "metadata": {},
      "outputs": [],
      "source": [
        "def wrc_predict(row):\n",
        "    player_info = row['t1'].split(',')\n",
        "    player_name = player_info[0].strip()\n",
        "\n",
        "    wrc_target_val = []\n",
        "    for i in range(1, 9):\n",
        "        neighbor_col = f'n{i}'\n",
        "        if neighbor_col in row and pd.notna(row[neighbor_col]):\n",
        "            try:\n",
        "                neighbor_info = row[neighbor_col].split(',')\n",
        "                neighbor_name = neighbor_info[0].strip()\n",
        "\n",
        "                neighbor_season = int(neighbor_info[1])\n",
        "                neighbor_lookup = df[(df['Name'] == neighbor_name) & (df['Season'] == neighbor_season + 1)]['wRC+']\n",
        "\n",
        "                if not neighbor_lookup.empty:\n",
        "                    wrc_target_val.append(neighbor_lookup.iloc[0]) # add neighbors\n",
        "\n",
        "                    # if len of the list is greater then 2 break\n",
        "                    if len(wrc_target_val) >= 7:\n",
        "                        break\n",
        "\n",
        "            except (IndexError, ValueError, AttributeError):\n",
        "                continue\n",
        "\n",
        "    if len(wrc_target_val) > 0:\n",
        "        weights = [0.25, 0.15, 0.125, 0.125, 0.125, 0.125, 0.1]\n",
        "        avg_target = sum(w * x for w, x in zip(weights[:len(wrc_target_val)], wrc_target_val)) / sum(weights[:len(wrc_target_val)])\n",
        "        return avg_target\n",
        "    else:\n",
        "        return np.nan\n",
        "  "
      ]
    },
    {
      "cell_type": "markdown",
      "id": "e777b8c0",
      "metadata": {},
      "source": [
        "special apply"
      ]
    },
    {
      "cell_type": "code",
      "execution_count": 24,
      "id": "2845e618",
      "metadata": {},
      "outputs": [],
      "source": [
        "def results_apply(player_df, index_df, knn_pd):\n",
        "    rows_data = []\n",
        "    for i in range(len(knn_pd)):\n",
        "        row_data = {}\n",
        "        for col in knn_pd.columns:\n",
        "            if col == 'player':\n",
        "                neighbor_idx = knn_pd.iloc[i][col]\n",
        "                neighbor_row = player_df.iloc[neighbor_idx]\n",
        "                name = neighbor_row['Name']\n",
        "                season = str(neighbor_row['Season'])\n",
        "                row_data['t1'] = f\"{name},{season}\"\n",
        "            else:\n",
        "                neighbor_idx = knn_pd.iloc[i][col]\n",
        "                neighbor_row = index_df.iloc[neighbor_idx]\n",
        "                name = neighbor_row['Name']\n",
        "                season = str(neighbor_row['Season'])\n",
        "                row_data[f'n{int(col + 1)}'] = f\"{name},{season}\"\n",
        "        rows_data.append(row_data)\n",
        "    return pd.DataFrame(rows_data)\n"
      ]
    },
    {
      "cell_type": "markdown",
      "id": "3857a7a4",
      "metadata": {},
      "source": [
        "prepare data for indexed data search"
      ]
    },
    {
      "cell_type": "code",
      "execution_count": 25,
      "id": "6a6db65d",
      "metadata": {},
      "outputs": [],
      "source": [
        "target_data = normalized_data[normalized_data['Season'] >= 2024]\n",
        "target_data = target_data.reset_index()\n",
        "target_data = target_data.drop(columns=['BsR', 'Z-Swing%', 'O-Contact%', 'Z-Contact%', 'index', 'Age']) # filter uneed features, more varience\n",
        "index_search = target_data.drop(columns=['Name', 'Season']) # same as x1 without names\n",
        "index_search = index_search.to_numpy()"
      ]
    },
    {
      "cell_type": "markdown",
      "id": "752e0efb",
      "metadata": {},
      "source": [
        "nn"
      ]
    },
    {
      "cell_type": "code",
      "execution_count": 26,
      "id": "efc8b03c",
      "metadata": {},
      "outputs": [],
      "source": [
        "# nearest neighbors and index\n",
        "nn = NearestNeighbors(n_neighbors=9).fit(X)\n",
        "# nearest neighbors and indices for predictions\n",
        "index_25 = nn.kneighbors(index_search, return_distance=False)"
      ]
    },
    {
      "cell_type": "code",
      "execution_count": 27,
      "id": "bc1233ae",
      "metadata": {},
      "outputs": [],
      "source": [
        "# to pd so its easier to work with\n",
        "index_list = pd.DataFrame(index_25)\n",
        "\n",
        "# insert player\n",
        "index_list['player'] = index_list.index\n",
        "\n",
        "# add index into first col as target player\n",
        "cols = index_list.columns.tolist()\n",
        "cols.insert(0, cols.pop(cols.index('player')))\n",
        "index_list = index_list[cols]"
      ]
    },
    {
      "cell_type": "markdown",
      "id": "e28a5c34",
      "metadata": {},
      "source": [
        "apply predections"
      ]
    },
    {
      "cell_type": "code",
      "execution_count": 28,
      "id": "a2afc3eb",
      "metadata": {},
      "outputs": [],
      "source": [
        "preds = pd.DataFrame(columns=['n1', 'n2', 'n3', 'n4', 'n5', 'n6', 'n7', 'n8', 'n9'])\n",
        "preds = results_apply(player_df = target_data, index_df=X1, knn_pd=index_list)\n",
        "for i in range(1, 7):  # for columns n1 through n6\n",
        "    preds[f'n{i}'] = preds[f'n{i}'].astype(str)"
      ]
    },
    {
      "cell_type": "markdown",
      "id": "3c6dea40",
      "metadata": {},
      "source": [
        "war proj"
      ]
    },
    {
      "cell_type": "code",
      "execution_count": 29,
      "id": "84e1c7cd",
      "metadata": {},
      "outputs": [],
      "source": [
        "# WAR Predection\n",
        "preds['proj_wrc+'] = preds.apply(wrc_predict, axis=1)\n",
        "final_predection = preds[['t1', 'proj_wrc+']]"
      ]
    },
    {
      "cell_type": "markdown",
      "id": "145fe94c",
      "metadata": {},
      "source": [
        "to csv"
      ]
    },
    {
      "cell_type": "code",
      "execution_count": 30,
      "id": "02f4ff41",
      "metadata": {},
      "outputs": [],
      "source": [
        "final_predection.to_csv('./major_leauge_preds/predicted_data/wrc_pred/nn_15_23_preds.csv')"
      ]
    }
  ],
  "metadata": {
    "colab": {
      "provenance": []
    },
    "kernelspec": {
      "display_name": "base",
      "language": "python",
      "name": "python3"
    },
    "language_info": {
      "codemirror_mode": {
        "name": "ipython",
        "version": 3
      },
      "file_extension": ".py",
      "mimetype": "text/x-python",
      "name": "python",
      "nbconvert_exporter": "python",
      "pygments_lexer": "ipython3",
      "version": "3.12.7"
    }
  },
  "nbformat": 4,
  "nbformat_minor": 5
}
