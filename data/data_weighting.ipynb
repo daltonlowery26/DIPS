{
 "cells": [
  {
   "cell_type": "markdown",
   "id": "ad3a4cbf",
   "metadata": {},
   "source": [
    "#### Three Year Avg for Players"
   ]
  },
  {
   "cell_type": "code",
   "execution_count": 26,
   "id": "c92b8aef",
   "metadata": {},
   "outputs": [],
   "source": [
    "# packages and file import\n",
    "import pandas as pd\n",
    "import numpy as np\n",
    "import os\n",
    "import matplotlib.pyplot as plt\n",
    "import sys\n",
    "function_dir = 'C:/Users/dalto/OneDrive/Pictures/Documents/Projects/MLB Season Model/tools'\n",
    "sys.path.append(function_dir)\n",
    "os.chdir('C:/Users/dalto/OneDrive/Pictures/Documents/Projects/MLB Season Model/')"
   ]
  },
  {
   "cell_type": "markdown",
   "id": "580b7e5f",
   "metadata": {},
   "source": [
    "import data"
   ]
  },
  {
   "cell_type": "code",
   "execution_count": 33,
   "id": "92d3f5ea",
   "metadata": {},
   "outputs": [],
   "source": [
    "data_02_24 = pd.read_csv('./data/cleaned/data_02_24.csv')\n",
    "data_15_24 = pd.read_csv('./data/cleaned/data_15_24.csv')\n",
    "data_23_24 = pd.read_csv('./data/cleaned/data_23_24.csv')"
   ]
  },
  {
   "cell_type": "code",
   "execution_count": 34,
   "id": "9798c058",
   "metadata": {},
   "outputs": [],
   "source": [
    "data_02_24 = data_02_24.sort_values(by=['Name', 'Season'], ascending=[True, False])\n",
    "data_02_24 = data_02_24.groupby('Name').head(4).reset_index(drop=True)\n",
    "data_02_24 = data_02_24.drop(columns=['Unnamed: 0'])"
   ]
  },
  {
   "cell_type": "code",
   "execution_count": 35,
   "id": "163ae29a",
   "metadata": {},
   "outputs": [],
   "source": [
    "data_15_24 = data_15_24.sort_values(by=['Name', 'Season'], ascending=[True, False])\n",
    "data_15_24 = data_15_24.groupby('Name').head(4).reset_index(drop=True)\n",
    "data_15_24 = data_15_24.drop(columns=['Unnamed: 0'])"
   ]
  },
  {
   "cell_type": "markdown",
   "id": "a07190bb",
   "metadata": {},
   "source": [
    "normalize data to deal with 2020"
   ]
  },
  {
   "cell_type": "code",
   "execution_count": 36,
   "id": "f6d7a2f3",
   "metadata": {},
   "outputs": [],
   "source": [
    "from tools.zscore_pa import normalize\n",
    "norm_02_24 = normalize(data_02_24)\n",
    "norm_15_24 = normalize(data_15_24)"
   ]
  },
  {
   "cell_type": "markdown",
   "id": "4db4e2ba",
   "metadata": {},
   "source": [
    "take three year weighted avg"
   ]
  },
  {
   "cell_type": "code",
   "execution_count": 37,
   "id": "a2069da2",
   "metadata": {},
   "outputs": [],
   "source": [
    "def three_year_avg(df):\n",
    "    combined_rows = []\n",
    "    numeric_cols = df.select_dtypes(include=[np.number]).columns.tolist()\n",
    "    numeric_cols = [col for col in numeric_cols if col not in ['Season', 'Age', 'PA']]  # exclude Season, Age, PA\n",
    "\n",
    "    for name, group in df.groupby('Name'):\n",
    "        group_sorted = group.sort_values('Season')\n",
    "        n = len(group_sorted)\n",
    "        if n < 1:\n",
    "            continue\n",
    "        for i in range(n):\n",
    "            window = group_sorted.iloc[i:i+3]\n",
    "            if len(window) == 0:\n",
    "                continue\n",
    "            # Use the latest season and age in the window\n",
    "            season_label = window.iloc[-1]['Season']\n",
    "            age_label = window.iloc[-1]['Age']\n",
    "            pa_label = window['PA'].mean()\n",
    "            # Average numeric columns (except Season, Age, PA)\n",
    "            averaged = window[numeric_cols].multiply(window['PA'], axis=0).sum() / window['PA'].sum()\n",
    "            new_row = {'Name': name, 'Season': season_label, 'Age': age_label, 'PA': pa_label}\n",
    "            for col in numeric_cols:\n",
    "                new_row[col] = averaged[col]\n",
    "            combined_rows.append(new_row)\n",
    "            if i + 3 >= n:\n",
    "                break\n",
    "\n",
    "    avg_three = pd.DataFrame(combined_rows)\n",
    "    return avg_three\n"
   ]
  },
  {
   "cell_type": "code",
   "execution_count": 38,
   "id": "bc634471",
   "metadata": {},
   "outputs": [],
   "source": [
    "weighted_02_24 = three_year_avg(data_02_24)\n",
    "weighted_15_24 = three_year_avg(data_15_24)"
   ]
  },
  {
   "cell_type": "markdown",
   "id": "5e6b3a1d",
   "metadata": {},
   "source": [
    "#### Export to CSV"
   ]
  },
  {
   "cell_type": "code",
   "execution_count": null,
   "id": "9aaeac2d",
   "metadata": {},
   "outputs": [],
   "source": [
    "weighted_02_24.to_csv('./data/multi_season/weighted_02_24.csv')\n",
    "weighted_15_24.to_csv('./data/multi_season/weighted_15_24.csv')"
   ]
  }
 ],
 "metadata": {
  "kernelspec": {
   "display_name": "base",
   "language": "python",
   "name": "python3"
  },
  "language_info": {
   "codemirror_mode": {
    "name": "ipython",
    "version": 3
   },
   "file_extension": ".py",
   "mimetype": "text/x-python",
   "name": "python",
   "nbconvert_exporter": "python",
   "pygments_lexer": "ipython3",
   "version": "3.12.7"
  }
 },
 "nbformat": 4,
 "nbformat_minor": 5
}
