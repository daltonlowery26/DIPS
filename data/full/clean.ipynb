{
 "cells": [
  {
   "cell_type": "markdown",
   "id": "a72c1dd4",
   "metadata": {},
   "source": [
    "#### Cleaning data and Seperating into the Different Frames"
   ]
  },
  {
   "cell_type": "code",
   "execution_count": 68,
   "id": "bb2a52c8",
   "metadata": {},
   "outputs": [],
   "source": [
    "# panda\n",
    "import pandas as pd"
   ]
  },
  {
   "cell_type": "code",
   "execution_count": 76,
   "id": "b852308d",
   "metadata": {},
   "outputs": [],
   "source": [
    "fg = pd.read_csv('fg_00_24.csv')\n",
    "stc = pd.read_csv('stc_15_24.csv')"
   ]
  },
  {
   "cell_type": "markdown",
   "id": "ff83be0d",
   "metadata": {},
   "source": [
    "find the data cutoffs based on year to help decide data seperation"
   ]
  },
  {
   "cell_type": "code",
   "execution_count": 77,
   "id": "28ef45a3",
   "metadata": {},
   "outputs": [
    {
     "name": "stdout",
     "output_type": "stream",
     "text": [
      "FG Latest Missing Years:\n",
      " Season           NaN\n",
      "Name             NaN\n",
      "Team             NaN\n",
      "PA               NaN\n",
      "Age              NaN\n",
      "BB%              NaN\n",
      "K%               NaN\n",
      "BABIP            NaN\n",
      "wOBA             NaN\n",
      "xwOBA         2024.0\n",
      "wRC+             NaN\n",
      "BsR              NaN\n",
      "Off              NaN\n",
      "Def              NaN\n",
      "WAR              NaN\n",
      "Barrel%       2014.0\n",
      "maxEV         2014.0\n",
      "HardHit%      2014.0\n",
      "xSLG          2024.0\n",
      "BsR.1            NaN\n",
      "O-Swing%      2001.0\n",
      "Z-Swing%      2001.0\n",
      "O-Contact%    2007.0\n",
      "Z-Contact%    2001.0\n",
      "Contact%      2001.0\n",
      "SwStr%        2001.0\n",
      "CSW%          2001.0\n",
      "NameASCII        NaN\n",
      "PlayerId         NaN\n",
      "MLBAMID          NaN\n",
      "dtype: float64\n",
      "\n",
      "FG Missing Value Counts:\n",
      " Season            0\n",
      "Name              0\n",
      "Team              0\n",
      "PA                0\n",
      "Age               0\n",
      "BB%               0\n",
      "K%                0\n",
      "BABIP             0\n",
      "wOBA              0\n",
      "xwOBA         14863\n",
      "wRC+              0\n",
      "BsR               0\n",
      "Off               0\n",
      "Def               0\n",
      "WAR               0\n",
      "Barrel%        8829\n",
      "maxEV          8829\n",
      "HardHit%       8829\n",
      "xSLG          14863\n",
      "BsR.1             0\n",
      "O-Swing%       1174\n",
      "Z-Swing%       1174\n",
      "O-Contact%     1177\n",
      "Z-Contact%     1174\n",
      "Contact%       1174\n",
      "SwStr%         1174\n",
      "CSW%           1174\n",
      "NameASCII         0\n",
      "PlayerId          0\n",
      "MLBAMID           0\n",
      "dtype: int64\n",
      "\n",
      "STC Latest Missing Years:\n",
      " last_name, first_name       NaN\n",
      "player_id                   NaN\n",
      "year                        NaN\n",
      "pa                          NaN\n",
      "k_percent                   NaN\n",
      "bb_percent                  NaN\n",
      "woba                        NaN\n",
      "xwoba                       NaN\n",
      "sweet_spot_percent          NaN\n",
      "barrel_batted_rate          NaN\n",
      "hard_hit_percent            NaN\n",
      "avg_best_speed           2021.0\n",
      "avg_hyper_speed          2021.0\n",
      "whiff_percent               NaN\n",
      "swing_percent               NaN\n",
      "dtype: float64\n",
      "\n",
      "STC Missing Value Counts:\n",
      " last_name, first_name    0\n",
      "player_id                0\n",
      "year                     0\n",
      "pa                       0\n",
      "k_percent                0\n",
      "bb_percent               0\n",
      "woba                     0\n",
      "xwoba                    0\n",
      "sweet_spot_percent       0\n",
      "barrel_batted_rate       0\n",
      "hard_hit_percent         0\n",
      "avg_best_speed           2\n",
      "avg_hyper_speed          2\n",
      "whiff_percent            0\n",
      "swing_percent            0\n",
      "dtype: int64\n"
     ]
    }
   ],
   "source": [
    "def find_latest_missing_year(df, year_col_name):\n",
    "    latest_missing_year = {}\n",
    "    missing_counts = {}\n",
    "    for col in df.columns:\n",
    "        missing_data = df[df[col].isnull()]\n",
    "        missing_counts[col] = df[col].isnull().sum()\n",
    "        if not missing_data.empty:\n",
    "            latest_year = missing_data[year_col_name].max()\n",
    "            latest_missing_year[col] = latest_year\n",
    "        else:\n",
    "            latest_missing_year[col] = None  # No missing values in this column\n",
    "    return pd.Series(latest_missing_year), pd.Series(missing_counts)\n",
    "\n",
    "fg_missing_years, fg_missing_counts = find_latest_missing_year(fg, 'Season')\n",
    "stc_missing_years, stc_missing_counts = find_latest_missing_year(stc, 'year')\n",
    "\n",
    "print(\"FG Latest Missing Years:\\n\", fg_missing_years)\n",
    "print(\"\\nFG Missing Value Counts:\\n\", fg_missing_counts)\n",
    "print(\"\\nSTC Latest Missing Years:\\n\", stc_missing_years)\n",
    "print(\"\\nSTC Missing Value Counts:\\n\", stc_missing_counts)"
   ]
  },
  {
   "cell_type": "markdown",
   "id": "ff56599f",
   "metadata": {},
   "source": [
    "basic cleaning and merge"
   ]
  },
  {
   "cell_type": "code",
   "execution_count": 71,
   "id": "e8ce3802",
   "metadata": {},
   "outputs": [],
   "source": [
    "fg.drop(columns=['xwOBA', 'wOBA', 'NameASCII', 'PlayerId', 'MLBAMID', 'xSLG', 'BsR.1'], inplace=True)"
   ]
  },
  {
   "cell_type": "code",
   "execution_count": 72,
   "id": "c76118f9",
   "metadata": {},
   "outputs": [
    {
     "data": {
      "application/vnd.microsoft.datawrangler.viewer.v0+json": {
       "columns": [
        {
         "name": "index",
         "rawType": "int64",
         "type": "integer"
        },
        {
         "name": "Name",
         "rawType": "object",
         "type": "string"
        },
        {
         "name": "player_id",
         "rawType": "int64",
         "type": "integer"
        },
        {
         "name": "Season",
         "rawType": "int64",
         "type": "integer"
        },
        {
         "name": "pa",
         "rawType": "int64",
         "type": "integer"
        },
        {
         "name": "k_percent",
         "rawType": "float64",
         "type": "float"
        },
        {
         "name": "bb_percent",
         "rawType": "float64",
         "type": "float"
        },
        {
         "name": "woba",
         "rawType": "float64",
         "type": "float"
        },
        {
         "name": "xwoba",
         "rawType": "float64",
         "type": "float"
        },
        {
         "name": "sweet_spot_percent",
         "rawType": "float64",
         "type": "float"
        },
        {
         "name": "barrel_batted_rate",
         "rawType": "float64",
         "type": "float"
        },
        {
         "name": "hard_hit_percent",
         "rawType": "float64",
         "type": "float"
        },
        {
         "name": "avg_best_speed",
         "rawType": "float64",
         "type": "float"
        },
        {
         "name": "avg_hyper_speed",
         "rawType": "float64",
         "type": "float"
        },
        {
         "name": "whiff_percent",
         "rawType": "float64",
         "type": "float"
        },
        {
         "name": "swing_percent",
         "rawType": "float64",
         "type": "float"
        }
       ],
       "conversionMethod": "pd.DataFrame",
       "ref": "bd47fa1a-fa6a-4e2d-9a29-485630ad33ca",
       "rows": [
        [
         "0",
         "bartolo colon",
         "112526",
         "2015",
         "64",
         "37.5",
         "0.0",
         "0.136",
         "0.153",
         "23.1",
         "0.0",
         "15.4",
         "93.759828667",
         "91.247927",
         "30.6",
         "58.1"
        ],
        [
         "1",
         "torii hunter",
         "116338",
         "2015",
         "567",
         "18.5",
         "6.2",
         "0.304",
         "0.29",
         "28.5",
         "5.0",
         "34.9",
         "98.563404126",
         "93.39348",
         "23.1",
         "53.4"
        ],
        [
         "2",
         "david ortiz",
         "120074",
         "2015",
         "614",
         "15.5",
         "12.5",
         "0.379",
         "0.42",
         "34.8",
         "13.1",
         "49.1",
         "102.85113274",
         "96.053057671",
         "23.2",
         "44.7"
        ],
        [
         "3",
         "alex rodriguez",
         "121347",
         "2015",
         "620",
         "23.4",
         "13.5",
         "0.361",
         "0.368",
         "31.4",
         "10.9",
         "43.9",
         "101.381141361",
         "95.014380393",
         "32.0",
         "43.9"
        ],
        [
         "4",
         "aramis ramirez",
         "133380",
         "2015",
         "516",
         "13.2",
         "6.0",
         "0.309",
         "0.304",
         "33.5",
         "5.6",
         "34.5",
         "97.851255714",
         "92.944762734",
         "17.9",
         "52.9"
        ]
       ],
       "shape": {
        "columns": 15,
        "rows": 5
       }
      },
      "text/html": [
       "<div>\n",
       "<style scoped>\n",
       "    .dataframe tbody tr th:only-of-type {\n",
       "        vertical-align: middle;\n",
       "    }\n",
       "\n",
       "    .dataframe tbody tr th {\n",
       "        vertical-align: top;\n",
       "    }\n",
       "\n",
       "    .dataframe thead th {\n",
       "        text-align: right;\n",
       "    }\n",
       "</style>\n",
       "<table border=\"1\" class=\"dataframe\">\n",
       "  <thead>\n",
       "    <tr style=\"text-align: right;\">\n",
       "      <th></th>\n",
       "      <th>Name</th>\n",
       "      <th>player_id</th>\n",
       "      <th>Season</th>\n",
       "      <th>pa</th>\n",
       "      <th>k_percent</th>\n",
       "      <th>bb_percent</th>\n",
       "      <th>woba</th>\n",
       "      <th>xwoba</th>\n",
       "      <th>sweet_spot_percent</th>\n",
       "      <th>barrel_batted_rate</th>\n",
       "      <th>hard_hit_percent</th>\n",
       "      <th>avg_best_speed</th>\n",
       "      <th>avg_hyper_speed</th>\n",
       "      <th>whiff_percent</th>\n",
       "      <th>swing_percent</th>\n",
       "    </tr>\n",
       "  </thead>\n",
       "  <tbody>\n",
       "    <tr>\n",
       "      <th>0</th>\n",
       "      <td>bartolo colon</td>\n",
       "      <td>112526</td>\n",
       "      <td>2015</td>\n",
       "      <td>64</td>\n",
       "      <td>37.5</td>\n",
       "      <td>0.0</td>\n",
       "      <td>0.136</td>\n",
       "      <td>0.153</td>\n",
       "      <td>23.1</td>\n",
       "      <td>0.0</td>\n",
       "      <td>15.4</td>\n",
       "      <td>93.759829</td>\n",
       "      <td>91.247927</td>\n",
       "      <td>30.6</td>\n",
       "      <td>58.1</td>\n",
       "    </tr>\n",
       "    <tr>\n",
       "      <th>1</th>\n",
       "      <td>torii hunter</td>\n",
       "      <td>116338</td>\n",
       "      <td>2015</td>\n",
       "      <td>567</td>\n",
       "      <td>18.5</td>\n",
       "      <td>6.2</td>\n",
       "      <td>0.304</td>\n",
       "      <td>0.290</td>\n",
       "      <td>28.5</td>\n",
       "      <td>5.0</td>\n",
       "      <td>34.9</td>\n",
       "      <td>98.563404</td>\n",
       "      <td>93.393480</td>\n",
       "      <td>23.1</td>\n",
       "      <td>53.4</td>\n",
       "    </tr>\n",
       "    <tr>\n",
       "      <th>2</th>\n",
       "      <td>david ortiz</td>\n",
       "      <td>120074</td>\n",
       "      <td>2015</td>\n",
       "      <td>614</td>\n",
       "      <td>15.5</td>\n",
       "      <td>12.5</td>\n",
       "      <td>0.379</td>\n",
       "      <td>0.420</td>\n",
       "      <td>34.8</td>\n",
       "      <td>13.1</td>\n",
       "      <td>49.1</td>\n",
       "      <td>102.851133</td>\n",
       "      <td>96.053058</td>\n",
       "      <td>23.2</td>\n",
       "      <td>44.7</td>\n",
       "    </tr>\n",
       "    <tr>\n",
       "      <th>3</th>\n",
       "      <td>alex rodriguez</td>\n",
       "      <td>121347</td>\n",
       "      <td>2015</td>\n",
       "      <td>620</td>\n",
       "      <td>23.4</td>\n",
       "      <td>13.5</td>\n",
       "      <td>0.361</td>\n",
       "      <td>0.368</td>\n",
       "      <td>31.4</td>\n",
       "      <td>10.9</td>\n",
       "      <td>43.9</td>\n",
       "      <td>101.381141</td>\n",
       "      <td>95.014380</td>\n",
       "      <td>32.0</td>\n",
       "      <td>43.9</td>\n",
       "    </tr>\n",
       "    <tr>\n",
       "      <th>4</th>\n",
       "      <td>aramis ramirez</td>\n",
       "      <td>133380</td>\n",
       "      <td>2015</td>\n",
       "      <td>516</td>\n",
       "      <td>13.2</td>\n",
       "      <td>6.0</td>\n",
       "      <td>0.309</td>\n",
       "      <td>0.304</td>\n",
       "      <td>33.5</td>\n",
       "      <td>5.6</td>\n",
       "      <td>34.5</td>\n",
       "      <td>97.851256</td>\n",
       "      <td>92.944763</td>\n",
       "      <td>17.9</td>\n",
       "      <td>52.9</td>\n",
       "    </tr>\n",
       "  </tbody>\n",
       "</table>\n",
       "</div>"
      ],
      "text/plain": [
       "             Name  player_id  Season   pa  k_percent  bb_percent   woba  \\\n",
       "0   bartolo colon     112526    2015   64       37.5         0.0  0.136   \n",
       "1    torii hunter     116338    2015  567       18.5         6.2  0.304   \n",
       "2     david ortiz     120074    2015  614       15.5        12.5  0.379   \n",
       "3  alex rodriguez     121347    2015  620       23.4        13.5  0.361   \n",
       "4  aramis ramirez     133380    2015  516       13.2         6.0  0.309   \n",
       "\n",
       "   xwoba  sweet_spot_percent  barrel_batted_rate  hard_hit_percent  \\\n",
       "0  0.153                23.1                 0.0              15.4   \n",
       "1  0.290                28.5                 5.0              34.9   \n",
       "2  0.420                34.8                13.1              49.1   \n",
       "3  0.368                31.4                10.9              43.9   \n",
       "4  0.304                33.5                 5.6              34.5   \n",
       "\n",
       "   avg_best_speed  avg_hyper_speed  whiff_percent  swing_percent  \n",
       "0       93.759829        91.247927           30.6           58.1  \n",
       "1       98.563404        93.393480           23.1           53.4  \n",
       "2      102.851133        96.053058           23.2           44.7  \n",
       "3      101.381141        95.014380           32.0           43.9  \n",
       "4       97.851256        92.944763           17.9           52.9  "
      ]
     },
     "execution_count": 72,
     "metadata": {},
     "output_type": "execute_result"
    }
   ],
   "source": [
    "# fix name cols so able to merge\n",
    "fg['Name'] = fg['Name'].str.lower()\n",
    "stc = stc.rename(columns={'last_name, first_name': 'Name', 'year': 'Season'}) # rename cols so easier\n",
    "stc['Name'] = stc['Name'].str.lower()\n",
    "stc['Name'] = stc['Name'].str.split(', ').str[::-1].str.join(' ')\n",
    "stc.head()"
   ]
  },
  {
   "cell_type": "code",
   "execution_count": 73,
   "id": "5cc669f5",
   "metadata": {},
   "outputs": [],
   "source": [
    "import unicodedata\n",
    "import re\n",
    "\n",
    "def clean_name(name):\n",
    "    # Normalize the string to decompose accented characters\n",
    "    name = unicodedata.normalize('NFKD', name).encode('ascii', 'ignore').decode('utf-8')\n",
    "    # Remove all non-alphanumeric characters\n",
    "    name = re.sub(r'[^a-z\\s]', '', name)\n",
    "    return name\n",
    "\n",
    "fg['Name'] = fg['Name'].apply(clean_name)\n",
    "stc['Name'] = stc['Name'].apply(clean_name)"
   ]
  },
  {
   "cell_type": "markdown",
   "id": "868124d6",
   "metadata": {},
   "source": [
    "create data sets"
   ]
  },
  {
   "cell_type": "code",
   "execution_count": 74,
   "id": "a053317b",
   "metadata": {},
   "outputs": [],
   "source": [
    "fg15 = fg[fg['Season'] >= 2015]\n",
    "full_15 = fg15.merge(stc, how='outer', on=['Name', 'Season'])"
   ]
  },
  {
   "cell_type": "markdown",
   "id": "0f01eaf9",
   "metadata": {},
   "source": [
    "clean to account for pitchers"
   ]
  },
  {
   "cell_type": "code",
   "execution_count": 78,
   "id": "16ef2fe3",
   "metadata": {},
   "outputs": [],
   "source": [
    "full_15 = full_15[full_15['Team'].notna()]"
   ]
  }
 ],
 "metadata": {
  "kernelspec": {
   "display_name": "base",
   "language": "python",
   "name": "python3"
  },
  "language_info": {
   "codemirror_mode": {
    "name": "ipython",
    "version": 3
   },
   "file_extension": ".py",
   "mimetype": "text/x-python",
   "name": "python",
   "nbconvert_exporter": "python",
   "pygments_lexer": "ipython3",
   "version": "3.12.7"
  }
 },
 "nbformat": 4,
 "nbformat_minor": 5
}
