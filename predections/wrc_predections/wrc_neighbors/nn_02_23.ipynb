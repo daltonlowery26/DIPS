{
  "cells": [
    {
      "cell_type": "markdown",
      "id": "2baff03a",
      "metadata": {
        "id": "2baff03a"
      },
      "source": [
        "### NN Model for 2002-2024 Data"
      ]
    },
    {
      "cell_type": "markdown",
      "id": "b7062e36",
      "metadata": {},
      "source": [
        "#### Imports"
      ]
    },
    {
      "cell_type": "markdown",
      "id": "2e4dd603",
      "metadata": {},
      "source": [
        "packages"
      ]
    },
    {
      "cell_type": "code",
      "execution_count": 1,
      "id": "00438762",
      "metadata": {
        "id": "00438762"
      },
      "outputs": [],
      "source": [
        "import pandas as pd\n",
        "from sklearn.neighbors import NearestNeighbors\n",
        "import numpy as np\n",
        "import os"
      ]
    },
    {
      "cell_type": "markdown",
      "id": "tcCWuK5XsFTy",
      "metadata": {
        "id": "tcCWuK5XsFTy"
      },
      "source": [
        "local import"
      ]
    },
    {
      "cell_type": "code",
      "execution_count": 2,
      "id": "CpfudBH_r_At",
      "metadata": {
        "id": "CpfudBH_r_At"
      },
      "outputs": [],
      "source": [
        "os.chdir('C:/Users/dalto/OneDrive/Pictures/Documents/Projects/MLB Season Model/')\n",
        "data_02_24 = pd.read_csv('./data/cleaned/data_02_24.csv')\n",
        "df = data_02_24.copy() # import data"
      ]
    },
    {
      "cell_type": "markdown",
      "id": "355cf313",
      "metadata": {},
      "source": [
        "drop always unneeded cols"
      ]
    },
    {
      "cell_type": "code",
      "execution_count": 3,
      "id": "a9bda7f5",
      "metadata": {
        "id": "a9bda7f5"
      },
      "outputs": [],
      "source": [
        "df = df.drop(columns=['Unnamed: 0', 'Team', 'Def'])"
      ]
    },
    {
      "cell_type": "markdown",
      "id": "c9f8645d",
      "metadata": {
        "id": "c9f8645d"
      },
      "source": [
        "#### Normalize Data"
      ]
    },
    {
      "cell_type": "markdown",
      "id": "b3c1ea32",
      "metadata": {
        "id": "b3c1ea32"
      },
      "source": [
        "copied from 'exploration/nearest_neighbors.ipynb'"
      ]
    },
    {
      "cell_type": "code",
      "execution_count": 4,
      "id": "fb420f14",
      "metadata": {
        "id": "fb420f14"
      },
      "outputs": [],
      "source": [
        "def mean_year(group):\n",
        "        avg = np.average(group, weights=group.index.map(lambda x: df.loc[x, 'PA']))\n",
        "        return avg"
      ]
    },
    {
      "cell_type": "code",
      "execution_count": 5,
      "id": "81a4d29a",
      "metadata": {
        "id": "81a4d29a"
      },
      "outputs": [],
      "source": [
        "# weighted std to account for low PA outlier preformances\n",
        "def calculate_weighted_std(group):\n",
        "    avg = np.average(group, weights=group.index.map(lambda x: df.loc[x, 'PA']))\n",
        "    variance = np.average((group - avg)**2, weights=group.index.map(lambda x: df.loc[x, 'PA']))\n",
        "    return np.sqrt(variance)"
      ]
    },
    {
      "cell_type": "code",
      "execution_count": 6,
      "id": "b4a9b759",
      "metadata": {},
      "outputs": [],
      "source": [
        "def z_scores(player_df, mean_df, std_df):\n",
        "    # z scores for each stat and player, also creating a new df flow, add back names based on MLBAMID later\n",
        "    z_scores = pd.DataFrame(index=player_df.index, columns=player_df.select_dtypes(include=[np.number]).columns)\n",
        "\n",
        "    # scaled for each col\n",
        "    for col in player_df.select_dtypes(include=[np.number]).columns:\n",
        "        if col not in ['Season', 'MLBAMID']:  # not needed\n",
        "            for idx in player_df.index:\n",
        "                season = player_df.loc[idx, 'Season']\n",
        "                value = player_df.loc[idx, col]\n",
        "                mean = mean_df.loc[mean_df['Season'] == season, col].iloc[0]\n",
        "                std = std_df.loc[std_df['Season'] == season, col].iloc[0]\n",
        "                # scale so that 10 is 1 std away\n",
        "                z_scores.loc[idx, col] = 100 + ((value - mean) / std * 10)\n",
        "\n",
        "    z_scores['Season'] = player_df['Season']\n",
        "    \n",
        "    # cols to numeric\n",
        "    for col in z_scores.columns:\n",
        "        if col not in ['Season', 'MLBAMID']:\n",
        "            z_scores[col] = pd.to_numeric(z_scores[col])\n",
        "    \n",
        "    # reinsert player names\n",
        "    z_scores.insert(0, 'Name', player_df['Name']) \n",
        "\n",
        "    return z_scores"
      ]
    },
    {
      "cell_type": "markdown",
      "id": "166cbc8d",
      "metadata": {
        "id": "166cbc8d"
      },
      "source": [
        "mean for each year"
      ]
    },
    {
      "cell_type": "code",
      "execution_count": 7,
      "id": "0fbf74af",
      "metadata": {
        "colab": {
          "base_uri": "https://localhost:8080/",
          "height": 808
        },
        "id": "0fbf74af",
        "outputId": "cf212c0c-0976-492a-ac56-84bed9e03e07"
      },
      "outputs": [
        {
          "data": {
            "application/vnd.microsoft.datawrangler.viewer.v0+json": {
              "columns": [
                {
                  "name": "index",
                  "rawType": "int64",
                  "type": "integer"
                },
                {
                  "name": "Season",
                  "rawType": "int64",
                  "type": "integer"
                },
                {
                  "name": "PA",
                  "rawType": "float64",
                  "type": "float"
                },
                {
                  "name": "Age",
                  "rawType": "float64",
                  "type": "float"
                },
                {
                  "name": "BB%",
                  "rawType": "float64",
                  "type": "float"
                },
                {
                  "name": "K%",
                  "rawType": "float64",
                  "type": "float"
                },
                {
                  "name": "BABIP",
                  "rawType": "float64",
                  "type": "float"
                },
                {
                  "name": "wRC+",
                  "rawType": "float64",
                  "type": "float"
                },
                {
                  "name": "BsR",
                  "rawType": "float64",
                  "type": "float"
                },
                {
                  "name": "Off",
                  "rawType": "float64",
                  "type": "float"
                },
                {
                  "name": "WAR",
                  "rawType": "float64",
                  "type": "float"
                },
                {
                  "name": "O-Swing%",
                  "rawType": "float64",
                  "type": "float"
                },
                {
                  "name": "Z-Swing%",
                  "rawType": "float64",
                  "type": "float"
                },
                {
                  "name": "O-Contact%",
                  "rawType": "float64",
                  "type": "float"
                },
                {
                  "name": "Z-Contact%",
                  "rawType": "float64",
                  "type": "float"
                },
                {
                  "name": "Contact%",
                  "rawType": "float64",
                  "type": "float"
                },
                {
                  "name": "SwStr%",
                  "rawType": "float64",
                  "type": "float"
                },
                {
                  "name": "CSW%",
                  "rawType": "float64",
                  "type": "float"
                }
              ],
              "conversionMethod": "pd.DataFrame",
              "ref": "f94f2e73-487b-43a2-9bca-995eae3b3350",
              "rows": [
                [
                  "19",
                  "2002",
                  "473.684181354617",
                  "29.200232790156303",
                  "0.08893138186421129",
                  "0.16288105482276907",
                  "0.2948774261872132",
                  "99.85694941353789",
                  "0.2215090222718693",
                  "3.9221564071534294",
                  "1.8888725801531885",
                  "0.18198213268684185",
                  "0.7034468602312383",
                  "0.5070120165684869",
                  "0.8601069185044341",
                  "0.7973360297859439",
                  "0.09429924206113512",
                  "0.25650808502305733"
                ],
                [
                  "22",
                  "2003",
                  "475.4619385473318",
                  "29.191110620324103",
                  "0.08657482763749551",
                  "0.15911437435584572",
                  "0.29640179118683707",
                  "99.92708199786821",
                  "0.14168259366640218",
                  "4.016513337596543",
                  "1.909975891346873",
                  "0.22173824026811692",
                  "0.6915265574913178",
                  "0.5276341489811999",
                  "0.8820548874547663",
                  "0.8001202164529165",
                  "0.09313814163150486",
                  "0.2607909497226072"
                ],
                [
                  "20",
                  "2004",
                  "477.65106301264643",
                  "29.335335911996268",
                  "0.08784462135154308",
                  "0.16339944537804843",
                  "0.2992360266517324",
                  "99.90687394675106",
                  "0.2551119905441171",
                  "4.3037836969351675",
                  "1.9458666977020949",
                  "0.20454627934907965",
                  "0.6933716514704963",
                  "0.6236717235271972",
                  "0.8558515879665871",
                  "0.806546857921049",
                  "0.08874910593427152",
                  "0.2557935953829863"
                ],
                [
                  "14",
                  "2005",
                  "475.4516494690693",
                  "29.259353103624555",
                  "0.08335417000521762",
                  "0.15942922818743993",
                  "0.29761148371860396",
                  "100.11658819203653",
                  "0.2773563309621209",
                  "3.6562529866410003",
                  "1.8584941091337936",
                  "0.2147573974995416",
                  "0.6818910992800903",
                  "0.5506099093947224",
                  "0.8862060252256246",
                  "0.8137834663464969",
                  "0.08601749941894903",
                  "0.2552006761955803"
                ],
                [
                  "15",
                  "2006",
                  "483.9885281242438",
                  "29.191617721463295",
                  "0.08599507199943354",
                  "0.16280054508544514",
                  "0.30367603306882024",
                  "100.09068196060142",
                  "0.16836481825267235",
                  "3.5744423428988417",
                  "1.8626313052099333",
                  "0.23221504149552344",
                  "0.6713277222290415",
                  "0.5842240744944346",
                  "0.8893583511397632",
                  "0.8160406894359202",
                  "0.08459671178858971",
                  "0.25167566714314"
                ]
              ],
              "shape": {
                "columns": 17,
                "rows": 5
              }
            },
            "text/html": [
              "<div>\n",
              "<style scoped>\n",
              "    .dataframe tbody tr th:only-of-type {\n",
              "        vertical-align: middle;\n",
              "    }\n",
              "\n",
              "    .dataframe tbody tr th {\n",
              "        vertical-align: top;\n",
              "    }\n",
              "\n",
              "    .dataframe thead th {\n",
              "        text-align: right;\n",
              "    }\n",
              "</style>\n",
              "<table border=\"1\" class=\"dataframe\">\n",
              "  <thead>\n",
              "    <tr style=\"text-align: right;\">\n",
              "      <th></th>\n",
              "      <th>Season</th>\n",
              "      <th>PA</th>\n",
              "      <th>Age</th>\n",
              "      <th>BB%</th>\n",
              "      <th>K%</th>\n",
              "      <th>BABIP</th>\n",
              "      <th>wRC+</th>\n",
              "      <th>BsR</th>\n",
              "      <th>Off</th>\n",
              "      <th>WAR</th>\n",
              "      <th>O-Swing%</th>\n",
              "      <th>Z-Swing%</th>\n",
              "      <th>O-Contact%</th>\n",
              "      <th>Z-Contact%</th>\n",
              "      <th>Contact%</th>\n",
              "      <th>SwStr%</th>\n",
              "      <th>CSW%</th>\n",
              "    </tr>\n",
              "  </thead>\n",
              "  <tbody>\n",
              "    <tr>\n",
              "      <th>19</th>\n",
              "      <td>2002</td>\n",
              "      <td>473.684181</td>\n",
              "      <td>29.200233</td>\n",
              "      <td>0.088931</td>\n",
              "      <td>0.162881</td>\n",
              "      <td>0.294877</td>\n",
              "      <td>99.856949</td>\n",
              "      <td>0.221509</td>\n",
              "      <td>3.922156</td>\n",
              "      <td>1.888873</td>\n",
              "      <td>0.181982</td>\n",
              "      <td>0.703447</td>\n",
              "      <td>0.507012</td>\n",
              "      <td>0.860107</td>\n",
              "      <td>0.797336</td>\n",
              "      <td>0.094299</td>\n",
              "      <td>0.256508</td>\n",
              "    </tr>\n",
              "    <tr>\n",
              "      <th>22</th>\n",
              "      <td>2003</td>\n",
              "      <td>475.461939</td>\n",
              "      <td>29.191111</td>\n",
              "      <td>0.086575</td>\n",
              "      <td>0.159114</td>\n",
              "      <td>0.296402</td>\n",
              "      <td>99.927082</td>\n",
              "      <td>0.141683</td>\n",
              "      <td>4.016513</td>\n",
              "      <td>1.909976</td>\n",
              "      <td>0.221738</td>\n",
              "      <td>0.691527</td>\n",
              "      <td>0.527634</td>\n",
              "      <td>0.882055</td>\n",
              "      <td>0.800120</td>\n",
              "      <td>0.093138</td>\n",
              "      <td>0.260791</td>\n",
              "    </tr>\n",
              "    <tr>\n",
              "      <th>20</th>\n",
              "      <td>2004</td>\n",
              "      <td>477.651063</td>\n",
              "      <td>29.335336</td>\n",
              "      <td>0.087845</td>\n",
              "      <td>0.163399</td>\n",
              "      <td>0.299236</td>\n",
              "      <td>99.906874</td>\n",
              "      <td>0.255112</td>\n",
              "      <td>4.303784</td>\n",
              "      <td>1.945867</td>\n",
              "      <td>0.204546</td>\n",
              "      <td>0.693372</td>\n",
              "      <td>0.623672</td>\n",
              "      <td>0.855852</td>\n",
              "      <td>0.806547</td>\n",
              "      <td>0.088749</td>\n",
              "      <td>0.255794</td>\n",
              "    </tr>\n",
              "    <tr>\n",
              "      <th>14</th>\n",
              "      <td>2005</td>\n",
              "      <td>475.451649</td>\n",
              "      <td>29.259353</td>\n",
              "      <td>0.083354</td>\n",
              "      <td>0.159429</td>\n",
              "      <td>0.297611</td>\n",
              "      <td>100.116588</td>\n",
              "      <td>0.277356</td>\n",
              "      <td>3.656253</td>\n",
              "      <td>1.858494</td>\n",
              "      <td>0.214757</td>\n",
              "      <td>0.681891</td>\n",
              "      <td>0.550610</td>\n",
              "      <td>0.886206</td>\n",
              "      <td>0.813783</td>\n",
              "      <td>0.086017</td>\n",
              "      <td>0.255201</td>\n",
              "    </tr>\n",
              "    <tr>\n",
              "      <th>15</th>\n",
              "      <td>2006</td>\n",
              "      <td>483.988528</td>\n",
              "      <td>29.191618</td>\n",
              "      <td>0.085995</td>\n",
              "      <td>0.162801</td>\n",
              "      <td>0.303676</td>\n",
              "      <td>100.090682</td>\n",
              "      <td>0.168365</td>\n",
              "      <td>3.574442</td>\n",
              "      <td>1.862631</td>\n",
              "      <td>0.232215</td>\n",
              "      <td>0.671328</td>\n",
              "      <td>0.584224</td>\n",
              "      <td>0.889358</td>\n",
              "      <td>0.816041</td>\n",
              "      <td>0.084597</td>\n",
              "      <td>0.251676</td>\n",
              "    </tr>\n",
              "  </tbody>\n",
              "</table>\n",
              "</div>"
            ],
            "text/plain": [
              "    Season          PA        Age       BB%        K%     BABIP        wRC+  \\\n",
              "19    2002  473.684181  29.200233  0.088931  0.162881  0.294877   99.856949   \n",
              "22    2003  475.461939  29.191111  0.086575  0.159114  0.296402   99.927082   \n",
              "20    2004  477.651063  29.335336  0.087845  0.163399  0.299236   99.906874   \n",
              "14    2005  475.451649  29.259353  0.083354  0.159429  0.297611  100.116588   \n",
              "15    2006  483.988528  29.191618  0.085995  0.162801  0.303676  100.090682   \n",
              "\n",
              "         BsR       Off       WAR  O-Swing%  Z-Swing%  O-Contact%  Z-Contact%  \\\n",
              "19  0.221509  3.922156  1.888873  0.181982  0.703447    0.507012    0.860107   \n",
              "22  0.141683  4.016513  1.909976  0.221738  0.691527    0.527634    0.882055   \n",
              "20  0.255112  4.303784  1.945867  0.204546  0.693372    0.623672    0.855852   \n",
              "14  0.277356  3.656253  1.858494  0.214757  0.681891    0.550610    0.886206   \n",
              "15  0.168365  3.574442  1.862631  0.232215  0.671328    0.584224    0.889358   \n",
              "\n",
              "    Contact%    SwStr%      CSW%  \n",
              "19  0.797336  0.094299  0.256508  \n",
              "22  0.800120  0.093138  0.260791  \n",
              "20  0.806547  0.088749  0.255794  \n",
              "14  0.813783  0.086017  0.255201  \n",
              "15  0.816041  0.084597  0.251676  "
            ]
          },
          "execution_count": 7,
          "metadata": {},
          "output_type": "execute_result"
        }
      ],
      "source": [
        "# Create empty DataFrame to store results\n",
        "mean_col_year = pd.DataFrame(index=df['Season'].unique())\n",
        "\n",
        "# Loop through numeric columns\n",
        "for col in df.select_dtypes(include=[np.number]).columns:\n",
        "    if col != 'Season' and col != 'MLBAMID':  # skip meaningless numeric\n",
        "        yearly_mean = df.groupby('Season')[col].apply(mean_year)\n",
        "        mean_col_year[col] = yearly_mean\n",
        "        \n",
        "# clean up df to make it easier to work with\n",
        "mean_col_year = mean_col_year.reset_index()\n",
        "mean_col_year = mean_col_year.rename(columns={'index': 'Season'})\n",
        "mean_col_year = mean_col_year.sort_values(by=['Season'])\n",
        "mean_col_year.head()"
      ]
    },
    {
      "cell_type": "markdown",
      "id": "2ed349f8",
      "metadata": {
        "id": "2ed349f8"
      },
      "source": [
        "std for each year"
      ]
    },
    {
      "cell_type": "code",
      "execution_count": 8,
      "id": "3c24e363",
      "metadata": {
        "colab": {
          "base_uri": "https://localhost:8080/",
          "height": 808
        },
        "id": "3c24e363",
        "outputId": "02006ca3-aafa-4cab-a222-a097440ded56"
      },
      "outputs": [
        {
          "data": {
            "application/vnd.microsoft.datawrangler.viewer.v0+json": {
              "columns": [
                {
                  "name": "index",
                  "rawType": "int64",
                  "type": "integer"
                },
                {
                  "name": "Season",
                  "rawType": "int64",
                  "type": "integer"
                },
                {
                  "name": "PA",
                  "rawType": "float64",
                  "type": "float"
                },
                {
                  "name": "Age",
                  "rawType": "float64",
                  "type": "float"
                },
                {
                  "name": "BB%",
                  "rawType": "float64",
                  "type": "float"
                },
                {
                  "name": "K%",
                  "rawType": "float64",
                  "type": "float"
                },
                {
                  "name": "BABIP",
                  "rawType": "float64",
                  "type": "float"
                },
                {
                  "name": "wRC+",
                  "rawType": "float64",
                  "type": "float"
                },
                {
                  "name": "BsR",
                  "rawType": "float64",
                  "type": "float"
                },
                {
                  "name": "Off",
                  "rawType": "float64",
                  "type": "float"
                },
                {
                  "name": "WAR",
                  "rawType": "float64",
                  "type": "float"
                },
                {
                  "name": "O-Swing%",
                  "rawType": "float64",
                  "type": "float"
                },
                {
                  "name": "Z-Swing%",
                  "rawType": "float64",
                  "type": "float"
                },
                {
                  "name": "O-Contact%",
                  "rawType": "float64",
                  "type": "float"
                },
                {
                  "name": "Z-Contact%",
                  "rawType": "float64",
                  "type": "float"
                },
                {
                  "name": "Contact%",
                  "rawType": "float64",
                  "type": "float"
                },
                {
                  "name": "SwStr%",
                  "rawType": "float64",
                  "type": "float"
                },
                {
                  "name": "CSW%",
                  "rawType": "float64",
                  "type": "float"
                }
              ],
              "conversionMethod": "pd.DataFrame",
              "ref": "3a8ba934-8e31-44e4-b8be-c6d0f4c05f2a",
              "rows": [
                [
                  "19",
                  "2002",
                  "184.24330165853834",
                  "4.009692274646744",
                  "0.03798599629205102",
                  "0.055976942254907715",
                  "0.035673984005970306",
                  "31.645659573301582",
                  "3.121744723140282",
                  "19.286649598414964",
                  "2.195603234792303",
                  "0.04709474714842255",
                  "0.056035361316012305",
                  "0.10892652340570513",
                  "0.051808565395263094",
                  "0.06129294090418795",
                  "0.032166621094507956",
                  "0.028209158617817424"
                ],
                [
                  "22",
                  "2003",
                  "185.10606016417066",
                  "4.078476845168657",
                  "0.035646729641055835",
                  "0.05369595803435153",
                  "0.03469611738438972",
                  "30.915634140920783",
                  "3.2825364534090276",
                  "17.866265019521098",
                  "2.1346348063613205",
                  "0.048461493457370754",
                  "0.05864365684397401",
                  "0.10744268055992046",
                  "0.04722366226412888",
                  "0.06070391000359493",
                  "0.03193055135879889",
                  "0.027495464970379236"
                ],
                [
                  "20",
                  "2004",
                  "189.82090996954454",
                  "4.146485360482718",
                  "0.037056764640299736",
                  "0.05797759368882925",
                  "0.036772340992278774",
                  "30.199232946075487",
                  "3.5759045430921557",
                  "17.922924716777167",
                  "2.177107542410151",
                  "0.05110112602655437",
                  "0.05931372669861332",
                  "0.10697494215552399",
                  "0.05555260748863162",
                  "0.06382417093277147",
                  "0.0333390644538275",
                  "0.030214671343818694"
                ],
                [
                  "14",
                  "2005",
                  "182.88454797795544",
                  "4.155987432828558",
                  "0.032446954915301016",
                  "0.054885165390722634",
                  "0.0351864336077939",
                  "28.238546210084742",
                  "3.328611606338844",
                  "16.513000148648338",
                  "1.9537895066743731",
                  "0.05737639468217071",
                  "0.05931670898920055",
                  "0.11727080140373768",
                  "0.04754348574258483",
                  "0.06126406890835202",
                  "0.03213033283312283",
                  "0.027910076325625942"
                ],
                [
                  "15",
                  "2006",
                  "184.13800809010854",
                  "4.310582280945339",
                  "0.035271679079829574",
                  "0.05541648618400445",
                  "0.036207905273433406",
                  "28.10010493014276",
                  "3.600161482110246",
                  "16.729147618506595",
                  "1.9792405760148433",
                  "0.060375813273563374",
                  "0.05951995510088225",
                  "0.11273634996559617",
                  "0.046222862745675046",
                  "0.06101921683973694",
                  "0.031551023685090905",
                  "0.028022496663663972"
                ]
              ],
              "shape": {
                "columns": 17,
                "rows": 5
              }
            },
            "text/html": [
              "<div>\n",
              "<style scoped>\n",
              "    .dataframe tbody tr th:only-of-type {\n",
              "        vertical-align: middle;\n",
              "    }\n",
              "\n",
              "    .dataframe tbody tr th {\n",
              "        vertical-align: top;\n",
              "    }\n",
              "\n",
              "    .dataframe thead th {\n",
              "        text-align: right;\n",
              "    }\n",
              "</style>\n",
              "<table border=\"1\" class=\"dataframe\">\n",
              "  <thead>\n",
              "    <tr style=\"text-align: right;\">\n",
              "      <th></th>\n",
              "      <th>Season</th>\n",
              "      <th>PA</th>\n",
              "      <th>Age</th>\n",
              "      <th>BB%</th>\n",
              "      <th>K%</th>\n",
              "      <th>BABIP</th>\n",
              "      <th>wRC+</th>\n",
              "      <th>BsR</th>\n",
              "      <th>Off</th>\n",
              "      <th>WAR</th>\n",
              "      <th>O-Swing%</th>\n",
              "      <th>Z-Swing%</th>\n",
              "      <th>O-Contact%</th>\n",
              "      <th>Z-Contact%</th>\n",
              "      <th>Contact%</th>\n",
              "      <th>SwStr%</th>\n",
              "      <th>CSW%</th>\n",
              "    </tr>\n",
              "  </thead>\n",
              "  <tbody>\n",
              "    <tr>\n",
              "      <th>19</th>\n",
              "      <td>2002</td>\n",
              "      <td>184.243302</td>\n",
              "      <td>4.009692</td>\n",
              "      <td>0.037986</td>\n",
              "      <td>0.055977</td>\n",
              "      <td>0.035674</td>\n",
              "      <td>31.645660</td>\n",
              "      <td>3.121745</td>\n",
              "      <td>19.286650</td>\n",
              "      <td>2.195603</td>\n",
              "      <td>0.047095</td>\n",
              "      <td>0.056035</td>\n",
              "      <td>0.108927</td>\n",
              "      <td>0.051809</td>\n",
              "      <td>0.061293</td>\n",
              "      <td>0.032167</td>\n",
              "      <td>0.028209</td>\n",
              "    </tr>\n",
              "    <tr>\n",
              "      <th>22</th>\n",
              "      <td>2003</td>\n",
              "      <td>185.106060</td>\n",
              "      <td>4.078477</td>\n",
              "      <td>0.035647</td>\n",
              "      <td>0.053696</td>\n",
              "      <td>0.034696</td>\n",
              "      <td>30.915634</td>\n",
              "      <td>3.282536</td>\n",
              "      <td>17.866265</td>\n",
              "      <td>2.134635</td>\n",
              "      <td>0.048461</td>\n",
              "      <td>0.058644</td>\n",
              "      <td>0.107443</td>\n",
              "      <td>0.047224</td>\n",
              "      <td>0.060704</td>\n",
              "      <td>0.031931</td>\n",
              "      <td>0.027495</td>\n",
              "    </tr>\n",
              "    <tr>\n",
              "      <th>20</th>\n",
              "      <td>2004</td>\n",
              "      <td>189.820910</td>\n",
              "      <td>4.146485</td>\n",
              "      <td>0.037057</td>\n",
              "      <td>0.057978</td>\n",
              "      <td>0.036772</td>\n",
              "      <td>30.199233</td>\n",
              "      <td>3.575905</td>\n",
              "      <td>17.922925</td>\n",
              "      <td>2.177108</td>\n",
              "      <td>0.051101</td>\n",
              "      <td>0.059314</td>\n",
              "      <td>0.106975</td>\n",
              "      <td>0.055553</td>\n",
              "      <td>0.063824</td>\n",
              "      <td>0.033339</td>\n",
              "      <td>0.030215</td>\n",
              "    </tr>\n",
              "    <tr>\n",
              "      <th>14</th>\n",
              "      <td>2005</td>\n",
              "      <td>182.884548</td>\n",
              "      <td>4.155987</td>\n",
              "      <td>0.032447</td>\n",
              "      <td>0.054885</td>\n",
              "      <td>0.035186</td>\n",
              "      <td>28.238546</td>\n",
              "      <td>3.328612</td>\n",
              "      <td>16.513000</td>\n",
              "      <td>1.953790</td>\n",
              "      <td>0.057376</td>\n",
              "      <td>0.059317</td>\n",
              "      <td>0.117271</td>\n",
              "      <td>0.047543</td>\n",
              "      <td>0.061264</td>\n",
              "      <td>0.032130</td>\n",
              "      <td>0.027910</td>\n",
              "    </tr>\n",
              "    <tr>\n",
              "      <th>15</th>\n",
              "      <td>2006</td>\n",
              "      <td>184.138008</td>\n",
              "      <td>4.310582</td>\n",
              "      <td>0.035272</td>\n",
              "      <td>0.055416</td>\n",
              "      <td>0.036208</td>\n",
              "      <td>28.100105</td>\n",
              "      <td>3.600161</td>\n",
              "      <td>16.729148</td>\n",
              "      <td>1.979241</td>\n",
              "      <td>0.060376</td>\n",
              "      <td>0.059520</td>\n",
              "      <td>0.112736</td>\n",
              "      <td>0.046223</td>\n",
              "      <td>0.061019</td>\n",
              "      <td>0.031551</td>\n",
              "      <td>0.028022</td>\n",
              "    </tr>\n",
              "  </tbody>\n",
              "</table>\n",
              "</div>"
            ],
            "text/plain": [
              "    Season          PA       Age       BB%        K%     BABIP       wRC+  \\\n",
              "19    2002  184.243302  4.009692  0.037986  0.055977  0.035674  31.645660   \n",
              "22    2003  185.106060  4.078477  0.035647  0.053696  0.034696  30.915634   \n",
              "20    2004  189.820910  4.146485  0.037057  0.057978  0.036772  30.199233   \n",
              "14    2005  182.884548  4.155987  0.032447  0.054885  0.035186  28.238546   \n",
              "15    2006  184.138008  4.310582  0.035272  0.055416  0.036208  28.100105   \n",
              "\n",
              "         BsR        Off       WAR  O-Swing%  Z-Swing%  O-Contact%  Z-Contact%  \\\n",
              "19  3.121745  19.286650  2.195603  0.047095  0.056035    0.108927    0.051809   \n",
              "22  3.282536  17.866265  2.134635  0.048461  0.058644    0.107443    0.047224   \n",
              "20  3.575905  17.922925  2.177108  0.051101  0.059314    0.106975    0.055553   \n",
              "14  3.328612  16.513000  1.953790  0.057376  0.059317    0.117271    0.047543   \n",
              "15  3.600161  16.729148  1.979241  0.060376  0.059520    0.112736    0.046223   \n",
              "\n",
              "    Contact%    SwStr%      CSW%  \n",
              "19  0.061293  0.032167  0.028209  \n",
              "22  0.060704  0.031931  0.027495  \n",
              "20  0.063824  0.033339  0.030215  \n",
              "14  0.061264  0.032130  0.027910  \n",
              "15  0.061019  0.031551  0.028022  "
            ]
          },
          "execution_count": 8,
          "metadata": {},
          "output_type": "execute_result"
        }
      ],
      "source": [
        "# Create empty DataFrame to store results\n",
        "std_col_year = pd.DataFrame(index=df['Season'].unique())\n",
        "\n",
        "# Loop through numeric columns\n",
        "for col in df.select_dtypes(include=[np.number]).columns:\n",
        "    if col != 'Season' and col != 'MLBAMID':  # skip meaningless numeric\n",
        "        yearly_std = df.groupby('Season')[col].apply(calculate_weighted_std)\n",
        "        std_col_year[col] = yearly_std\n",
        "\n",
        "# clean up df to make it easier to work with\n",
        "std_col_year = std_col_year.reset_index()\n",
        "std_col_year = std_col_year.rename(columns={'index': 'Season'})\n",
        "std_col_year = std_col_year.sort_values(by=['Season'])\n",
        "std_col_year.head()"
      ]
    },
    {
      "cell_type": "markdown",
      "id": "0602b291",
      "metadata": {
        "id": "0602b291"
      },
      "source": [
        "z_scores"
      ]
    },
    {
      "cell_type": "code",
      "execution_count": 9,
      "id": "3fa1ed6a",
      "metadata": {
        "id": "3fa1ed6a"
      },
      "outputs": [
        {
          "data": {
            "application/vnd.microsoft.datawrangler.viewer.v0+json": {
              "columns": [
                {
                  "name": "index",
                  "rawType": "int64",
                  "type": "integer"
                },
                {
                  "name": "Name",
                  "rawType": "object",
                  "type": "string"
                },
                {
                  "name": "Season",
                  "rawType": "int64",
                  "type": "integer"
                },
                {
                  "name": "PA",
                  "rawType": "float64",
                  "type": "float"
                },
                {
                  "name": "Age",
                  "rawType": "float64",
                  "type": "float"
                },
                {
                  "name": "BB%",
                  "rawType": "float64",
                  "type": "float"
                },
                {
                  "name": "K%",
                  "rawType": "float64",
                  "type": "float"
                },
                {
                  "name": "BABIP",
                  "rawType": "float64",
                  "type": "float"
                },
                {
                  "name": "wRC+",
                  "rawType": "float64",
                  "type": "float"
                },
                {
                  "name": "BsR",
                  "rawType": "float64",
                  "type": "float"
                },
                {
                  "name": "Off",
                  "rawType": "float64",
                  "type": "float"
                },
                {
                  "name": "WAR",
                  "rawType": "float64",
                  "type": "float"
                },
                {
                  "name": "O-Swing%",
                  "rawType": "float64",
                  "type": "float"
                },
                {
                  "name": "Z-Swing%",
                  "rawType": "float64",
                  "type": "float"
                },
                {
                  "name": "O-Contact%",
                  "rawType": "float64",
                  "type": "float"
                },
                {
                  "name": "Z-Contact%",
                  "rawType": "float64",
                  "type": "float"
                },
                {
                  "name": "Contact%",
                  "rawType": "float64",
                  "type": "float"
                },
                {
                  "name": "SwStr%",
                  "rawType": "float64",
                  "type": "float"
                },
                {
                  "name": "CSW%",
                  "rawType": "float64",
                  "type": "float"
                }
              ],
              "conversionMethod": "pd.DataFrame",
              "ref": "50ee7975-8406-4892-9147-adbe1402b0e8",
              "rows": [
                [
                  "0",
                  "brent clevlen",
                  "2007",
                  "74.82686965346299",
                  "85.95897097365655",
                  "74.68621926827133",
                  "193.0601611968982",
                  "107.34412235380708",
                  "43.28257097834069",
                  "98.65316986170303",
                  "96.3633867499809",
                  "89.90199649736043",
                  "138.70318257146263",
                  "88.95028719048153",
                  "71.66645938599967",
                  "22.211544275216127",
                  "37.18720140908257",
                  "169.89357525799795",
                  "204.59646049994342"
                ],
                [
                  "1",
                  "brett hayes",
                  "2009",
                  "74.29790715830276",
                  "90.36779112804864",
                  "72.47599860795061",
                  "127.85962270821554",
                  "108.21988159474317",
                  "117.93150611315738",
                  "99.86631494499727",
                  "98.23577807314419",
                  "91.58048026414406",
                  "170.66860220711342",
                  "80.73514071279259",
                  "60.42176300872076",
                  "105.38103277851104",
                  "65.57805018787153",
                  "147.46935152033797",
                  "199.42887754060763"
                ],
                [
                  "2",
                  "carlos peguero",
                  "2014",
                  "75.72375535231586",
                  "96.25773902392005",
                  "107.34848313743288",
                  "147.61270518046274",
                  "148.43698439941105",
                  "92.7380368299762",
                  "100.37761539793819",
                  "97.71131717721981",
                  "91.2566035394176",
                  "122.45797617721612",
                  "73.45258378271696",
                  "41.259125456093116",
                  "91.33666568489791",
                  "33.46246418241941",
                  "156.57837997335707",
                  "183.27808682000165"
                ],
                [
                  "3",
                  "seby zavala",
                  "2019",
                  "75.88713140387156",
                  "92.0570938043091",
                  "73.04051755987777",
                  "181.64620704336818",
                  "108.09899657296708",
                  "44.14668195985887",
                  "99.59461346320022",
                  "95.87499441100647",
                  "90.24562523344896",
                  "129.4582571961723",
                  "111.27206771150115",
                  "55.70808040980202",
                  "34.47670554334525",
                  "40.15832273383544",
                  "179.13401637986044",
                  "179.99329986469255"
                ],
                [
                  "4",
                  "franklin barreto",
                  "2020",
                  "77.8341976303452",
                  "88.98194342202012",
                  "76.64764920699801",
                  "142.10982216936895",
                  "78.73713656970641",
                  "59.95612376444079",
                  "101.61013218968431",
                  "90.94652110328067",
                  "86.74733423869667",
                  "120.94239541578541",
                  "87.57240930388888",
                  "55.23315474981282",
                  "84.44268713722647",
                  "56.51782175309771",
                  "144.96958252498857",
                  "165.94178022285124"
                ]
              ],
              "shape": {
                "columns": 18,
                "rows": 5
              }
            },
            "text/html": [
              "<div>\n",
              "<style scoped>\n",
              "    .dataframe tbody tr th:only-of-type {\n",
              "        vertical-align: middle;\n",
              "    }\n",
              "\n",
              "    .dataframe tbody tr th {\n",
              "        vertical-align: top;\n",
              "    }\n",
              "\n",
              "    .dataframe thead th {\n",
              "        text-align: right;\n",
              "    }\n",
              "</style>\n",
              "<table border=\"1\" class=\"dataframe\">\n",
              "  <thead>\n",
              "    <tr style=\"text-align: right;\">\n",
              "      <th></th>\n",
              "      <th>Name</th>\n",
              "      <th>Season</th>\n",
              "      <th>PA</th>\n",
              "      <th>Age</th>\n",
              "      <th>BB%</th>\n",
              "      <th>K%</th>\n",
              "      <th>BABIP</th>\n",
              "      <th>wRC+</th>\n",
              "      <th>BsR</th>\n",
              "      <th>Off</th>\n",
              "      <th>WAR</th>\n",
              "      <th>O-Swing%</th>\n",
              "      <th>Z-Swing%</th>\n",
              "      <th>O-Contact%</th>\n",
              "      <th>Z-Contact%</th>\n",
              "      <th>Contact%</th>\n",
              "      <th>SwStr%</th>\n",
              "      <th>CSW%</th>\n",
              "    </tr>\n",
              "  </thead>\n",
              "  <tbody>\n",
              "    <tr>\n",
              "      <th>0</th>\n",
              "      <td>brent clevlen</td>\n",
              "      <td>2007</td>\n",
              "      <td>74.826870</td>\n",
              "      <td>85.958971</td>\n",
              "      <td>74.686219</td>\n",
              "      <td>193.060161</td>\n",
              "      <td>107.344122</td>\n",
              "      <td>43.282571</td>\n",
              "      <td>98.653170</td>\n",
              "      <td>96.363387</td>\n",
              "      <td>89.901996</td>\n",
              "      <td>138.703183</td>\n",
              "      <td>88.950287</td>\n",
              "      <td>71.666459</td>\n",
              "      <td>22.211544</td>\n",
              "      <td>37.187201</td>\n",
              "      <td>169.893575</td>\n",
              "      <td>204.596460</td>\n",
              "    </tr>\n",
              "    <tr>\n",
              "      <th>1</th>\n",
              "      <td>brett hayes</td>\n",
              "      <td>2009</td>\n",
              "      <td>74.297907</td>\n",
              "      <td>90.367791</td>\n",
              "      <td>72.475999</td>\n",
              "      <td>127.859623</td>\n",
              "      <td>108.219882</td>\n",
              "      <td>117.931506</td>\n",
              "      <td>99.866315</td>\n",
              "      <td>98.235778</td>\n",
              "      <td>91.580480</td>\n",
              "      <td>170.668602</td>\n",
              "      <td>80.735141</td>\n",
              "      <td>60.421763</td>\n",
              "      <td>105.381033</td>\n",
              "      <td>65.578050</td>\n",
              "      <td>147.469352</td>\n",
              "      <td>199.428878</td>\n",
              "    </tr>\n",
              "    <tr>\n",
              "      <th>2</th>\n",
              "      <td>carlos peguero</td>\n",
              "      <td>2014</td>\n",
              "      <td>75.723755</td>\n",
              "      <td>96.257739</td>\n",
              "      <td>107.348483</td>\n",
              "      <td>147.612705</td>\n",
              "      <td>148.436984</td>\n",
              "      <td>92.738037</td>\n",
              "      <td>100.377615</td>\n",
              "      <td>97.711317</td>\n",
              "      <td>91.256604</td>\n",
              "      <td>122.457976</td>\n",
              "      <td>73.452584</td>\n",
              "      <td>41.259125</td>\n",
              "      <td>91.336666</td>\n",
              "      <td>33.462464</td>\n",
              "      <td>156.578380</td>\n",
              "      <td>183.278087</td>\n",
              "    </tr>\n",
              "    <tr>\n",
              "      <th>3</th>\n",
              "      <td>seby zavala</td>\n",
              "      <td>2019</td>\n",
              "      <td>75.887131</td>\n",
              "      <td>92.057094</td>\n",
              "      <td>73.040518</td>\n",
              "      <td>181.646207</td>\n",
              "      <td>108.098997</td>\n",
              "      <td>44.146682</td>\n",
              "      <td>99.594613</td>\n",
              "      <td>95.874994</td>\n",
              "      <td>90.245625</td>\n",
              "      <td>129.458257</td>\n",
              "      <td>111.272068</td>\n",
              "      <td>55.708080</td>\n",
              "      <td>34.476706</td>\n",
              "      <td>40.158323</td>\n",
              "      <td>179.134016</td>\n",
              "      <td>179.993300</td>\n",
              "    </tr>\n",
              "    <tr>\n",
              "      <th>4</th>\n",
              "      <td>franklin barreto</td>\n",
              "      <td>2020</td>\n",
              "      <td>77.834198</td>\n",
              "      <td>88.981943</td>\n",
              "      <td>76.647649</td>\n",
              "      <td>142.109822</td>\n",
              "      <td>78.737137</td>\n",
              "      <td>59.956124</td>\n",
              "      <td>101.610132</td>\n",
              "      <td>90.946521</td>\n",
              "      <td>86.747334</td>\n",
              "      <td>120.942395</td>\n",
              "      <td>87.572409</td>\n",
              "      <td>55.233155</td>\n",
              "      <td>84.442687</td>\n",
              "      <td>56.517822</td>\n",
              "      <td>144.969583</td>\n",
              "      <td>165.941780</td>\n",
              "    </tr>\n",
              "  </tbody>\n",
              "</table>\n",
              "</div>"
            ],
            "text/plain": [
              "               Name  Season         PA        Age         BB%          K%  \\\n",
              "0     brent clevlen    2007  74.826870  85.958971   74.686219  193.060161   \n",
              "1       brett hayes    2009  74.297907  90.367791   72.475999  127.859623   \n",
              "2    carlos peguero    2014  75.723755  96.257739  107.348483  147.612705   \n",
              "3       seby zavala    2019  75.887131  92.057094   73.040518  181.646207   \n",
              "4  franklin barreto    2020  77.834198  88.981943   76.647649  142.109822   \n",
              "\n",
              "        BABIP        wRC+         BsR        Off        WAR    O-Swing%  \\\n",
              "0  107.344122   43.282571   98.653170  96.363387  89.901996  138.703183   \n",
              "1  108.219882  117.931506   99.866315  98.235778  91.580480  170.668602   \n",
              "2  148.436984   92.738037  100.377615  97.711317  91.256604  122.457976   \n",
              "3  108.098997   44.146682   99.594613  95.874994  90.245625  129.458257   \n",
              "4   78.737137   59.956124  101.610132  90.946521  86.747334  120.942395   \n",
              "\n",
              "     Z-Swing%  O-Contact%  Z-Contact%   Contact%      SwStr%        CSW%  \n",
              "0   88.950287   71.666459   22.211544  37.187201  169.893575  204.596460  \n",
              "1   80.735141   60.421763  105.381033  65.578050  147.469352  199.428878  \n",
              "2   73.452584   41.259125   91.336666  33.462464  156.578380  183.278087  \n",
              "3  111.272068   55.708080   34.476706  40.158323  179.134016  179.993300  \n",
              "4   87.572409   55.233155   84.442687  56.517822  144.969583  165.941780  "
            ]
          },
          "execution_count": 9,
          "metadata": {},
          "output_type": "execute_result"
        }
      ],
      "source": [
        "# z scores for each stat and player, applying function above\n",
        "normalized_data = z_scores(df, mean_col_year, std_col_year)\n",
        "normalized_data.head()"
      ]
    },
    {
      "cell_type": "markdown",
      "id": "e4115ad0",
      "metadata": {
        "id": "e4115ad0"
      },
      "source": [
        "correlation with WRC+, help feature selection"
      ]
    },
    {
      "cell_type": "code",
      "execution_count": 10,
      "id": "54c820db",
      "metadata": {
        "colab": {
          "base_uri": "https://localhost:8080/"
        },
        "id": "54c820db",
        "outputId": "121c9b61-6315-49e4-9238-03743ac2118d"
      },
      "outputs": [
        {
          "name": "stdout",
          "output_type": "stream",
          "text": [
            "Season        0.005616\n",
            "PA            0.528335\n",
            "Age           0.034580\n",
            "BB%           0.390001\n",
            "K%           -0.310795\n",
            "BABIP         0.671869\n",
            "wRC+          1.000000\n",
            "BsR           0.002394\n",
            "Off           0.610290\n",
            "WAR           0.612521\n",
            "O-Swing%     -0.228714\n",
            "Z-Swing%      0.003293\n",
            "O-Contact%    0.124176\n",
            "Z-Contact%    0.133424\n",
            "Contact%      0.165336\n",
            "SwStr%       -0.214951\n",
            "CSW%         -0.288683\n",
            "Name: wRC+, dtype: float64\n"
          ]
        }
      ],
      "source": [
        "corr = normalized_data.corr(numeric_only=True)\n",
        "corr = corr['wRC+']\n",
        "print(corr)"
      ]
    },
    {
      "cell_type": "markdown",
      "id": "27774a21",
      "metadata": {
        "id": "27774a21"
      },
      "source": [
        "#### NN"
      ]
    },
    {
      "cell_type": "markdown",
      "id": "5bbf5ee1",
      "metadata": {
        "id": "5bbf5ee1"
      },
      "source": [
        "function to find the str nearest neighbor based on a found nn index"
      ]
    },
    {
      "cell_type": "code",
      "execution_count": 11,
      "id": "a1b9af21",
      "metadata": {
        "id": "a1b9af21"
      },
      "outputs": [],
      "source": [
        "def df_apply(df, indices):\n",
        "    num_samples = indices.shape[0]\n",
        "    output_index = df.index\n",
        "    rows_data = []\n",
        "    indices_array = indices.astype(int)\n",
        "\n",
        "    for i in range(num_samples):\n",
        "        row_neighbors = {}\n",
        "        neighbor_positional_indices = indices_array[i]\n",
        "\n",
        "        for j, neighbor_pos_idx in enumerate(neighbor_positional_indices):\n",
        "            neighbor_row = df.iloc[neighbor_pos_idx]\n",
        "            name = neighbor_row['Name']\n",
        "            season = str(neighbor_row['Season'])\n",
        "            row_neighbors[f'n{j+1}'] = f\"{name},{season}\"\n",
        "\n",
        "        rows_data.append(row_neighbors)\n",
        "\n",
        "    return pd.DataFrame(rows_data, index=output_index)"
      ]
    },
    {
      "cell_type": "markdown",
      "id": "86dffaa2",
      "metadata": {
        "id": "86dffaa2"
      },
      "source": [
        "diff between target player season plus 1, and closest neighbor season plus 1 WRC+"
      ]
    },
    {
      "cell_type": "code",
      "execution_count": 12,
      "id": "409950a5",
      "metadata": {
        "id": "409950a5"
      },
      "outputs": [],
      "source": [
        "def single_n_diff(row):\n",
        "    wrc_current = np.nan\n",
        "    player_name = None\n",
        "\n",
        "    try:\n",
        "        player_info = row['n1'].split(',')\n",
        "        player_name = player_info[0].strip()\n",
        "        season = int(player_info[1])\n",
        "\n",
        "        current_lookup = df[(df['Name'] == player_name) & (df['Season'] == season + 1)]['wRC+']\n",
        "\n",
        "        if not current_lookup.empty:\n",
        "            wrc_current = current_lookup.iloc[0]\n",
        "        else:\n",
        "            return np.nan\n",
        "    except (IndexError, ValueError, AttributeError, KeyError):\n",
        "         return np.nan\n",
        "\n",
        "    wrc_target_val = np.nan\n",
        "    for i in range(2, 6):\n",
        "        neighbor_col = f'n{i}'\n",
        "        if neighbor_col in row and pd.notna(row[neighbor_col]):\n",
        "            try:\n",
        "                neighbor_info = row[neighbor_col].split(',')\n",
        "                neighbor_name = neighbor_info[0].strip()\n",
        "\n",
        "                if neighbor_name != player_name:\n",
        "                    neighbor_season = int(neighbor_info[1])\n",
        "\n",
        "                    neighbor_lookup = df[(df['Name'] == neighbor_name) & (df['Season'] == neighbor_season + 1)]['wRC+']\n",
        "\n",
        "                    if not neighbor_lookup.empty:\n",
        "                        wrc_target_val = neighbor_lookup.iloc[0]\n",
        "                        break\n",
        "            except (IndexError, ValueError, AttributeError):\n",
        "                 continue\n",
        "\n",
        "    if pd.notna(wrc_current) and pd.notna(wrc_target_val):\n",
        "        return abs(wrc_target_val - wrc_current)\n",
        "    else:\n",
        "        return np.nan"
      ]
    },
    {
      "cell_type": "markdown",
      "id": "645ced33",
      "metadata": {},
      "source": [
        "Implementing NN"
      ]
    },
    {
      "cell_type": "markdown",
      "id": "fb5016ff",
      "metadata": {},
      "source": [
        "<small> Removed players below 200 PA (85 is the normalized value) because I was having a ton of issues with small sample size players impacting preformance"
      ]
    },
    {
      "cell_type": "code",
      "execution_count": 13,
      "id": "1e810588",
      "metadata": {
        "id": "1e810588"
      },
      "outputs": [],
      "source": [
        "X1 = normalized_data[normalized_data['PA'] > 85] # filter pa so we dont get small sample outliers, corresponds to about 200 PA\n",
        "X1 = normalized_data[normalized_data['Season'] < 2024]\n",
        "X1 = X1.reset_index(drop=True)\n",
        "X1 = X1.drop(columns=['BsR', 'Z-Swing%', 'O-Contact%', 'Z-Contact%', 'Age']) # filter uneed features, more varience\n",
        "X = X1.drop(columns=['Name', 'Season']) # same as x1 without names\n",
        "X = X.to_numpy()"
      ]
    },
    {
      "cell_type": "code",
      "execution_count": 14,
      "id": "4669adc2",
      "metadata": {
        "colab": {
          "base_uri": "https://localhost:8080/",
          "height": 257
        },
        "id": "4669adc2",
        "outputId": "f0a86044-8480-4abb-ff8e-5a8c8308e2d8"
      },
      "outputs": [],
      "source": [
        "# nearest neighbors and indices\n",
        "nn = NearestNeighbors(n_neighbors=9).fit(X)\n",
        "indices_test = nn.kneighbors(X, return_distance=False)"
      ]
    },
    {
      "cell_type": "markdown",
      "id": "324470c2",
      "metadata": {
        "id": "324470c2"
      },
      "source": [
        "Nearest Neighbor for Every Player in df"
      ]
    },
    {
      "cell_type": "code",
      "execution_count": 15,
      "id": "8876d733",
      "metadata": {
        "colab": {
          "base_uri": "https://localhost:8080/"
        },
        "id": "8876d733",
        "outputId": "636064cb-15bd-4e25-9f82-566224e03e72"
      },
      "outputs": [],
      "source": [
        "kNear = pd.DataFrame(columns=['n1', 'n2', 'n3', 'n4', 'n5', 'n6', 'n7', 'n8', 'n9'])\n",
        "kNear = df_apply(df = X1, indices=indices_test)\n",
        "for i in range(1, 7):  # for columns n1 through n6\n",
        "    kNear[f'n{i}'] = kNear[f'n{i}'].astype(str)"
      ]
    },
    {
      "cell_type": "markdown",
      "id": "db7ff3ad",
      "metadata": {
        "id": "db7ff3ad"
      },
      "source": [
        "Loss Value"
      ]
    },
    {
      "cell_type": "code",
      "execution_count": 16,
      "id": "2f78f1ae",
      "metadata": {
        "colab": {
          "base_uri": "https://localhost:8080/"
        },
        "id": "2f78f1ae",
        "outputId": "a66932d4-0089-4d3e-c875-c9a5d80c9cac"
      },
      "outputs": [
        {
          "name": "stdout",
          "output_type": "stream",
          "text": [
            "370189.1618763435\n"
          ]
        }
      ],
      "source": [
        "# Calculate wrc_diff and handle missing values\n",
        "kNear['wrc_diff'] = kNear.apply(single_n_diff, axis=1)\n",
        "\n",
        "# Calculate sum of wrc_diff, ignoring NaN values\n",
        "miss = kNear['wrc_diff'].sum(skipna=True)\n",
        "print(miss)"
      ]
    },
    {
      "cell_type": "markdown",
      "id": "a4e15f31",
      "metadata": {},
      "source": [
        "Experiment with how to calc loss\n",
        "<br>\n",
        "<small> look at more then one neighbor? </small>"
      ]
    },
    {
      "cell_type": "code",
      "execution_count": 17,
      "id": "696510e9",
      "metadata": {},
      "outputs": [],
      "source": [
        "# same as the first loss function except now calculating 8 neighbors and weighted avg wrc+\n",
        "def wrc_diff_weight(row):\n",
        "    wrc_current = np.nan\n",
        "    player_name = None\n",
        "\n",
        "    try:\n",
        "        player_info = row['n1'].split(',')\n",
        "        player_name = player_info[0].strip()\n",
        "        season = int(player_info[1])\n",
        "\n",
        "        current_lookup = df[(df['Name'] == player_name) & (df['Season'] == season + 1)]['wRC+']\n",
        "\n",
        "        if not current_lookup.empty:\n",
        "            wrc_current = current_lookup.iloc[0]\n",
        "        else:\n",
        "            return np.nan\n",
        "    except (IndexError, ValueError, AttributeError, KeyError):\n",
        "         return np.nan\n",
        "\n",
        "    wrc_target_val = []\n",
        "    for i in range(2, 10):\n",
        "        neighbor_col = f'n{i}'\n",
        "        if neighbor_col in row and pd.notna(row[neighbor_col]):\n",
        "            try:\n",
        "                neighbor_info = row[neighbor_col].split(',')\n",
        "                neighbor_name = neighbor_info[0].strip()\n",
        "\n",
        "                if neighbor_name != player_name:\n",
        "                    neighbor_season = int(neighbor_info[1])\n",
        "\n",
        "                    neighbor_lookup = df[(df['Name'] == neighbor_name) & (df['Season'] == neighbor_season + 1)]['wRC+']\n",
        "\n",
        "                    if not neighbor_lookup.empty:\n",
        "                        wrc_target_val.append(neighbor_lookup.iloc[0]) # add neighbors\n",
        "\n",
        "                    # if len of the list is greater then 2 break\n",
        "                    if len(wrc_target_val) >= 7:\n",
        "                        break\n",
        "            except (IndexError, ValueError, AttributeError):\n",
        "                continue\n",
        "\n",
        "    if pd.notna(wrc_current) and len(wrc_target_val) > 0:\n",
        "        weights = [0.25, 0.15, 0.125, 0.125, 0.125, 0.125, 0.1]\n",
        "        avg_target = sum(w * x for w, x in zip(weights[:len(wrc_target_val)], wrc_target_val)) / sum(weights[:len(wrc_target_val)])\n",
        "        return abs(avg_target - wrc_current)\n",
        "    else:\n",
        "        return np.nan\n"
      ]
    },
    {
      "cell_type": "markdown",
      "id": "5f7df92b",
      "metadata": {},
      "source": [
        "loss | diffrence in future year WRC+"
      ]
    },
    {
      "cell_type": "code",
      "execution_count": 18,
      "id": "744f8aef",
      "metadata": {},
      "outputs": [
        {
          "name": "stdout",
          "output_type": "stream",
          "text": [
            "288456.0941610386\n"
          ]
        }
      ],
      "source": [
        "kNear['wrc_diff'] = kNear.apply(wrc_diff_weight, axis=1)\n",
        "miss = kNear['wrc_diff'].sum(skipna=True)\n",
        "print(miss)"
      ]
    },
    {
      "cell_type": "markdown",
      "id": "3a0933b0",
      "metadata": {
        "id": "3a0933b0"
      },
      "source": [
        "#### loss function "
      ]
    },
    {
      "cell_type": "markdown",
      "id": "23532837",
      "metadata": {},
      "source": [
        "<small> just adding all the previous steps together to make it easy to tune col weights"
      ]
    },
    {
      "cell_type": "code",
      "execution_count": 19,
      "id": "6548555d",
      "metadata": {
        "id": "6548555d"
      },
      "outputs": [],
      "source": [
        "def loss_fn(weights, normalized_data):\n",
        "\n",
        "    # begin eval function\n",
        "    weighted_og = normalized_data[normalized_data['Season'] < 2024] # filter for eval metric\n",
        "    weighted_og = weighted_og[weighted_og['PA'] > 85] # drop if below 200 PA, more stability, less outliers\n",
        "    weighted_og = weighted_og.reset_index(drop=True)\n",
        "    weighted_og = weighted_og.drop(columns=['BsR', 'Z-Swing%', 'O-Contact%', 'Z-Contact%'])\n",
        "    weighted_x = weighted_og.drop(columns=['Name', 'Season'])\n",
        "    \n",
        "\n",
        "    # apply weights\n",
        "    for col in weighted_x.columns:\n",
        "        if col in weights:\n",
        "            weighted_x[col] = weighted_x[col] * weights[col]\n",
        "\n",
        "    # nearest neighbors\n",
        "    nn_fn = NearestNeighbors(n_neighbors=9).fit(weighted_x)\n",
        "\n",
        "    # distances and index\n",
        "    indices_test_fn = nn_fn.kneighbors(weighted_x, return_distance=False)\n",
        "\n",
        "\n",
        "    # add data using the mapped indices\n",
        "    kNear_fn = df_apply(df = weighted_og, indices=indices_test_fn) # pass mapped to avoid out of bounds\n",
        "\n",
        "    for i in range(1, 7):  # for columns n1 through n6\n",
        "        kNear_fn[f'n{i}'] = kNear_fn[f'n{i}'].astype(str)\n",
        "\n",
        "    # add miss\n",
        "    kNear_fn['wrc_diff'] = kNear_fn.apply(wrc_diff_weight, axis=1) # using new wrc calc\n",
        "\n",
        "    # drop inf or na\n",
        "    kNear_fn = kNear_fn.dropna(subset=['wrc_diff'])\n",
        "    kNear_fn['wrc_diff'] = kNear_fn['wrc_diff'].clip(upper=1000)\n",
        "\n",
        "    # calc miss\n",
        "    miss_fn = kNear_fn['wrc_diff'].sum(skipna=True)\n",
        "    print(f\"miss of {miss_fn}\")\n",
        "    return miss_fn\n"
      ]
    },
    {
      "cell_type": "markdown",
      "id": "569d6b79",
      "metadata": {},
      "source": [
        "#### Manual Weight Tuning"
      ]
    },
    {
      "cell_type": "markdown",
      "id": "24c6761c",
      "metadata": {},
      "source": [
        "<small> Ditched scipy largely because it was ineffective in finding the weights. Alot of this was likely because it was super slow as I coded everything in pandas and the it had to recompute the df constantly. This was widely inefficent. This is def my fault to a certian extent, however I can tune it just as effectively if not more (I wanted to do scipy just to learn it). Doing it manually also allows me not to recode everything. </small>"
      ]
    },
    {
      "cell_type": "markdown",
      "id": "8b0315e3",
      "metadata": {
        "id": "8b0315e3"
      },
      "source": [
        "creating weight index"
      ]
    },
    {
      "cell_type": "code",
      "execution_count": 20,
      "id": "8f402340",
      "metadata": {
        "colab": {
          "base_uri": "https://localhost:8080/"
        },
        "id": "8f402340",
        "outputId": "6dab67e1-b0ba-4695-fa19-ac414add96bd"
      },
      "outputs": [
        {
          "name": "stdout",
          "output_type": "stream",
          "text": [
            "{'PA': 1, 'Age': 1, 'BB%': 1, 'K%': 1, 'BABIP': 1, 'wRC+': 1, 'Off': 1, 'WAR': 1, 'O-Swing%': 1, 'Contact%': 1, 'SwStr%': 1, 'CSW%': 1}\n"
          ]
        }
      ],
      "source": [
        "cols = normalized_data.drop(columns=['BsR', 'Z-Swing%', 'O-Contact%', 'Z-Contact%']) # filter uneed features, more varience\n",
        "cols = cols.drop(columns=['Name', 'Season'])\n",
        "\n",
        "cols_opti = cols.columns\n",
        "weights = {}\n",
        "for col in cols_opti:\n",
        "    weights[col] = 1\n",
        "print(weights)"
      ]
    },
    {
      "cell_type": "markdown",
      "id": "e81d04b2",
      "metadata": {
        "id": "e81d04b2"
      },
      "source": [
        "manual weight tuining\n"
      ]
    },
    {
      "cell_type": "code",
      "execution_count": 21,
      "id": "25d2d3f2",
      "metadata": {},
      "outputs": [],
      "source": [
        "weights = {'PA': 1, 'Age': 1, \n",
        "           'BB%': 1, 'K%': 1, \n",
        "           'BABIP': 2, 'wRC+': 2, \n",
        "           'Off': 1, 'WAR': 1.5, \n",
        "           'O-Swing%': 0, 'Contact%': 1, \n",
        "           'SwStr%': 1, 'CSW%': 1}"
      ]
    },
    {
      "cell_type": "markdown",
      "id": "5cdbac96",
      "metadata": {},
      "source": [
        "loss function \n",
        "<br>\n"
      ]
    },
    {
      "cell_type": "code",
      "execution_count": 22,
      "id": "773b0c4d",
      "metadata": {
        "colab": {
          "base_uri": "https://localhost:8080/"
        },
        "id": "773b0c4d",
        "outputId": "8ed51b25-636b-4a81-96c3-72b0ef611e80"
      },
      "outputs": [
        {
          "name": "stdout",
          "output_type": "stream",
          "text": [
            "miss of 175846.8378944572\n"
          ]
        }
      ],
      "source": [
        "loss_value = loss_fn(weights = weights, normalized_data=normalized_data)"
      ]
    },
    {
      "cell_type": "markdown",
      "id": "453ca91f",
      "metadata": {},
      "source": [
        "#### 2025 Predections"
      ]
    },
    {
      "cell_type": "markdown",
      "id": "07c22bcd",
      "metadata": {},
      "source": [
        "predection function"
      ]
    },
    {
      "cell_type": "code",
      "execution_count": 23,
      "id": "9d376b64",
      "metadata": {},
      "outputs": [],
      "source": [
        "def wrc_predict(row):\n",
        "    wrc_target_val = []\n",
        "    for i in range(1, 9):\n",
        "        neighbor_col = f'n{i}'\n",
        "        if neighbor_col in row and pd.notna(row[neighbor_col]):\n",
        "            try:\n",
        "                neighbor_info = row[neighbor_col].split(',')\n",
        "                neighbor_name = neighbor_info[0].strip()\n",
        "\n",
        "                neighbor_season = int(neighbor_info[1])\n",
        "                neighbor_lookup = df[(df['Name'] == neighbor_name) & (df['Season'] == neighbor_season + 1)]['wRC+']\n",
        "\n",
        "                if not neighbor_lookup.empty:\n",
        "                    wrc_target_val.append(neighbor_lookup.iloc[0]) # add neighbors\n",
        "\n",
        "                    # if len of the list is greater then 2 break\n",
        "                    if len(wrc_target_val) >= 7:\n",
        "                        break\n",
        "\n",
        "            except (IndexError, ValueError, AttributeError):\n",
        "                continue\n",
        "\n",
        "    if len(wrc_target_val) > 0:\n",
        "        weights = [0.25, 0.15, 0.125, 0.125, 0.125, 0.125, 0.1]\n",
        "        avg_target = sum(w * x for w, x in zip(weights[:len(wrc_target_val)], wrc_target_val)) / sum(weights[:len(wrc_target_val)])\n",
        "        return avg_target\n",
        "    else:\n",
        "        return np.nan"
      ]
    },
    {
      "cell_type": "markdown",
      "id": "016f43e5",
      "metadata": {},
      "source": [
        "special results applying"
      ]
    },
    {
      "cell_type": "code",
      "execution_count": 24,
      "id": "69c60074",
      "metadata": {},
      "outputs": [],
      "source": [
        "def results_apply(player_df, index_df, knn_pd):\n",
        "    rows_data = []\n",
        "    for i in range(len(knn_pd)):\n",
        "        row_data = {}\n",
        "        for col in knn_pd.columns:\n",
        "            if col == 'player':\n",
        "                neighbor_idx = knn_pd.iloc[i][col]\n",
        "                neighbor_row = player_df.iloc[neighbor_idx]\n",
        "                name = neighbor_row['Name']\n",
        "                season = str(neighbor_row['Season'])\n",
        "                row_data['t1'] = f\"{name},{season}\"\n",
        "            else:\n",
        "                neighbor_idx = knn_pd.iloc[i][col]\n",
        "                neighbor_row = index_df.iloc[neighbor_idx]\n",
        "                name = neighbor_row['Name']\n",
        "                season = str(neighbor_row['Season'])\n",
        "                row_data[f'n{int(col + 1)}'] = f\"{name},{season}\"\n",
        "        rows_data.append(row_data)\n",
        "    return pd.DataFrame(rows_data)"
      ]
    },
    {
      "cell_type": "markdown",
      "id": "42197529",
      "metadata": {},
      "source": [
        "target data"
      ]
    },
    {
      "cell_type": "code",
      "execution_count": 25,
      "id": "19a51fce",
      "metadata": {},
      "outputs": [],
      "source": [
        "target_data = normalized_data[normalized_data['Season'] >= 2024]\n",
        "target_data = target_data.reset_index()\n",
        "target_data = target_data.drop(columns=['BsR', 'Z-Swing%', 'O-Contact%', 'Z-Contact%', 'index', 'Age']) # filter uneed features, more varience\n",
        "index_search = target_data.drop(columns=['Name', 'Season']) # same as x1 without names\n",
        "index_search = index_search.to_numpy()"
      ]
    },
    {
      "cell_type": "markdown",
      "id": "33eb86b8",
      "metadata": {},
      "source": [
        "nn"
      ]
    },
    {
      "cell_type": "code",
      "execution_count": 26,
      "id": "76f3b9d7",
      "metadata": {},
      "outputs": [],
      "source": [
        "# nearest neighbors and index\n",
        "nn = NearestNeighbors(n_neighbors=9).fit(X)\n",
        "# nearest neighbors and indices for predictions\n",
        "index_25 = nn.kneighbors(index_search, return_distance=False)"
      ]
    },
    {
      "cell_type": "code",
      "execution_count": 27,
      "id": "f7e65d1e",
      "metadata": {},
      "outputs": [],
      "source": [
        "# to pd so its easier to work with\n",
        "index_list = pd.DataFrame(index_25)\n",
        "\n",
        "# insert player\n",
        "index_list['player'] = index_list.index\n",
        "\n",
        "# add index into first col as target player\n",
        "cols = index_list.columns.tolist()\n",
        "cols.insert(0, cols.pop(cols.index('player')))\n",
        "index_list = index_list[cols]"
      ]
    },
    {
      "cell_type": "markdown",
      "id": "b0a4c658",
      "metadata": {},
      "source": [
        "applying preds"
      ]
    },
    {
      "cell_type": "code",
      "execution_count": 28,
      "id": "d59ef838",
      "metadata": {},
      "outputs": [],
      "source": [
        "preds = pd.DataFrame(columns=['n1', 'n2', 'n3', 'n4', 'n5', 'n6', 'n7', 'n8', 'n9'])\n",
        "preds = results_apply(player_df = target_data, index_df=X1, knn_pd=index_list)\n",
        "for i in range(1, 7):  # for columns n1 through n6\n",
        "    preds[f'n{i}'] = preds[f'n{i}'].astype(str)"
      ]
    },
    {
      "cell_type": "markdown",
      "id": "33ee8e48",
      "metadata": {},
      "source": [
        "wrc+ projection"
      ]
    },
    {
      "cell_type": "code",
      "execution_count": 29,
      "id": "2e2a7c28",
      "metadata": {},
      "outputs": [],
      "source": [
        "# WRC+ Predection\n",
        "preds['proj_wrc+'] = preds.apply(wrc_predict, axis=1)\n",
        "final_predection = preds[['t1', 'proj_wrc+']]"
      ]
    },
    {
      "cell_type": "markdown",
      "id": "84a98fc2",
      "metadata": {},
      "source": [
        "export"
      ]
    },
    {
      "cell_type": "code",
      "execution_count": 30,
      "id": "939816ce",
      "metadata": {},
      "outputs": [],
      "source": [
        "final_predection.to_csv('./models/wrc_models/2025_Predections/nn_02_23_preds.csv')"
      ]
    }
  ],
  "metadata": {
    "colab": {
      "provenance": []
    },
    "kernelspec": {
      "display_name": "base",
      "language": "python",
      "name": "python3"
    },
    "language_info": {
      "codemirror_mode": {
        "name": "ipython",
        "version": 3
      },
      "file_extension": ".py",
      "mimetype": "text/x-python",
      "name": "python",
      "nbconvert_exporter": "python",
      "pygments_lexer": "ipython3",
      "version": "3.12.7"
    }
  },
  "nbformat": 4,
  "nbformat_minor": 5
}
